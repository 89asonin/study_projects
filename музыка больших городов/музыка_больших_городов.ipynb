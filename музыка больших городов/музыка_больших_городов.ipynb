{
 "cells": [
  {
   "cell_type": "markdown",
   "metadata": {
    "id": "E0vqbgi9ay0H"
   },
   "source": [
    "# Яндекс.Музыка"
   ]
  },
  {
   "cell_type": "markdown",
   "metadata": {
    "id": "VUC88oWjTJw2"
   },
   "source": [
    "Сравнение Москвы и Петербурга окружено мифами. Например:\n",
    " * Москва — мегаполис, подчинённый жёсткому ритму рабочей недели;\n",
    " * Петербург — культурная столица, со своими вкусами.\n",
    "\n",
    "На данных Яндекс.Музыки вы сравните поведение пользователей двух столиц.\n",
    "\n",
    "**Цель исследования** — проверьте три гипотезы:\n",
    "1. Активность пользователей зависит от дня недели. Причём в Москве и Петербурге это проявляется по-разному.\n",
    "2. В понедельник утром в Москве преобладают одни жанры, а в Петербурге — другие. Так же и вечером пятницы преобладают разные жанры — в зависимости от города. \n",
    "3. Москва и Петербург предпочитают разные жанры музыки. В Москве чаще слушают поп-музыку, в Петербурге — русский рэп.\n",
    "\n",
    "**Ход исследования**\n",
    "\n",
    "Данные о поведении пользователей вы получите из файла `***.csv`. О качестве данных ничего не известно. Поэтому перед проверкой гипотез понадобится обзор данных. \n",
    "\n",
    "Вы проверите данные на ошибки и оцените их влияние на исследование. Затем, на этапе предобработки вы поищете возможность исправить самые критичные ошибки данных.\n",
    " \n",
    "Таким образом, исследование пройдёт в три этапа:\n",
    " 1. Обзор данных.\n",
    " 2. Предобработка данных.\n",
    " 3. Проверка гипотез.\n",
    "\n"
   ]
  },
  {
   "cell_type": "markdown",
   "metadata": {
    "id": "Ml1hmfXC_Zcs"
   },
   "source": [
    "## Обзор данных\n",
    "\n",
    "Составьте первое представление о данных Яндекс.Музыки.\n",
    "\n",
    "\n"
   ]
  },
  {
   "cell_type": "markdown",
   "metadata": {
    "id": "57eAOGIz_Zcs"
   },
   "source": [
    "Основной инструмент аналитика — `pandas`. Импортируйте эту библиотеку."
   ]
  },
  {
   "cell_type": "code",
   "execution_count": 1,
   "metadata": {
    "id": "AXN7PHPN_Zcs"
   },
   "outputs": [],
   "source": [
    "import pandas as pd"
   ]
  },
  {
   "cell_type": "markdown",
   "metadata": {
    "id": "SG23P8tt_Zcs"
   },
   "source": [
    "Прочитайте файл `***.csv` из папки `/***` и сохраните его в переменной `df`:"
   ]
  },
  {
   "cell_type": "code",
   "execution_count": 2,
   "metadata": {
    "id": "fFVu7vqh_Zct"
   },
   "outputs": [],
   "source": [
    "df = pd.read_csv('/***.csv')"
   ]
  },
  {
   "cell_type": "markdown",
   "metadata": {
    "id": "rDoOMd3uTqnZ"
   },
   "source": [
    "Выведите на экран первые десять строк таблицы:"
   ]
  },
  {
   "cell_type": "code",
   "execution_count": 3,
   "metadata": {
    "id": "oWTVX3gW_Zct"
   },
   "outputs": [
    {
     "data": {
      "text/html": [
       "<div>\n",
       "<style scoped>\n",
       "    .dataframe tbody tr th:only-of-type {\n",
       "        vertical-align: middle;\n",
       "    }\n",
       "\n",
       "    .dataframe tbody tr th {\n",
       "        vertical-align: top;\n",
       "    }\n",
       "\n",
       "    .dataframe thead th {\n",
       "        text-align: right;\n",
       "    }\n",
       "</style>\n",
       "<table border=\"1\" class=\"dataframe\">\n",
       "  <thead>\n",
       "    <tr style=\"text-align: right;\">\n",
       "      <th></th>\n",
       "      <th>userID</th>\n",
       "      <th>Track</th>\n",
       "      <th>artist</th>\n",
       "      <th>genre</th>\n",
       "      <th>City</th>\n",
       "      <th>time</th>\n",
       "      <th>Day</th>\n",
       "    </tr>\n",
       "  </thead>\n",
       "  <tbody>\n",
       "    <tr>\n",
       "      <td>0</td>\n",
       "      <td>FFB692EC</td>\n",
       "      <td>Kamigata To Boots</td>\n",
       "      <td>The Mass Missile</td>\n",
       "      <td>rock</td>\n",
       "      <td>Saint-Petersburg</td>\n",
       "      <td>20:28:33</td>\n",
       "      <td>Wednesday</td>\n",
       "    </tr>\n",
       "    <tr>\n",
       "      <td>1</td>\n",
       "      <td>55204538</td>\n",
       "      <td>Delayed Because of Accident</td>\n",
       "      <td>Andreas Rönnberg</td>\n",
       "      <td>rock</td>\n",
       "      <td>Moscow</td>\n",
       "      <td>14:07:09</td>\n",
       "      <td>Friday</td>\n",
       "    </tr>\n",
       "    <tr>\n",
       "      <td>2</td>\n",
       "      <td>20EC38</td>\n",
       "      <td>Funiculì funiculà</td>\n",
       "      <td>Mario Lanza</td>\n",
       "      <td>pop</td>\n",
       "      <td>Saint-Petersburg</td>\n",
       "      <td>20:58:07</td>\n",
       "      <td>Wednesday</td>\n",
       "    </tr>\n",
       "    <tr>\n",
       "      <td>3</td>\n",
       "      <td>A3DD03C9</td>\n",
       "      <td>Dragons in the Sunset</td>\n",
       "      <td>Fire + Ice</td>\n",
       "      <td>folk</td>\n",
       "      <td>Saint-Petersburg</td>\n",
       "      <td>08:37:09</td>\n",
       "      <td>Monday</td>\n",
       "    </tr>\n",
       "    <tr>\n",
       "      <td>4</td>\n",
       "      <td>E2DC1FAE</td>\n",
       "      <td>Soul People</td>\n",
       "      <td>Space Echo</td>\n",
       "      <td>dance</td>\n",
       "      <td>Moscow</td>\n",
       "      <td>08:34:34</td>\n",
       "      <td>Monday</td>\n",
       "    </tr>\n",
       "    <tr>\n",
       "      <td>5</td>\n",
       "      <td>842029A1</td>\n",
       "      <td>Преданная</td>\n",
       "      <td>IMPERVTOR</td>\n",
       "      <td>rusrap</td>\n",
       "      <td>Saint-Petersburg</td>\n",
       "      <td>13:09:41</td>\n",
       "      <td>Friday</td>\n",
       "    </tr>\n",
       "    <tr>\n",
       "      <td>6</td>\n",
       "      <td>4CB90AA5</td>\n",
       "      <td>True</td>\n",
       "      <td>Roman Messer</td>\n",
       "      <td>dance</td>\n",
       "      <td>Moscow</td>\n",
       "      <td>13:00:07</td>\n",
       "      <td>Wednesday</td>\n",
       "    </tr>\n",
       "    <tr>\n",
       "      <td>7</td>\n",
       "      <td>F03E1C1F</td>\n",
       "      <td>Feeling This Way</td>\n",
       "      <td>Polina Griffith</td>\n",
       "      <td>dance</td>\n",
       "      <td>Moscow</td>\n",
       "      <td>20:47:49</td>\n",
       "      <td>Wednesday</td>\n",
       "    </tr>\n",
       "    <tr>\n",
       "      <td>8</td>\n",
       "      <td>8FA1D3BE</td>\n",
       "      <td>И вновь продолжается бой</td>\n",
       "      <td>NaN</td>\n",
       "      <td>ruspop</td>\n",
       "      <td>Moscow</td>\n",
       "      <td>09:17:40</td>\n",
       "      <td>Friday</td>\n",
       "    </tr>\n",
       "    <tr>\n",
       "      <td>9</td>\n",
       "      <td>E772D5C0</td>\n",
       "      <td>Pessimist</td>\n",
       "      <td>NaN</td>\n",
       "      <td>dance</td>\n",
       "      <td>Saint-Petersburg</td>\n",
       "      <td>21:20:49</td>\n",
       "      <td>Wednesday</td>\n",
       "    </tr>\n",
       "  </tbody>\n",
       "</table>\n",
       "</div>"
      ],
      "text/plain": [
       "     userID                        Track            artist   genre  \\\n",
       "0  FFB692EC            Kamigata To Boots  The Mass Missile    rock   \n",
       "1  55204538  Delayed Because of Accident  Andreas Rönnberg    rock   \n",
       "2    20EC38            Funiculì funiculà       Mario Lanza     pop   \n",
       "3  A3DD03C9        Dragons in the Sunset        Fire + Ice    folk   \n",
       "4  E2DC1FAE                  Soul People        Space Echo   dance   \n",
       "5  842029A1                    Преданная         IMPERVTOR  rusrap   \n",
       "6  4CB90AA5                         True      Roman Messer   dance   \n",
       "7  F03E1C1F             Feeling This Way   Polina Griffith   dance   \n",
       "8  8FA1D3BE     И вновь продолжается бой               NaN  ruspop   \n",
       "9  E772D5C0                    Pessimist               NaN   dance   \n",
       "\n",
       "             City        time        Day  \n",
       "0  Saint-Petersburg  20:28:33  Wednesday  \n",
       "1            Moscow  14:07:09     Friday  \n",
       "2  Saint-Petersburg  20:58:07  Wednesday  \n",
       "3  Saint-Petersburg  08:37:09     Monday  \n",
       "4            Moscow  08:34:34     Monday  \n",
       "5  Saint-Petersburg  13:09:41     Friday  \n",
       "6            Moscow  13:00:07  Wednesday  \n",
       "7            Moscow  20:47:49  Wednesday  \n",
       "8            Moscow  09:17:40     Friday  \n",
       "9  Saint-Petersburg  21:20:49  Wednesday  "
      ]
     },
     "execution_count": 3,
     "metadata": {},
     "output_type": "execute_result"
    }
   ],
   "source": [
    "df.head(10)"
   ]
  },
  {
   "cell_type": "markdown",
   "metadata": {
    "id": "EO73Kwic_Zct"
   },
   "source": [
    "Одной командой получить общую информацию о таблице:"
   ]
  },
  {
   "cell_type": "code",
   "execution_count": 4,
   "metadata": {
    "id": "DSf2kIb-_Zct"
   },
   "outputs": [
    {
     "name": "stdout",
     "output_type": "stream",
     "text": [
      "<class 'pandas.core.frame.DataFrame'>\n",
      "RangeIndex: 65079 entries, 0 to 65078\n",
      "Data columns (total 7 columns):\n",
      "  userID    65079 non-null object\n",
      "Track       63848 non-null object\n",
      "artist      57876 non-null object\n",
      "genre       63881 non-null object\n",
      "  City      65079 non-null object\n",
      "time        65079 non-null object\n",
      "Day         65079 non-null object\n",
      "dtypes: object(7)\n",
      "memory usage: 3.5+ MB\n"
     ]
    }
   ],
   "source": [
    "df.info()"
   ]
  },
  {
   "cell_type": "markdown",
   "metadata": {
    "id": "TaQ2Iwbr_Zct"
   },
   "source": [
    "Итак, в таблице семь столбцов. Тип данных во всех столбцах — `object`.\n",
    "\n",
    "Согласно документации к данным:\n",
    "* `userID` — идентификатор пользователя;\n",
    "* `Track` — название трека;  \n",
    "* `artist` — имя исполнителя;\n",
    "* `genre` — название жанра;\n",
    "* `City` — город пользователя;\n",
    "* `time` — время начала прослушивания;\n",
    "* `Day` — день недели.\n",
    "\n",
    "В названиях колонок видны три нарушения стиля:\n",
    "1. Строчные буквы сочетаются с прописными.\n",
    "2. Встречаются пробелы.\n",
    "3. Название стоблца `userID` написано слитно, лучше переименовать в змеином регистре. Также по названию столбца `time` сложно понять, это время начала прослушивания, либо продолжительность прослушивания трека.\n",
    "\n",
    "\n",
    "\n",
    "Количество значений в столбцах различается. Значит, в данных есть пропущенные значения.\n"
   ]
  },
  {
   "cell_type": "markdown",
   "metadata": {
    "id": "MCB6-dXG_Zct"
   },
   "source": [
    "**Выводы**\n",
    "\n",
    "В каждой строке таблицы — данные о прослушанном треке. Часть колонок описывает саму композицию: название, исполнителя и жанр. Остальные данные рассказывают о пользователе: из какого он города, когда он слушал музыку. \n",
    "\n",
    "Предварительно можно утверждать, что, данных достаточно для проверки гипотез. Но встречаются пропуски в данных, а в названиях колонок — расхождения с хорошим стилем.\n",
    "\n",
    "Чтобы двигаться дальше, нужно устранить проблемы в данных."
   ]
  },
  {
   "cell_type": "markdown",
   "metadata": {
    "id": "SjYF6Ub9_Zct"
   },
   "source": [
    "## Предобработка данных\n",
    "Исправьте стиль в заголовках столбцов, исключите пропуски. Затем проверьте данные на дубликаты."
   ]
  },
  {
   "cell_type": "markdown",
   "metadata": {
    "id": "dIaKXr29_Zct"
   },
   "source": [
    "### Стиль заголовков\n",
    "Выведите на экран названия столбцов:"
   ]
  },
  {
   "cell_type": "code",
   "execution_count": 5,
   "metadata": {
    "id": "oKOTdF_Q_Zct"
   },
   "outputs": [
    {
     "data": {
      "text/plain": [
       "Index(['  userID', 'Track', 'artist', 'genre', '  City  ', 'time', 'Day'], dtype='object')"
      ]
     },
     "execution_count": 5,
     "metadata": {},
     "output_type": "execute_result"
    }
   ],
   "source": [
    "df.columns"
   ]
  },
  {
   "cell_type": "markdown",
   "metadata": {
    "id": "zj5534cv_Zct"
   },
   "source": [
    "Приведите названия в соответствие с хорошим стилем:\n",
    "* несколько слов в названии запишите в «змеином_регистре»,\n",
    "* все символы сделайте строчными,\n",
    "* устраните пробелы.\n",
    "\n",
    "Для этого переименуйте колонки так:\n",
    "* `'  userID'` → `'user_id'`;\n",
    "* `'Track'` → `'track'`;\n",
    "* `'  City  '` → `'city'`;\n",
    "* `'Day'` → `'day'`."
   ]
  },
  {
   "cell_type": "code",
   "execution_count": 6,
   "metadata": {
    "id": "ISlFqs5y_Zct"
   },
   "outputs": [],
   "source": [
    "df=df.rename(columns={ '  userID':'user_id', 'Track':'track', '  City  ':'city', 'Day':'day'})\n",
    "                      "
   ]
  },
  {
   "cell_type": "markdown",
   "metadata": {
    "id": "1dqbh00J_Zct"
   },
   "source": [
    "Проверьте результат. Для этого ещё раз выведите на экран названия столбцов:"
   ]
  },
  {
   "cell_type": "code",
   "execution_count": 7,
   "metadata": {
    "id": "d4NOAmTW_Zct"
   },
   "outputs": [
    {
     "data": {
      "text/plain": [
       "Index(['user_id', 'track', 'artist', 'genre', 'city', 'time', 'day'], dtype='object')"
      ]
     },
     "execution_count": 7,
     "metadata": {},
     "output_type": "execute_result"
    }
   ],
   "source": [
    "df.columns"
   ]
  },
  {
   "cell_type": "markdown",
   "metadata": {
    "id": "5ISfbcfY_Zct"
   },
   "source": [
    "### Пропуски значений\n",
    "Сначала посчитайте, сколько в таблице пропущенных значений. Для этого достаточно двух методов `pandas`:"
   ]
  },
  {
   "cell_type": "code",
   "execution_count": 8,
   "metadata": {
    "id": "RskX29qr_Zct"
   },
   "outputs": [
    {
     "data": {
      "text/plain": [
       "user_id       0\n",
       "track      1231\n",
       "artist     7203\n",
       "genre      1198\n",
       "city          0\n",
       "time          0\n",
       "day           0\n",
       "dtype: int64"
      ]
     },
     "execution_count": 8,
     "metadata": {},
     "output_type": "execute_result"
    }
   ],
   "source": [
    "df.isna().sum()"
   ]
  },
  {
   "cell_type": "markdown",
   "metadata": {
    "id": "qubhgnlO_Zct"
   },
   "source": [
    "Не все пропущенные значения влияют на исследование. Так в `track` и `artist` пропуски не важны для вашей работы. Достаточно заменить их явными обозначениями.\n",
    "\n",
    "Но пропуски в `genre` могут помешать сравнению музыкальных вкусов в Москве и Санкт-Петербурге. На практике было бы правильно установить причину пропусков и восстановить данные. Такой возможности нет в учебном проекте. Придётся:\n",
    "* заполнить и эти пропуски явными обозначениями,\n",
    "* оценить, насколько они повредят расчётам. "
   ]
  },
  {
   "cell_type": "markdown",
   "metadata": {
    "id": "fSv2laPA_Zct"
   },
   "source": [
    "Замените пропущенные значения в столбцах `track`, `artist` и `genre` на строку `'unknown'`. Для этого создайте список `columns_to_replace`, переберите его элементы циклом `for` и для каждого столбца выполните замену пропущенных значений:"
   ]
  },
  {
   "cell_type": "code",
   "execution_count": 9,
   "metadata": {
    "id": "KplB5qWs_Zct"
   },
   "outputs": [],
   "source": [
    "# перебор названий столбцов в цикле и замена пропущенных значений на 'unknown'\n",
    "columns_to_replace = ['track', 'artist', 'genre']\n",
    "for column in columns_to_replace:\n",
    "    df[column]=df[column].fillna('unknown')"
   ]
  },
  {
   "cell_type": "markdown",
   "metadata": {
    "id": "Ilsm-MZo_Zct"
   },
   "source": [
    "Убедитесь, что в таблице не осталось пропусков. Для этого ещё раз посчитайте пропущенные значения."
   ]
  },
  {
   "cell_type": "code",
   "execution_count": 10,
   "metadata": {
    "id": "Tq4nYRX4_Zct"
   },
   "outputs": [
    {
     "data": {
      "text/plain": [
       "user_id    0\n",
       "track      0\n",
       "artist     0\n",
       "genre      0\n",
       "city       0\n",
       "time       0\n",
       "day        0\n",
       "dtype: int64"
      ]
     },
     "execution_count": 10,
     "metadata": {},
     "output_type": "execute_result"
    }
   ],
   "source": [
    "df.isna().sum()"
   ]
  },
  {
   "cell_type": "markdown",
   "metadata": {
    "id": "BWKRtBJ3_Zct"
   },
   "source": [
    "### Дубликаты\n",
    "Посчитайте явные дубликаты в таблице одной командой:"
   ]
  },
  {
   "cell_type": "code",
   "execution_count": 11,
   "metadata": {
    "id": "36eES_S0_Zct"
   },
   "outputs": [
    {
     "data": {
      "text/plain": [
       "3826"
      ]
     },
     "execution_count": 11,
     "metadata": {},
     "output_type": "execute_result"
    }
   ],
   "source": [
    "df.duplicated().sum()"
   ]
  },
  {
   "cell_type": "markdown",
   "metadata": {
    "id": "Ot25h6XR_Zct"
   },
   "source": [
    "Вызовите специальный метод `pandas`, чтобы удалить явные дубликаты:"
   ]
  },
  {
   "cell_type": "code",
   "execution_count": 12,
   "metadata": {
    "id": "exFHq6tt_Zct"
   },
   "outputs": [],
   "source": [
    "df = df.drop_duplicates().reset_index(drop=True) "
   ]
  },
  {
   "cell_type": "markdown",
   "metadata": {
    "id": "Im2YwBEG_Zct"
   },
   "source": [
    "Ещё раз посчитайте явные дубликаты в таблице — убедитесь, что полностью от них избавились:"
   ]
  },
  {
   "cell_type": "code",
   "execution_count": 13,
   "metadata": {
    "id": "-8PuNWQ0_Zct"
   },
   "outputs": [
    {
     "data": {
      "text/plain": [
       "0"
      ]
     },
     "execution_count": 13,
     "metadata": {},
     "output_type": "execute_result"
    }
   ],
   "source": [
    "df.duplicated().sum()"
   ]
  },
  {
   "cell_type": "markdown",
   "metadata": {
    "id": "QlFBsxAr_Zct"
   },
   "source": [
    "Теперь избавьтесь от неявных дубликатов в колонке `genre`. Например, название одного и того же жанра может быть записано немного по-разному. Такие ошибки тоже повлияют на результат исследования."
   ]
  },
  {
   "cell_type": "markdown",
   "metadata": {
    "id": "eSjWwsOh_Zct"
   },
   "source": [
    "Выведите на экран список уникальных названий жанров, отсортированный в алфавитном порядке. Для этого:\n",
    "* извлеките нужный столбец датафрейма, \n",
    "* примените к нему метод сортировки,\n",
    "* для отсортированного столбца вызовите метод, который вернёт уникальные значения из столбца."
   ]
  },
  {
   "cell_type": "code",
   "execution_count": 14,
   "metadata": {
    "id": "JIUcqzZN_Zct"
   },
   "outputs": [
    {
     "data": {
      "text/plain": [
       "array(['acid', 'acoustic', 'action', 'adult', 'africa', 'afrikaans',\n",
       "       'alternative', 'alternativepunk', 'ambient', 'americana',\n",
       "       'animated', 'anime', 'arabesk', 'arabic', 'arena',\n",
       "       'argentinetango', 'art', 'audiobook', 'author', 'avantgarde',\n",
       "       'axé', 'baile', 'balkan', 'beats', 'bigroom', 'black', 'bluegrass',\n",
       "       'blues', 'bollywood', 'bossa', 'brazilian', 'breakbeat', 'breaks',\n",
       "       'broadway', 'cantautori', 'cantopop', 'canzone', 'caribbean',\n",
       "       'caucasian', 'celtic', 'chamber', 'chanson', 'children', 'chill',\n",
       "       'chinese', 'choral', 'christian', 'christmas', 'classical',\n",
       "       'classicmetal', 'club', 'colombian', 'comedy', 'conjazz',\n",
       "       'contemporary', 'country', 'cuban', 'dance', 'dancehall',\n",
       "       'dancepop', 'dark', 'death', 'deep', 'deutschrock', 'deutschspr',\n",
       "       'dirty', 'disco', 'dnb', 'documentary', 'downbeat', 'downtempo',\n",
       "       'drum', 'dub', 'dubstep', 'eastern', 'easy', 'electronic',\n",
       "       'electropop', 'emo', 'entehno', 'epicmetal', 'estrada', 'ethnic',\n",
       "       'eurofolk', 'european', 'experimental', 'extrememetal', 'fado',\n",
       "       'fairytail', 'film', 'fitness', 'flamenco', 'folk', 'folklore',\n",
       "       'folkmetal', 'folkrock', 'folktronica', 'forró', 'frankreich',\n",
       "       'französisch', 'french', 'funk', 'future', 'gangsta', 'garage',\n",
       "       'german', 'ghazal', 'gitarre', 'glitch', 'gospel', 'gothic',\n",
       "       'grime', 'grunge', 'gypsy', 'handsup', \"hard'n'heavy\", 'hardcore',\n",
       "       'hardstyle', 'hardtechno', 'hip', 'hip-hop', 'hiphop',\n",
       "       'historisch', 'holiday', 'hop', 'horror', 'house', 'hymn', 'idm',\n",
       "       'independent', 'indian', 'indie', 'indipop', 'industrial',\n",
       "       'inspirational', 'instrumental', 'international', 'irish', 'jam',\n",
       "       'japanese', 'jazz', 'jewish', 'jpop', 'jungle', 'k-pop',\n",
       "       'karadeniz', 'karaoke', 'kayokyoku', 'korean', 'laiko', 'latin',\n",
       "       'latino', 'leftfield', 'local', 'lounge', 'loungeelectronic',\n",
       "       'lovers', 'malaysian', 'mandopop', 'marschmusik', 'meditative',\n",
       "       'mediterranean', 'melodic', 'metal', 'metalcore', 'mexican',\n",
       "       'middle', 'minimal', 'miscellaneous', 'modern', 'mood', 'mpb',\n",
       "       'muslim', 'native', 'neoklassik', 'neue', 'new', 'newage',\n",
       "       'newwave', 'nu', 'nujazz', 'numetal', 'oceania', 'old', 'opera',\n",
       "       'orchestral', 'other', 'piano', 'podcasts', 'pop', 'popdance',\n",
       "       'popelectronic', 'popeurodance', 'poprussian', 'post',\n",
       "       'posthardcore', 'postrock', 'power', 'progmetal', 'progressive',\n",
       "       'psychedelic', 'punjabi', 'punk', 'quebecois', 'ragga', 'ram',\n",
       "       'rancheras', 'rap', 'rave', 'reggae', 'reggaeton', 'regional',\n",
       "       'relax', 'religious', 'retro', 'rhythm', 'rnb', 'rnr', 'rock',\n",
       "       'rockabilly', 'rockalternative', 'rockindie', 'rockother',\n",
       "       'romance', 'roots', 'ruspop', 'rusrap', 'rusrock', 'russian',\n",
       "       'salsa', 'samba', 'scenic', 'schlager', 'self', 'sertanejo',\n",
       "       'shanson', 'shoegazing', 'showtunes', 'singer', 'ska', 'skarock',\n",
       "       'slow', 'smooth', 'soft', 'soul', 'soulful', 'sound', 'soundtrack',\n",
       "       'southern', 'specialty', 'speech', 'spiritual', 'sport',\n",
       "       'stonerrock', 'surf', 'swing', 'synthpop', 'synthrock',\n",
       "       'sängerportrait', 'tango', 'tanzorchester', 'taraftar', 'tatar',\n",
       "       'tech', 'techno', 'teen', 'thrash', 'top', 'traditional',\n",
       "       'tradjazz', 'trance', 'tribal', 'trip', 'triphop', 'tropical',\n",
       "       'türk', 'türkçe', 'ukrrock', 'unknown', 'urban', 'uzbek',\n",
       "       'variété', 'vi', 'videogame', 'vocal', 'western', 'world',\n",
       "       'worldbeat', 'ïîï', 'электроника'], dtype=object)"
      ]
     },
     "execution_count": 14,
     "metadata": {},
     "output_type": "execute_result"
    }
   ],
   "source": [
    "df['genre'].sort_values().unique()"
   ]
  },
  {
   "cell_type": "markdown",
   "metadata": {
    "id": "qej-Qmuo_Zct"
   },
   "source": [
    "Просмотрите список и найдите неявные дубликаты названия `hiphop`. Это могут быть названия с ошибками или альтернативные названия того же жанра.\n",
    "\n",
    "Вы увидите следующие неявные дубликаты:\n",
    "* *hip*,\n",
    "* *hop*,\n",
    "* *hip-hop*.\n",
    "\n",
    "Чтобы очистить от них таблицу, напишите функцию `replace_wrong_genres()` с двумя параметрами: \n",
    "* `wrong_genres` — список дубликатов,\n",
    "* `correct_genre` — строка с правильным значением.\n",
    "\n",
    "Функция должна исправить колонку `genre` в таблице `df`: заменить каждое значение из списка `wrong_genres` на значение из `correct_genre`."
   ]
  },
  {
   "cell_type": "code",
   "execution_count": 15,
   "metadata": {
    "id": "ErNDkmns_Zct"
   },
   "outputs": [],
   "source": [
    "def replace_wrong_genres(wrong_genres, correct_genre):\n",
    "    for genre in wrong_genres:\n",
    "        df['genre'] = df['genre'].replace(genre, correct_genre)\n"
   ]
  },
  {
   "cell_type": "markdown",
   "metadata": {
    "id": "aDoBJxbA_Zct"
   },
   "source": [
    "Вызовите `replace_wrong_genres()` и передайте ей такие аргументы, чтобы она устранила неявные дубликаты: вместо `hip`, `hop` и `hip-hop` в таблице должно быть значение `hiphop`:"
   ]
  },
  {
   "cell_type": "code",
   "execution_count": 16,
   "metadata": {
    "id": "YN5i2hpmSo09"
   },
   "outputs": [],
   "source": [
    "genres_to_replace=['hip','hop','hip-hop']\n",
    "replace_wrong_genres(genres_to_replace, 'hiphop')"
   ]
  },
  {
   "cell_type": "markdown",
   "metadata": {
    "id": "zQKF16_RG15m"
   },
   "source": [
    "Проверьте, что заменили неправильные названия:\n",
    "\n",
    "*   hip\n",
    "*   hop\n",
    "*   hip-hop\n",
    "\n",
    "Выведите отсортированный список уникальных значений столбца `genre`:"
   ]
  },
  {
   "cell_type": "code",
   "execution_count": 17,
   "metadata": {
    "id": "wvixALnFG15m"
   },
   "outputs": [
    {
     "data": {
      "text/plain": [
       "array(['acid', 'acoustic', 'action', 'adult', 'africa', 'afrikaans',\n",
       "       'alternative', 'alternativepunk', 'ambient', 'americana',\n",
       "       'animated', 'anime', 'arabesk', 'arabic', 'arena',\n",
       "       'argentinetango', 'art', 'audiobook', 'author', 'avantgarde',\n",
       "       'axé', 'baile', 'balkan', 'beats', 'bigroom', 'black', 'bluegrass',\n",
       "       'blues', 'bollywood', 'bossa', 'brazilian', 'breakbeat', 'breaks',\n",
       "       'broadway', 'cantautori', 'cantopop', 'canzone', 'caribbean',\n",
       "       'caucasian', 'celtic', 'chamber', 'chanson', 'children', 'chill',\n",
       "       'chinese', 'choral', 'christian', 'christmas', 'classical',\n",
       "       'classicmetal', 'club', 'colombian', 'comedy', 'conjazz',\n",
       "       'contemporary', 'country', 'cuban', 'dance', 'dancehall',\n",
       "       'dancepop', 'dark', 'death', 'deep', 'deutschrock', 'deutschspr',\n",
       "       'dirty', 'disco', 'dnb', 'documentary', 'downbeat', 'downtempo',\n",
       "       'drum', 'dub', 'dubstep', 'eastern', 'easy', 'electronic',\n",
       "       'electropop', 'emo', 'entehno', 'epicmetal', 'estrada', 'ethnic',\n",
       "       'eurofolk', 'european', 'experimental', 'extrememetal', 'fado',\n",
       "       'fairytail', 'film', 'fitness', 'flamenco', 'folk', 'folklore',\n",
       "       'folkmetal', 'folkrock', 'folktronica', 'forró', 'frankreich',\n",
       "       'französisch', 'french', 'funk', 'future', 'gangsta', 'garage',\n",
       "       'german', 'ghazal', 'gitarre', 'glitch', 'gospel', 'gothic',\n",
       "       'grime', 'grunge', 'gypsy', 'handsup', \"hard'n'heavy\", 'hardcore',\n",
       "       'hardstyle', 'hardtechno', 'hiphop', 'historisch', 'holiday',\n",
       "       'horror', 'house', 'hymn', 'idm', 'independent', 'indian', 'indie',\n",
       "       'indipop', 'industrial', 'inspirational', 'instrumental',\n",
       "       'international', 'irish', 'jam', 'japanese', 'jazz', 'jewish',\n",
       "       'jpop', 'jungle', 'k-pop', 'karadeniz', 'karaoke', 'kayokyoku',\n",
       "       'korean', 'laiko', 'latin', 'latino', 'leftfield', 'local',\n",
       "       'lounge', 'loungeelectronic', 'lovers', 'malaysian', 'mandopop',\n",
       "       'marschmusik', 'meditative', 'mediterranean', 'melodic', 'metal',\n",
       "       'metalcore', 'mexican', 'middle', 'minimal', 'miscellaneous',\n",
       "       'modern', 'mood', 'mpb', 'muslim', 'native', 'neoklassik', 'neue',\n",
       "       'new', 'newage', 'newwave', 'nu', 'nujazz', 'numetal', 'oceania',\n",
       "       'old', 'opera', 'orchestral', 'other', 'piano', 'podcasts', 'pop',\n",
       "       'popdance', 'popelectronic', 'popeurodance', 'poprussian', 'post',\n",
       "       'posthardcore', 'postrock', 'power', 'progmetal', 'progressive',\n",
       "       'psychedelic', 'punjabi', 'punk', 'quebecois', 'ragga', 'ram',\n",
       "       'rancheras', 'rap', 'rave', 'reggae', 'reggaeton', 'regional',\n",
       "       'relax', 'religious', 'retro', 'rhythm', 'rnb', 'rnr', 'rock',\n",
       "       'rockabilly', 'rockalternative', 'rockindie', 'rockother',\n",
       "       'romance', 'roots', 'ruspop', 'rusrap', 'rusrock', 'russian',\n",
       "       'salsa', 'samba', 'scenic', 'schlager', 'self', 'sertanejo',\n",
       "       'shanson', 'shoegazing', 'showtunes', 'singer', 'ska', 'skarock',\n",
       "       'slow', 'smooth', 'soft', 'soul', 'soulful', 'sound', 'soundtrack',\n",
       "       'southern', 'specialty', 'speech', 'spiritual', 'sport',\n",
       "       'stonerrock', 'surf', 'swing', 'synthpop', 'synthrock',\n",
       "       'sängerportrait', 'tango', 'tanzorchester', 'taraftar', 'tatar',\n",
       "       'tech', 'techno', 'teen', 'thrash', 'top', 'traditional',\n",
       "       'tradjazz', 'trance', 'tribal', 'trip', 'triphop', 'tropical',\n",
       "       'türk', 'türkçe', 'ukrrock', 'unknown', 'urban', 'uzbek',\n",
       "       'variété', 'vi', 'videogame', 'vocal', 'western', 'world',\n",
       "       'worldbeat', 'ïîï', 'электроника'], dtype=object)"
      ]
     },
     "execution_count": 17,
     "metadata": {},
     "output_type": "execute_result"
    }
   ],
   "source": [
    "df['genre'].sort_values().unique()"
   ]
  },
  {
   "cell_type": "markdown",
   "metadata": {
    "id": "jz6a9-7HQUDd"
   },
   "source": [
    "**Выводы**\n",
    "\n",
    "Предобработка обнаружила три проблемы в данных:\n",
    "\n",
    "- нарушения в стиле заголовков,\n",
    "- пропущенные значения,\n",
    "- дубликаты — явные и неявные.\n",
    "\n",
    "Вы исправили заголовки, чтобы упростить работу с таблицей. Без дубликатов исследование станет более точным.\n",
    "\n",
    "Пропущенные значения вы заменили на `'unknown'`. Ещё предстоит увидеть, не повредят ли исследованию пропуски в колонке `genre`.\n",
    "\n",
    "Теперь можно перейти к проверке гипотез. "
   ]
  },
  {
   "cell_type": "markdown",
   "metadata": {
    "id": "WttZHXH0SqKk"
   },
   "source": [
    "## Проверка гипотез"
   ]
  },
  {
   "cell_type": "markdown",
   "metadata": {
    "id": "Im936VVi_Zcu"
   },
   "source": [
    "### Сравнение поведения пользователей двух столиц"
   ]
  },
  {
   "cell_type": "markdown",
   "metadata": {
    "id": "nwt_MuaL_Zcu"
   },
   "source": [
    "Первая гипотеза утверждает, что пользователи по-разному слушают музыку в Москве и Санкт-Петербурге. Проверьте это предположение по данным о трёх днях недели — понедельнике, среде и пятнице. Для этого:\n",
    "\n",
    "* Разделите пользователей Москвы и Санкт-Петербурга\n",
    "* Сравните, сколько треков послушала каждая группа пользователей в понедельник, среду и пятницу.\n"
   ]
  },
  {
   "cell_type": "markdown",
   "metadata": {
    "id": "8Dw_YMmT_Zcu"
   },
   "source": [
    "Для тренировки сначала выполните каждый из расчётов по отдельности. \n",
    "\n",
    "Оцените активность пользователей в каждом городе. Сгруппируйте данные по городу и посчитайте прослушивания в каждой группе.\n",
    "\n"
   ]
  },
  {
   "cell_type": "code",
   "execution_count": 18,
   "metadata": {
    "id": "0_Qs96oh_Zcu"
   },
   "outputs": [
    {
     "data": {
      "text/plain": [
       "city\n",
       "Moscow              42741\n",
       "Saint-Petersburg    18512\n",
       "Name: track, dtype: int64"
      ]
     },
     "execution_count": 18,
     "metadata": {},
     "output_type": "execute_result"
    }
   ],
   "source": [
    "# Подсчёт прослушиваний в каждом городе\n",
    "\n",
    "df.groupby('city')['track'].count()"
   ]
  },
  {
   "cell_type": "markdown",
   "metadata": {
    "id": "dzli3w8o_Zcu"
   },
   "source": [
    "В Москве прослушиваний больше, чем в Петербурге. Из этого не следует, что московские пользователи чаще слушают музыку. Просто самих пользователей в Москве больше.\n",
    "\n",
    "Теперь сгруппируйте данные по дню недели и подсчитайте прослушивания в понедельник, среду и пятницу. Учтите, что в данных есть информация только о прослушиваниях только за эти дни.\n"
   ]
  },
  {
   "cell_type": "code",
   "execution_count": 19,
   "metadata": {
    "id": "uZMKjiJz_Zcu"
   },
   "outputs": [
    {
     "data": {
      "text/plain": [
       "day\n",
       "Friday       21840\n",
       "Monday       21354\n",
       "Wednesday    18059\n",
       "Name: track, dtype: int64"
      ]
     },
     "execution_count": 19,
     "metadata": {},
     "output_type": "execute_result"
    }
   ],
   "source": [
    "# Подсчёт прослушиваний в каждый из трёх дней\n",
    "\n",
    "df.groupby('day')['track'].count()"
   ]
  },
  {
   "cell_type": "markdown",
   "metadata": {
    "id": "cC2tNrlL_Zcu"
   },
   "source": [
    "В среднем пользователи из двух городов менее активны по средам. Но картина может измениться, если рассмотреть каждый город в отдельности."
   ]
  },
  {
   "cell_type": "markdown",
   "metadata": {
    "id": "POzs8bGa_Zcu"
   },
   "source": [
    "Вы видели, как работает группировка по городу и по дням недели. Теперь напишите функцию, которая объединит два эти расчёта.\n",
    "\n",
    "Создайте функцию `number_tracks()`, которая посчитает прослушивания для заданного дня и города. Ей понадобятся два параметра:\n",
    "* день недели,\n",
    "* название города.\n",
    "\n",
    "В функции сохраните в переменную строки исходной таблицы, у которых значение:\n",
    "  * в колонке `day` равно параметру `day`,\n",
    "  * в колонке `city` равно параметру `city`.\n",
    "\n",
    "Для этого примените последовательную фильтрацию с логической индексацией.\n",
    "\n",
    "Затем посчитайте значения в столбце `user_id` получившейся таблицы. Результат сохраните в новую переменную. Верните эту переменную из функции."
   ]
  },
  {
   "cell_type": "code",
   "execution_count": 20,
   "metadata": {
    "id": "Nz3GdQB1_Zcu"
   },
   "outputs": [],
   "source": [
    "# <создание функции number_tracks()>\n",
    "# Объявляется функция с двумя параметрами: day, city.\n",
    "# В переменной track_list сохраняются те строки таблицы df, для которых \n",
    "# значение в столбце 'day' равно параметру day и одновременно значение\n",
    "# в столбце 'city' равно параметру city (используйте последовательную фильтрацию\n",
    "# с помощью логической индексации).\n",
    "# В переменной track_list_count сохраняется число значений столбца 'user_id',\n",
    "# рассчитанное методом count() для таблицы track_list.\n",
    "# Функция возвращает число - значение track_list_count.\n",
    "\n",
    "def number_tracks(day, city):\n",
    "# Функция для подсчёта прослушиваний для конкретного города и дня.\n",
    "# С помощью последовательной фильтрации с логической индексацией она \n",
    "# сначала получит из исходной таблицы строки с нужным днём,\n",
    "    track_list = df[df['day'] == day]\n",
    "# затем из результата отфильтрует строки с нужным городом,\n",
    "    track_list = track_list[track_list['city'] == city]\n",
    "# методом count() посчитает количество значений в колонке user_id. \n",
    "    track_list_count = track_list['user_id'].count()\n",
    "# Это количество функция вернёт в качестве результата\n",
    "    return track_list_count\n"
   ]
  },
  {
   "cell_type": "markdown",
   "metadata": {
    "id": "ytf7xFrFJQ2r"
   },
   "source": [
    "Вызовите `number_tracks()` шесть раз, меняя значение параметров — так, чтобы получить данные для каждого города в каждый из трёх дней."
   ]
  },
  {
   "cell_type": "code",
   "execution_count": 21,
   "metadata": {
    "id": "rJcRATNQ_Zcu"
   },
   "outputs": [
    {
     "name": "stdout",
     "output_type": "stream",
     "text": [
      "15740\n"
     ]
    }
   ],
   "source": [
    "# количество прослушиваний в Москве по понедельникам\n",
    "print(number_tracks('Monday', 'Moscow'))"
   ]
  },
  {
   "cell_type": "code",
   "execution_count": 22,
   "metadata": {
    "id": "hq_ncZ5T_Zcu"
   },
   "outputs": [
    {
     "name": "stdout",
     "output_type": "stream",
     "text": [
      "5614\n"
     ]
    }
   ],
   "source": [
    "# количество прослушиваний в Санкт-Петербурге по понедельникам\n",
    "print(number_tracks('Monday', 'Saint-Petersburg'))"
   ]
  },
  {
   "cell_type": "code",
   "execution_count": 23,
   "metadata": {
    "id": "_NTy2VPU_Zcu"
   },
   "outputs": [
    {
     "name": "stdout",
     "output_type": "stream",
     "text": [
      "11056\n"
     ]
    }
   ],
   "source": [
    "# количество прослушиваний в Москве по средам\n",
    "print(number_tracks('Wednesday', 'Moscow'))"
   ]
  },
  {
   "cell_type": "code",
   "execution_count": 24,
   "metadata": {
    "id": "j2y3TAwo_Zcu"
   },
   "outputs": [
    {
     "name": "stdout",
     "output_type": "stream",
     "text": [
      "7003\n"
     ]
    }
   ],
   "source": [
    "# количество прослушиваний в Санкт-Петербурге по средам\n",
    "print(number_tracks('Wednesday', 'Saint-Petersburg'))"
   ]
  },
  {
   "cell_type": "code",
   "execution_count": 25,
   "metadata": {
    "id": "vYDw5u_K_Zcu"
   },
   "outputs": [
    {
     "name": "stdout",
     "output_type": "stream",
     "text": [
      "15945\n"
     ]
    }
   ],
   "source": [
    "# количество прослушиваний в Москве по пятницам\n",
    "print(number_tracks('Friday', 'Moscow'))"
   ]
  },
  {
   "cell_type": "code",
   "execution_count": 26,
   "metadata": {
    "id": "8_yzFtW3_Zcu"
   },
   "outputs": [
    {
     "name": "stdout",
     "output_type": "stream",
     "text": [
      "5895\n"
     ]
    }
   ],
   "source": [
    "# количество прослушиваний в Санкт-Петербурге по пятницам\n",
    "# количество прослушиваний в Москве по пятницам\n",
    "print(number_tracks('Friday', 'Saint-Petersburg'))"
   ]
  },
  {
   "cell_type": "markdown",
   "metadata": {
    "id": "7QXffbO-_Zcu"
   },
   "source": [
    "Создайте c помощью конструктора `pd.DataFrame` таблицу, где\n",
    "* названия колонок — `['city', 'monday', 'wednesday', 'friday']`;\n",
    "* данные — результаты, которые вы получили с помощью `number_tracks`."
   ]
  },
  {
   "cell_type": "code",
   "execution_count": 27,
   "metadata": {
    "id": "APAcLpOr_Zcu"
   },
   "outputs": [
    {
     "data": {
      "text/html": [
       "<div>\n",
       "<style scoped>\n",
       "    .dataframe tbody tr th:only-of-type {\n",
       "        vertical-align: middle;\n",
       "    }\n",
       "\n",
       "    .dataframe tbody tr th {\n",
       "        vertical-align: top;\n",
       "    }\n",
       "\n",
       "    .dataframe thead th {\n",
       "        text-align: right;\n",
       "    }\n",
       "</style>\n",
       "<table border=\"1\" class=\"dataframe\">\n",
       "  <thead>\n",
       "    <tr style=\"text-align: right;\">\n",
       "      <th></th>\n",
       "      <th>city</th>\n",
       "      <th>monday</th>\n",
       "      <th>wednesday</th>\n",
       "      <th>friday</th>\n",
       "    </tr>\n",
       "  </thead>\n",
       "  <tbody>\n",
       "    <tr>\n",
       "      <td>0</td>\n",
       "      <td>Moscow</td>\n",
       "      <td>15740</td>\n",
       "      <td>11056</td>\n",
       "      <td>15945</td>\n",
       "    </tr>\n",
       "    <tr>\n",
       "      <td>1</td>\n",
       "      <td>Saint-Petersburg</td>\n",
       "      <td>5614</td>\n",
       "      <td>7003</td>\n",
       "      <td>5895</td>\n",
       "    </tr>\n",
       "  </tbody>\n",
       "</table>\n",
       "</div>"
      ],
      "text/plain": [
       "               city  monday  wednesday  friday\n",
       "0            Moscow   15740      11056   15945\n",
       "1  Saint-Petersburg    5614       7003    5895"
      ]
     },
     "execution_count": 27,
     "metadata": {},
     "output_type": "execute_result"
    }
   ],
   "source": [
    "columns=['city', 'monday', 'wednesday', 'friday']\n",
    "data= [['Moscow',15740, 11056,  15945],['Saint-Petersburg', 5614, 7003, 5895]]\n",
    "pd.DataFrame(data=data, columns=columns)"
   ]
  },
  {
   "cell_type": "markdown",
   "metadata": {
    "id": "-EgPIHYu_Zcu"
   },
   "source": [
    "**Выводы**\n",
    "\n",
    "Данные показывают разницу поведения пользователей:\n",
    "\n",
    "- В Москве пик прослушиваний приходится на понедельник и пятницу, а в среду заметен спад.\n",
    "- В Петербурге, наоборот, больше слушают музыку по средам. Активность в понедельник и пятницу здесь почти в равной мере уступает среде.\n",
    "\n",
    "Значит, данные говорят в пользу первой гипотезы."
   ]
  },
  {
   "cell_type": "markdown",
   "metadata": {
    "id": "atZAxtq4_Zcu"
   },
   "source": [
    "### Музыка в начале и в конце недели"
   ]
  },
  {
   "cell_type": "markdown",
   "metadata": {
    "id": "eXrQqXFH_Zcu"
   },
   "source": [
    "Согласно второй гипотезе, утром в понедельник в Москве преобладают одни жанры, а в Петербурге — другие. Так же и вечером пятницы преобладают разные жанры — в зависимости от города."
   ]
  },
  {
   "cell_type": "markdown",
   "metadata": {
    "id": "S8UcW6Hw_Zcu"
   },
   "source": [
    "Сохраните таблицы с данными в две переменные:\n",
    "* по Москве — в `moscow_general`;\n",
    "* по Санкт-Петербургу — в `spb_general`."
   ]
  },
  {
   "cell_type": "code",
   "execution_count": 28,
   "metadata": {
    "id": "qeaFfM_P_Zcu"
   },
   "outputs": [],
   "source": [
    "# получение таблицы moscow_general из тех строк таблицы df, \n",
    "# для которых значение в столбце 'city' равно 'Moscow'\n",
    "moscow_general = df[df['city']=='Moscow']"
   ]
  },
  {
   "cell_type": "code",
   "execution_count": 29,
   "metadata": {
    "id": "ORaVRKto_Zcu"
   },
   "outputs": [],
   "source": [
    "# получение таблицы spb_general из тех строк таблицы df,\n",
    "# для которых значение в столбце 'city' равно 'Saint-Petersburg'\n",
    "spb_general = df[df['city']=='Saint-Petersburg']"
   ]
  },
  {
   "cell_type": "markdown",
   "metadata": {
    "id": "MEJV-CX2_Zcu"
   },
   "source": [
    "Создайте функцию `genre_weekday()` с четырьмя параметрами:\n",
    "* таблица (датафрейм) с данными,\n",
    "* день недели,\n",
    "* начальная временная метка в формате 'hh:mm', \n",
    "* последняя временная метка в формате 'hh:mm'.\n",
    "\n",
    "Функция должна вернуть информацию о топ-10 жанров тех треков, которые прослушивали в указанный день, в промежутке между двумя отметками времени."
   ]
  },
  {
   "cell_type": "code",
   "execution_count": 30,
   "metadata": {
    "id": "laJT9BYl_Zcu"
   },
   "outputs": [],
   "source": [
    "# Объявление функции genre_weekday() с параметрами table, day, time1, time2,\n",
    "# которая возвращает информацию о самых популярных жанрах в указанный день в\n",
    "# заданное время:\n",
    "def genre_weekday(table, day, time1, time2):\n",
    "# 1) в переменную genre_df сохраняются те строки переданного датафрейма table, для\n",
    "#    которых одновременно:\n",
    "#    - значение в столбце day равно значению аргумента day\n",
    "    genre_df = table[table['day']==day]\n",
    "#    - значение в столбце time больше значения аргумента time1\n",
    "    genre_df = genre_df[genre_df['time']>time1]\n",
    "#    - значение в столбце time меньше значения аргумента time2\n",
    "#    Используйте последовательную фильтрацию с помощью логической индексации.\n",
    "    genre_df = genre_df[genre_df['time']<time2]\n",
    "# 2) сгруппировать датафрейм genre_df по столбцу genre, взять один из его\n",
    "#    столбцов и посчитать методом count() количество записей для каждого из\n",
    "#    присутствующих жанров, получившийся Series записать в переменную\n",
    "#    genre_df_count\n",
    "    genre_df_count = genre_df.groupby('genre')['genre'].count()\n",
    "# 3) отсортировать genre_df_count по убыванию встречаемости и сохранить\n",
    "#    в переменную genre_df_sorted\n",
    "    genre_df_sorted = genre_df_count.sort_values(ascending = False)\n",
    "# 4) вернуть Series из 10 первых значений genre_df_sorted, это будут топ-10\n",
    "#    популярных жанров (в указанный день, в заданное время)\n",
    "    return genre_df_sorted.head(10) "
   ]
  },
  {
   "cell_type": "markdown",
   "metadata": {
    "id": "la2s2_PF_Zcu"
   },
   "source": [
    "Cравните результаты функции `genre_weekday()` для Москвы и Санкт-Петербурга в понедельник утром (с 7:00 до 11:00) и в пятницу вечером (с 17:00 до 23:00):"
   ]
  },
  {
   "cell_type": "code",
   "execution_count": 31,
   "metadata": {
    "id": "yz7itPUQ_Zcu"
   },
   "outputs": [
    {
     "data": {
      "text/plain": [
       "genre\n",
       "pop            781\n",
       "dance          549\n",
       "electronic     480\n",
       "rock           474\n",
       "hiphop         286\n",
       "ruspop         186\n",
       "world          181\n",
       "rusrap         175\n",
       "alternative    164\n",
       "unknown        161\n",
       "Name: genre, dtype: int64"
      ]
     },
     "execution_count": 31,
     "metadata": {},
     "output_type": "execute_result"
    }
   ],
   "source": [
    "# вызов функции для утра понедельника в Москве (вместо df — таблица moscow_general)\n",
    "# объекты, хранящие время, являются строками и сравниваются как строки\n",
    "# пример вызова: genre_weekday(moscow_general, 'Monday', '07:00', '11:00')\n",
    "genre_weekday(moscow_general, 'Monday', '07:00', '11:00')"
   ]
  },
  {
   "cell_type": "code",
   "execution_count": 32,
   "metadata": {
    "id": "kwUcHPdy_Zcu"
   },
   "outputs": [
    {
     "data": {
      "text/plain": [
       "genre\n",
       "pop            218\n",
       "dance          182\n",
       "rock           162\n",
       "electronic     147\n",
       "hiphop          80\n",
       "ruspop          64\n",
       "alternative     58\n",
       "rusrap          55\n",
       "jazz            44\n",
       "classical       40\n",
       "Name: genre, dtype: int64"
      ]
     },
     "execution_count": 32,
     "metadata": {},
     "output_type": "execute_result"
    }
   ],
   "source": [
    "# вызов функции для утра понедельника в Петербурге (вместо df — таблица spb_general)\n",
    "genre_weekday(spb_general, 'Monday', '07:00', '11:00')"
   ]
  },
  {
   "cell_type": "code",
   "execution_count": 33,
   "metadata": {
    "id": "EzXVRE1o_Zcu"
   },
   "outputs": [
    {
     "data": {
      "text/plain": [
       "genre\n",
       "pop            713\n",
       "rock           517\n",
       "dance          495\n",
       "electronic     482\n",
       "hiphop         273\n",
       "world          208\n",
       "ruspop         170\n",
       "alternative    163\n",
       "classical      163\n",
       "rusrap         142\n",
       "Name: genre, dtype: int64"
      ]
     },
     "execution_count": 33,
     "metadata": {},
     "output_type": "execute_result"
    }
   ],
   "source": [
    "# вызов функции для вечера пятницы в Москве\n",
    "genre_weekday(moscow_general, 'Friday', '17:00', '23:00')"
   ]
  },
  {
   "cell_type": "code",
   "execution_count": 34,
   "metadata": {
    "id": "JZaEKu5v_Zcu"
   },
   "outputs": [
    {
     "data": {
      "text/plain": [
       "genre\n",
       "pop            256\n",
       "rock           216\n",
       "electronic     216\n",
       "dance          210\n",
       "hiphop          97\n",
       "alternative     63\n",
       "jazz            61\n",
       "classical       60\n",
       "rusrap          59\n",
       "world           54\n",
       "Name: genre, dtype: int64"
      ]
     },
     "execution_count": 34,
     "metadata": {},
     "output_type": "execute_result"
    }
   ],
   "source": [
    "# вызов функции для вечера пятницы в Петербурге\n",
    "genre_weekday(spb_general, 'Friday', '17:00', '23:00')"
   ]
  },
  {
   "cell_type": "markdown",
   "metadata": {
    "id": "wrCe4MNX_Zcu"
   },
   "source": [
    "**Выводы**\n",
    "\n",
    "Если сравнить топ-10 жанров в понедельник утром, можно сделать такие выводы:\n",
    "\n",
    "1. В Москве и Петербурге слушают похожую музыку. Единственное отличие — в московский рейтинг вошёл жанр “world”, а в петербургский — джаз и классика.\n",
    "\n",
    "2. В Москве пропущенных значений оказалось так много, что значение `'unknown'` заняло десятое место среди самых популярных жанров. Значит, пропущенные значения занимают существенную долю в данных и угрожают достоверности исследования.\n",
    "\n",
    "Вечер пятницы не меняет эту картину. Некоторые жанры поднимаются немного выше, другие спускаются, но в целом топ-10 остаётся тем же самым.\n",
    "\n",
    "Таким образом, вторая гипотеза подтвердилась лишь частично:\n",
    "* Пользователи слушают похожую музыку в начале недели и в конце.\n",
    "* Разница между Москвой и Петербургом не слишком выражена. В Москве чаще слушают русскую популярную музыку, в Петербурге — джаз.\n",
    "\n",
    "Однако пропуски в данных ставят под сомнение этот результат. В Москве их так много, что рейтинг топ-10 мог бы выглядеть иначе, если бы не утерянные  данные о жанрах."
   ]
  },
  {
   "cell_type": "markdown",
   "metadata": {
    "id": "JolODAqr_Zcu"
   },
   "source": [
    "### Жанровые предпочтения в Москве и Петербурге\n",
    "\n",
    "Гипотеза: Петербург — столица рэпа, музыку этого жанра там слушают чаще, чем в Москве.  А Москва — город контрастов, в котором, тем не менее, преобладает поп-музыка."
   ]
  },
  {
   "cell_type": "markdown",
   "metadata": {
    "id": "DlegSvaT_Zcu"
   },
   "source": [
    "Сгруппируйте таблицу `moscow_general` по жанру и посчитайте прослушивания треков каждого жанра методом `count()`. Затем отсортируйте результат в порядке убывания и сохраните его в таблице `moscow_genres`."
   ]
  },
  {
   "cell_type": "code",
   "execution_count": 35,
   "metadata": {
    "id": "r19lIPke_Zcu"
   },
   "outputs": [],
   "source": [
    "# одной строкой: группировка таблицы moscow_general по столбцу 'genre', \n",
    "# подсчёт числа значений 'genre' в этой группировке методом count(), \n",
    "# сортировка получившегося Series в порядке убывания и сохранение в moscow_genres\n",
    "moscow_genres = moscow_general.groupby('genre')['genre'].count().sort_values(ascending = False)"
   ]
  },
  {
   "cell_type": "markdown",
   "metadata": {
    "id": "6kMuomxTiIr8"
   },
   "source": [
    "Выведите на экран первые десять строк `moscow_genres`:"
   ]
  },
  {
   "cell_type": "code",
   "execution_count": 36,
   "metadata": {
    "id": "WhCSooF8_Zcv"
   },
   "outputs": [
    {
     "data": {
      "text/plain": [
       "genre\n",
       "pop            5892\n",
       "dance          4435\n",
       "rock           3965\n",
       "electronic     3786\n",
       "hiphop         2096\n",
       "classical      1616\n",
       "world          1432\n",
       "alternative    1379\n",
       "ruspop         1372\n",
       "rusrap         1161\n",
       "Name: genre, dtype: int64"
      ]
     },
     "execution_count": 36,
     "metadata": {},
     "output_type": "execute_result"
    }
   ],
   "source": [
    "moscow_genres.head(10)"
   ]
  },
  {
   "cell_type": "markdown",
   "metadata": {
    "id": "cnPG2vnN_Zcv"
   },
   "source": [
    "Теперь повторите то же и для Петербурга.\n",
    "\n",
    "Сгруппируйте таблицу `spb_general` по жанру. Посчитайте прослушивания треков каждого жанра. Результат отсортируйте в порядке убывания и сохраните в таблице `spb_genres`:\n"
   ]
  },
  {
   "cell_type": "code",
   "execution_count": 37,
   "metadata": {
    "id": "gluLIpE7_Zcv"
   },
   "outputs": [],
   "source": [
    "# одной строкой: группировка таблицы spb_general по столбцу 'genre', \n",
    "# подсчёт числа значений 'genre' в этой группировке методом count(), \n",
    "# сортировка получившегося Series в порядке убывания и сохранение в spb_genres\n",
    "spb_genres = spb_general.groupby('genre')['genre'].count().sort_values(ascending = False)"
   ]
  },
  {
   "cell_type": "markdown",
   "metadata": {
    "id": "5Doha_ODgyQ8"
   },
   "source": [
    "Выведите на экран первые десять строк `spb_genres`:"
   ]
  },
  {
   "cell_type": "code",
   "execution_count": 38,
   "metadata": {
    "id": "uaGJHjVU_Zcv"
   },
   "outputs": [
    {
     "data": {
      "text/plain": [
       "genre\n",
       "pop            2431\n",
       "dance          1932\n",
       "rock           1879\n",
       "electronic     1736\n",
       "hiphop          960\n",
       "alternative     649\n",
       "classical       646\n",
       "rusrap          564\n",
       "ruspop          538\n",
       "world           515\n",
       "Name: genre, dtype: int64"
      ]
     },
     "execution_count": 38,
     "metadata": {},
     "output_type": "execute_result"
    }
   ],
   "source": [
    "spb_genres.head(10)"
   ]
  },
  {
   "cell_type": "markdown",
   "metadata": {
    "id": "RY51YJYu_Zcv"
   },
   "source": [
    "**Выводы**"
   ]
  },
  {
   "cell_type": "markdown",
   "metadata": {
    "id": "nVhnJEm__Zcv"
   },
   "source": [
    "Гипотеза частично подтвердилась:\n",
    "* Поп-музыка — самый популярный жанр в Москве, как и предполагала гипотеза. Более того, в топ-10 жанров встречается близкий жанр — русская популярная музыка.\n",
    "* Вопреки ожиданиям, рэп одинаково популярен в Москве и Петербурге. \n"
   ]
  },
  {
   "cell_type": "markdown",
   "metadata": {
    "id": "ykKQ0N65_Zcv"
   },
   "source": [
    "## Итоги исследования"
   ]
  },
  {
   "cell_type": "markdown",
   "metadata": {
    "id": "tjUwbHb3_Zcv"
   },
   "source": [
    "Вы проверили три гипотезы и установили:\n",
    "\n",
    "1. День недели по-разному влияет на активность пользователей в Москве и Петербурге. \n",
    "\n",
    "Первая гипотеза полностью подтвердилась.\n",
    "\n",
    "2. Музыкальные предпочтения не сильно меняются в течение недели — будь то Москва или Петербург. Небольшие различия заметны в начале недели, по понедельникам:\n",
    "* в Москве слушают музыку жанра “world”,\n",
    "* в Петербурге — джаз и классику.\n",
    "\n",
    "Таким образом, вторая гипотеза подтвердилась лишь отчасти. Этот результат мог оказаться иным, если бы не пропуски в данных.\n",
    "\n",
    "3. Во вкусах пользователей Москвы и Петербурга больше общего чем различий. Вопреки ожиданиям, предпочтения жанров в Петербурге напоминают московские.\n",
    "\n",
    "Третья гипотеза не подтвердилась. Если различия в предпочтениях и существуют, на основной массе пользователей они незаметны.\n",
    "\n",
    "**На практике исследования содержат проверки статистических гипотез.**\n",
    "Из данных одного сервиса не всегда можно сделать вывод о всех жителях города.\n",
    "Проверки статистических гипотез покажут, насколько они достоверны, исходя из имеющихся данных. \n",
    "С методами проверок гипотез вы ещё познакомитесь в следующих темах."
   ]
  }
 ],
 "metadata": {
  "ExecuteTimeLog": [
   {
    "duration": 971,
    "start_time": "2021-11-26T11:57:12.413Z"
   },
   {
    "duration": 3,
    "start_time": "2021-11-26T11:57:16.656Z"
   },
   {
    "duration": 4,
    "start_time": "2021-11-26T11:57:19.594Z"
   },
   {
    "duration": 274,
    "start_time": "2021-11-26T12:01:09.175Z"
   },
   {
    "duration": 37,
    "start_time": "2021-11-26T12:01:30.367Z"
   },
   {
    "duration": 15,
    "start_time": "2021-11-26T12:06:40.100Z"
   },
   {
    "duration": 10,
    "start_time": "2021-11-26T12:06:46.242Z"
   },
   {
    "duration": 17,
    "start_time": "2021-11-26T12:06:50.676Z"
   },
   {
    "duration": 19,
    "start_time": "2021-11-26T12:07:02.909Z"
   },
   {
    "duration": 17,
    "start_time": "2021-11-26T12:07:16.980Z"
   },
   {
    "duration": 34,
    "start_time": "2021-11-26T12:07:42.837Z"
   },
   {
    "duration": 39,
    "start_time": "2021-11-26T12:07:51.165Z"
   },
   {
    "duration": 50,
    "start_time": "2021-11-26T12:07:55.094Z"
   },
   {
    "duration": 439,
    "start_time": "2021-11-26T13:20:35.582Z"
   },
   {
    "duration": 5,
    "start_time": "2021-11-26T13:20:41.127Z"
   },
   {
    "duration": 6,
    "start_time": "2021-11-26T13:20:47.201Z"
   },
   {
    "duration": 5,
    "start_time": "2021-11-26T13:20:50.057Z"
   },
   {
    "duration": 107,
    "start_time": "2021-11-26T13:24:48.548Z"
   },
   {
    "duration": 91,
    "start_time": "2021-11-26T13:25:29.935Z"
   },
   {
    "duration": 29,
    "start_time": "2021-11-26T13:27:55.706Z"
   },
   {
    "duration": 6,
    "start_time": "2021-11-26T13:28:08.691Z"
   },
   {
    "duration": 29,
    "start_time": "2021-11-26T13:34:16.384Z"
   },
   {
    "duration": 35,
    "start_time": "2021-11-26T13:38:55.038Z"
   },
   {
    "duration": 150,
    "start_time": "2021-11-26T13:38:58.782Z"
   },
   {
    "duration": 312,
    "start_time": "2021-11-26T13:39:05.468Z"
   },
   {
    "duration": 3,
    "start_time": "2021-11-26T13:39:36.519Z"
   },
   {
    "duration": 466,
    "start_time": "2021-11-26T13:39:39.286Z"
   },
   {
    "duration": 22,
    "start_time": "2021-11-26T13:42:17.883Z"
   },
   {
    "duration": 30,
    "start_time": "2021-11-26T13:42:20.280Z"
   },
   {
    "duration": 301,
    "start_time": "2021-11-26T13:44:20.313Z"
   },
   {
    "duration": 85,
    "start_time": "2021-11-26T13:44:26.243Z"
   },
   {
    "duration": 98,
    "start_time": "2021-11-26T13:46:42.917Z"
   },
   {
    "duration": 80,
    "start_time": "2021-11-26T13:46:59.886Z"
   },
   {
    "duration": 92,
    "start_time": "2021-11-26T13:56:44.400Z"
   },
   {
    "duration": 86,
    "start_time": "2021-11-26T13:56:46.239Z"
   },
   {
    "duration": 283,
    "start_time": "2021-11-26T14:00:30.356Z"
   },
   {
    "duration": 348,
    "start_time": "2021-11-26T14:00:43.461Z"
   },
   {
    "duration": 318,
    "start_time": "2021-11-26T14:00:55.742Z"
   },
   {
    "duration": 310,
    "start_time": "2021-11-26T14:03:01.048Z"
   },
   {
    "duration": 348,
    "start_time": "2021-11-26T14:03:10.488Z"
   },
   {
    "duration": 651,
    "start_time": "2021-11-26T14:08:10.710Z"
   },
   {
    "duration": 162,
    "start_time": "2021-11-26T14:09:24.088Z"
   },
   {
    "duration": 11,
    "start_time": "2021-11-26T14:09:27.359Z"
   },
   {
    "duration": 11,
    "start_time": "2021-11-26T14:09:37.871Z"
   },
   {
    "duration": 4,
    "start_time": "2021-11-26T14:16:37.758Z"
   },
   {
    "duration": 15,
    "start_time": "2021-11-26T14:18:21.019Z"
   },
   {
    "duration": 5,
    "start_time": "2021-11-26T14:18:37.737Z"
   },
   {
    "duration": 13,
    "start_time": "2021-11-26T14:19:12.467Z"
   },
   {
    "duration": 9,
    "start_time": "2021-11-26T14:19:26.906Z"
   },
   {
    "duration": 453,
    "start_time": "2021-11-26T18:04:49.762Z"
   },
   {
    "duration": 810,
    "start_time": "2021-11-26T18:05:07.454Z"
   },
   {
    "duration": 189,
    "start_time": "2021-11-26T18:05:08.268Z"
   },
   {
    "duration": 37,
    "start_time": "2021-11-26T18:05:08.460Z"
   },
   {
    "duration": 34,
    "start_time": "2021-11-26T18:05:08.499Z"
   },
   {
    "duration": 27,
    "start_time": "2021-11-26T18:05:08.535Z"
   },
   {
    "duration": 31,
    "start_time": "2021-11-26T18:05:08.565Z"
   },
   {
    "duration": 5,
    "start_time": "2021-11-26T18:05:08.599Z"
   },
   {
    "duration": 60,
    "start_time": "2021-11-26T18:05:08.608Z"
   },
   {
    "duration": 30,
    "start_time": "2021-11-26T18:05:08.672Z"
   },
   {
    "duration": 30,
    "start_time": "2021-11-26T18:05:08.705Z"
   },
   {
    "duration": 101,
    "start_time": "2021-11-26T18:05:08.760Z"
   },
   {
    "duration": 108,
    "start_time": "2021-11-26T18:05:08.864Z"
   },
   {
    "duration": 99,
    "start_time": "2021-11-26T18:05:08.975Z"
   },
   {
    "duration": 8,
    "start_time": "2021-11-26T18:05:09.076Z"
   },
   {
    "duration": 4,
    "start_time": "2021-11-26T18:05:09.087Z"
   },
   {
    "duration": 19,
    "start_time": "2021-11-26T18:05:09.093Z"
   },
   {
    "duration": 7,
    "start_time": "2021-11-26T18:05:09.115Z"
   },
   {
    "duration": 48,
    "start_time": "2021-11-26T18:05:09.125Z"
   },
   {
    "duration": 7,
    "start_time": "2021-11-26T18:05:09.175Z"
   },
   {
    "duration": 6,
    "start_time": "2021-11-26T18:05:09.185Z"
   },
   {
    "duration": 9,
    "start_time": "2021-11-26T18:05:09.193Z"
   },
   {
    "duration": 8,
    "start_time": "2021-11-26T18:05:09.204Z"
   },
   {
    "duration": 5,
    "start_time": "2021-11-26T18:05:09.216Z"
   },
   {
    "duration": 46,
    "start_time": "2021-11-26T18:05:09.224Z"
   },
   {
    "duration": 7,
    "start_time": "2021-11-26T18:05:09.273Z"
   },
   {
    "duration": 8,
    "start_time": "2021-11-26T18:05:09.283Z"
   },
   {
    "duration": 15,
    "start_time": "2021-11-26T18:05:09.294Z"
   },
   {
    "duration": 4,
    "start_time": "2021-11-26T18:05:09.312Z"
   },
   {
    "duration": 9,
    "start_time": "2021-11-26T18:05:09.319Z"
   },
   {
    "duration": 6,
    "start_time": "2021-11-26T18:05:09.331Z"
   },
   {
    "duration": 21,
    "start_time": "2021-11-26T18:05:09.340Z"
   },
   {
    "duration": 9,
    "start_time": "2021-11-26T18:05:09.363Z"
   },
   {
    "duration": 19,
    "start_time": "2021-11-26T18:05:09.374Z"
   },
   {
    "duration": 6,
    "start_time": "2021-11-26T18:05:09.396Z"
   },
   {
    "duration": 5,
    "start_time": "2021-11-26T18:05:09.405Z"
   },
   {
    "duration": 5,
    "start_time": "2021-11-26T18:05:09.413Z"
   },
   {
    "duration": 5,
    "start_time": "2021-11-26T18:05:09.420Z"
   },
   {
    "duration": 31,
    "start_time": "2021-11-26T18:05:09.428Z"
   },
   {
    "duration": 15,
    "start_time": "2021-11-26T18:05:42.547Z"
   },
   {
    "duration": 409,
    "start_time": "2021-11-26T18:10:10.559Z"
   },
   {
    "duration": 541,
    "start_time": "2021-11-26T18:10:53.943Z"
   },
   {
    "duration": 37,
    "start_time": "2021-11-26T18:12:44.079Z"
   },
   {
    "duration": 36,
    "start_time": "2021-11-26T18:12:49.051Z"
   },
   {
    "duration": 35,
    "start_time": "2021-11-26T18:12:51.551Z"
   },
   {
    "duration": 42,
    "start_time": "2021-11-26T18:13:00.635Z"
   },
   {
    "duration": 46,
    "start_time": "2021-11-26T18:13:43.947Z"
   },
   {
    "duration": 10,
    "start_time": "2021-11-26T18:16:00.663Z"
   },
   {
    "duration": 13,
    "start_time": "2021-11-26T18:16:38.307Z"
   },
   {
    "duration": 8,
    "start_time": "2021-11-26T18:20:28.180Z"
   },
   {
    "duration": 43,
    "start_time": "2021-11-26T18:27:16.044Z"
   },
   {
    "duration": 26,
    "start_time": "2021-11-26T18:27:46.416Z"
   },
   {
    "duration": 22,
    "start_time": "2021-11-26T18:28:27.412Z"
   },
   {
    "duration": 59,
    "start_time": "2021-11-26T18:29:18.412Z"
   },
   {
    "duration": 18,
    "start_time": "2021-11-26T18:30:06.708Z"
   },
   {
    "duration": 347,
    "start_time": "2021-11-26T19:46:08.674Z"
   },
   {
    "duration": 5,
    "start_time": "2021-11-26T19:46:15.534Z"
   },
   {
    "duration": 29,
    "start_time": "2021-11-26T19:46:20.426Z"
   },
   {
    "duration": 5,
    "start_time": "2021-11-26T19:46:48.255Z"
   },
   {
    "duration": 21,
    "start_time": "2021-11-26T19:46:51.298Z"
   },
   {
    "duration": 3,
    "start_time": "2021-11-26T19:47:00.870Z"
   },
   {
    "duration": 19,
    "start_time": "2021-11-26T19:47:13.470Z"
   },
   {
    "duration": 19,
    "start_time": "2021-11-26T19:47:31.666Z"
   },
   {
    "duration": 7,
    "start_time": "2021-11-26T19:47:38.790Z"
   },
   {
    "duration": 30,
    "start_time": "2021-11-26T19:48:06.987Z"
   },
   {
    "duration": 18,
    "start_time": "2021-11-26T19:48:17.382Z"
   },
   {
    "duration": 119,
    "start_time": "2021-11-26T19:48:34.154Z"
   },
   {
    "duration": 116,
    "start_time": "2021-11-26T19:48:38.390Z"
   },
   {
    "duration": 19,
    "start_time": "2021-11-26T19:48:41.854Z"
   },
   {
    "duration": 5,
    "start_time": "2021-11-26T19:51:09.262Z"
   },
   {
    "duration": 387,
    "start_time": "2021-11-26T19:51:59.387Z"
   },
   {
    "duration": 499,
    "start_time": "2021-11-26T19:53:44.135Z"
   },
   {
    "duration": 18,
    "start_time": "2021-11-26T19:55:37.328Z"
   },
   {
    "duration": 8,
    "start_time": "2021-11-26T19:58:52.003Z"
   },
   {
    "duration": 10,
    "start_time": "2021-11-26T19:59:17.263Z"
   },
   {
    "duration": 6,
    "start_time": "2021-11-26T20:14:19.196Z"
   },
   {
    "duration": 5260,
    "start_time": "2021-11-26T20:14:35.809Z"
   },
   {
    "duration": 8,
    "start_time": "2021-11-26T20:18:19.409Z"
   },
   {
    "duration": 8,
    "start_time": "2021-11-26T20:18:21.241Z"
   },
   {
    "duration": 6,
    "start_time": "2021-11-26T20:18:23.966Z"
   },
   {
    "duration": 5499,
    "start_time": "2021-11-26T20:18:26.257Z"
   },
   {
    "duration": 9686,
    "start_time": "2021-11-26T20:20:13.189Z"
   },
   {
    "duration": 5,
    "start_time": "2021-11-26T20:20:59.785Z"
   },
   {
    "duration": 11,
    "start_time": "2021-11-26T20:21:48.615Z"
   },
   {
    "duration": 30,
    "start_time": "2021-11-26T20:22:09.545Z"
   },
   {
    "duration": 18,
    "start_time": "2021-11-26T20:22:20.137Z"
   },
   {
    "duration": 16,
    "start_time": "2021-11-26T20:22:29.141Z"
   },
   {
    "duration": 727,
    "start_time": "2021-11-26T20:22:33.841Z"
   },
   {
    "duration": 5,
    "start_time": "2021-11-26T20:22:39.922Z"
   },
   {
    "duration": 730,
    "start_time": "2021-11-26T20:22:41.702Z"
   },
   {
    "duration": 949,
    "start_time": "2021-11-26T20:22:46.894Z"
   },
   {
    "duration": 741,
    "start_time": "2021-11-26T20:23:52.650Z"
   },
   {
    "duration": 935,
    "start_time": "2021-11-26T20:24:46.406Z"
   },
   {
    "duration": 1153,
    "start_time": "2021-11-26T20:24:59.711Z"
   },
   {
    "duration": 1025,
    "start_time": "2021-11-26T20:25:07.826Z"
   },
   {
    "duration": 1152,
    "start_time": "2021-11-26T20:26:10.874Z"
   },
   {
    "duration": 956,
    "start_time": "2021-11-26T20:26:43.382Z"
   },
   {
    "duration": 967,
    "start_time": "2021-11-26T20:28:10.802Z"
   },
   {
    "duration": 921,
    "start_time": "2021-11-26T20:28:16.591Z"
   },
   {
    "duration": 18,
    "start_time": "2021-11-26T20:28:33.754Z"
   },
   {
    "duration": 46,
    "start_time": "2021-11-26T20:29:09.870Z"
   },
   {
    "duration": 6,
    "start_time": "2021-11-26T20:30:57.115Z"
   },
   {
    "duration": 1567,
    "start_time": "2021-11-26T20:31:00.591Z"
   },
   {
    "duration": 779,
    "start_time": "2021-11-26T20:31:10.287Z"
   },
   {
    "duration": 6,
    "start_time": "2021-11-26T20:31:17.254Z"
   },
   {
    "duration": 6,
    "start_time": "2021-11-26T20:31:43.798Z"
   },
   {
    "duration": 6,
    "start_time": "2021-11-26T20:32:06.458Z"
   },
   {
    "duration": 6,
    "start_time": "2021-11-26T20:32:22.838Z"
   },
   {
    "duration": 738,
    "start_time": "2021-11-26T20:32:27.227Z"
   },
   {
    "duration": 967,
    "start_time": "2021-11-26T20:32:44.986Z"
   },
   {
    "duration": 960,
    "start_time": "2021-11-26T20:33:01.566Z"
   },
   {
    "duration": 946,
    "start_time": "2021-11-26T20:33:13.655Z"
   },
   {
    "duration": 368,
    "start_time": "2021-11-26T20:39:50.034Z"
   },
   {
    "duration": 49,
    "start_time": "2021-11-26T20:40:01.127Z"
   },
   {
    "duration": 1071,
    "start_time": "2021-11-26T20:40:10.475Z"
   },
   {
    "duration": 980,
    "start_time": "2021-11-26T20:40:55.387Z"
   },
   {
    "duration": 17,
    "start_time": "2021-11-26T20:41:07.591Z"
   },
   {
    "duration": 13,
    "start_time": "2021-11-26T20:41:12.951Z"
   },
   {
    "duration": 706,
    "start_time": "2021-11-26T20:41:36.683Z"
   },
   {
    "duration": 6,
    "start_time": "2021-11-26T20:41:46.407Z"
   },
   {
    "duration": 1748,
    "start_time": "2021-11-26T20:41:50.871Z"
   },
   {
    "duration": 11,
    "start_time": "2021-11-26T20:43:48.653Z"
   },
   {
    "duration": 6,
    "start_time": "2021-11-26T20:44:31.455Z"
   },
   {
    "duration": 136,
    "start_time": "2021-11-26T20:44:35.211Z"
   },
   {
    "duration": 21,
    "start_time": "2021-11-26T20:44:43.503Z"
   },
   {
    "duration": 28,
    "start_time": "2021-11-26T20:44:52.059Z"
   },
   {
    "duration": 6,
    "start_time": "2021-11-26T20:45:02.023Z"
   },
   {
    "duration": 37,
    "start_time": "2021-11-26T20:45:05.755Z"
   },
   {
    "duration": 26,
    "start_time": "2021-11-26T20:45:11.007Z"
   },
   {
    "duration": 27,
    "start_time": "2021-11-26T20:45:21.908Z"
   },
   {
    "duration": 42,
    "start_time": "2021-11-26T20:46:25.504Z"
   },
   {
    "duration": 26,
    "start_time": "2021-11-26T20:46:25.971Z"
   },
   {
    "duration": 6,
    "start_time": "2021-11-26T20:52:08.127Z"
   },
   {
    "duration": 37,
    "start_time": "2021-11-26T20:52:11.728Z"
   },
   {
    "duration": 23,
    "start_time": "2021-11-26T20:52:15.096Z"
   },
   {
    "duration": 6,
    "start_time": "2021-11-26T20:53:41.360Z"
   },
   {
    "duration": 41,
    "start_time": "2021-11-26T20:53:43.372Z"
   },
   {
    "duration": 23,
    "start_time": "2021-11-26T20:53:57.208Z"
   },
   {
    "duration": 6,
    "start_time": "2021-11-26T20:54:28.980Z"
   },
   {
    "duration": 37,
    "start_time": "2021-11-26T20:54:32.284Z"
   },
   {
    "duration": 25,
    "start_time": "2021-11-26T20:54:35.532Z"
   },
   {
    "duration": 58,
    "start_time": "2021-11-26T20:54:46.204Z"
   },
   {
    "duration": 24,
    "start_time": "2021-11-26T20:54:48.760Z"
   },
   {
    "duration": 6,
    "start_time": "2021-11-26T20:56:19.132Z"
   },
   {
    "duration": 39,
    "start_time": "2021-11-26T20:56:21.316Z"
   },
   {
    "duration": 24,
    "start_time": "2021-11-26T20:56:24.736Z"
   },
   {
    "duration": 39,
    "start_time": "2021-11-26T20:56:47.080Z"
   },
   {
    "duration": 40,
    "start_time": "2021-11-26T20:56:54.280Z"
   },
   {
    "duration": 6,
    "start_time": "2021-11-26T20:58:33.136Z"
   },
   {
    "duration": 26,
    "start_time": "2021-11-26T20:58:35.616Z"
   },
   {
    "duration": 18,
    "start_time": "2021-11-26T20:58:38.484Z"
   },
   {
    "duration": 23,
    "start_time": "2021-11-26T20:58:41.732Z"
   },
   {
    "duration": 18,
    "start_time": "2021-11-26T20:58:44.060Z"
   },
   {
    "duration": 125,
    "start_time": "2021-11-26T21:05:02.717Z"
   },
   {
    "duration": 8968,
    "start_time": "2021-11-26T21:05:10.441Z"
   },
   {
    "duration": 360,
    "start_time": "2021-11-26T21:05:27.769Z"
   },
   {
    "duration": 368,
    "start_time": "2021-11-26T21:05:46.473Z"
   },
   {
    "duration": 381,
    "start_time": "2021-11-26T21:08:12.109Z"
   },
   {
    "duration": 367,
    "start_time": "2021-11-26T21:09:06.577Z"
   },
   {
    "duration": 382,
    "start_time": "2021-11-26T21:13:58.817Z"
   },
   {
    "duration": 354,
    "start_time": "2021-11-26T21:14:08.442Z"
   },
   {
    "duration": 128,
    "start_time": "2021-11-26T21:15:35.318Z"
   },
   {
    "duration": 134,
    "start_time": "2021-11-26T21:15:40.198Z"
   },
   {
    "duration": 359,
    "start_time": "2021-11-26T21:16:09.546Z"
   },
   {
    "duration": 356,
    "start_time": "2021-11-26T21:21:45.550Z"
   },
   {
    "duration": 7,
    "start_time": "2021-11-26T21:21:59.278Z"
   },
   {
    "duration": 8995,
    "start_time": "2021-11-26T21:22:18.626Z"
   },
   {
    "duration": 9329,
    "start_time": "2021-11-26T21:22:36.026Z"
   },
   {
    "duration": 32,
    "start_time": "2021-11-26T21:23:46.446Z"
   },
   {
    "duration": 40,
    "start_time": "2021-11-26T21:24:10.774Z"
   },
   {
    "duration": 388,
    "start_time": "2021-11-26T21:24:37.614Z"
   },
   {
    "duration": 380,
    "start_time": "2021-11-26T21:24:46.907Z"
   },
   {
    "duration": 380,
    "start_time": "2021-11-26T21:25:24.063Z"
   },
   {
    "duration": 40,
    "start_time": "2021-11-26T21:25:45.552Z"
   },
   {
    "duration": 396,
    "start_time": "2021-11-26T21:25:59.523Z"
   },
   {
    "duration": 42,
    "start_time": "2021-11-26T21:26:12.386Z"
   },
   {
    "duration": 45,
    "start_time": "2021-11-26T21:26:25.079Z"
   },
   {
    "duration": 41,
    "start_time": "2021-11-26T21:26:41.894Z"
   },
   {
    "duration": 30,
    "start_time": "2021-11-26T21:26:55.063Z"
   },
   {
    "duration": 32,
    "start_time": "2021-11-26T21:27:01.715Z"
   },
   {
    "duration": 39,
    "start_time": "2021-11-26T21:27:19.039Z"
   },
   {
    "duration": 14,
    "start_time": "2021-11-26T21:27:46.543Z"
   },
   {
    "duration": 11,
    "start_time": "2021-11-26T21:28:06.747Z"
   },
   {
    "duration": 6,
    "start_time": "2021-11-26T21:28:27.731Z"
   },
   {
    "duration": 8,
    "start_time": "2021-11-26T21:29:09.791Z"
   },
   {
    "duration": 6,
    "start_time": "2021-11-26T21:29:20.975Z"
   },
   {
    "duration": 7,
    "start_time": "2021-11-26T21:32:44.563Z"
   },
   {
    "duration": 7,
    "start_time": "2021-11-26T21:33:04.655Z"
   },
   {
    "duration": 622,
    "start_time": "2021-11-27T16:40:55.249Z"
   },
   {
    "duration": 126,
    "start_time": "2021-11-27T16:40:55.873Z"
   },
   {
    "duration": 17,
    "start_time": "2021-11-27T16:40:56.001Z"
   },
   {
    "duration": 35,
    "start_time": "2021-11-27T16:40:56.020Z"
   },
   {
    "duration": 6,
    "start_time": "2021-11-27T16:40:56.057Z"
   },
   {
    "duration": 29,
    "start_time": "2021-11-27T16:40:56.065Z"
   },
   {
    "duration": 4,
    "start_time": "2021-11-27T16:40:56.096Z"
   },
   {
    "duration": 23,
    "start_time": "2021-11-27T16:40:56.103Z"
   },
   {
    "duration": 20,
    "start_time": "2021-11-27T16:40:56.128Z"
   },
   {
    "duration": 19,
    "start_time": "2021-11-27T16:40:56.150Z"
   },
   {
    "duration": 53,
    "start_time": "2021-11-27T16:40:56.188Z"
   },
   {
    "duration": 80,
    "start_time": "2021-11-27T16:40:56.243Z"
   },
   {
    "duration": 46,
    "start_time": "2021-11-27T16:40:56.325Z"
   },
   {
    "duration": 18,
    "start_time": "2021-11-27T16:40:56.373Z"
   },
   {
    "duration": 4,
    "start_time": "2021-11-27T16:40:56.393Z"
   },
   {
    "duration": 10,
    "start_time": "2021-11-27T16:40:56.399Z"
   },
   {
    "duration": 10,
    "start_time": "2021-11-27T16:40:56.411Z"
   },
   {
    "duration": 11,
    "start_time": "2021-11-27T16:40:56.422Z"
   },
   {
    "duration": 69,
    "start_time": "2021-11-27T16:40:56.435Z"
   },
   {
    "duration": 4,
    "start_time": "2021-11-27T16:40:56.505Z"
   },
   {
    "duration": 23,
    "start_time": "2021-11-27T16:40:56.510Z"
   },
   {
    "duration": 16,
    "start_time": "2021-11-27T16:40:56.535Z"
   },
   {
    "duration": 14,
    "start_time": "2021-11-27T16:40:56.555Z"
   },
   {
    "duration": 13,
    "start_time": "2021-11-27T16:40:56.587Z"
   },
   {
    "duration": 15,
    "start_time": "2021-11-27T16:40:56.601Z"
   },
   {
    "duration": 13,
    "start_time": "2021-11-27T16:40:56.618Z"
   },
   {
    "duration": 7,
    "start_time": "2021-11-27T16:40:56.632Z"
   },
   {
    "duration": 11,
    "start_time": "2021-11-27T16:40:56.640Z"
   },
   {
    "duration": 38,
    "start_time": "2021-11-27T16:40:56.653Z"
   },
   {
    "duration": 9,
    "start_time": "2021-11-27T16:40:56.692Z"
   },
   {
    "duration": 21,
    "start_time": "2021-11-27T16:40:56.702Z"
   },
   {
    "duration": 11,
    "start_time": "2021-11-27T16:40:56.725Z"
   },
   {
    "duration": 14,
    "start_time": "2021-11-27T16:40:56.737Z"
   },
   {
    "duration": 10,
    "start_time": "2021-11-27T16:40:56.752Z"
   },
   {
    "duration": 29,
    "start_time": "2021-11-27T16:40:56.763Z"
   },
   {
    "duration": 8,
    "start_time": "2021-11-27T16:40:56.793Z"
   },
   {
    "duration": 10,
    "start_time": "2021-11-27T16:40:56.802Z"
   },
   {
    "duration": 7,
    "start_time": "2021-11-27T16:40:56.813Z"
   },
   {
    "duration": 627,
    "start_time": "2021-11-27T17:14:30.373Z"
   },
   {
    "duration": 128,
    "start_time": "2021-11-27T17:14:31.002Z"
   },
   {
    "duration": 15,
    "start_time": "2021-11-27T17:14:31.132Z"
   },
   {
    "duration": 27,
    "start_time": "2021-11-27T17:14:31.149Z"
   },
   {
    "duration": 11,
    "start_time": "2021-11-27T17:14:31.177Z"
   },
   {
    "duration": 24,
    "start_time": "2021-11-27T17:14:31.190Z"
   },
   {
    "duration": 17,
    "start_time": "2021-11-27T17:14:31.216Z"
   },
   {
    "duration": 33,
    "start_time": "2021-11-27T17:14:31.236Z"
   },
   {
    "duration": 23,
    "start_time": "2021-11-27T17:14:31.271Z"
   },
   {
    "duration": 23,
    "start_time": "2021-11-27T17:14:31.295Z"
   },
   {
    "duration": 77,
    "start_time": "2021-11-27T17:14:31.320Z"
   },
   {
    "duration": 67,
    "start_time": "2021-11-27T17:14:31.399Z"
   },
   {
    "duration": 60,
    "start_time": "2021-11-27T17:14:31.468Z"
   },
   {
    "duration": 6,
    "start_time": "2021-11-27T17:14:31.529Z"
   },
   {
    "duration": 11,
    "start_time": "2021-11-27T17:14:31.536Z"
   },
   {
    "duration": 18,
    "start_time": "2021-11-27T17:14:31.549Z"
   },
   {
    "duration": 32,
    "start_time": "2021-11-27T17:14:31.568Z"
   },
   {
    "duration": 39,
    "start_time": "2021-11-27T17:14:31.601Z"
   },
   {
    "duration": 55,
    "start_time": "2021-11-27T17:14:31.641Z"
   },
   {
    "duration": 4,
    "start_time": "2021-11-27T17:14:31.698Z"
   },
   {
    "duration": 59,
    "start_time": "2021-11-27T17:14:31.704Z"
   },
   {
    "duration": 24,
    "start_time": "2021-11-27T17:14:31.765Z"
   },
   {
    "duration": 30,
    "start_time": "2021-11-27T17:14:31.793Z"
   },
   {
    "duration": 30,
    "start_time": "2021-11-27T17:14:31.825Z"
   },
   {
    "duration": 35,
    "start_time": "2021-11-27T17:14:31.876Z"
   },
   {
    "duration": 37,
    "start_time": "2021-11-27T17:14:31.913Z"
   },
   {
    "duration": 16,
    "start_time": "2021-11-27T17:14:31.952Z"
   },
   {
    "duration": 32,
    "start_time": "2021-11-27T17:14:31.972Z"
   },
   {
    "duration": 43,
    "start_time": "2021-11-27T17:14:32.011Z"
   },
   {
    "duration": 24,
    "start_time": "2021-11-27T17:14:32.069Z"
   },
   {
    "duration": 24,
    "start_time": "2021-11-27T17:14:32.105Z"
   },
   {
    "duration": 11,
    "start_time": "2021-11-27T17:14:32.131Z"
   },
   {
    "duration": 14,
    "start_time": "2021-11-27T17:14:32.144Z"
   },
   {
    "duration": 12,
    "start_time": "2021-11-27T17:14:32.160Z"
   },
   {
    "duration": 7,
    "start_time": "2021-11-27T17:14:32.173Z"
   },
   {
    "duration": 7,
    "start_time": "2021-11-27T17:14:32.182Z"
   },
   {
    "duration": 12,
    "start_time": "2021-11-27T17:14:32.191Z"
   },
   {
    "duration": 10,
    "start_time": "2021-11-27T17:14:32.204Z"
   },
   {
    "duration": 306,
    "start_time": "2021-11-27T17:55:47.551Z"
   },
   {
    "duration": 246,
    "start_time": "2021-11-27T17:55:59.734Z"
   },
   {
    "duration": 661,
    "start_time": "2021-11-27T17:56:28.267Z"
   },
   {
    "duration": 202,
    "start_time": "2021-11-27T17:56:28.931Z"
   },
   {
    "duration": 34,
    "start_time": "2021-11-27T17:56:29.136Z"
   },
   {
    "duration": 25,
    "start_time": "2021-11-27T18:00:13.411Z"
   },
   {
    "duration": 28,
    "start_time": "2021-11-27T18:04:44.443Z"
   },
   {
    "duration": 5,
    "start_time": "2021-11-27T18:05:12.331Z"
   },
   {
    "duration": 4,
    "start_time": "2021-11-27T18:06:26.544Z"
   },
   {
    "duration": 5,
    "start_time": "2021-11-27T18:06:47.083Z"
   },
   {
    "duration": 25,
    "start_time": "2021-11-27T18:07:18.692Z"
   },
   {
    "duration": 6,
    "start_time": "2021-11-27T18:07:26.584Z"
   },
   {
    "duration": 24,
    "start_time": "2021-11-27T18:07:34.492Z"
   },
   {
    "duration": 33,
    "start_time": "2021-11-27T18:11:53.060Z"
   },
   {
    "duration": 9,
    "start_time": "2021-11-27T18:12:02.865Z"
   },
   {
    "duration": 209,
    "start_time": "2021-11-27T18:12:02.878Z"
   },
   {
    "duration": 16,
    "start_time": "2021-11-27T18:12:03.090Z"
   },
   {
    "duration": 44,
    "start_time": "2021-11-27T18:12:03.108Z"
   },
   {
    "duration": 6,
    "start_time": "2021-11-27T18:12:03.162Z"
   },
   {
    "duration": 33,
    "start_time": "2021-11-27T18:12:03.170Z"
   },
   {
    "duration": 17,
    "start_time": "2021-11-27T18:12:03.206Z"
   },
   {
    "duration": 32,
    "start_time": "2021-11-27T18:12:03.225Z"
   },
   {
    "duration": 32,
    "start_time": "2021-11-27T18:12:03.259Z"
   },
   {
    "duration": 30,
    "start_time": "2021-11-27T18:12:03.294Z"
   },
   {
    "duration": 28,
    "start_time": "2021-11-27T18:12:26.573Z"
   },
   {
    "duration": 65,
    "start_time": "2021-11-27T18:22:27.602Z"
   },
   {
    "duration": 10,
    "start_time": "2021-11-27T18:22:36.818Z"
   },
   {
    "duration": 46,
    "start_time": "2021-11-27T18:22:41.613Z"
   },
   {
    "duration": 10,
    "start_time": "2021-11-27T18:22:51.294Z"
   },
   {
    "duration": 68,
    "start_time": "2021-11-27T18:22:57.314Z"
   },
   {
    "duration": 70,
    "start_time": "2021-11-27T18:26:11.890Z"
   },
   {
    "duration": 12,
    "start_time": "2021-11-27T18:26:39.294Z"
   },
   {
    "duration": 12,
    "start_time": "2021-11-27T18:26:41.729Z"
   },
   {
    "duration": 17,
    "start_time": "2021-11-27T18:27:34.250Z"
   },
   {
    "duration": 2,
    "start_time": "2021-11-27T18:28:03.734Z"
   },
   {
    "duration": 179,
    "start_time": "2021-11-27T18:28:03.738Z"
   },
   {
    "duration": 11,
    "start_time": "2021-11-27T18:28:03.920Z"
   },
   {
    "duration": 31,
    "start_time": "2021-11-27T18:28:03.934Z"
   },
   {
    "duration": 13,
    "start_time": "2021-11-27T18:28:03.966Z"
   },
   {
    "duration": 29,
    "start_time": "2021-11-27T18:28:03.981Z"
   },
   {
    "duration": 4,
    "start_time": "2021-11-27T18:28:04.015Z"
   },
   {
    "duration": 26,
    "start_time": "2021-11-27T18:28:04.021Z"
   },
   {
    "duration": 46,
    "start_time": "2021-11-27T18:28:04.049Z"
   },
   {
    "duration": 26,
    "start_time": "2021-11-27T18:28:04.097Z"
   },
   {
    "duration": 74,
    "start_time": "2021-11-27T18:28:04.124Z"
   },
   {
    "duration": 70,
    "start_time": "2021-11-27T18:28:04.199Z"
   },
   {
    "duration": 65,
    "start_time": "2021-11-27T18:28:04.271Z"
   },
   {
    "duration": 58,
    "start_time": "2021-11-27T18:28:04.338Z"
   },
   {
    "duration": 8,
    "start_time": "2021-11-27T18:28:04.398Z"
   },
   {
    "duration": 15,
    "start_time": "2021-11-27T18:28:04.407Z"
   },
   {
    "duration": 46,
    "start_time": "2021-11-27T18:28:04.424Z"
   },
   {
    "duration": 17,
    "start_time": "2021-11-27T18:28:04.472Z"
   },
   {
    "duration": 88,
    "start_time": "2021-11-27T18:32:21.346Z"
   },
   {
    "duration": 284,
    "start_time": "2021-11-27T18:32:27.394Z"
   },
   {
    "duration": 91,
    "start_time": "2021-11-27T18:32:40.685Z"
   },
   {
    "duration": 83,
    "start_time": "2021-11-27T18:32:47.026Z"
   },
   {
    "duration": 260,
    "start_time": "2021-11-27T18:34:00.158Z"
   },
   {
    "duration": 63,
    "start_time": "2021-11-27T18:35:59.746Z"
   },
   {
    "duration": 13,
    "start_time": "2021-11-27T18:36:14.206Z"
   },
   {
    "duration": 12,
    "start_time": "2021-11-27T18:36:40.695Z"
   },
   {
    "duration": 35,
    "start_time": "2021-11-27T18:39:24.386Z"
   },
   {
    "duration": 89,
    "start_time": "2021-11-27T18:45:12.680Z"
   },
   {
    "duration": 4,
    "start_time": "2021-11-27T18:45:25.651Z"
   },
   {
    "duration": 3,
    "start_time": "2021-11-27T18:45:32.691Z"
   },
   {
    "duration": 237,
    "start_time": "2021-11-27T18:45:32.698Z"
   },
   {
    "duration": 11,
    "start_time": "2021-11-27T18:45:32.937Z"
   },
   {
    "duration": 44,
    "start_time": "2021-11-27T18:45:32.963Z"
   },
   {
    "duration": 5,
    "start_time": "2021-11-27T18:45:33.009Z"
   },
   {
    "duration": 15,
    "start_time": "2021-11-27T18:45:33.016Z"
   },
   {
    "duration": 6,
    "start_time": "2021-11-27T18:45:33.033Z"
   },
   {
    "duration": 63,
    "start_time": "2021-11-27T18:45:33.040Z"
   },
   {
    "duration": 32,
    "start_time": "2021-11-27T18:45:33.106Z"
   },
   {
    "duration": 54,
    "start_time": "2021-11-27T18:45:33.140Z"
   },
   {
    "duration": 85,
    "start_time": "2021-11-27T18:45:33.196Z"
   },
   {
    "duration": 73,
    "start_time": "2021-11-27T18:45:33.286Z"
   },
   {
    "duration": 79,
    "start_time": "2021-11-27T18:45:33.361Z"
   },
   {
    "duration": 66,
    "start_time": "2021-11-27T18:45:33.442Z"
   },
   {
    "duration": 4,
    "start_time": "2021-11-27T18:45:33.510Z"
   },
   {
    "duration": 15,
    "start_time": "2021-11-27T18:45:33.515Z"
   },
   {
    "duration": 71,
    "start_time": "2021-11-27T18:45:33.531Z"
   },
   {
    "duration": 12,
    "start_time": "2021-11-27T18:45:33.604Z"
   },
   {
    "duration": 46,
    "start_time": "2021-11-27T18:45:33.618Z"
   },
   {
    "duration": 2,
    "start_time": "2021-11-27T18:47:20.120Z"
   },
   {
    "duration": 242,
    "start_time": "2021-11-27T18:47:20.124Z"
   },
   {
    "duration": 21,
    "start_time": "2021-11-27T18:47:20.368Z"
   },
   {
    "duration": 30,
    "start_time": "2021-11-27T18:47:20.392Z"
   },
   {
    "duration": 10,
    "start_time": "2021-11-27T18:47:20.424Z"
   },
   {
    "duration": 31,
    "start_time": "2021-11-27T18:47:20.436Z"
   },
   {
    "duration": 6,
    "start_time": "2021-11-27T18:47:20.472Z"
   },
   {
    "duration": 34,
    "start_time": "2021-11-27T18:47:20.481Z"
   },
   {
    "duration": 26,
    "start_time": "2021-11-27T18:47:20.517Z"
   },
   {
    "duration": 50,
    "start_time": "2021-11-27T18:47:20.546Z"
   },
   {
    "duration": 70,
    "start_time": "2021-11-27T18:47:20.599Z"
   },
   {
    "duration": 77,
    "start_time": "2021-11-27T18:47:20.670Z"
   },
   {
    "duration": 67,
    "start_time": "2021-11-27T18:47:20.749Z"
   },
   {
    "duration": 62,
    "start_time": "2021-11-27T18:47:20.818Z"
   },
   {
    "duration": 7,
    "start_time": "2021-11-27T18:47:20.881Z"
   },
   {
    "duration": 14,
    "start_time": "2021-11-27T18:47:20.891Z"
   },
   {
    "duration": 46,
    "start_time": "2021-11-27T18:47:20.907Z"
   },
   {
    "duration": 22,
    "start_time": "2021-11-27T18:47:20.955Z"
   },
   {
    "duration": 39,
    "start_time": "2021-11-27T18:47:20.982Z"
   },
   {
    "duration": 3,
    "start_time": "2021-11-27T18:47:21.024Z"
   },
   {
    "duration": 68,
    "start_time": "2021-11-27T18:47:21.028Z"
   },
   {
    "duration": 18,
    "start_time": "2021-11-27T18:47:21.099Z"
   },
   {
    "duration": 16,
    "start_time": "2021-11-27T18:47:21.120Z"
   },
   {
    "duration": 36,
    "start_time": "2021-11-27T18:47:21.139Z"
   },
   {
    "duration": 28,
    "start_time": "2021-11-27T18:47:21.177Z"
   },
   {
    "duration": 21,
    "start_time": "2021-11-27T18:48:00.367Z"
   },
   {
    "duration": 43,
    "start_time": "2021-11-27T18:48:10.171Z"
   },
   {
    "duration": 21,
    "start_time": "2021-11-27T18:48:29.351Z"
   },
   {
    "duration": 4,
    "start_time": "2021-11-27T18:52:17.556Z"
   },
   {
    "duration": 3,
    "start_time": "2021-11-27T18:52:34.080Z"
   },
   {
    "duration": 161,
    "start_time": "2021-11-27T18:52:34.085Z"
   },
   {
    "duration": 9,
    "start_time": "2021-11-27T18:52:34.248Z"
   },
   {
    "duration": 39,
    "start_time": "2021-11-27T18:52:34.259Z"
   },
   {
    "duration": 7,
    "start_time": "2021-11-27T18:52:34.300Z"
   },
   {
    "duration": 14,
    "start_time": "2021-11-27T18:52:34.309Z"
   },
   {
    "duration": 5,
    "start_time": "2021-11-27T18:52:34.325Z"
   },
   {
    "duration": 32,
    "start_time": "2021-11-27T18:52:34.364Z"
   },
   {
    "duration": 17,
    "start_time": "2021-11-27T18:52:34.398Z"
   },
   {
    "duration": 21,
    "start_time": "2021-11-27T18:52:34.417Z"
   },
   {
    "duration": 82,
    "start_time": "2021-11-27T18:52:34.440Z"
   },
   {
    "duration": 85,
    "start_time": "2021-11-27T18:52:34.524Z"
   },
   {
    "duration": 62,
    "start_time": "2021-11-27T18:52:34.611Z"
   },
   {
    "duration": 49,
    "start_time": "2021-11-27T18:52:34.675Z"
   },
   {
    "duration": 3,
    "start_time": "2021-11-27T18:52:34.726Z"
   },
   {
    "duration": 13,
    "start_time": "2021-11-27T18:52:34.730Z"
   },
   {
    "duration": 64,
    "start_time": "2021-11-27T18:52:34.744Z"
   },
   {
    "duration": 11,
    "start_time": "2021-11-27T18:52:34.809Z"
   },
   {
    "duration": 10,
    "start_time": "2021-11-27T18:52:34.823Z"
   },
   {
    "duration": 3,
    "start_time": "2021-11-27T18:52:34.835Z"
   },
   {
    "duration": 45,
    "start_time": "2021-11-27T18:52:34.839Z"
   },
   {
    "duration": 16,
    "start_time": "2021-11-27T18:52:34.886Z"
   },
   {
    "duration": 15,
    "start_time": "2021-11-27T18:52:34.903Z"
   },
   {
    "duration": 13,
    "start_time": "2021-11-27T18:52:34.920Z"
   },
   {
    "duration": 46,
    "start_time": "2021-11-27T18:52:34.935Z"
   },
   {
    "duration": 17,
    "start_time": "2021-11-27T18:52:34.983Z"
   },
   {
    "duration": 8,
    "start_time": "2021-11-27T18:52:35.002Z"
   },
   {
    "duration": 14,
    "start_time": "2021-11-27T18:52:35.012Z"
   },
   {
    "duration": 40,
    "start_time": "2021-11-27T18:52:35.027Z"
   },
   {
    "duration": 7,
    "start_time": "2021-11-27T18:52:35.069Z"
   },
   {
    "duration": 34,
    "start_time": "2021-11-27T18:52:35.078Z"
   },
   {
    "duration": 13,
    "start_time": "2021-11-27T18:52:35.114Z"
   },
   {
    "duration": 17,
    "start_time": "2021-11-27T18:52:35.128Z"
   },
   {
    "duration": 335,
    "start_time": "2021-11-27T18:54:26.843Z"
   },
   {
    "duration": 3,
    "start_time": "2021-11-27T18:54:32.235Z"
   },
   {
    "duration": 186,
    "start_time": "2021-11-27T18:54:32.241Z"
   },
   {
    "duration": 10,
    "start_time": "2021-11-27T18:54:32.429Z"
   },
   {
    "duration": 48,
    "start_time": "2021-11-27T18:54:32.441Z"
   },
   {
    "duration": 35,
    "start_time": "2021-11-27T18:54:32.491Z"
   },
   {
    "duration": 68,
    "start_time": "2021-11-27T18:54:32.528Z"
   },
   {
    "duration": 29,
    "start_time": "2021-11-27T18:54:32.598Z"
   },
   {
    "duration": 61,
    "start_time": "2021-11-27T18:54:32.629Z"
   },
   {
    "duration": 44,
    "start_time": "2021-11-27T18:54:32.693Z"
   },
   {
    "duration": 28,
    "start_time": "2021-11-27T18:54:32.739Z"
   },
   {
    "duration": 83,
    "start_time": "2021-11-27T18:54:32.769Z"
   },
   {
    "duration": 68,
    "start_time": "2021-11-27T18:54:32.854Z"
   },
   {
    "duration": 64,
    "start_time": "2021-11-27T18:54:32.923Z"
   },
   {
    "duration": 37,
    "start_time": "2021-11-27T18:54:32.989Z"
   },
   {
    "duration": 21,
    "start_time": "2021-11-27T18:54:33.028Z"
   },
   {
    "duration": 60,
    "start_time": "2021-11-27T18:54:33.050Z"
   },
   {
    "duration": 70,
    "start_time": "2021-11-27T18:54:33.111Z"
   },
   {
    "duration": 46,
    "start_time": "2021-11-27T18:54:33.183Z"
   },
   {
    "duration": 52,
    "start_time": "2021-11-27T18:54:33.231Z"
   },
   {
    "duration": 38,
    "start_time": "2021-11-27T18:54:33.285Z"
   },
   {
    "duration": 52,
    "start_time": "2021-11-27T18:54:33.325Z"
   },
   {
    "duration": 43,
    "start_time": "2021-11-27T18:54:33.379Z"
   },
   {
    "duration": 56,
    "start_time": "2021-11-27T18:54:33.424Z"
   },
   {
    "duration": 39,
    "start_time": "2021-11-27T18:54:33.484Z"
   },
   {
    "duration": 26,
    "start_time": "2021-11-27T18:54:33.525Z"
   },
   {
    "duration": 38,
    "start_time": "2021-11-27T18:54:33.553Z"
   },
   {
    "duration": 28,
    "start_time": "2021-11-27T18:54:33.593Z"
   },
   {
    "duration": 60,
    "start_time": "2021-11-27T18:54:33.622Z"
   },
   {
    "duration": 40,
    "start_time": "2021-11-27T18:54:33.684Z"
   },
   {
    "duration": 24,
    "start_time": "2021-11-27T18:54:33.726Z"
   },
   {
    "duration": 89,
    "start_time": "2021-11-27T18:54:33.752Z"
   },
   {
    "duration": 41,
    "start_time": "2021-11-27T18:54:33.843Z"
   },
   {
    "duration": 39,
    "start_time": "2021-11-27T18:54:33.886Z"
   },
   {
    "duration": 14,
    "start_time": "2021-11-27T18:54:33.927Z"
   },
   {
    "duration": 31,
    "start_time": "2021-11-27T18:54:33.943Z"
   },
   {
    "duration": 8,
    "start_time": "2021-11-27T18:54:35.772Z"
   },
   {
    "duration": 240,
    "start_time": "2021-11-27T18:54:55.551Z"
   },
   {
    "duration": 2,
    "start_time": "2021-11-27T18:55:03.236Z"
   },
   {
    "duration": 181,
    "start_time": "2021-11-27T18:55:03.240Z"
   },
   {
    "duration": 10,
    "start_time": "2021-11-27T18:55:03.424Z"
   },
   {
    "duration": 86,
    "start_time": "2021-11-27T18:55:03.437Z"
   },
   {
    "duration": 15,
    "start_time": "2021-11-27T18:55:03.525Z"
   },
   {
    "duration": 41,
    "start_time": "2021-11-27T18:55:03.541Z"
   },
   {
    "duration": 5,
    "start_time": "2021-11-27T18:55:03.584Z"
   },
   {
    "duration": 24,
    "start_time": "2021-11-27T18:55:03.592Z"
   },
   {
    "duration": 16,
    "start_time": "2021-11-27T18:55:03.619Z"
   },
   {
    "duration": 51,
    "start_time": "2021-11-27T18:55:03.637Z"
   },
   {
    "duration": 75,
    "start_time": "2021-11-27T18:55:03.690Z"
   },
   {
    "duration": 67,
    "start_time": "2021-11-27T18:55:03.767Z"
   },
   {
    "duration": 70,
    "start_time": "2021-11-27T18:55:03.836Z"
   },
   {
    "duration": 42,
    "start_time": "2021-11-27T18:55:03.908Z"
   },
   {
    "duration": 4,
    "start_time": "2021-11-27T18:55:03.964Z"
   },
   {
    "duration": 21,
    "start_time": "2021-11-27T18:55:03.970Z"
   },
   {
    "duration": 46,
    "start_time": "2021-11-27T18:55:03.993Z"
   },
   {
    "duration": 15,
    "start_time": "2021-11-27T18:55:04.041Z"
   },
   {
    "duration": 17,
    "start_time": "2021-11-27T18:55:04.058Z"
   },
   {
    "duration": 6,
    "start_time": "2021-11-27T18:55:04.076Z"
   },
   {
    "duration": 33,
    "start_time": "2021-11-27T18:55:04.084Z"
   },
   {
    "duration": 23,
    "start_time": "2021-11-27T18:55:04.120Z"
   },
   {
    "duration": 22,
    "start_time": "2021-11-27T18:55:04.166Z"
   },
   {
    "duration": 13,
    "start_time": "2021-11-27T18:55:04.191Z"
   },
   {
    "duration": 17,
    "start_time": "2021-11-27T18:55:04.206Z"
   },
   {
    "duration": 17,
    "start_time": "2021-11-27T18:55:04.225Z"
   },
   {
    "duration": 14,
    "start_time": "2021-11-27T18:55:04.266Z"
   },
   {
    "duration": 16,
    "start_time": "2021-11-27T18:55:04.282Z"
   },
   {
    "duration": 13,
    "start_time": "2021-11-27T18:55:04.300Z"
   },
   {
    "duration": 9,
    "start_time": "2021-11-27T18:55:04.315Z"
   },
   {
    "duration": 32,
    "start_time": "2021-11-27T18:55:04.325Z"
   },
   {
    "duration": 15,
    "start_time": "2021-11-27T18:55:04.359Z"
   },
   {
    "duration": 20,
    "start_time": "2021-11-27T18:55:04.376Z"
   },
   {
    "duration": 12,
    "start_time": "2021-11-27T18:55:04.398Z"
   },
   {
    "duration": 10,
    "start_time": "2021-11-27T18:55:04.411Z"
   },
   {
    "duration": 11,
    "start_time": "2021-11-27T18:55:04.423Z"
   },
   {
    "duration": 8,
    "start_time": "2021-11-27T18:55:04.464Z"
   },
   {
    "duration": 6,
    "start_time": "2021-11-27T18:55:06.919Z"
   },
   {
    "duration": 550,
    "start_time": "2021-11-27T21:25:35.002Z"
   },
   {
    "duration": 133,
    "start_time": "2021-11-27T21:25:35.553Z"
   },
   {
    "duration": 14,
    "start_time": "2021-11-27T21:25:35.688Z"
   },
   {
    "duration": 33,
    "start_time": "2021-11-27T21:25:35.704Z"
   },
   {
    "duration": 17,
    "start_time": "2021-11-27T21:25:35.738Z"
   },
   {
    "duration": 30,
    "start_time": "2021-11-27T21:25:35.756Z"
   },
   {
    "duration": 5,
    "start_time": "2021-11-27T21:25:35.788Z"
   },
   {
    "duration": 34,
    "start_time": "2021-11-27T21:25:35.795Z"
   },
   {
    "duration": 15,
    "start_time": "2021-11-27T21:25:35.831Z"
   },
   {
    "duration": 24,
    "start_time": "2021-11-27T21:25:35.848Z"
   },
   {
    "duration": 64,
    "start_time": "2021-11-27T21:25:35.873Z"
   },
   {
    "duration": 60,
    "start_time": "2021-11-27T21:25:35.938Z"
   },
   {
    "duration": 46,
    "start_time": "2021-11-27T21:25:36.000Z"
   },
   {
    "duration": 49,
    "start_time": "2021-11-27T21:25:36.048Z"
   },
   {
    "duration": 11,
    "start_time": "2021-11-27T21:25:36.099Z"
   },
   {
    "duration": 20,
    "start_time": "2021-11-27T21:25:36.112Z"
   },
   {
    "duration": 41,
    "start_time": "2021-11-27T21:25:36.133Z"
   },
   {
    "duration": 12,
    "start_time": "2021-11-27T21:25:36.176Z"
   },
   {
    "duration": 18,
    "start_time": "2021-11-27T21:25:36.190Z"
   },
   {
    "duration": 4,
    "start_time": "2021-11-27T21:25:36.210Z"
   },
   {
    "duration": 25,
    "start_time": "2021-11-27T21:25:36.215Z"
   },
   {
    "duration": 20,
    "start_time": "2021-11-27T21:25:36.242Z"
   },
   {
    "duration": 19,
    "start_time": "2021-11-27T21:25:36.266Z"
   },
   {
    "duration": 15,
    "start_time": "2021-11-27T21:25:36.287Z"
   },
   {
    "duration": 18,
    "start_time": "2021-11-27T21:25:36.303Z"
   },
   {
    "duration": 12,
    "start_time": "2021-11-27T21:25:36.323Z"
   },
   {
    "duration": 13,
    "start_time": "2021-11-27T21:25:36.336Z"
   },
   {
    "duration": 23,
    "start_time": "2021-11-27T21:25:36.350Z"
   },
   {
    "duration": 8,
    "start_time": "2021-11-27T21:25:36.374Z"
   },
   {
    "duration": 6,
    "start_time": "2021-11-27T21:25:36.383Z"
   },
   {
    "duration": 40,
    "start_time": "2021-11-27T21:25:36.391Z"
   },
   {
    "duration": 17,
    "start_time": "2021-11-27T21:25:36.433Z"
   },
   {
    "duration": 14,
    "start_time": "2021-11-27T21:25:36.452Z"
   },
   {
    "duration": 14,
    "start_time": "2021-11-27T21:25:36.467Z"
   },
   {
    "duration": 10,
    "start_time": "2021-11-27T21:25:36.482Z"
   },
   {
    "duration": 26,
    "start_time": "2021-11-27T21:25:36.493Z"
   },
   {
    "duration": 26,
    "start_time": "2021-11-27T21:25:36.520Z"
   },
   {
    "duration": 26,
    "start_time": "2021-11-27T21:25:36.547Z"
   }
  ],
  "colab": {
   "collapsed_sections": [
    "E0vqbgi9ay0H",
    "VUC88oWjTJw2"
   ],
   "name": "yandex_music_project_2021.2.ipynb",
   "provenance": []
  },
  "kernelspec": {
   "display_name": "Python 3 (ipykernel)",
   "language": "python",
   "name": "python3"
  },
  "language_info": {
   "codemirror_mode": {
    "name": "ipython",
    "version": 3
   },
   "file_extension": ".py",
   "mimetype": "text/x-python",
   "name": "python",
   "nbconvert_exporter": "python",
   "pygments_lexer": "ipython3",
   "version": "3.9.7"
  },
  "toc": {
   "base_numbering": 1,
   "nav_menu": {},
   "number_sections": true,
   "sideBar": true,
   "skip_h1_title": true,
   "title_cell": "Table of Contents",
   "title_sidebar": "Contents",
   "toc_cell": false,
   "toc_position": {
    "height": "calc(100% - 180px)",
    "left": "10px",
    "top": "150px",
    "width": "165px"
   },
   "toc_section_display": true,
   "toc_window_display": true
  }
 },
 "nbformat": 4,
 "nbformat_minor": 1
}
