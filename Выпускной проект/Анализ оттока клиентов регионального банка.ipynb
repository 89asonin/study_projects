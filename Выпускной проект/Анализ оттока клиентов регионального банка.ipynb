{
 "cells": [
  {
   "cell_type": "markdown",
   "metadata": {},
   "source": [
    "## Материалы\n",
    "* [Дашборд] (https://public.tableau.com/app/profile/aleksei.sonin/viz/Book2_16544365023150/sheet1)\n",
    "* [Презентация] (https://drive.google.com/file/d/18NjKXyJ0bL3PAmA3IzAvAvjYjKvFOnWT/view?usp=sharing)"
   ]
  },
  {
   "cell_type": "code",
   "execution_count": 25,
   "metadata": {},
   "outputs": [],
   "source": [
    "import warnings\n",
    "warnings.filterwarnings('ignore')\n",
    "import pandas as pd\n",
    "import numpy as np\n",
    "import matplotlib.pyplot as plt\n",
    "import seaborn as sns\n",
    "from scipy import stats as st\n",
    "import math as mth"
   ]
  },
  {
   "cell_type": "markdown",
   "metadata": {},
   "source": [
    "# Введение\n",
    "\n",
    "\n",
    "\n",
    "**Исследование клиентов регионального банка**\n",
    "\n",
    "---\n",
    "**Описание исследования:**\n",
    "\n",
    "Анализ оттока клиентов, который покажет, как клиенты пользуются услугами банка, а так же поможет составить портрет клиентов, которые склонны уходить.\n",
    "\n",
    "**Цель исследования.**\n",
    "\n",
    "1) выделить сегменты, склонные к оттоку;    \n",
    "2) предложить меры по снижению оттока;  \n",
    "3) проверить статистические гипотезы.  \n",
    "---\n",
    "\n",
    "**Задачи исследования.**\n",
    "\n",
    "- Изучить источник данных;\n",
    "- Выполнить предобработку, если это необходимо;\n",
    "- Провести исследовательский анализ;\n",
    "- Выделить портреты пользователей;\n",
    "- Сформулировать и проверить статистические гипотезы\n",
    "\n",
    "---\n",
    "\n",
    "**Исходные данные.**\n",
    "\n",
    "Датасет содержит данные о клиентах банка «Метанпром». Банк располагается в Ярославле и областных городах: Ростов Великий и Рыбинск.\n",
    "\n",
    "`userid` — идентификатор пользователя;  \n",
    " \n",
    "`score` — баллы кредитного скоринга;  \n",
    "\n",
    "`City` — город; \n",
    "\n",
    "`Gender` — пол;  \n",
    "\n",
    "`Age` — возраст;  \n",
    "\n",
    "`Objects` — количество объектов в собственности;  \n",
    "\n",
    "`Balance` — баланс на счёте;  \n",
    "\n",
    "`Products` — количество продуктов, которыми пользуется клиент;  \n",
    "\n",
    "`CreditCard` — есть ли кредитная карта:\n",
    "\n",
    "\n",
    "`Loyalty` — активный клиент;  \n",
    "\n",
    "`estimated_salary` — заработная плата клиента;  \n",
    "\n",
    "`Churn` — ушёл или нет;  \n",
    "\n",
    "\n",
    "---\n",
    "**План работы**\n",
    "\n",
    "Часть 1. Изучение данных.\n",
    "Открываем файл и ознакамливаемся с данными и их структурой.\n",
    "\n",
    "Часть 2. Предобработка и подготовка данных к анализу.\n",
    "\n",
    "Часть 3. Исследовательский анализ. \n",
    "    Изучение распределений признаков по выборке.\n",
    "    Портрет клиентов, склонных к уходу из банка.\n",
    "\n",
    "Часть 4. Проверка гипотез.\n",
    "    Сравнение среднего дохода клиентов, попавших в отток и оставшихся.\n",
    "    Сравнение долей клиентов, оформивших кредитную карту среди ушедших и оставшихся.\n",
    "\n",
    "Часть 5. Вывод. "
   ]
  },
  {
   "cell_type": "markdown",
   "metadata": {},
   "source": [
    "## Изучение данных"
   ]
  },
  {
   "cell_type": "markdown",
   "metadata": {},
   "source": [
    "Составим первое впечатление о данных. Считаем датасет и сохраним его в переменной `df`. Выведем на экран 20 случайных строк и общую информацию о таблице."
   ]
  },
  {
   "cell_type": "code",
   "execution_count": 26,
   "metadata": {},
   "outputs": [
    {
     "name": "stdout",
     "output_type": "stream",
     "text": [
      "<class 'pandas.core.frame.DataFrame'>\n",
      "RangeIndex: 10000 entries, 0 to 9999\n",
      "Data columns (total 12 columns):\n",
      " #   Column            Non-Null Count  Dtype  \n",
      "---  ------            --------------  -----  \n",
      " 0   userid            10000 non-null  int64  \n",
      " 1   score             10000 non-null  int64  \n",
      " 2   City              10000 non-null  object \n",
      " 3   Gender            10000 non-null  object \n",
      " 4   Age               10000 non-null  int64  \n",
      " 5   Objects           10000 non-null  int64  \n",
      " 6   Balance           6383 non-null   float64\n",
      " 7   Products          10000 non-null  int64  \n",
      " 8   CreditCard        10000 non-null  int64  \n",
      " 9   Loyalty           10000 non-null  int64  \n",
      " 10  estimated_salary  10000 non-null  float64\n",
      " 11  Churn             10000 non-null  int64  \n",
      "dtypes: float64(2), int64(8), object(2)\n",
      "memory usage: 937.6+ KB\n",
      "None\n"
     ]
    },
    {
     "data": {
      "text/html": [
       "<div>\n",
       "<style scoped>\n",
       "    .dataframe tbody tr th:only-of-type {\n",
       "        vertical-align: middle;\n",
       "    }\n",
       "\n",
       "    .dataframe tbody tr th {\n",
       "        vertical-align: top;\n",
       "    }\n",
       "\n",
       "    .dataframe thead th {\n",
       "        text-align: right;\n",
       "    }\n",
       "</style>\n",
       "<table border=\"1\" class=\"dataframe\">\n",
       "  <thead>\n",
       "    <tr style=\"text-align: right;\">\n",
       "      <th></th>\n",
       "      <th>userid</th>\n",
       "      <th>score</th>\n",
       "      <th>City</th>\n",
       "      <th>Gender</th>\n",
       "      <th>Age</th>\n",
       "      <th>Objects</th>\n",
       "      <th>Balance</th>\n",
       "      <th>Products</th>\n",
       "      <th>CreditCard</th>\n",
       "      <th>Loyalty</th>\n",
       "      <th>estimated_salary</th>\n",
       "      <th>Churn</th>\n",
       "    </tr>\n",
       "  </thead>\n",
       "  <tbody>\n",
       "    <tr>\n",
       "      <th>2574</th>\n",
       "      <td>15731427</td>\n",
       "      <td>665</td>\n",
       "      <td>Ростов Великий</td>\n",
       "      <td>Ж</td>\n",
       "      <td>51</td>\n",
       "      <td>9</td>\n",
       "      <td>110610.41</td>\n",
       "      <td>2</td>\n",
       "      <td>0</td>\n",
       "      <td>1</td>\n",
       "      <td>1112.76</td>\n",
       "      <td>1</td>\n",
       "    </tr>\n",
       "    <tr>\n",
       "      <th>9777</th>\n",
       "      <td>15820479</td>\n",
       "      <td>705</td>\n",
       "      <td>Ярославль</td>\n",
       "      <td>Ж</td>\n",
       "      <td>39</td>\n",
       "      <td>3</td>\n",
       "      <td>92224.56</td>\n",
       "      <td>1</td>\n",
       "      <td>1</td>\n",
       "      <td>1</td>\n",
       "      <td>54517.25</td>\n",
       "      <td>0</td>\n",
       "    </tr>\n",
       "    <tr>\n",
       "      <th>5371</th>\n",
       "      <td>15623437</td>\n",
       "      <td>712</td>\n",
       "      <td>Ярославль</td>\n",
       "      <td>М</td>\n",
       "      <td>33</td>\n",
       "      <td>3</td>\n",
       "      <td>153819.58</td>\n",
       "      <td>1</td>\n",
       "      <td>1</td>\n",
       "      <td>0</td>\n",
       "      <td>79176.09</td>\n",
       "      <td>1</td>\n",
       "    </tr>\n",
       "    <tr>\n",
       "      <th>1778</th>\n",
       "      <td>15791683</td>\n",
       "      <td>657</td>\n",
       "      <td>Ярославль</td>\n",
       "      <td>Ж</td>\n",
       "      <td>41</td>\n",
       "      <td>5</td>\n",
       "      <td>95858.37</td>\n",
       "      <td>1</td>\n",
       "      <td>1</td>\n",
       "      <td>1</td>\n",
       "      <td>68255.88</td>\n",
       "      <td>0</td>\n",
       "    </tr>\n",
       "    <tr>\n",
       "      <th>1793</th>\n",
       "      <td>15820658</td>\n",
       "      <td>629</td>\n",
       "      <td>Рыбинск</td>\n",
       "      <td>М</td>\n",
       "      <td>36</td>\n",
       "      <td>1</td>\n",
       "      <td>161757.87</td>\n",
       "      <td>2</td>\n",
       "      <td>1</td>\n",
       "      <td>1</td>\n",
       "      <td>146371.72</td>\n",
       "      <td>0</td>\n",
       "    </tr>\n",
       "    <tr>\n",
       "      <th>8664</th>\n",
       "      <td>15709068</td>\n",
       "      <td>690</td>\n",
       "      <td>Рыбинск</td>\n",
       "      <td>Ж</td>\n",
       "      <td>48</td>\n",
       "      <td>2</td>\n",
       "      <td>NaN</td>\n",
       "      <td>2</td>\n",
       "      <td>1</td>\n",
       "      <td>1</td>\n",
       "      <td>3149.10</td>\n",
       "      <td>0</td>\n",
       "    </tr>\n",
       "    <tr>\n",
       "      <th>7507</th>\n",
       "      <td>15684737</td>\n",
       "      <td>576</td>\n",
       "      <td>Ростов Великий</td>\n",
       "      <td>М</td>\n",
       "      <td>44</td>\n",
       "      <td>9</td>\n",
       "      <td>119530.52</td>\n",
       "      <td>1</td>\n",
       "      <td>1</td>\n",
       "      <td>0</td>\n",
       "      <td>119056.68</td>\n",
       "      <td>1</td>\n",
       "    </tr>\n",
       "    <tr>\n",
       "      <th>8354</th>\n",
       "      <td>15712730</td>\n",
       "      <td>556</td>\n",
       "      <td>Ростов Великий</td>\n",
       "      <td>Ж</td>\n",
       "      <td>31</td>\n",
       "      <td>1</td>\n",
       "      <td>128663.81</td>\n",
       "      <td>2</td>\n",
       "      <td>1</td>\n",
       "      <td>0</td>\n",
       "      <td>125083.29</td>\n",
       "      <td>0</td>\n",
       "    </tr>\n",
       "    <tr>\n",
       "      <th>9198</th>\n",
       "      <td>15713002</td>\n",
       "      <td>499</td>\n",
       "      <td>Ярославль</td>\n",
       "      <td>Ж</td>\n",
       "      <td>28</td>\n",
       "      <td>4</td>\n",
       "      <td>141792.61</td>\n",
       "      <td>1</td>\n",
       "      <td>1</td>\n",
       "      <td>1</td>\n",
       "      <td>22001.91</td>\n",
       "      <td>0</td>\n",
       "    </tr>\n",
       "    <tr>\n",
       "      <th>4200</th>\n",
       "      <td>15794679</td>\n",
       "      <td>529</td>\n",
       "      <td>Рыбинск</td>\n",
       "      <td>Ж</td>\n",
       "      <td>43</td>\n",
       "      <td>5</td>\n",
       "      <td>NaN</td>\n",
       "      <td>2</td>\n",
       "      <td>0</td>\n",
       "      <td>0</td>\n",
       "      <td>79476.63</td>\n",
       "      <td>0</td>\n",
       "    </tr>\n",
       "    <tr>\n",
       "      <th>3600</th>\n",
       "      <td>15616335</td>\n",
       "      <td>506</td>\n",
       "      <td>Ярославль</td>\n",
       "      <td>Ж</td>\n",
       "      <td>57</td>\n",
       "      <td>6</td>\n",
       "      <td>NaN</td>\n",
       "      <td>2</td>\n",
       "      <td>0</td>\n",
       "      <td>1</td>\n",
       "      <td>194421.12</td>\n",
       "      <td>1</td>\n",
       "    </tr>\n",
       "    <tr>\n",
       "      <th>4930</th>\n",
       "      <td>15612406</td>\n",
       "      <td>627</td>\n",
       "      <td>Ростов Великий</td>\n",
       "      <td>М</td>\n",
       "      <td>30</td>\n",
       "      <td>6</td>\n",
       "      <td>112372.96</td>\n",
       "      <td>1</td>\n",
       "      <td>1</td>\n",
       "      <td>1</td>\n",
       "      <td>118029.09</td>\n",
       "      <td>0</td>\n",
       "    </tr>\n",
       "    <tr>\n",
       "      <th>3528</th>\n",
       "      <td>15655505</td>\n",
       "      <td>692</td>\n",
       "      <td>Ярославль</td>\n",
       "      <td>М</td>\n",
       "      <td>28</td>\n",
       "      <td>5</td>\n",
       "      <td>61581.97</td>\n",
       "      <td>1</td>\n",
       "      <td>1</td>\n",
       "      <td>1</td>\n",
       "      <td>70179.91</td>\n",
       "      <td>0</td>\n",
       "    </tr>\n",
       "    <tr>\n",
       "      <th>5505</th>\n",
       "      <td>15845202</td>\n",
       "      <td>534</td>\n",
       "      <td>Ярославль</td>\n",
       "      <td>Ж</td>\n",
       "      <td>53</td>\n",
       "      <td>7</td>\n",
       "      <td>NaN</td>\n",
       "      <td>2</td>\n",
       "      <td>1</td>\n",
       "      <td>1</td>\n",
       "      <td>80619.17</td>\n",
       "      <td>0</td>\n",
       "    </tr>\n",
       "    <tr>\n",
       "      <th>8744</th>\n",
       "      <td>15734642</td>\n",
       "      <td>664</td>\n",
       "      <td>Ростов Великий</td>\n",
       "      <td>Ж</td>\n",
       "      <td>49</td>\n",
       "      <td>5</td>\n",
       "      <td>127421.78</td>\n",
       "      <td>2</td>\n",
       "      <td>1</td>\n",
       "      <td>0</td>\n",
       "      <td>108876.75</td>\n",
       "      <td>1</td>\n",
       "    </tr>\n",
       "    <tr>\n",
       "      <th>3971</th>\n",
       "      <td>15833545</td>\n",
       "      <td>685</td>\n",
       "      <td>Рыбинск</td>\n",
       "      <td>М</td>\n",
       "      <td>40</td>\n",
       "      <td>7</td>\n",
       "      <td>74896.92</td>\n",
       "      <td>1</td>\n",
       "      <td>1</td>\n",
       "      <td>0</td>\n",
       "      <td>198694.20</td>\n",
       "      <td>0</td>\n",
       "    </tr>\n",
       "    <tr>\n",
       "      <th>4681</th>\n",
       "      <td>15785707</td>\n",
       "      <td>708</td>\n",
       "      <td>Ярославль</td>\n",
       "      <td>Ж</td>\n",
       "      <td>44</td>\n",
       "      <td>2</td>\n",
       "      <td>161887.81</td>\n",
       "      <td>2</td>\n",
       "      <td>1</td>\n",
       "      <td>0</td>\n",
       "      <td>84870.23</td>\n",
       "      <td>0</td>\n",
       "    </tr>\n",
       "    <tr>\n",
       "      <th>9896</th>\n",
       "      <td>15632156</td>\n",
       "      <td>795</td>\n",
       "      <td>Ярославль</td>\n",
       "      <td>Ж</td>\n",
       "      <td>40</td>\n",
       "      <td>2</td>\n",
       "      <td>101891.10</td>\n",
       "      <td>1</td>\n",
       "      <td>1</td>\n",
       "      <td>1</td>\n",
       "      <td>183044.86</td>\n",
       "      <td>0</td>\n",
       "    </tr>\n",
       "    <tr>\n",
       "      <th>5793</th>\n",
       "      <td>15827626</td>\n",
       "      <td>763</td>\n",
       "      <td>Рыбинск</td>\n",
       "      <td>Ж</td>\n",
       "      <td>32</td>\n",
       "      <td>8</td>\n",
       "      <td>NaN</td>\n",
       "      <td>2</td>\n",
       "      <td>1</td>\n",
       "      <td>0</td>\n",
       "      <td>16725.53</td>\n",
       "      <td>0</td>\n",
       "    </tr>\n",
       "    <tr>\n",
       "      <th>4902</th>\n",
       "      <td>15677227</td>\n",
       "      <td>652</td>\n",
       "      <td>Ярославль</td>\n",
       "      <td>М</td>\n",
       "      <td>30</td>\n",
       "      <td>2</td>\n",
       "      <td>176166.56</td>\n",
       "      <td>2</td>\n",
       "      <td>1</td>\n",
       "      <td>1</td>\n",
       "      <td>152210.81</td>\n",
       "      <td>0</td>\n",
       "    </tr>\n",
       "  </tbody>\n",
       "</table>\n",
       "</div>"
      ],
      "text/plain": [
       "        userid  score            City Gender  Age  Objects    Balance  \\\n",
       "2574  15731427    665  Ростов Великий      Ж   51        9  110610.41   \n",
       "9777  15820479    705       Ярославль      Ж   39        3   92224.56   \n",
       "5371  15623437    712       Ярославль      М   33        3  153819.58   \n",
       "1778  15791683    657       Ярославль      Ж   41        5   95858.37   \n",
       "1793  15820658    629         Рыбинск      М   36        1  161757.87   \n",
       "8664  15709068    690         Рыбинск      Ж   48        2        NaN   \n",
       "7507  15684737    576  Ростов Великий      М   44        9  119530.52   \n",
       "8354  15712730    556  Ростов Великий      Ж   31        1  128663.81   \n",
       "9198  15713002    499       Ярославль      Ж   28        4  141792.61   \n",
       "4200  15794679    529         Рыбинск      Ж   43        5        NaN   \n",
       "3600  15616335    506       Ярославль      Ж   57        6        NaN   \n",
       "4930  15612406    627  Ростов Великий      М   30        6  112372.96   \n",
       "3528  15655505    692       Ярославль      М   28        5   61581.97   \n",
       "5505  15845202    534       Ярославль      Ж   53        7        NaN   \n",
       "8744  15734642    664  Ростов Великий      Ж   49        5  127421.78   \n",
       "3971  15833545    685         Рыбинск      М   40        7   74896.92   \n",
       "4681  15785707    708       Ярославль      Ж   44        2  161887.81   \n",
       "9896  15632156    795       Ярославль      Ж   40        2  101891.10   \n",
       "5793  15827626    763         Рыбинск      Ж   32        8        NaN   \n",
       "4902  15677227    652       Ярославль      М   30        2  176166.56   \n",
       "\n",
       "      Products  CreditCard  Loyalty  estimated_salary  Churn  \n",
       "2574         2           0        1           1112.76      1  \n",
       "9777         1           1        1          54517.25      0  \n",
       "5371         1           1        0          79176.09      1  \n",
       "1778         1           1        1          68255.88      0  \n",
       "1793         2           1        1         146371.72      0  \n",
       "8664         2           1        1           3149.10      0  \n",
       "7507         1           1        0         119056.68      1  \n",
       "8354         2           1        0         125083.29      0  \n",
       "9198         1           1        1          22001.91      0  \n",
       "4200         2           0        0          79476.63      0  \n",
       "3600         2           0        1         194421.12      1  \n",
       "4930         1           1        1         118029.09      0  \n",
       "3528         1           1        1          70179.91      0  \n",
       "5505         2           1        1          80619.17      0  \n",
       "8744         2           1        0         108876.75      1  \n",
       "3971         1           1        0         198694.20      0  \n",
       "4681         2           1        0          84870.23      0  \n",
       "9896         1           1        1         183044.86      0  \n",
       "5793         2           1        0          16725.53      0  \n",
       "4902         2           1        1         152210.81      0  "
      ]
     },
     "execution_count": 26,
     "metadata": {},
     "output_type": "execute_result"
    }
   ],
   "source": [
    "df = pd.read_csv(***)\n",
    "print(df.info())\n",
    "df.sample(20)"
   ]
  },
  {
   "cell_type": "markdown",
   "metadata": {},
   "source": [
    "В столбце с балансом видны пропуски, посчитаем сколько процентов они составляют от всего столбца:"
   ]
  },
  {
   "cell_type": "code",
   "execution_count": 27,
   "metadata": {},
   "outputs": [
    {
     "data": {
      "text/plain": [
       "36.17"
      ]
     },
     "execution_count": 27,
     "metadata": {},
     "output_type": "execute_result"
    }
   ],
   "source": [
    "df.Balance.isna().sum()/df.shape[0]*100 "
   ]
  },
  {
   "cell_type": "markdown",
   "metadata": {},
   "source": [
    "Датасет содержит данные о клиентах банка.   \n",
    "Данные представлены на 10000  строках в 12 столбцах. Типы данных указаны корректно. \n",
    "В столбце `Balance` пропущено 3617 значений, что превышает 36% от общего количества. В остальных столбцах пропуски отсутствуют.\n",
    "Названия столбцов лучше привести к змеиному регистру."
   ]
  },
  {
   "cell_type": "markdown",
   "metadata": {},
   "source": [
    "### Вывод"
   ]
  },
  {
   "cell_type": "markdown",
   "metadata": {},
   "source": [
    "Можно утверждать, что, данных достаточно для анализа. Выявлены пропуски.\n",
    "\n",
    "Необходимо более детально изучить данные и избавиться от проблем, прежде чем приступить к анализу."
   ]
  },
  {
   "cell_type": "markdown",
   "metadata": {},
   "source": [
    "## Предобработка данных"
   ]
  },
  {
   "cell_type": "markdown",
   "metadata": {},
   "source": [
    "Почти все столбцы написаны с большой буквы и у двух столбцов два слова написаны слитно. Проще будет заменить буквы всех столбцов на строчные, а затем уже добавить нижнее подчёркивание:"
   ]
  },
  {
   "cell_type": "code",
   "execution_count": 28,
   "metadata": {},
   "outputs": [
    {
     "data": {
      "text/plain": [
       "Index(['user_id', 'score', 'city', 'gender', 'age', 'objects', 'balance',\n",
       "       'products', 'credit_card', 'loyalty', 'estimated_salary', 'churn'],\n",
       "      dtype='object')"
      ]
     },
     "execution_count": 28,
     "metadata": {},
     "output_type": "execute_result"
    }
   ],
   "source": [
    "df.columns = df.columns.str.lower()\n",
    "df.rename(columns={'userid':'user_id', 'creditcard':'credit_card'}, inplace=True)\n",
    "df.columns"
   ]
  },
  {
   "cell_type": "markdown",
   "metadata": {},
   "source": [
    "Код отработал корректно. \n",
    "\n",
    "---\n",
    "Проверим дубликаты:"
   ]
  },
  {
   "cell_type": "code",
   "execution_count": 29,
   "metadata": {
    "scrolled": false
   },
   "outputs": [
    {
     "data": {
      "text/plain": [
       "0"
      ]
     },
     "execution_count": 29,
     "metadata": {},
     "output_type": "execute_result"
    }
   ],
   "source": [
    "df.duplicated().sum()"
   ]
  },
  {
   "cell_type": "markdown",
   "metadata": {},
   "source": [
    "Дубликатов не обнаружено. Теперь посмотрим на данные с пропусками в столбце с балансом:"
   ]
  },
  {
   "cell_type": "code",
   "execution_count": 30,
   "metadata": {
    "scrolled": false
   },
   "outputs": [
    {
     "data": {
      "text/html": [
       "<div>\n",
       "<style scoped>\n",
       "    .dataframe tbody tr th:only-of-type {\n",
       "        vertical-align: middle;\n",
       "    }\n",
       "\n",
       "    .dataframe tbody tr th {\n",
       "        vertical-align: top;\n",
       "    }\n",
       "\n",
       "    .dataframe thead th {\n",
       "        text-align: right;\n",
       "    }\n",
       "</style>\n",
       "<table border=\"1\" class=\"dataframe\">\n",
       "  <thead>\n",
       "    <tr style=\"text-align: right;\">\n",
       "      <th></th>\n",
       "      <th>user_id</th>\n",
       "      <th>score</th>\n",
       "      <th>city</th>\n",
       "      <th>gender</th>\n",
       "      <th>age</th>\n",
       "      <th>objects</th>\n",
       "      <th>balance</th>\n",
       "      <th>products</th>\n",
       "      <th>credit_card</th>\n",
       "      <th>loyalty</th>\n",
       "      <th>estimated_salary</th>\n",
       "      <th>churn</th>\n",
       "    </tr>\n",
       "  </thead>\n",
       "  <tbody>\n",
       "    <tr>\n",
       "      <th>0</th>\n",
       "      <td>15677338</td>\n",
       "      <td>619</td>\n",
       "      <td>Ярославль</td>\n",
       "      <td>Ж</td>\n",
       "      <td>42</td>\n",
       "      <td>2</td>\n",
       "      <td>NaN</td>\n",
       "      <td>1</td>\n",
       "      <td>1</td>\n",
       "      <td>1</td>\n",
       "      <td>101348.88</td>\n",
       "      <td>1</td>\n",
       "    </tr>\n",
       "    <tr>\n",
       "      <th>3</th>\n",
       "      <td>15744090</td>\n",
       "      <td>699</td>\n",
       "      <td>Ярославль</td>\n",
       "      <td>Ж</td>\n",
       "      <td>39</td>\n",
       "      <td>1</td>\n",
       "      <td>NaN</td>\n",
       "      <td>2</td>\n",
       "      <td>0</td>\n",
       "      <td>0</td>\n",
       "      <td>93826.63</td>\n",
       "      <td>0</td>\n",
       "    </tr>\n",
       "    <tr>\n",
       "      <th>6</th>\n",
       "      <td>15635267</td>\n",
       "      <td>822</td>\n",
       "      <td>Ярославль</td>\n",
       "      <td>М</td>\n",
       "      <td>50</td>\n",
       "      <td>7</td>\n",
       "      <td>NaN</td>\n",
       "      <td>2</td>\n",
       "      <td>1</td>\n",
       "      <td>1</td>\n",
       "      <td>10062.80</td>\n",
       "      <td>0</td>\n",
       "    </tr>\n",
       "    <tr>\n",
       "      <th>11</th>\n",
       "      <td>15779909</td>\n",
       "      <td>497</td>\n",
       "      <td>Рыбинск</td>\n",
       "      <td>М</td>\n",
       "      <td>24</td>\n",
       "      <td>3</td>\n",
       "      <td>NaN</td>\n",
       "      <td>2</td>\n",
       "      <td>1</td>\n",
       "      <td>0</td>\n",
       "      <td>76390.01</td>\n",
       "      <td>0</td>\n",
       "    </tr>\n",
       "    <tr>\n",
       "      <th>12</th>\n",
       "      <td>15675000</td>\n",
       "      <td>476</td>\n",
       "      <td>Ярославль</td>\n",
       "      <td>Ж</td>\n",
       "      <td>34</td>\n",
       "      <td>10</td>\n",
       "      <td>NaN</td>\n",
       "      <td>2</td>\n",
       "      <td>1</td>\n",
       "      <td>0</td>\n",
       "      <td>26260.98</td>\n",
       "      <td>0</td>\n",
       "    </tr>\n",
       "    <tr>\n",
       "      <th>13</th>\n",
       "      <td>15734219</td>\n",
       "      <td>549</td>\n",
       "      <td>Ярославль</td>\n",
       "      <td>Ж</td>\n",
       "      <td>25</td>\n",
       "      <td>5</td>\n",
       "      <td>NaN</td>\n",
       "      <td>2</td>\n",
       "      <td>0</td>\n",
       "      <td>0</td>\n",
       "      <td>190857.79</td>\n",
       "      <td>0</td>\n",
       "    </tr>\n",
       "    <tr>\n",
       "      <th>14</th>\n",
       "      <td>15643618</td>\n",
       "      <td>635</td>\n",
       "      <td>Рыбинск</td>\n",
       "      <td>Ж</td>\n",
       "      <td>35</td>\n",
       "      <td>7</td>\n",
       "      <td>NaN</td>\n",
       "      <td>2</td>\n",
       "      <td>1</td>\n",
       "      <td>1</td>\n",
       "      <td>65951.65</td>\n",
       "      <td>0</td>\n",
       "    </tr>\n",
       "    <tr>\n",
       "      <th>17</th>\n",
       "      <td>15830954</td>\n",
       "      <td>549</td>\n",
       "      <td>Рыбинск</td>\n",
       "      <td>Ж</td>\n",
       "      <td>24</td>\n",
       "      <td>9</td>\n",
       "      <td>NaN</td>\n",
       "      <td>2</td>\n",
       "      <td>1</td>\n",
       "      <td>1</td>\n",
       "      <td>14406.41</td>\n",
       "      <td>0</td>\n",
       "    </tr>\n",
       "    <tr>\n",
       "      <th>18</th>\n",
       "      <td>15704243</td>\n",
       "      <td>587</td>\n",
       "      <td>Рыбинск</td>\n",
       "      <td>М</td>\n",
       "      <td>45</td>\n",
       "      <td>6</td>\n",
       "      <td>NaN</td>\n",
       "      <td>1</td>\n",
       "      <td>0</td>\n",
       "      <td>0</td>\n",
       "      <td>158684.81</td>\n",
       "      <td>0</td>\n",
       "    </tr>\n",
       "    <tr>\n",
       "      <th>19</th>\n",
       "      <td>15611718</td>\n",
       "      <td>726</td>\n",
       "      <td>Ярославль</td>\n",
       "      <td>Ж</td>\n",
       "      <td>24</td>\n",
       "      <td>6</td>\n",
       "      <td>NaN</td>\n",
       "      <td>2</td>\n",
       "      <td>1</td>\n",
       "      <td>1</td>\n",
       "      <td>54724.03</td>\n",
       "      <td>0</td>\n",
       "    </tr>\n",
       "    <tr>\n",
       "      <th>20</th>\n",
       "      <td>15620393</td>\n",
       "      <td>732</td>\n",
       "      <td>Ярославль</td>\n",
       "      <td>М</td>\n",
       "      <td>41</td>\n",
       "      <td>8</td>\n",
       "      <td>NaN</td>\n",
       "      <td>2</td>\n",
       "      <td>1</td>\n",
       "      <td>1</td>\n",
       "      <td>170886.17</td>\n",
       "      <td>0</td>\n",
       "    </tr>\n",
       "    <tr>\n",
       "      <th>21</th>\n",
       "      <td>15640681</td>\n",
       "      <td>636</td>\n",
       "      <td>Рыбинск</td>\n",
       "      <td>Ж</td>\n",
       "      <td>32</td>\n",
       "      <td>8</td>\n",
       "      <td>NaN</td>\n",
       "      <td>2</td>\n",
       "      <td>1</td>\n",
       "      <td>0</td>\n",
       "      <td>138555.46</td>\n",
       "      <td>0</td>\n",
       "    </tr>\n",
       "    <tr>\n",
       "      <th>22</th>\n",
       "      <td>15742045</td>\n",
       "      <td>510</td>\n",
       "      <td>Рыбинск</td>\n",
       "      <td>Ж</td>\n",
       "      <td>38</td>\n",
       "      <td>4</td>\n",
       "      <td>NaN</td>\n",
       "      <td>1</td>\n",
       "      <td>1</td>\n",
       "      <td>0</td>\n",
       "      <td>118913.53</td>\n",
       "      <td>1</td>\n",
       "    </tr>\n",
       "    <tr>\n",
       "      <th>23</th>\n",
       "      <td>15768473</td>\n",
       "      <td>669</td>\n",
       "      <td>Ярославль</td>\n",
       "      <td>М</td>\n",
       "      <td>46</td>\n",
       "      <td>3</td>\n",
       "      <td>NaN</td>\n",
       "      <td>2</td>\n",
       "      <td>0</td>\n",
       "      <td>1</td>\n",
       "      <td>8487.75</td>\n",
       "      <td>0</td>\n",
       "    </tr>\n",
       "    <tr>\n",
       "      <th>24</th>\n",
       "      <td>15667783</td>\n",
       "      <td>846</td>\n",
       "      <td>Ярославль</td>\n",
       "      <td>Ж</td>\n",
       "      <td>38</td>\n",
       "      <td>5</td>\n",
       "      <td>NaN</td>\n",
       "      <td>1</td>\n",
       "      <td>1</td>\n",
       "      <td>1</td>\n",
       "      <td>187616.16</td>\n",
       "      <td>0</td>\n",
       "    </tr>\n",
       "    <tr>\n",
       "      <th>25</th>\n",
       "      <td>15780927</td>\n",
       "      <td>577</td>\n",
       "      <td>Ярославль</td>\n",
       "      <td>М</td>\n",
       "      <td>25</td>\n",
       "      <td>3</td>\n",
       "      <td>NaN</td>\n",
       "      <td>2</td>\n",
       "      <td>0</td>\n",
       "      <td>1</td>\n",
       "      <td>124508.29</td>\n",
       "      <td>0</td>\n",
       "    </tr>\n",
       "    <tr>\n",
       "      <th>27</th>\n",
       "      <td>15743508</td>\n",
       "      <td>571</td>\n",
       "      <td>Ярославль</td>\n",
       "      <td>М</td>\n",
       "      <td>44</td>\n",
       "      <td>9</td>\n",
       "      <td>NaN</td>\n",
       "      <td>2</td>\n",
       "      <td>0</td>\n",
       "      <td>0</td>\n",
       "      <td>38433.35</td>\n",
       "      <td>0</td>\n",
       "    </tr>\n",
       "    <tr>\n",
       "      <th>30</th>\n",
       "      <td>15632211</td>\n",
       "      <td>591</td>\n",
       "      <td>Рыбинск</td>\n",
       "      <td>Ж</td>\n",
       "      <td>39</td>\n",
       "      <td>3</td>\n",
       "      <td>NaN</td>\n",
       "      <td>3</td>\n",
       "      <td>1</td>\n",
       "      <td>0</td>\n",
       "      <td>140469.38</td>\n",
       "      <td>1</td>\n",
       "    </tr>\n",
       "    <tr>\n",
       "      <th>33</th>\n",
       "      <td>15702164</td>\n",
       "      <td>520</td>\n",
       "      <td>Рыбинск</td>\n",
       "      <td>Ж</td>\n",
       "      <td>42</td>\n",
       "      <td>6</td>\n",
       "      <td>NaN</td>\n",
       "      <td>2</td>\n",
       "      <td>1</td>\n",
       "      <td>1</td>\n",
       "      <td>34410.55</td>\n",
       "      <td>0</td>\n",
       "    </tr>\n",
       "    <tr>\n",
       "      <th>34</th>\n",
       "      <td>15775699</td>\n",
       "      <td>722</td>\n",
       "      <td>Рыбинск</td>\n",
       "      <td>Ж</td>\n",
       "      <td>29</td>\n",
       "      <td>9</td>\n",
       "      <td>NaN</td>\n",
       "      <td>2</td>\n",
       "      <td>1</td>\n",
       "      <td>1</td>\n",
       "      <td>142033.07</td>\n",
       "      <td>0</td>\n",
       "    </tr>\n",
       "  </tbody>\n",
       "</table>\n",
       "</div>"
      ],
      "text/plain": [
       "     user_id  score       city gender  age  objects  balance  products  \\\n",
       "0   15677338    619  Ярославль      Ж   42        2      NaN         1   \n",
       "3   15744090    699  Ярославль      Ж   39        1      NaN         2   \n",
       "6   15635267    822  Ярославль      М   50        7      NaN         2   \n",
       "11  15779909    497    Рыбинск      М   24        3      NaN         2   \n",
       "12  15675000    476  Ярославль      Ж   34       10      NaN         2   \n",
       "13  15734219    549  Ярославль      Ж   25        5      NaN         2   \n",
       "14  15643618    635    Рыбинск      Ж   35        7      NaN         2   \n",
       "17  15830954    549    Рыбинск      Ж   24        9      NaN         2   \n",
       "18  15704243    587    Рыбинск      М   45        6      NaN         1   \n",
       "19  15611718    726  Ярославль      Ж   24        6      NaN         2   \n",
       "20  15620393    732  Ярославль      М   41        8      NaN         2   \n",
       "21  15640681    636    Рыбинск      Ж   32        8      NaN         2   \n",
       "22  15742045    510    Рыбинск      Ж   38        4      NaN         1   \n",
       "23  15768473    669  Ярославль      М   46        3      NaN         2   \n",
       "24  15667783    846  Ярославль      Ж   38        5      NaN         1   \n",
       "25  15780927    577  Ярославль      М   25        3      NaN         2   \n",
       "27  15743508    571  Ярославль      М   44        9      NaN         2   \n",
       "30  15632211    591    Рыбинск      Ж   39        3      NaN         3   \n",
       "33  15702164    520    Рыбинск      Ж   42        6      NaN         2   \n",
       "34  15775699    722    Рыбинск      Ж   29        9      NaN         2   \n",
       "\n",
       "    credit_card  loyalty  estimated_salary  churn  \n",
       "0             1        1         101348.88      1  \n",
       "3             0        0          93826.63      0  \n",
       "6             1        1          10062.80      0  \n",
       "11            1        0          76390.01      0  \n",
       "12            1        0          26260.98      0  \n",
       "13            0        0         190857.79      0  \n",
       "14            1        1          65951.65      0  \n",
       "17            1        1          14406.41      0  \n",
       "18            0        0         158684.81      0  \n",
       "19            1        1          54724.03      0  \n",
       "20            1        1         170886.17      0  \n",
       "21            1        0         138555.46      0  \n",
       "22            1        0         118913.53      1  \n",
       "23            0        1           8487.75      0  \n",
       "24            1        1         187616.16      0  \n",
       "25            0        1         124508.29      0  \n",
       "27            0        0          38433.35      0  \n",
       "30            1        0         140469.38      1  \n",
       "33            1        1          34410.55      0  \n",
       "34            1        1         142033.07      0  "
      ]
     },
     "execution_count": 30,
     "metadata": {},
     "output_type": "execute_result"
    }
   ],
   "source": [
    "df.query('balance.isna()').head(20)"
   ]
  },
  {
   "cell_type": "markdown",
   "metadata": {},
   "source": [
    "В первых 20 значениях таблицы с пропусками видны только два города из трёх - отсутствует Ростов Великий. Проверим, есть ли пропуски с этого города во всём датасете: "
   ]
  },
  {
   "cell_type": "code",
   "execution_count": 31,
   "metadata": {},
   "outputs": [
    {
     "data": {
      "text/plain": [
       "(0, 12)"
      ]
     },
     "execution_count": 31,
     "metadata": {},
     "output_type": "execute_result"
    }
   ],
   "source": [
    "df.query('balance.isna() and city==\"Ростов Великий\"').shape"
   ]
  },
  {
   "cell_type": "markdown",
   "metadata": {},
   "source": [
    "В данных клиентов из Ростова Великого пропусков нет. Посмотрим, какая доля пропусков в каждом из двух других городов:"
   ]
  },
  {
   "cell_type": "code",
   "execution_count": 32,
   "metadata": {},
   "outputs": [
    {
     "name": "stdout",
     "output_type": "stream",
     "text": [
      "0.48224970083765456\n"
     ]
    },
    {
     "data": {
      "text/plain": [
       "0.4840532902704885"
      ]
     },
     "execution_count": 32,
     "metadata": {},
     "output_type": "execute_result"
    }
   ],
   "source": [
    "print(len(df.query('balance.isna() and city==\"Ярославль\"')) / len(df.query('city==\"Ярославль\"')))\n",
    "len(df.query('balance.isna() and city==\"Рыбинск\"')) / len(df.query('city==\"Рыбинск\"'))"
   ]
  },
  {
   "cell_type": "markdown",
   "metadata": {},
   "source": [
    "И в Ярославле и в Рыбинске пропуски составляют 48%, очень похоже на системную ошибку. Возможно, данные пользователей этих двух городов хранятся в одной базе/таблице и подгружаются некорректно. Необходимо обратиться с этим вопросом к инженерам, ответственным за выгрузку. \n",
    "\n",
    "---\n",
    "Мы не можем быть уверены в том, что пропуски означают нулевой баланс, заполнение значений средним или медианой по столбцу также исказит распределения. Количество пропущенных значений слишком велико для удаления, самым правильным вариантом тут видится оставить пропуски без изменения."
   ]
  },
  {
   "cell_type": "markdown",
   "metadata": {},
   "source": [
    "### Вывод\n",
    "\n",
    "По ходу предобработки:\n",
    "- Дубликатов не обнаружено  \n",
    "- Названия столбцов заменены корректными\n",
    "- Пропуски решено оставить без изменений"
   ]
  },
  {
   "cell_type": "markdown",
   "metadata": {},
   "source": [
    "## Исследовательский анализ данных"
   ]
  },
  {
   "cell_type": "markdown",
   "metadata": {},
   "source": [
    "### Изучение распределений признаков по выборке"
   ]
  },
  {
   "cell_type": "markdown",
   "metadata": {},
   "source": [
    "Перед построением графиков посмотрим на распределения признаков в таблице при помощи функции `describe()`:"
   ]
  },
  {
   "cell_type": "code",
   "execution_count": 33,
   "metadata": {},
   "outputs": [
    {
     "data": {
      "text/html": [
       "<div>\n",
       "<style scoped>\n",
       "    .dataframe tbody tr th:only-of-type {\n",
       "        vertical-align: middle;\n",
       "    }\n",
       "\n",
       "    .dataframe tbody tr th {\n",
       "        vertical-align: top;\n",
       "    }\n",
       "\n",
       "    .dataframe thead th {\n",
       "        text-align: right;\n",
       "    }\n",
       "</style>\n",
       "<table border=\"1\" class=\"dataframe\">\n",
       "  <thead>\n",
       "    <tr style=\"text-align: right;\">\n",
       "      <th></th>\n",
       "      <th>score</th>\n",
       "      <th>age</th>\n",
       "      <th>objects</th>\n",
       "      <th>balance</th>\n",
       "      <th>products</th>\n",
       "      <th>credit_card</th>\n",
       "      <th>loyalty</th>\n",
       "      <th>estimated_salary</th>\n",
       "      <th>churn</th>\n",
       "    </tr>\n",
       "  </thead>\n",
       "  <tbody>\n",
       "    <tr>\n",
       "      <th>count</th>\n",
       "      <td>10000.000000</td>\n",
       "      <td>10000.000000</td>\n",
       "      <td>10000.000000</td>\n",
       "      <td>6383.000000</td>\n",
       "      <td>10000.000000</td>\n",
       "      <td>10000.00000</td>\n",
       "      <td>10000.000000</td>\n",
       "      <td>10000.000000</td>\n",
       "      <td>10000.000000</td>\n",
       "    </tr>\n",
       "    <tr>\n",
       "      <th>mean</th>\n",
       "      <td>650.528800</td>\n",
       "      <td>38.921800</td>\n",
       "      <td>5.012800</td>\n",
       "      <td>119827.493793</td>\n",
       "      <td>1.530200</td>\n",
       "      <td>0.70550</td>\n",
       "      <td>0.515100</td>\n",
       "      <td>100090.239881</td>\n",
       "      <td>0.203700</td>\n",
       "    </tr>\n",
       "    <tr>\n",
       "      <th>std</th>\n",
       "      <td>96.653299</td>\n",
       "      <td>10.487806</td>\n",
       "      <td>2.892174</td>\n",
       "      <td>30095.056462</td>\n",
       "      <td>0.581654</td>\n",
       "      <td>0.45584</td>\n",
       "      <td>0.499797</td>\n",
       "      <td>57510.492818</td>\n",
       "      <td>0.402769</td>\n",
       "    </tr>\n",
       "    <tr>\n",
       "      <th>min</th>\n",
       "      <td>350.000000</td>\n",
       "      <td>18.000000</td>\n",
       "      <td>0.000000</td>\n",
       "      <td>3768.690000</td>\n",
       "      <td>1.000000</td>\n",
       "      <td>0.00000</td>\n",
       "      <td>0.000000</td>\n",
       "      <td>11.580000</td>\n",
       "      <td>0.000000</td>\n",
       "    </tr>\n",
       "    <tr>\n",
       "      <th>25%</th>\n",
       "      <td>584.000000</td>\n",
       "      <td>32.000000</td>\n",
       "      <td>3.000000</td>\n",
       "      <td>100181.975000</td>\n",
       "      <td>1.000000</td>\n",
       "      <td>0.00000</td>\n",
       "      <td>0.000000</td>\n",
       "      <td>51002.110000</td>\n",
       "      <td>0.000000</td>\n",
       "    </tr>\n",
       "    <tr>\n",
       "      <th>50%</th>\n",
       "      <td>652.000000</td>\n",
       "      <td>37.000000</td>\n",
       "      <td>5.000000</td>\n",
       "      <td>119839.690000</td>\n",
       "      <td>1.000000</td>\n",
       "      <td>1.00000</td>\n",
       "      <td>1.000000</td>\n",
       "      <td>100193.915000</td>\n",
       "      <td>0.000000</td>\n",
       "    </tr>\n",
       "    <tr>\n",
       "      <th>75%</th>\n",
       "      <td>718.000000</td>\n",
       "      <td>44.000000</td>\n",
       "      <td>7.000000</td>\n",
       "      <td>139512.290000</td>\n",
       "      <td>2.000000</td>\n",
       "      <td>1.00000</td>\n",
       "      <td>1.000000</td>\n",
       "      <td>149388.247500</td>\n",
       "      <td>0.000000</td>\n",
       "    </tr>\n",
       "    <tr>\n",
       "      <th>max</th>\n",
       "      <td>850.000000</td>\n",
       "      <td>92.000000</td>\n",
       "      <td>10.000000</td>\n",
       "      <td>250898.090000</td>\n",
       "      <td>4.000000</td>\n",
       "      <td>1.00000</td>\n",
       "      <td>1.000000</td>\n",
       "      <td>199992.480000</td>\n",
       "      <td>1.000000</td>\n",
       "    </tr>\n",
       "  </tbody>\n",
       "</table>\n",
       "</div>"
      ],
      "text/plain": [
       "              score           age       objects        balance      products  \\\n",
       "count  10000.000000  10000.000000  10000.000000    6383.000000  10000.000000   \n",
       "mean     650.528800     38.921800      5.012800  119827.493793      1.530200   \n",
       "std       96.653299     10.487806      2.892174   30095.056462      0.581654   \n",
       "min      350.000000     18.000000      0.000000    3768.690000      1.000000   \n",
       "25%      584.000000     32.000000      3.000000  100181.975000      1.000000   \n",
       "50%      652.000000     37.000000      5.000000  119839.690000      1.000000   \n",
       "75%      718.000000     44.000000      7.000000  139512.290000      2.000000   \n",
       "max      850.000000     92.000000     10.000000  250898.090000      4.000000   \n",
       "\n",
       "       credit_card       loyalty  estimated_salary         churn  \n",
       "count  10000.00000  10000.000000      10000.000000  10000.000000  \n",
       "mean       0.70550      0.515100     100090.239881      0.203700  \n",
       "std        0.45584      0.499797      57510.492818      0.402769  \n",
       "min        0.00000      0.000000         11.580000      0.000000  \n",
       "25%        0.00000      0.000000      51002.110000      0.000000  \n",
       "50%        1.00000      1.000000     100193.915000      0.000000  \n",
       "75%        1.00000      1.000000     149388.247500      0.000000  \n",
       "max        1.00000      1.000000     199992.480000      1.000000  "
      ]
     },
     "execution_count": 33,
     "metadata": {},
     "output_type": "execute_result"
    }
   ],
   "source": [
    "df.drop('user_id', axis=1).describe()"
   ]
  },
  {
   "cell_type": "markdown",
   "metadata": {},
   "source": [
    "Что можно сказать о данных уже сейчас:\n",
    "* Минимальное количество баллов кредитного скоринга - 350, максимальное - 850. У среднего клиента их примерно 650.\n",
    "* Средний возраст клиента банка - 39 лет, самому возрастному - 92 года.\n",
    "* Среднее количество объектов в собственности у клиента - 5, максимальное - 10.\n",
    "* Минимальный баланс - 3 768р, максимальный - 250 898, средний - почти 120 тыс. рублей.\n",
    "* В среднем на каждого клиента приходится полтора продукта банка, максимальное количество продуктов по выборке - 4.\n",
    "* Кредитные карты есть у 70% выборки.\n",
    "* Активными являются больше половины клиентов.\n",
    "* Средняя зарплата по выборке - около ста тысяч рублей, максимальная - около двухсот.\n",
    "* Ушедших клиентов 20% от выборки."
   ]
  },
  {
   "cell_type": "markdown",
   "metadata": {},
   "source": [
    "Сразу же бросается в глаза минимальный ежемесячный доход - 11,58 р. в месяц. Установим логический порог минимального среднемесячного дохода - 10000р. Посмотрим на несколько наблюдений с уровнем зп ниже порогового и посчитаем количество таких наблюдений в выборке:"
   ]
  },
  {
   "cell_type": "code",
   "execution_count": 34,
   "metadata": {},
   "outputs": [
    {
     "name": "stdout",
     "output_type": "stream",
     "text": [
      "(508, 12)\n"
     ]
    },
    {
     "data": {
      "text/html": [
       "<div>\n",
       "<style scoped>\n",
       "    .dataframe tbody tr th:only-of-type {\n",
       "        vertical-align: middle;\n",
       "    }\n",
       "\n",
       "    .dataframe tbody tr th {\n",
       "        vertical-align: top;\n",
       "    }\n",
       "\n",
       "    .dataframe thead th {\n",
       "        text-align: right;\n",
       "    }\n",
       "</style>\n",
       "<table border=\"1\" class=\"dataframe\">\n",
       "  <thead>\n",
       "    <tr style=\"text-align: right;\">\n",
       "      <th></th>\n",
       "      <th>user_id</th>\n",
       "      <th>score</th>\n",
       "      <th>city</th>\n",
       "      <th>gender</th>\n",
       "      <th>age</th>\n",
       "      <th>objects</th>\n",
       "      <th>balance</th>\n",
       "      <th>products</th>\n",
       "      <th>credit_card</th>\n",
       "      <th>loyalty</th>\n",
       "      <th>estimated_salary</th>\n",
       "      <th>churn</th>\n",
       "    </tr>\n",
       "  </thead>\n",
       "  <tbody>\n",
       "    <tr>\n",
       "      <th>16</th>\n",
       "      <td>15780188</td>\n",
       "      <td>653</td>\n",
       "      <td>Ростов Великий</td>\n",
       "      <td>М</td>\n",
       "      <td>58</td>\n",
       "      <td>1</td>\n",
       "      <td>132602.88</td>\n",
       "      <td>1</td>\n",
       "      <td>1</td>\n",
       "      <td>0</td>\n",
       "      <td>5097.67</td>\n",
       "      <td>1</td>\n",
       "    </tr>\n",
       "    <tr>\n",
       "      <th>23</th>\n",
       "      <td>15768473</td>\n",
       "      <td>669</td>\n",
       "      <td>Ярославль</td>\n",
       "      <td>М</td>\n",
       "      <td>46</td>\n",
       "      <td>3</td>\n",
       "      <td>NaN</td>\n",
       "      <td>2</td>\n",
       "      <td>0</td>\n",
       "      <td>1</td>\n",
       "      <td>8487.75</td>\n",
       "      <td>0</td>\n",
       "    </tr>\n",
       "    <tr>\n",
       "      <th>58</th>\n",
       "      <td>15666680</td>\n",
       "      <td>511</td>\n",
       "      <td>Рыбинск</td>\n",
       "      <td>Ж</td>\n",
       "      <td>66</td>\n",
       "      <td>4</td>\n",
       "      <td>NaN</td>\n",
       "      <td>1</td>\n",
       "      <td>1</td>\n",
       "      <td>0</td>\n",
       "      <td>1643.11</td>\n",
       "      <td>1</td>\n",
       "    </tr>\n",
       "    <tr>\n",
       "      <th>84</th>\n",
       "      <td>15781487</td>\n",
       "      <td>493</td>\n",
       "      <td>Ярославль</td>\n",
       "      <td>Ж</td>\n",
       "      <td>46</td>\n",
       "      <td>4</td>\n",
       "      <td>NaN</td>\n",
       "      <td>2</td>\n",
       "      <td>1</td>\n",
       "      <td>0</td>\n",
       "      <td>1907.66</td>\n",
       "      <td>0</td>\n",
       "    </tr>\n",
       "    <tr>\n",
       "      <th>99</th>\n",
       "      <td>15675795</td>\n",
       "      <td>413</td>\n",
       "      <td>Ярославль</td>\n",
       "      <td>М</td>\n",
       "      <td>34</td>\n",
       "      <td>9</td>\n",
       "      <td>NaN</td>\n",
       "      <td>2</td>\n",
       "      <td>0</td>\n",
       "      <td>0</td>\n",
       "      <td>6534.18</td>\n",
       "      <td>0</td>\n",
       "    </tr>\n",
       "    <tr>\n",
       "      <th>126</th>\n",
       "      <td>15713873</td>\n",
       "      <td>549</td>\n",
       "      <td>Ярославль</td>\n",
       "      <td>Ж</td>\n",
       "      <td>52</td>\n",
       "      <td>1</td>\n",
       "      <td>NaN</td>\n",
       "      <td>1</td>\n",
       "      <td>0</td>\n",
       "      <td>1</td>\n",
       "      <td>8636.05</td>\n",
       "      <td>1</td>\n",
       "    </tr>\n",
       "    <tr>\n",
       "      <th>139</th>\n",
       "      <td>15683641</td>\n",
       "      <td>579</td>\n",
       "      <td>Рыбинск</td>\n",
       "      <td>Ж</td>\n",
       "      <td>35</td>\n",
       "      <td>1</td>\n",
       "      <td>129490.36</td>\n",
       "      <td>2</td>\n",
       "      <td>0</td>\n",
       "      <td>1</td>\n",
       "      <td>8590.83</td>\n",
       "      <td>1</td>\n",
       "    </tr>\n",
       "    <tr>\n",
       "      <th>149</th>\n",
       "      <td>15837149</td>\n",
       "      <td>416</td>\n",
       "      <td>Ярославль</td>\n",
       "      <td>М</td>\n",
       "      <td>32</td>\n",
       "      <td>0</td>\n",
       "      <td>NaN</td>\n",
       "      <td>2</td>\n",
       "      <td>0</td>\n",
       "      <td>1</td>\n",
       "      <td>878.87</td>\n",
       "      <td>0</td>\n",
       "    </tr>\n",
       "    <tr>\n",
       "      <th>172</th>\n",
       "      <td>15693758</td>\n",
       "      <td>480</td>\n",
       "      <td>Ростов Великий</td>\n",
       "      <td>М</td>\n",
       "      <td>44</td>\n",
       "      <td>10</td>\n",
       "      <td>129608.57</td>\n",
       "      <td>1</td>\n",
       "      <td>1</td>\n",
       "      <td>0</td>\n",
       "      <td>5472.70</td>\n",
       "      <td>1</td>\n",
       "    </tr>\n",
       "    <tr>\n",
       "      <th>179</th>\n",
       "      <td>15668162</td>\n",
       "      <td>754</td>\n",
       "      <td>Ростов Великий</td>\n",
       "      <td>Ж</td>\n",
       "      <td>55</td>\n",
       "      <td>3</td>\n",
       "      <td>161608.81</td>\n",
       "      <td>1</td>\n",
       "      <td>1</td>\n",
       "      <td>0</td>\n",
       "      <td>8080.85</td>\n",
       "      <td>1</td>\n",
       "    </tr>\n",
       "  </tbody>\n",
       "</table>\n",
       "</div>"
      ],
      "text/plain": [
       "      user_id  score            city gender  age  objects    balance  \\\n",
       "16   15780188    653  Ростов Великий      М   58        1  132602.88   \n",
       "23   15768473    669       Ярославль      М   46        3        NaN   \n",
       "58   15666680    511         Рыбинск      Ж   66        4        NaN   \n",
       "84   15781487    493       Ярославль      Ж   46        4        NaN   \n",
       "99   15675795    413       Ярославль      М   34        9        NaN   \n",
       "126  15713873    549       Ярославль      Ж   52        1        NaN   \n",
       "139  15683641    579         Рыбинск      Ж   35        1  129490.36   \n",
       "149  15837149    416       Ярославль      М   32        0        NaN   \n",
       "172  15693758    480  Ростов Великий      М   44       10  129608.57   \n",
       "179  15668162    754  Ростов Великий      Ж   55        3  161608.81   \n",
       "\n",
       "     products  credit_card  loyalty  estimated_salary  churn  \n",
       "16          1            1        0           5097.67      1  \n",
       "23          2            0        1           8487.75      0  \n",
       "58          1            1        0           1643.11      1  \n",
       "84          2            1        0           1907.66      0  \n",
       "99          2            0        0           6534.18      0  \n",
       "126         1            0        1           8636.05      1  \n",
       "139         2            0        1           8590.83      1  \n",
       "149         2            0        1            878.87      0  \n",
       "172         1            1        0           5472.70      1  \n",
       "179         1            1        0           8080.85      1  "
      ]
     },
     "execution_count": 34,
     "metadata": {},
     "output_type": "execute_result"
    }
   ],
   "source": [
    "print(df.query('estimated_salary<10000').shape)\n",
    "df.query('estimated_salary<10000').head(10)"
   ]
  },
  {
   "cell_type": "markdown",
   "metadata": {},
   "source": [
    "Количество пропусков от общего размера выборки составляет 5%. Учитывая баланс счёта первых 10 значений, ситуация выглядит неправдоподобно. В данном случае причиной таких значений может выступать нежелание клиентов раскрывать реальный уровень своего дохода. Учитывая малый размер таких наблюдений, будет лучше удалить их из выборки чтобы не искажать распределения и результаты анализа."
   ]
  },
  {
   "cell_type": "code",
   "execution_count": 35,
   "metadata": {},
   "outputs": [],
   "source": [
    "df = df.query('estimated_salary>10000')"
   ]
  },
  {
   "cell_type": "markdown",
   "metadata": {},
   "source": [
    "Сравним средние значения признаков ушедших клиентов и действующих:"
   ]
  },
  {
   "cell_type": "code",
   "execution_count": 36,
   "metadata": {},
   "outputs": [
    {
     "data": {
      "text/html": [
       "<div>\n",
       "<style scoped>\n",
       "    .dataframe tbody tr th:only-of-type {\n",
       "        vertical-align: middle;\n",
       "    }\n",
       "\n",
       "    .dataframe tbody tr th {\n",
       "        vertical-align: top;\n",
       "    }\n",
       "\n",
       "    .dataframe thead th {\n",
       "        text-align: right;\n",
       "    }\n",
       "</style>\n",
       "<table border=\"1\" class=\"dataframe\">\n",
       "  <thead>\n",
       "    <tr style=\"text-align: right;\">\n",
       "      <th></th>\n",
       "      <th>score</th>\n",
       "      <th>age</th>\n",
       "      <th>objects</th>\n",
       "      <th>balance</th>\n",
       "      <th>products</th>\n",
       "      <th>credit_card</th>\n",
       "      <th>loyalty</th>\n",
       "      <th>estimated_salary</th>\n",
       "    </tr>\n",
       "    <tr>\n",
       "      <th>churn</th>\n",
       "      <th></th>\n",
       "      <th></th>\n",
       "      <th></th>\n",
       "      <th></th>\n",
       "      <th></th>\n",
       "      <th></th>\n",
       "      <th></th>\n",
       "      <th></th>\n",
       "    </tr>\n",
       "  </thead>\n",
       "  <tbody>\n",
       "    <tr>\n",
       "      <th>0</th>\n",
       "      <td>652.035336</td>\n",
       "      <td>37.441371</td>\n",
       "      <td>5.051350</td>\n",
       "      <td>119610.502282</td>\n",
       "      <td>1.543012</td>\n",
       "      <td>0.708444</td>\n",
       "      <td>0.554394</td>\n",
       "      <td>104846.354352</td>\n",
       "    </tr>\n",
       "    <tr>\n",
       "      <th>1</th>\n",
       "      <td>645.319215</td>\n",
       "      <td>44.825413</td>\n",
       "      <td>4.949897</td>\n",
       "      <td>120715.311277</td>\n",
       "      <td>1.475207</td>\n",
       "      <td>0.702479</td>\n",
       "      <td>0.362603</td>\n",
       "      <td>106489.401823</td>\n",
       "    </tr>\n",
       "  </tbody>\n",
       "</table>\n",
       "</div>"
      ],
      "text/plain": [
       "            score        age   objects        balance  products  credit_card  \\\n",
       "churn                                                                          \n",
       "0      652.035336  37.441371  5.051350  119610.502282  1.543012     0.708444   \n",
       "1      645.319215  44.825413  4.949897  120715.311277  1.475207     0.702479   \n",
       "\n",
       "        loyalty  estimated_salary  \n",
       "churn                              \n",
       "0      0.554394     104846.354352  \n",
       "1      0.362603     106489.401823  "
      ]
     },
     "execution_count": 36,
     "metadata": {},
     "output_type": "execute_result"
    }
   ],
   "source": [
    "df.drop('user_id', axis=1).groupby('churn').mean()"
   ]
  },
  {
   "cell_type": "markdown",
   "metadata": {},
   "source": [
    "Разница в средних значениях практически по всем признакам невелика - значимые различия наблюдаются только в двух столбцах:\n",
    "* возрасте: 37 лет среднему 'оставшемуся' клиенту и почти 45 лет 'ушедшему'\n",
    "* активности: 55% активных клиентов у оставшихся и 36% у ушедших.\n",
    "---"
   ]
  },
  {
   "cell_type": "markdown",
   "metadata": {},
   "source": [
    "Теперь посмотрим на графики распределения признаков. Для этого воспользуемся циклом:"
   ]
  },
  {
   "cell_type": "code",
   "execution_count": 37,
   "metadata": {
    "scrolled": false
   },
   "outputs": [
    {
     "data": {
      "image/png": "[encoded data removed]",
      "text/plain": [
       "<Figure size 1080x504 with 2 Axes>"
      ]
     },
     "metadata": {
      "needs_background": "light"
     },
     "output_type": "display_data"
    },
    {
     "data": {
      "image/png": "[encoded data removed]",
      "text/plain": [
       "<Figure size 864x504 with 1 Axes>"
      ]
     },
     "metadata": {
      "needs_background": "light"
     },
     "output_type": "display_data"
    },
    {
     "data": {
      "image/png": "[encoded data removed]",
      "text/plain": [
       "<Figure size 864x504 with 1 Axes>"
      ]
     },
     "metadata": {
      "needs_background": "light"
     },
     "output_type": "display_data"
    },
    {
     "data": {
      "image/png": "[encoded data removed]",
      "text/plain": [
       "<Figure size 1080x504 with 2 Axes>"
      ]
     },
     "metadata": {
      "needs_background": "light"
     },
     "output_type": "display_data"
    },
    {
     "data": {
      "image/png": "[encoded data removed]",
      "text/plain": [
       "<Figure size 1080x504 with 2 Axes>"
      ]
     },
     "metadata": {
      "needs_background": "light"
     },
     "output_type": "display_data"
    },
    {
     "data": {
      "image/png": "[encoded data removed]",
      "text/plain": [
       "<Figure size 1080x504 with 2 Axes>"
      ]
     },
     "metadata": {
      "needs_background": "light"
     },
     "output_type": "display_data"
    },
    {
     "data": {
      "image/png": "[encoded data removed]",
      "text/plain": [
       "<Figure size 1080x504 with 2 Axes>"
      ]
     },
     "metadata": {
      "needs_background": "light"
     },
     "output_type": "display_data"
    },
    {
     "data": {
      "image/png": "[encoded data removed]",
      "text/plain": [
       "<Figure size 864x504 with 1 Axes>"
      ]
     },
     "metadata": {
      "needs_background": "light"
     },
     "output_type": "display_data"
    },
    {
     "data": {
      "image/png": "[encoded data removed]",
      "text/plain": [
       "<Figure size 864x504 with 1 Axes>"
      ]
     },
     "metadata": {
      "needs_background": "light"
     },
     "output_type": "display_data"
    },
    {
     "data": {
      "image/png": "[encoded data removed]",
      "text/plain": [
       "<Figure size 1080x504 with 2 Axes>"
      ]
     },
     "metadata": {
      "needs_background": "light"
     },
     "output_type": "display_data"
    }
   ],
   "source": [
    "for i in df.drop(['churn','user_id'], axis=1).columns:\n",
    "    if len(df[i].unique())>3:\n",
    "        plt.figure(figsize=(15,7))\n",
    "        plt.subplot(121)\n",
    "        sns.distplot(df.query('churn==1')[i],label='Ушедшие клиенты', color='red', bins=10)\n",
    "        plt.subplot(122,sharey=plt.subplot(121))\n",
    "        sns.distplot(df.query('churn==0')[i],label='Оставшиеся клиенты', bins=10)\n",
    "        plt.show()\n",
    "    else:\n",
    "        df.reset_index().pivot_table(index=i, columns='churn', values='index', aggfunc='count').plot(kind='bar', grid=True, figsize=(12,7))"
   ]
  },
  {
   "cell_type": "markdown",
   "metadata": {},
   "source": [
    "По графикам можно увидеть:\n",
    "- Распределения баллов кредитного скоринга в двух группах выглядят схоже, имеют пики в одинаковых диапазонах(примерно 650 баллов) и похожи на нормальные. Небольшой разницей является более тяжёлый 'клюв' и ушедших клиентов и более тяжёлый 'хвост' у оставшихся, т.е. в группе ушедших больше клиентов с низким количеством баллов, а у оставшихся - с высоким.  \n",
    "\n",
    "\n",
    "- Больше всего действующих клиентов в Ярославле(примерно 4200) - больше чем суммарно в двух других городах. На втором месте по количеству(примерно 2000) стоит город Рыбинск, меньше всего(примерно 1700 клиентов) в Ростове Великом.  Ушедших клиентов примерно поровну в Ярославле(800)  и Ростове Великом(850), Рыбинск на третьем месте (примерно 450).  Можно заметить большую долу ушедших в городе Ростов Великий.\n",
    "\n",
    "\n",
    "- Среди действующих клиентов больше мужчин (4800 против 3200 женщин), а среди ушедших - женщин( примерно 1100 против 900). По этому распределению можно заметить что ушли из банка примерно четверть всех женщин датасета. \n",
    "\n",
    "\n",
    "- Распределение по возрасту у действующих клиентов сдвинуто влево по сравнению с ушедшими. Пиковые значения приходятся примерно на 45 лет у ушедших и на 35 у действующих. Можно сказать что ушедшие клиенты старше оставшихся.  \n",
    "\n",
    "\n",
    "- Распределения объектов собственности выглядят без сильных изменений, единственное что можно заметить - среди ушедших клиентов больше людей с 2 объектами в собственности и меньше людей с 8мью, чем у действующих.  \n",
    "\n",
    "\n",
    "- Распределения по количеству банковских продуктов отличаются значительно: среди ушедших подавляющее большинство клиентов имеет 1 продукт, примерно в 4 раза меньше людей с 2мя, ещё меньше с 3мя и очень мало клиентов с 4 продуктами. Среди действующих клиентов больше всего людей с 2мя продуктами, примерно на 10% меньше людей с одним, очень мало с тремя и совсем нет с четырьмя. Можно сказать что клиенты, имеющие больше двух банковских продуктов склонны к уходу.  \n",
    "\n",
    "\n",
    "- Клиентов, оформивших кредитную карту больше в обоих группах примерно в одинаковой пропорции. \n",
    "\n",
    "\n",
    "- Ожидаемо среди действующих клиентов больше активных (примерно 4800 против 3600), а среди ушедших наоборот (примерно 1300 неактивных против 800).  \n",
    "\n",
    "\n",
    "- Распределения по доходу не имеют значимых различий.  \n"
   ]
  },
  {
   "cell_type": "markdown",
   "metadata": {},
   "source": [
    "### Портреты клиентов, склонных к уходу из банка"
   ]
  },
  {
   "cell_type": "markdown",
   "metadata": {},
   "source": [
    "Построим тепловую карту с матрицей корреляции признаков. Для начала переведём город клиента в числовой вид, иначе его не будет на мартрице корреляции. Для этого воспользуемся функцией `get_dummies`."
   ]
  },
  {
   "cell_type": "code",
   "execution_count": 38,
   "metadata": {},
   "outputs": [
    {
     "data": {
      "text/html": [
       "<div>\n",
       "<style scoped>\n",
       "    .dataframe tbody tr th:only-of-type {\n",
       "        vertical-align: middle;\n",
       "    }\n",
       "\n",
       "    .dataframe tbody tr th {\n",
       "        vertical-align: top;\n",
       "    }\n",
       "\n",
       "    .dataframe thead th {\n",
       "        text-align: right;\n",
       "    }\n",
       "</style>\n",
       "<table border=\"1\" class=\"dataframe\">\n",
       "  <thead>\n",
       "    <tr style=\"text-align: right;\">\n",
       "      <th></th>\n",
       "      <th>user_id</th>\n",
       "      <th>score</th>\n",
       "      <th>city</th>\n",
       "      <th>gender</th>\n",
       "      <th>age</th>\n",
       "      <th>objects</th>\n",
       "      <th>balance</th>\n",
       "      <th>products</th>\n",
       "      <th>credit_card</th>\n",
       "      <th>loyalty</th>\n",
       "      <th>estimated_salary</th>\n",
       "      <th>churn</th>\n",
       "      <th>Ростов Великий</th>\n",
       "      <th>Рыбинск</th>\n",
       "      <th>Ярославль</th>\n",
       "    </tr>\n",
       "  </thead>\n",
       "  <tbody>\n",
       "    <tr>\n",
       "      <th>0</th>\n",
       "      <td>15677338</td>\n",
       "      <td>619</td>\n",
       "      <td>Ярославль</td>\n",
       "      <td>Ж</td>\n",
       "      <td>42</td>\n",
       "      <td>2</td>\n",
       "      <td>NaN</td>\n",
       "      <td>1</td>\n",
       "      <td>1</td>\n",
       "      <td>1</td>\n",
       "      <td>101348.88</td>\n",
       "      <td>1</td>\n",
       "      <td>0</td>\n",
       "      <td>0</td>\n",
       "      <td>1</td>\n",
       "    </tr>\n",
       "    <tr>\n",
       "      <th>1</th>\n",
       "      <td>15690047</td>\n",
       "      <td>608</td>\n",
       "      <td>Рыбинск</td>\n",
       "      <td>Ж</td>\n",
       "      <td>41</td>\n",
       "      <td>1</td>\n",
       "      <td>83807.86</td>\n",
       "      <td>1</td>\n",
       "      <td>0</td>\n",
       "      <td>1</td>\n",
       "      <td>112542.58</td>\n",
       "      <td>0</td>\n",
       "      <td>0</td>\n",
       "      <td>1</td>\n",
       "      <td>0</td>\n",
       "    </tr>\n",
       "    <tr>\n",
       "      <th>2</th>\n",
       "      <td>15662040</td>\n",
       "      <td>502</td>\n",
       "      <td>Ярославль</td>\n",
       "      <td>Ж</td>\n",
       "      <td>42</td>\n",
       "      <td>8</td>\n",
       "      <td>159660.80</td>\n",
       "      <td>3</td>\n",
       "      <td>1</td>\n",
       "      <td>0</td>\n",
       "      <td>113931.57</td>\n",
       "      <td>1</td>\n",
       "      <td>0</td>\n",
       "      <td>0</td>\n",
       "      <td>1</td>\n",
       "    </tr>\n",
       "    <tr>\n",
       "      <th>3</th>\n",
       "      <td>15744090</td>\n",
       "      <td>699</td>\n",
       "      <td>Ярославль</td>\n",
       "      <td>Ж</td>\n",
       "      <td>39</td>\n",
       "      <td>1</td>\n",
       "      <td>NaN</td>\n",
       "      <td>2</td>\n",
       "      <td>0</td>\n",
       "      <td>0</td>\n",
       "      <td>93826.63</td>\n",
       "      <td>0</td>\n",
       "      <td>0</td>\n",
       "      <td>0</td>\n",
       "      <td>1</td>\n",
       "    </tr>\n",
       "    <tr>\n",
       "      <th>4</th>\n",
       "      <td>15780624</td>\n",
       "      <td>850</td>\n",
       "      <td>Рыбинск</td>\n",
       "      <td>Ж</td>\n",
       "      <td>43</td>\n",
       "      <td>2</td>\n",
       "      <td>125510.82</td>\n",
       "      <td>1</td>\n",
       "      <td>1</td>\n",
       "      <td>1</td>\n",
       "      <td>79084.10</td>\n",
       "      <td>0</td>\n",
       "      <td>0</td>\n",
       "      <td>1</td>\n",
       "      <td>0</td>\n",
       "    </tr>\n",
       "  </tbody>\n",
       "</table>\n",
       "</div>"
      ],
      "text/plain": [
       "    user_id  score       city gender  age  objects    balance  products  \\\n",
       "0  15677338    619  Ярославль      Ж   42        2        NaN         1   \n",
       "1  15690047    608    Рыбинск      Ж   41        1   83807.86         1   \n",
       "2  15662040    502  Ярославль      Ж   42        8  159660.80         3   \n",
       "3  15744090    699  Ярославль      Ж   39        1        NaN         2   \n",
       "4  15780624    850    Рыбинск      Ж   43        2  125510.82         1   \n",
       "\n",
       "   credit_card  loyalty  estimated_salary  churn  Ростов Великий  Рыбинск  \\\n",
       "0            1        1         101348.88      1               0        0   \n",
       "1            0        1         112542.58      0               0        1   \n",
       "2            1        0         113931.57      1               0        0   \n",
       "3            0        0          93826.63      0               0        0   \n",
       "4            1        1          79084.10      0               0        1   \n",
       "\n",
       "   Ярославль  \n",
       "0          1  \n",
       "1          0  \n",
       "2          1  \n",
       "3          1  \n",
       "4          0  "
      ]
     },
     "execution_count": 38,
     "metadata": {},
     "output_type": "execute_result"
    }
   ],
   "source": [
    "s = pd.Series(df.city)\n",
    "df[['Ростов Великий', 'Рыбинск', 'Ярославль']]=pd.get_dummies(s)\n",
    "df.head(5)"
   ]
  },
  {
   "cell_type": "code",
   "execution_count": 39,
   "metadata": {},
   "outputs": [
    {
     "data": {
      "image/png": "[encoded data removed]",
      "text/plain": [
       "<Figure size 1080x720 with 2 Axes>"
      ]
     },
     "metadata": {
      "needs_background": "light"
     },
     "output_type": "display_data"
    }
   ],
   "source": [
    "plt.figure(figsize=(15,10))\n",
    "sns.heatmap(df.drop(['user_id', 'city'], axis=1).corr(), square=True, annot=True)\n",
    "plt.show()"
   ]
  },
  {
   "cell_type": "markdown",
   "metadata": {},
   "source": [
    "Значимой линейной зависимости между целевым показателем - уходом из банка и остальными признаками не обнаружено. Сильнее всего(28%) на уход влияет возраст, проживание клиента в Ростове Великом(17%) и активность, точнее её отсутствие(-15%)."
   ]
  },
  {
   "cell_type": "markdown",
   "metadata": {},
   "source": [
    "Начнём выделять портреты клиентов, склонных к уходу. Для этого сделаем срезы данных по параметрам, в распределениях которых больше всего ушедших клиентов. Сильнее всего бросаются в глаза владельцы 3х и 4х банковских продуктов. Построим сводную таблицу по количеству продуктов на клиента со средним значением ушедших пользователей:"
   ]
  },
  {
   "cell_type": "code",
   "execution_count": 40,
   "metadata": {},
   "outputs": [
    {
     "data": {
      "image/png": "[encoded data removed]",
      "text/plain": [
       "<Figure size 864x504 with 1 Axes>"
      ]
     },
     "metadata": {
      "needs_background": "light"
     },
     "output_type": "display_data"
    },
    {
     "data": {
      "text/html": [
       "<div>\n",
       "<style scoped>\n",
       "    .dataframe tbody tr th:only-of-type {\n",
       "        vertical-align: middle;\n",
       "    }\n",
       "\n",
       "    .dataframe tbody tr th {\n",
       "        vertical-align: top;\n",
       "    }\n",
       "\n",
       "    .dataframe thead th {\n",
       "        text-align: right;\n",
       "    }\n",
       "</style>\n",
       "<table border=\"1\" class=\"dataframe\">\n",
       "  <thead>\n",
       "    <tr style=\"text-align: right;\">\n",
       "      <th></th>\n",
       "      <th>churn</th>\n",
       "    </tr>\n",
       "    <tr>\n",
       "      <th>products</th>\n",
       "      <th></th>\n",
       "    </tr>\n",
       "  </thead>\n",
       "  <tbody>\n",
       "    <tr>\n",
       "      <th>1</th>\n",
       "      <td>0.276583</td>\n",
       "    </tr>\n",
       "    <tr>\n",
       "      <th>2</th>\n",
       "      <td>0.077011</td>\n",
       "    </tr>\n",
       "    <tr>\n",
       "      <th>3</th>\n",
       "      <td>0.824701</td>\n",
       "    </tr>\n",
       "    <tr>\n",
       "      <th>4</th>\n",
       "      <td>1.000000</td>\n",
       "    </tr>\n",
       "  </tbody>\n",
       "</table>\n",
       "</div>"
      ],
      "text/plain": [
       "             churn\n",
       "products          \n",
       "1         0.276583\n",
       "2         0.077011\n",
       "3         0.824701\n",
       "4         1.000000"
      ]
     },
     "execution_count": 40,
     "metadata": {},
     "output_type": "execute_result"
    }
   ],
   "source": [
    "df.groupby(by='products').agg({'churn':'mean'}).plot(kind='bar', grid=True,figsize=(12,7))\n",
    "plt.xlabel('Количество банковских продуктов')\n",
    "plt.ylabel('% ушедших клиентов')\n",
    "plt.title('Процент ушедших клиентов в зависимости от количества продуктов')\n",
    "plt.show()\n",
    "df.groupby(by='products').agg({'churn':'mean'})"
   ]
  },
  {
   "cell_type": "markdown",
   "metadata": {},
   "source": [
    "82% клиентов, которые имели 3 банковских продукта и все(!) клиенты, пользовавшиеся 4мя продуктами ушли. На это определённо стоит обратить внимание и разобраться в вопросе более детально. Возможно в продуктах были/есть технические проблемы, либо они уступают схожему пакету продуктов у банков-конкурентов и клиенты уходят к ним.  \n",
    "Самые лояльные клиенты имеют 2 продукта, доля ушедших среди них меньше 8%, доля ушедших клиентов с одним продуктом - почти 28%.\n",
    "\n",
    "---\n"
   ]
  },
  {
   "cell_type": "markdown",
   "metadata": {},
   "source": [
    "Следующий сегмент можно выделить среди жителей города Ростов Великий в возрасте от 40 до 50 лет с низкой активностью. Посмотрим на распределение ушедших и оставшихся клиентов на графике и посчитаем среднее количество ушедших:"
   ]
  },
  {
   "cell_type": "code",
   "execution_count": 41,
   "metadata": {
    "scrolled": false
   },
   "outputs": [
    {
     "data": {
      "image/png": "[encoded data removed]",
      "text/plain": [
       "<Figure size 864x504 with 1 Axes>"
      ]
     },
     "metadata": {
      "needs_background": "light"
     },
     "output_type": "display_data"
    },
    {
     "name": "stdout",
     "output_type": "stream",
     "text": [
      "Процент ушедших клиентов клиентов в возрасте от 40 до 50 лет с низкой активностью в городе Ростов Великий: 53.06%\n"
     ]
    }
   ],
   "source": [
    "df.query('city==\"Ростов Великий\" and loyalty==0 and age<=50 and age>=40').groupby('churn').agg({'churn':'count'}).plot(kind='bar', grid=True,figsize=(12,7))\n",
    "plt.xlabel('Факт ухода клиента из банка')\n",
    "plt.ylabel('Количество ушедших клиентов')\n",
    "plt.title('Количество ушедших и оставшихся клиентов от 40 до 50 лет с низкой активностью в городе Ростов Великий')\n",
    "plt.show()\n",
    "print('Процент ушедших клиентов клиентов в возрасте от 40 до 50 лет с низкой активностью в городе Ростов Великий: {:.2%}'.format(df.query('city==\"Ростов Великий\" and loyalty==0 and age<=50 and age>=40').churn.mean()))"
   ]
  },
  {
   "cell_type": "markdown",
   "metadata": {},
   "source": [
    "Больше половины клиентов данного сегмента ушли из банка. Причина, возможно, также в сильных продуктах банков - конкурентов в этом городе. Как вариант удержания таких клиентов можно рассмотреть предложения банковских продуктов, соответствующих интересам указанной возрастной категории, например, инвестиционные инструменты, либо карты с кешбеком на определённые товарные группы, часто встречающиеся в покупках.\n",
    "\n",
    "---\n",
    "Последним сегментом можно выделить женщин с низкой активностью банковского счёта в возрасте также от 40 до 50 лет. Посмотрим на распределение и процент ушедших в указанной группе:"
   ]
  },
  {
   "cell_type": "code",
   "execution_count": 42,
   "metadata": {
    "scrolled": false
   },
   "outputs": [
    {
     "data": {
      "image/png": "[encoded data removed]",
      "text/plain": [
       "<Figure size 864x504 with 1 Axes>"
      ]
     },
     "metadata": {
      "needs_background": "light"
     },
     "output_type": "display_data"
    },
    {
     "name": "stdout",
     "output_type": "stream",
     "text": [
      "Процент ушедших клиентов клиентов-женщин от 40 до 50 лет с низкой активностью пользования услугами банка: 43.79%\n"
     ]
    }
   ],
   "source": [
    "df.query('gender==\"Ж\" and loyalty==0 and age<=50 and age>=40').groupby('churn').agg({'churn':'count'}).plot(kind='bar', grid=True,figsize=(12,7))\n",
    "plt.xlabel('Факт ухода клиента из банка')\n",
    "plt.ylabel('Количество ушедших клиентов')\n",
    "plt.title('Количество ушедших и оставшихся клиентов-женщин от 40 до 50 лет с низкой активностью пользования услугами банка')\n",
    "plt.show()\n",
    "print('Процент ушедших клиентов клиентов-женщин от 40 до 50 лет с низкой активностью пользования услугами банка: {:.2%}'.format(df.query('gender==\"Ж\" and loyalty==0 and age<=50 and age>=40').churn.mean()))"
   ]
  },
  {
   "cell_type": "markdown",
   "metadata": {},
   "source": [
    "Почти 44% клиентов указанного сегмента покинули банк. Для удержания также можно рассмотреть предложения кэшбека на товары для женщин и банковские продкуты этой тематики."
   ]
  },
  {
   "cell_type": "markdown",
   "metadata": {},
   "source": [
    "### Вывод"
   ]
  },
  {
   "cell_type": "markdown",
   "metadata": {},
   "source": [
    "- В ходе исследовательского анализа из выборки были удалены наблюдения с доходом менее 10 000 рублей. \n",
    "- Отсутствует выраженная корреляция между фактом ухода из банка и остальными параметрами.\n",
    "- Были выявлены три сегмента, склонных к уходу:  \n",
    "1) Владельцы трёх и четырёх банковских продуктов (82% и 100% клиентов ушло).  \n",
    "2) Жители Ростова Великого в возрасте от 40 до 50 лет с низким уровнем активности на счёте (53% клиентов ушло).  \n",
    "3) Женщины от 40 до 50 лет с низким уровнем активности на счёте (44% клиентов ушло).   \n",
    "\n",
    "Можно приступать к проверке статистических гипотез."
   ]
  },
  {
   "cell_type": "markdown",
   "metadata": {},
   "source": [
    "## Проверка гипотез"
   ]
  },
  {
   "cell_type": "markdown",
   "metadata": {},
   "source": [
    "### Сравнение среднего дохода клиентов, попавших в отток и оставшихся"
   ]
  },
  {
   "cell_type": "markdown",
   "metadata": {},
   "source": [
    "Сформулируем нулевую и альтернативную первую статистическую гипотезы:  \n",
    "\n",
    "* Нулевая гипотеза - средний ежемесячный доход ушедших и оставшихся клиентов равен.  \n",
    "* Альтернативная гипотеза - средний доход ушедших и оставшихся клиентов различается.\n",
    "\n",
    "Поскольку столбец с зарплатами не содержит выбросов, можно сразу переходить к тесту.  \n",
    "Зададим критический уровень статистической значимости в 0.05.  "
   ]
  },
  {
   "cell_type": "code",
   "execution_count": 43,
   "metadata": {},
   "outputs": [
    {
     "name": "stdout",
     "output_type": "stream",
     "text": [
      "p-значение:  0.2396252353637028\n",
      "Не получилось отвергнуть нулевую гипотезу\n"
     ]
    }
   ],
   "source": [
    "results = st.ttest_ind(df.query('churn==0')['estimated_salary'], df.query('churn==1')['estimated_salary'], equal_var=False)\n",
    "\n",
    "alpha = .05 \n",
    "\n",
    "print('p-значение: ', results.pvalue)\n",
    "\n",
    "if results.pvalue < alpha:\n",
    "    print(\"Отвергаем нулевую гипотезу\")\n",
    "else:\n",
    "    print(\"Не получилось отвергнуть нулевую гипотезу\") "
   ]
  },
  {
   "cell_type": "markdown",
   "metadata": {},
   "source": [
    "Уровень значимости почти 24%. Это означает, что такую разницу в среднем значении можно получить в каждом четвёртом эксперименте. Можно утвержтать что в среднем доходе двух групп нет достоверных различий."
   ]
  },
  {
   "cell_type": "markdown",
   "metadata": {},
   "source": [
    "### Сравнение долей клиентов, оформивших кредитную карту среди ушедших и оставшихся"
   ]
  },
  {
   "cell_type": "markdown",
   "metadata": {},
   "source": [
    "Сформулируем  нулевую и альтернативную гипотезы для второй проверки:\n",
    "\n",
    "Нулевая гипотеза - доля клиентов, оформивших кредитные карты среди ушедших и оставшихся одинакова.\n",
    "Альтернативная гипотеза - доля клиентов, оформивших кредитные карты среди ушедших и оставшихся различна.\n",
    "Проведём z-test.  \n",
    "Зададим критический уровень статистической значимости в 0.05."
   ]
  },
  {
   "cell_type": "code",
   "execution_count": 44,
   "metadata": {},
   "outputs": [
    {
     "name": "stdout",
     "output_type": "stream",
     "text": [
      "p-значение:  0.6068629456438372\n",
      "Не получилось отвергнуть нулевую гипотезу, нет оснований считать доли разными\n"
     ]
    }
   ],
   "source": [
    "\n",
    "alpha = .05 # критический уровень статистической значимости\n",
    "\n",
    "successes_1 = len(df.query('churn==0 and credit_card==1'))\n",
    "successes_2 = len(df.query('churn==1 and credit_card==1'))\n",
    "\n",
    "trials_1 = len(df.query('churn==0'))\n",
    "\n",
    "trials_2 = len(df.query('churn==1'))\n",
    "\n",
    "# пропорция успехов в первой группе:\n",
    "p1 = successes_1/trials_1\n",
    "\n",
    "# пропорция успехов во второй группе:\n",
    "p2 = successes_2/trials_2\n",
    "\n",
    "# пропорция успехов в комбинированном датасете:\n",
    "p_combined = (successes_1 + successes_2) / (trials_1 + trials_2)\n",
    "\n",
    "# разница пропорций в датасетах\n",
    "difference = p1 - p2 \n",
    "\n",
    "# считаем статистику в ст.отклонениях стандартного нормального распределения\n",
    "z_value = difference / mth.sqrt(p_combined * (1 - p_combined) * (1/trials_1 + 1/trials_2))\n",
    "\n",
    "# задаем стандартное нормальное распределение (среднее 0, ст.отклонение 1)\n",
    "distr = st.norm(0, 1)  \n",
    "\n",
    "# считаем статистику в ст.отклонениях стандартного нормального распределения\n",
    "z_value = difference / mth.sqrt(\n",
    "    p_combined * (1 - p_combined) * (1 / trials_1 + 1 / trials_2)\n",
    ")\n",
    "\n",
    "# задаем стандартное нормальное распределение (среднее 0, ст.отклонение 1)\n",
    "distr = st.norm(0, 1)\n",
    "\n",
    "p_value = (1 - distr.cdf(abs(z_value))) * 2\n",
    "\n",
    "print('p-значение: ', p_value)\n",
    "\n",
    "if p_value < alpha:\n",
    "    print('Отвергаем нулевую гипотезу: между долями есть значимая разница')\n",
    "else:\n",
    "    print(\n",
    "        'Не получилось отвергнуть нулевую гипотезу, нет оснований считать доли разными'\n",
    "    ) "
   ]
  },
  {
   "cell_type": "markdown",
   "metadata": {},
   "source": [
    "### Вывод"
   ]
  },
  {
   "cell_type": "markdown",
   "metadata": {},
   "source": [
    "- Оба предположения не удалось подвтердить. Уровень статистической значимости обеих гипотез слишком большой, чтобы опровергнуть нулевые гипотезы.  \n",
    "- Нет статистически значимой разницы между ушедшими и оставшимися клиентами как в доходе, так и в доле оформивших кредитные карты.\n"
   ]
  },
  {
   "cell_type": "markdown",
   "metadata": {},
   "source": [
    "## Финальный вывод и рекоммендации"
   ]
  },
  {
   "cell_type": "markdown",
   "metadata": {},
   "source": [
    "- Во время изучения данных было обнаружено 36% пропуско в столбце с балансом счёта клиентов. При изучении пропусков было обнаружено, что они присутствуют только по двум городам из трёх, причём в каждом городе их по 48%. Необходимо передать информацию ответственным за выгрузку специалистам на предмет проверки системной ошибки. Во время предобработки названия столбцов были приведены к змеиному регистру.\n",
    "\n",
    "\n",
    "- Среднему клиенту в выборке 39 лет, у него 650 баллов кредитного скоринга, 5 объектов в собственности, примерно 120 000 рублей на счету, а средняя зарплата - примерно 100 000 рублей. В среднем на каждого клиента приходится полтора банковских продукта, больше половины клиентов активны, 7 из 10 оформляют кредитную карту и пятая часть датасета покинула банк.\n",
    "\n",
    "\n",
    "- Из выборки были удалены 5% пользователей с подозрительно низким ежемесячным доходом - меньше 10 000 рублей. Возможно это также ошибка при выгрузке данных, либо часть клиентов намеренно указала заниженный доход.\n",
    "\n",
    "\n",
    "- Разница в средних значениях между ушедшими и оставшимися клиентами наблюдается только в возрасте(37 лет в среднем оставшемуся и 45 - ушедшему) и активности (55% оставшихся клиентов активны и 36% среди ушедших).\n",
    "\n",
    "\n",
    "- Владельцы двух банковских продуктов - самые лояльные клиенты, доля ухода всего 7%. Доля ушедших среди владельцев одного продукта - 27%.\n",
    "\n",
    "\n",
    "- Были выделены три портрета клиентов, максимально слонных к уходу из банка:  \n",
    "1) Владельцы трёх и четырёх банковских продуктов (82% и 100% клиентов ушло).  \n",
    "2) Жители Ростова Великого в возрасте от 40 до 50 лет с низким уровнем активности на счёте (53% клиентов ушло).  \n",
    "3) Женщины от 40 до 50 лет с низким уровнем активности на счёте (44% клиентов ушло).   \n",
    "\n",
    "\n",
    "- Нет статистически значимой разницы между доходом и долей оформивших кредитную карту между ушедшими и оставшимися клиентами.\n",
    "___"
   ]
  },
  {
   "cell_type": "markdown",
   "metadata": {},
   "source": [
    "**В связи с выявленными закономерностями были сформулированы следующие рекоммендации для удержания потенциально склонных к уходу клиентов:**\n",
    "\n",
    "- Выяснить причину огромного процента среди ушедших клиентов, которые пользовались тремя и четырьмя банковскими продуктами. Проверить технические несиправности в продуктах банка и условия схожих продуктов у банков - конкурентов.\n",
    "\n",
    "- Подготовить предложения для жителей Ростова Великого возрастной категории 40-50 лет с низким показателем активности. Предложением могут быть инвестиционные или накопительные инструменты, карты с повышенным кешбеком на покупки, либо путешествия.\n",
    "\n",
    "- Также подготовить предложения для клиентов - женщин возрастом от 40 до 50 лет с низким уровнем активности. Как вариант- кешбек на покупку товаров для дома, косметики, путешествий, инвестиционные инструменты.\n",
    "\n",
    "- Предложить клиентам с одним банковским продуктом завести второй, учитывая их интересы, т.к. по статистики предоставленных данных это снизит вероятность ухода примерно на 20%.\n",
    "\n",
    "---\n",
    "Исследование можно считать завершённым."
   ]
  }
 ],
 "metadata": {
  "ExecuteTimeLog": [
   {
    "duration": 1678,
    "start_time": "2022-06-02T08:53:40.926Z"
   },
   {
    "duration": 19,
    "start_time": "2022-06-02T12:10:56.522Z"
   },
   {
    "duration": 186,
    "start_time": "2022-06-02T12:11:24.783Z"
   },
   {
    "duration": 122,
    "start_time": "2022-06-02T12:11:38.874Z"
   },
   {
    "duration": 4,
    "start_time": "2022-06-02T13:45:18.712Z"
   },
   {
    "duration": 5,
    "start_time": "2022-06-02T13:54:09.237Z"
   },
   {
    "duration": 5,
    "start_time": "2022-06-02T13:54:15.546Z"
   },
   {
    "duration": 11,
    "start_time": "2022-06-02T13:55:36.911Z"
   },
   {
    "duration": 11,
    "start_time": "2022-06-02T13:55:54.373Z"
   },
   {
    "duration": 51,
    "start_time": "2022-06-02T14:15:42.442Z"
   },
   {
    "duration": 12,
    "start_time": "2022-06-02T14:15:45.550Z"
   },
   {
    "duration": 18,
    "start_time": "2022-06-02T14:15:50.568Z"
   },
   {
    "duration": 202,
    "start_time": "2022-06-02T14:18:53.419Z"
   },
   {
    "duration": 22,
    "start_time": "2022-06-02T14:20:03.628Z"
   },
   {
    "duration": 8,
    "start_time": "2022-06-02T14:21:11.382Z"
   },
   {
    "duration": 9,
    "start_time": "2022-06-02T14:21:21.806Z"
   },
   {
    "duration": 9,
    "start_time": "2022-06-02T14:21:29.445Z"
   },
   {
    "duration": 9,
    "start_time": "2022-06-02T14:21:33.223Z"
   },
   {
    "duration": 9,
    "start_time": "2022-06-02T14:21:38.238Z"
   },
   {
    "duration": 12,
    "start_time": "2022-06-02T14:21:40.598Z"
   },
   {
    "duration": 26,
    "start_time": "2022-06-02T14:23:47.265Z"
   },
   {
    "duration": 5,
    "start_time": "2022-06-02T14:23:53.396Z"
   },
   {
    "duration": 9,
    "start_time": "2022-06-02T14:24:02.921Z"
   },
   {
    "duration": 11,
    "start_time": "2022-06-02T14:43:07.474Z"
   },
   {
    "duration": 18,
    "start_time": "2022-06-02T14:47:31.832Z"
   },
   {
    "duration": 28,
    "start_time": "2022-06-02T14:47:57.385Z"
   },
   {
    "duration": 19,
    "start_time": "2022-06-02T14:48:02.690Z"
   },
   {
    "duration": 18,
    "start_time": "2022-06-02T14:48:25.065Z"
   },
   {
    "duration": 14,
    "start_time": "2022-06-02T14:48:37.432Z"
   },
   {
    "duration": 8,
    "start_time": "2022-06-02T14:48:39.920Z"
   },
   {
    "duration": 16,
    "start_time": "2022-06-02T14:48:54.881Z"
   },
   {
    "duration": 61,
    "start_time": "2022-06-03T10:02:16.078Z"
   },
   {
    "duration": 1646,
    "start_time": "2022-06-03T10:02:19.538Z"
   },
   {
    "duration": 269,
    "start_time": "2022-06-03T10:02:21.186Z"
   },
   {
    "duration": 5,
    "start_time": "2022-06-03T10:02:26.376Z"
   },
   {
    "duration": 5,
    "start_time": "2022-06-03T10:02:32.982Z"
   },
   {
    "duration": 565,
    "start_time": "2022-06-03T11:03:29.325Z"
   },
   {
    "duration": 4,
    "start_time": "2022-06-03T11:03:33.098Z"
   },
   {
    "duration": 99,
    "start_time": "2022-06-03T11:03:33.104Z"
   },
   {
    "duration": 6,
    "start_time": "2022-06-03T11:03:33.205Z"
   },
   {
    "duration": 12,
    "start_time": "2022-06-03T11:03:33.213Z"
   },
   {
    "duration": 29,
    "start_time": "2022-06-03T11:03:33.227Z"
   },
   {
    "duration": 11,
    "start_time": "2022-06-03T11:03:33.258Z"
   },
   {
    "duration": 5,
    "start_time": "2022-06-03T11:03:35.906Z"
   },
   {
    "duration": 4,
    "start_time": "2022-06-03T11:03:44.122Z"
   },
   {
    "duration": 6,
    "start_time": "2022-06-03T11:03:57.115Z"
   },
   {
    "duration": 5,
    "start_time": "2022-06-03T11:27:58.414Z"
   },
   {
    "duration": 7,
    "start_time": "2022-06-03T11:28:43.680Z"
   },
   {
    "duration": 49,
    "start_time": "2022-06-03T11:29:05.375Z"
   },
   {
    "duration": 46,
    "start_time": "2022-06-03T11:32:43.683Z"
   },
   {
    "duration": 21,
    "start_time": "2022-06-03T11:32:58.549Z"
   },
   {
    "duration": 24,
    "start_time": "2022-06-03T11:33:01.261Z"
   },
   {
    "duration": 18,
    "start_time": "2022-06-03T11:33:24.401Z"
   },
   {
    "duration": 21,
    "start_time": "2022-06-03T11:33:30.738Z"
   },
   {
    "duration": 21,
    "start_time": "2022-06-03T11:33:50.703Z"
   },
   {
    "duration": 12,
    "start_time": "2022-06-03T11:36:45.907Z"
   },
   {
    "duration": 27,
    "start_time": "2022-06-03T11:37:00.441Z"
   },
   {
    "duration": 7,
    "start_time": "2022-06-03T11:38:09.941Z"
   },
   {
    "duration": 20,
    "start_time": "2022-06-03T11:55:00.878Z"
   },
   {
    "duration": 17,
    "start_time": "2022-06-03T11:55:11.278Z"
   },
   {
    "duration": 15,
    "start_time": "2022-06-03T11:55:14.025Z"
   },
   {
    "duration": 15,
    "start_time": "2022-06-03T11:56:15.352Z"
   },
   {
    "duration": 14,
    "start_time": "2022-06-03T11:56:18.424Z"
   },
   {
    "duration": 14,
    "start_time": "2022-06-03T12:26:36.074Z"
   },
   {
    "duration": 8,
    "start_time": "2022-06-03T12:26:39.119Z"
   },
   {
    "duration": 6,
    "start_time": "2022-06-03T12:26:52.456Z"
   },
   {
    "duration": 16,
    "start_time": "2022-06-03T12:28:44.178Z"
   },
   {
    "duration": 19,
    "start_time": "2022-06-03T12:31:17.861Z"
   },
   {
    "duration": 18,
    "start_time": "2022-06-03T12:33:48.584Z"
   },
   {
    "duration": 25,
    "start_time": "2022-06-03T13:10:18.944Z"
   },
   {
    "duration": 17,
    "start_time": "2022-06-03T13:10:31.480Z"
   },
   {
    "duration": 8,
    "start_time": "2022-06-03T13:28:30.917Z"
   },
   {
    "duration": 10,
    "start_time": "2022-06-03T13:28:38.931Z"
   },
   {
    "duration": 19,
    "start_time": "2022-06-03T13:47:44.965Z"
   },
   {
    "duration": 14,
    "start_time": "2022-06-03T13:57:24.999Z"
   },
   {
    "duration": 2934,
    "start_time": "2022-06-03T14:18:21.255Z"
   },
   {
    "duration": 45,
    "start_time": "2022-06-04T08:57:58.157Z"
   },
   {
    "duration": 1530,
    "start_time": "2022-06-04T08:59:49.064Z"
   },
   {
    "duration": 209,
    "start_time": "2022-06-04T08:59:50.596Z"
   },
   {
    "duration": 3,
    "start_time": "2022-06-04T08:59:50.807Z"
   },
   {
    "duration": 8,
    "start_time": "2022-06-04T08:59:50.812Z"
   },
   {
    "duration": 41,
    "start_time": "2022-06-04T08:59:50.821Z"
   },
   {
    "duration": 22,
    "start_time": "2022-06-04T08:59:50.863Z"
   },
   {
    "duration": 7,
    "start_time": "2022-06-04T08:59:50.887Z"
   },
   {
    "duration": 36,
    "start_time": "2022-06-04T08:59:55.252Z"
   },
   {
    "duration": 16,
    "start_time": "2022-06-04T09:00:12.361Z"
   },
   {
    "duration": 3897,
    "start_time": "2022-06-04T09:05:30.002Z"
   },
   {
    "duration": 3158,
    "start_time": "2022-06-04T09:05:54.764Z"
   },
   {
    "duration": 3257,
    "start_time": "2022-06-04T09:06:15.653Z"
   },
   {
    "duration": 3309,
    "start_time": "2022-06-04T09:06:36.222Z"
   },
   {
    "duration": 3359,
    "start_time": "2022-06-04T09:06:48.353Z"
   },
   {
    "duration": 3459,
    "start_time": "2022-06-04T09:07:05.905Z"
   },
   {
    "duration": 3412,
    "start_time": "2022-06-04T09:07:13.021Z"
   },
   {
    "duration": 3494,
    "start_time": "2022-06-04T09:07:33.858Z"
   },
   {
    "duration": 3276,
    "start_time": "2022-06-04T09:09:05.328Z"
   },
   {
    "duration": 3413,
    "start_time": "2022-06-04T09:09:12.051Z"
   },
   {
    "duration": 3097,
    "start_time": "2022-06-04T09:15:15.698Z"
   },
   {
    "duration": 327,
    "start_time": "2022-06-04T09:48:16.392Z"
   },
   {
    "duration": 3584,
    "start_time": "2022-06-04T09:48:21.545Z"
   },
   {
    "duration": 512,
    "start_time": "2022-06-04T10:06:44.442Z"
   },
   {
    "duration": 18,
    "start_time": "2022-06-04T10:08:44.357Z"
   },
   {
    "duration": 1206,
    "start_time": "2022-06-04T10:09:06.215Z"
   },
   {
    "duration": 842,
    "start_time": "2022-06-04T10:09:38.559Z"
   },
   {
    "duration": 15,
    "start_time": "2022-06-04T10:17:24.446Z"
   },
   {
    "duration": 211,
    "start_time": "2022-06-04T10:18:29.425Z"
   },
   {
    "duration": 148,
    "start_time": "2022-06-04T10:21:01.677Z"
   },
   {
    "duration": 135,
    "start_time": "2022-06-04T10:21:31.653Z"
   },
   {
    "duration": 143,
    "start_time": "2022-06-04T10:21:50.397Z"
   },
   {
    "duration": 52,
    "start_time": "2022-06-04T10:25:05.081Z"
   },
   {
    "duration": 44,
    "start_time": "2022-06-04T10:25:47.597Z"
   },
   {
    "duration": 10,
    "start_time": "2022-06-04T10:25:56.384Z"
   },
   {
    "duration": 11,
    "start_time": "2022-06-04T10:26:28.348Z"
   },
   {
    "duration": 46,
    "start_time": "2022-06-04T10:26:32.100Z"
   },
   {
    "duration": 25,
    "start_time": "2022-06-04T10:27:59.480Z"
   },
   {
    "duration": 57,
    "start_time": "2022-06-04T10:28:07.844Z"
   },
   {
    "duration": 15,
    "start_time": "2022-06-04T10:29:33.982Z"
   },
   {
    "duration": 10,
    "start_time": "2022-06-04T10:29:40.821Z"
   },
   {
    "duration": 18,
    "start_time": "2022-06-04T10:29:43.919Z"
   },
   {
    "duration": 3,
    "start_time": "2022-06-04T10:30:15.515Z"
   },
   {
    "duration": 10,
    "start_time": "2022-06-04T10:30:28.800Z"
   },
   {
    "duration": 183,
    "start_time": "2022-06-04T10:30:28.813Z"
   },
   {
    "duration": 6,
    "start_time": "2022-06-04T10:30:28.999Z"
   },
   {
    "duration": 23,
    "start_time": "2022-06-04T10:30:29.007Z"
   },
   {
    "duration": 68,
    "start_time": "2022-06-04T10:30:29.032Z"
   },
   {
    "duration": 17,
    "start_time": "2022-06-04T10:30:29.102Z"
   },
   {
    "duration": 12,
    "start_time": "2022-06-04T10:30:29.121Z"
   },
   {
    "duration": 100,
    "start_time": "2022-06-04T10:30:29.136Z"
   },
   {
    "duration": 30,
    "start_time": "2022-06-04T10:30:29.238Z"
   },
   {
    "duration": 38,
    "start_time": "2022-06-04T10:30:29.273Z"
   },
   {
    "duration": 80,
    "start_time": "2022-06-04T10:30:29.314Z"
   },
   {
    "duration": 3960,
    "start_time": "2022-06-04T10:30:29.396Z"
   },
   {
    "duration": 990,
    "start_time": "2022-06-04T10:30:33.359Z"
   },
   {
    "duration": 388,
    "start_time": "2022-06-04T10:30:34.352Z"
   },
   {
    "duration": 216,
    "start_time": "2022-06-04T10:30:34.743Z"
   },
   {
    "duration": 66,
    "start_time": "2022-06-04T10:30:34.961Z"
   },
   {
    "duration": 185,
    "start_time": "2022-06-04T10:30:35.029Z"
   },
   {
    "duration": 10,
    "start_time": "2022-06-04T10:30:43.499Z"
   },
   {
    "duration": 11,
    "start_time": "2022-06-04T10:31:03.688Z"
   },
   {
    "duration": 8,
    "start_time": "2022-06-04T10:31:11.783Z"
   },
   {
    "duration": 12,
    "start_time": "2022-06-04T10:31:15.380Z"
   },
   {
    "duration": 38,
    "start_time": "2022-06-04T10:32:41.892Z"
   },
   {
    "duration": 544,
    "start_time": "2022-06-04T10:33:06.304Z"
   },
   {
    "duration": 571,
    "start_time": "2022-06-04T10:34:02.696Z"
   },
   {
    "duration": 1305,
    "start_time": "2022-06-04T12:30:23.520Z"
   },
   {
    "duration": 260,
    "start_time": "2022-06-04T12:48:08.435Z"
   },
   {
    "duration": 4,
    "start_time": "2022-06-04T12:48:15.619Z"
   },
   {
    "duration": 102,
    "start_time": "2022-06-04T12:48:15.625Z"
   },
   {
    "duration": 6,
    "start_time": "2022-06-04T12:48:15.729Z"
   },
   {
    "duration": 8,
    "start_time": "2022-06-04T12:48:15.737Z"
   },
   {
    "duration": 11,
    "start_time": "2022-06-04T12:48:15.747Z"
   },
   {
    "duration": 20,
    "start_time": "2022-06-04T12:48:15.766Z"
   },
   {
    "duration": 11,
    "start_time": "2022-06-04T12:48:15.788Z"
   },
   {
    "duration": 38,
    "start_time": "2022-06-04T12:48:15.800Z"
   },
   {
    "duration": 42,
    "start_time": "2022-06-04T12:48:15.840Z"
   },
   {
    "duration": 7,
    "start_time": "2022-06-04T12:48:15.885Z"
   },
   {
    "duration": 20,
    "start_time": "2022-06-04T12:48:15.894Z"
   },
   {
    "duration": 2947,
    "start_time": "2022-06-04T12:48:15.916Z"
   },
   {
    "duration": 918,
    "start_time": "2022-06-04T12:48:18.865Z"
   },
   {
    "duration": 355,
    "start_time": "2022-06-04T12:48:19.785Z"
   },
   {
    "duration": 35169,
    "start_time": "2022-06-04T12:53:07.857Z"
   },
   {
    "duration": 45732,
    "start_time": "2022-06-04T12:53:43.028Z"
   },
   {
    "duration": 1129,
    "start_time": "2022-06-04T12:57:11.688Z"
   },
   {
    "duration": 83,
    "start_time": "2022-06-04T12:57:12.819Z"
   },
   {
    "duration": 4,
    "start_time": "2022-06-04T12:57:12.906Z"
   },
   {
    "duration": 7,
    "start_time": "2022-06-04T12:57:12.912Z"
   },
   {
    "duration": 12,
    "start_time": "2022-06-04T12:57:12.920Z"
   },
   {
    "duration": 47,
    "start_time": "2022-06-04T12:57:12.934Z"
   },
   {
    "duration": 9,
    "start_time": "2022-06-04T12:57:12.982Z"
   },
   {
    "duration": 35,
    "start_time": "2022-06-04T12:57:12.992Z"
   },
   {
    "duration": 16,
    "start_time": "2022-06-04T12:57:13.029Z"
   },
   {
    "duration": 6,
    "start_time": "2022-06-04T12:57:13.074Z"
   },
   {
    "duration": 17,
    "start_time": "2022-06-04T12:57:13.082Z"
   },
   {
    "duration": 2870,
    "start_time": "2022-06-04T12:57:13.100Z"
   },
   {
    "duration": 879,
    "start_time": "2022-06-04T12:57:15.972Z"
   },
   {
    "duration": 1130,
    "start_time": "2022-06-04T12:59:03.099Z"
   },
   {
    "duration": 100,
    "start_time": "2022-06-04T12:59:04.231Z"
   },
   {
    "duration": 5,
    "start_time": "2022-06-04T12:59:04.333Z"
   },
   {
    "duration": 11,
    "start_time": "2022-06-04T12:59:04.340Z"
   },
   {
    "duration": 23,
    "start_time": "2022-06-04T12:59:04.353Z"
   },
   {
    "duration": 18,
    "start_time": "2022-06-04T12:59:04.378Z"
   },
   {
    "duration": 12,
    "start_time": "2022-06-04T12:59:04.397Z"
   },
   {
    "duration": 36,
    "start_time": "2022-06-04T12:59:04.410Z"
   },
   {
    "duration": 36,
    "start_time": "2022-06-04T12:59:04.447Z"
   },
   {
    "duration": 5,
    "start_time": "2022-06-04T12:59:04.485Z"
   },
   {
    "duration": 20,
    "start_time": "2022-06-04T12:59:04.491Z"
   },
   {
    "duration": 2970,
    "start_time": "2022-06-04T12:59:04.512Z"
   },
   {
    "duration": 854,
    "start_time": "2022-06-04T12:59:07.485Z"
   },
   {
    "duration": 2,
    "start_time": "2022-06-04T12:59:08.341Z"
   },
   {
    "duration": 6,
    "start_time": "2022-06-04T12:59:08.344Z"
   },
   {
    "duration": 32,
    "start_time": "2022-06-04T13:01:30.686Z"
   },
   {
    "duration": 227,
    "start_time": "2022-06-04T13:01:34.278Z"
   },
   {
    "duration": 216,
    "start_time": "2022-06-04T13:01:48.829Z"
   },
   {
    "duration": 174,
    "start_time": "2022-06-04T13:01:58.580Z"
   },
   {
    "duration": 158,
    "start_time": "2022-06-04T13:02:11.382Z"
   },
   {
    "duration": 161,
    "start_time": "2022-06-04T13:02:33.589Z"
   },
   {
    "duration": 13410,
    "start_time": "2022-06-04T13:03:03.245Z"
   },
   {
    "duration": 16,
    "start_time": "2022-06-04T13:07:14.785Z"
   },
   {
    "duration": 16,
    "start_time": "2022-06-04T13:07:31.078Z"
   },
   {
    "duration": 26,
    "start_time": "2022-06-04T13:08:01.478Z"
   },
   {
    "duration": 1051,
    "start_time": "2022-06-04T13:08:16.929Z"
   },
   {
    "duration": 24,
    "start_time": "2022-06-04T13:08:32.201Z"
   },
   {
    "duration": 25,
    "start_time": "2022-06-04T13:08:46.381Z"
   },
   {
    "duration": 24,
    "start_time": "2022-06-04T13:08:57.202Z"
   },
   {
    "duration": 8,
    "start_time": "2022-06-04T13:09:35.731Z"
   },
   {
    "duration": 20,
    "start_time": "2022-06-04T13:10:00.985Z"
   },
   {
    "duration": 13,
    "start_time": "2022-06-04T13:10:09.994Z"
   },
   {
    "duration": 7,
    "start_time": "2022-06-04T13:10:49.513Z"
   },
   {
    "duration": 13206,
    "start_time": "2022-06-04T13:13:21.154Z"
   },
   {
    "duration": 13389,
    "start_time": "2022-06-04T13:13:43.331Z"
   },
   {
    "duration": 31798,
    "start_time": "2022-06-04T13:15:15.784Z"
   },
   {
    "duration": 112,
    "start_time": "2022-06-04T13:16:22.572Z"
   },
   {
    "duration": 30552,
    "start_time": "2022-06-04T13:16:31.503Z"
   },
   {
    "duration": 32302,
    "start_time": "2022-06-04T13:17:05.630Z"
   },
   {
    "duration": 23,
    "start_time": "2022-06-04T13:18:06.013Z"
   },
   {
    "duration": 24,
    "start_time": "2022-06-04T13:18:44.430Z"
   },
   {
    "duration": 14,
    "start_time": "2022-06-04T13:18:56.008Z"
   },
   {
    "duration": 117491,
    "start_time": "2022-06-04T13:20:30.023Z"
   },
   {
    "duration": 11,
    "start_time": "2022-06-04T13:26:20.902Z"
   },
   {
    "duration": 16,
    "start_time": "2022-06-04T13:26:31.109Z"
   },
   {
    "duration": 139,
    "start_time": "2022-06-04T13:26:41.898Z"
   },
   {
    "duration": 118912,
    "start_time": "2022-06-04T13:26:57.086Z"
   },
   {
    "duration": 237,
    "start_time": "2022-06-04T13:30:02.084Z"
   },
   {
    "duration": 111,
    "start_time": "2022-06-04T13:31:18.362Z"
   },
   {
    "duration": 162,
    "start_time": "2022-06-04T13:31:32.824Z"
   },
   {
    "duration": 2340,
    "start_time": "2022-06-04T13:34:49.451Z"
   },
   {
    "duration": 2657,
    "start_time": "2022-06-04T13:35:45.402Z"
   },
   {
    "duration": 175,
    "start_time": "2022-06-04T13:37:23.961Z"
   },
   {
    "duration": 145,
    "start_time": "2022-06-04T13:39:36.855Z"
   },
   {
    "duration": 37,
    "start_time": "2022-06-04T13:39:43.249Z"
   },
   {
    "duration": 158,
    "start_time": "2022-06-04T13:39:45.407Z"
   },
   {
    "duration": 115,
    "start_time": "2022-06-04T13:41:18.140Z"
   },
   {
    "duration": 176,
    "start_time": "2022-06-04T13:41:21.003Z"
   },
   {
    "duration": 12,
    "start_time": "2022-06-04T13:46:38.604Z"
   },
   {
    "duration": 11,
    "start_time": "2022-06-04T13:47:39.013Z"
   },
   {
    "duration": 23,
    "start_time": "2022-06-04T13:48:09.651Z"
   },
   {
    "duration": 6,
    "start_time": "2022-06-04T13:48:17.957Z"
   },
   {
    "duration": 12,
    "start_time": "2022-06-04T13:49:41.645Z"
   },
   {
    "duration": 115,
    "start_time": "2022-06-04T13:49:44.909Z"
   },
   {
    "duration": 137,
    "start_time": "2022-06-04T13:50:05.963Z"
   },
   {
    "duration": 9,
    "start_time": "2022-06-04T13:52:07.228Z"
   },
   {
    "duration": 12,
    "start_time": "2022-06-04T13:52:46.073Z"
   },
   {
    "duration": 12,
    "start_time": "2022-06-04T13:54:38.134Z"
   },
   {
    "duration": 14,
    "start_time": "2022-06-04T13:55:36.955Z"
   },
   {
    "duration": 13,
    "start_time": "2022-06-04T13:56:14.015Z"
   },
   {
    "duration": 9,
    "start_time": "2022-06-04T13:57:21.907Z"
   },
   {
    "duration": 8,
    "start_time": "2022-06-04T13:57:38.596Z"
   },
   {
    "duration": 8,
    "start_time": "2022-06-04T13:58:06.616Z"
   },
   {
    "duration": 12,
    "start_time": "2022-06-04T14:01:22.940Z"
   },
   {
    "duration": 8,
    "start_time": "2022-06-04T14:01:54.624Z"
   },
   {
    "duration": 1382,
    "start_time": "2022-06-04T17:52:11.397Z"
   },
   {
    "duration": 97,
    "start_time": "2022-06-04T17:52:12.781Z"
   },
   {
    "duration": 5,
    "start_time": "2022-06-04T17:52:12.880Z"
   },
   {
    "duration": 9,
    "start_time": "2022-06-04T17:52:12.887Z"
   },
   {
    "duration": 28,
    "start_time": "2022-06-04T17:52:12.898Z"
   },
   {
    "duration": 22,
    "start_time": "2022-06-04T17:52:12.929Z"
   },
   {
    "duration": 9,
    "start_time": "2022-06-04T17:52:12.953Z"
   },
   {
    "duration": 62,
    "start_time": "2022-06-04T17:52:12.964Z"
   },
   {
    "duration": 17,
    "start_time": "2022-06-04T17:52:13.028Z"
   },
   {
    "duration": 5,
    "start_time": "2022-06-04T17:52:13.047Z"
   },
   {
    "duration": 18,
    "start_time": "2022-06-04T17:52:13.054Z"
   },
   {
    "duration": 3033,
    "start_time": "2022-06-04T17:52:13.074Z"
   },
   {
    "duration": 912,
    "start_time": "2022-06-04T17:52:16.109Z"
   },
   {
    "duration": 212,
    "start_time": "2022-06-04T17:52:17.025Z"
   },
   {
    "duration": 267,
    "start_time": "2022-06-04T17:52:17.238Z"
   },
   {
    "duration": 181,
    "start_time": "2022-06-04T17:52:17.508Z"
   },
   {
    "duration": 11,
    "start_time": "2022-06-04T17:52:17.691Z"
   },
   {
    "duration": 152,
    "start_time": "2022-06-04T17:52:17.704Z"
   },
   {
    "duration": 8,
    "start_time": "2022-06-04T17:52:17.858Z"
   },
   {
    "duration": 17,
    "start_time": "2022-06-04T17:52:17.868Z"
   },
   {
    "duration": 13,
    "start_time": "2022-06-04T17:52:17.887Z"
   },
   {
    "duration": 140,
    "start_time": "2022-06-04T17:52:21.443Z"
   },
   {
    "duration": 107,
    "start_time": "2022-06-04T17:52:35.031Z"
   },
   {
    "duration": 129,
    "start_time": "2022-06-04T17:53:08.417Z"
   },
   {
    "duration": 15,
    "start_time": "2022-06-04T17:53:36.117Z"
   },
   {
    "duration": 12,
    "start_time": "2022-06-04T17:54:58.706Z"
   },
   {
    "duration": 3,
    "start_time": "2022-06-04T17:55:08.319Z"
   },
   {
    "duration": 88,
    "start_time": "2022-06-04T17:55:08.326Z"
   },
   {
    "duration": 4,
    "start_time": "2022-06-04T17:55:08.416Z"
   },
   {
    "duration": 18,
    "start_time": "2022-06-04T17:55:08.422Z"
   },
   {
    "duration": 17,
    "start_time": "2022-06-04T17:55:08.442Z"
   },
   {
    "duration": 115,
    "start_time": "2022-06-04T17:55:08.462Z"
   },
   {
    "duration": 8,
    "start_time": "2022-06-04T17:55:08.578Z"
   },
   {
    "duration": 50,
    "start_time": "2022-06-04T17:55:08.588Z"
   },
   {
    "duration": 16,
    "start_time": "2022-06-04T17:55:08.640Z"
   },
   {
    "duration": 12,
    "start_time": "2022-06-04T17:55:08.658Z"
   },
   {
    "duration": 17,
    "start_time": "2022-06-04T17:55:08.672Z"
   },
   {
    "duration": 2586,
    "start_time": "2022-06-04T17:55:08.691Z"
   },
   {
    "duration": 834,
    "start_time": "2022-06-04T17:55:11.279Z"
   },
   {
    "duration": 170,
    "start_time": "2022-06-04T17:55:12.115Z"
   },
   {
    "duration": 229,
    "start_time": "2022-06-04T17:55:12.288Z"
   },
   {
    "duration": 162,
    "start_time": "2022-06-04T17:55:12.519Z"
   },
   {
    "duration": 11,
    "start_time": "2022-06-04T17:55:12.682Z"
   },
   {
    "duration": 162,
    "start_time": "2022-06-04T17:55:12.695Z"
   },
   {
    "duration": 11,
    "start_time": "2022-06-04T17:55:12.858Z"
   },
   {
    "duration": 15,
    "start_time": "2022-06-04T17:55:12.870Z"
   },
   {
    "duration": 18,
    "start_time": "2022-06-04T17:55:12.886Z"
   },
   {
    "duration": 142,
    "start_time": "2022-06-04T17:55:12.906Z"
   },
   {
    "duration": 15,
    "start_time": "2022-06-04T17:55:13.050Z"
   },
   {
    "duration": 18,
    "start_time": "2022-06-04T17:55:13.067Z"
   },
   {
    "duration": 8,
    "start_time": "2022-06-04T17:55:13.087Z"
   },
   {
    "duration": 36,
    "start_time": "2022-06-04T17:55:13.096Z"
   },
   {
    "duration": 23,
    "start_time": "2022-06-04T18:09:20.899Z"
   },
   {
    "duration": 22,
    "start_time": "2022-06-04T18:09:40.599Z"
   },
   {
    "duration": 42,
    "start_time": "2022-06-04T18:10:12.117Z"
   },
   {
    "duration": 21,
    "start_time": "2022-06-04T18:10:25.050Z"
   },
   {
    "duration": 19,
    "start_time": "2022-06-04T18:10:30.126Z"
   },
   {
    "duration": 21,
    "start_time": "2022-06-04T18:10:34.162Z"
   },
   {
    "duration": 15,
    "start_time": "2022-06-04T18:11:12.438Z"
   },
   {
    "duration": 125,
    "start_time": "2022-06-04T18:11:17.487Z"
   },
   {
    "duration": 17,
    "start_time": "2022-06-04T18:11:45.234Z"
   },
   {
    "duration": 21,
    "start_time": "2022-06-04T18:12:22.595Z"
   },
   {
    "duration": 232,
    "start_time": "2022-06-04T18:12:31.222Z"
   },
   {
    "duration": 17,
    "start_time": "2022-06-04T18:12:45.306Z"
   },
   {
    "duration": 21,
    "start_time": "2022-06-04T18:12:59.591Z"
   },
   {
    "duration": 18,
    "start_time": "2022-06-04T18:13:17.300Z"
   },
   {
    "duration": 241,
    "start_time": "2022-06-04T18:13:26.303Z"
   },
   {
    "duration": 142,
    "start_time": "2022-06-04T18:18:41.347Z"
   },
   {
    "duration": 164,
    "start_time": "2022-06-04T18:31:51.410Z"
   },
   {
    "duration": 27,
    "start_time": "2022-06-04T18:32:50.038Z"
   },
   {
    "duration": 205,
    "start_time": "2022-06-04T18:36:33.829Z"
   },
   {
    "duration": 158,
    "start_time": "2022-06-04T18:37:05.329Z"
   },
   {
    "duration": 165,
    "start_time": "2022-06-04T18:38:29.995Z"
   },
   {
    "duration": 271,
    "start_time": "2022-06-04T18:38:55.284Z"
   },
   {
    "duration": 21,
    "start_time": "2022-06-04T18:39:12.353Z"
   },
   {
    "duration": 173,
    "start_time": "2022-06-04T18:39:16.621Z"
   },
   {
    "duration": 163,
    "start_time": "2022-06-04T18:39:24.697Z"
   },
   {
    "duration": 249,
    "start_time": "2022-06-04T18:40:17.117Z"
   },
   {
    "duration": 179,
    "start_time": "2022-06-04T18:40:27.749Z"
   },
   {
    "duration": 2816,
    "start_time": "2022-06-04T18:43:18.917Z"
   },
   {
    "duration": 34,
    "start_time": "2022-06-04T18:47:43.985Z"
   },
   {
    "duration": 33,
    "start_time": "2022-06-04T18:48:08.921Z"
   },
   {
    "duration": 33,
    "start_time": "2022-06-04T18:48:15.625Z"
   },
   {
    "duration": 12,
    "start_time": "2022-06-04T18:48:29.745Z"
   },
   {
    "duration": 18,
    "start_time": "2022-06-04T18:48:45.179Z"
   },
   {
    "duration": 9,
    "start_time": "2022-06-04T18:48:50.890Z"
   },
   {
    "duration": 9,
    "start_time": "2022-06-04T18:49:25.705Z"
   },
   {
    "duration": 10,
    "start_time": "2022-06-04T18:50:00.225Z"
   },
   {
    "duration": 8,
    "start_time": "2022-06-04T18:51:01.141Z"
   },
   {
    "duration": 10,
    "start_time": "2022-06-04T18:51:12.178Z"
   },
   {
    "duration": 9,
    "start_time": "2022-06-04T18:51:21.653Z"
   },
   {
    "duration": 10,
    "start_time": "2022-06-04T18:51:24.141Z"
   },
   {
    "duration": 8,
    "start_time": "2022-06-04T18:51:29.336Z"
   },
   {
    "duration": 9,
    "start_time": "2022-06-04T18:51:44.729Z"
   },
   {
    "duration": 8,
    "start_time": "2022-06-04T18:51:48.682Z"
   },
   {
    "duration": 9,
    "start_time": "2022-06-04T18:51:53.949Z"
   },
   {
    "duration": 9,
    "start_time": "2022-06-04T18:52:53.220Z"
   },
   {
    "duration": 26,
    "start_time": "2022-06-04T18:53:50.537Z"
   },
   {
    "duration": 14,
    "start_time": "2022-06-04T18:54:17.418Z"
   },
   {
    "duration": 33,
    "start_time": "2022-06-04T18:55:30.412Z"
   },
   {
    "duration": 9,
    "start_time": "2022-06-04T18:55:38.125Z"
   },
   {
    "duration": 11,
    "start_time": "2022-06-04T18:55:45.276Z"
   },
   {
    "duration": 10,
    "start_time": "2022-06-04T18:56:59.797Z"
   },
   {
    "duration": 9,
    "start_time": "2022-06-04T18:57:02.413Z"
   },
   {
    "duration": 9,
    "start_time": "2022-06-04T18:57:20.750Z"
   },
   {
    "duration": 5317,
    "start_time": "2022-06-04T19:02:55.318Z"
   },
   {
    "duration": 130,
    "start_time": "2022-06-04T19:03:11.584Z"
   },
   {
    "duration": 12728,
    "start_time": "2022-06-04T19:04:43.280Z"
   },
   {
    "duration": 22,
    "start_time": "2022-06-04T19:05:13.351Z"
   },
   {
    "duration": 14,
    "start_time": "2022-06-04T19:05:46.479Z"
   },
   {
    "duration": 115,
    "start_time": "2022-06-04T19:06:03.519Z"
   },
   {
    "duration": 153,
    "start_time": "2022-06-04T19:06:27.800Z"
   },
   {
    "duration": 179,
    "start_time": "2022-06-04T19:07:58.089Z"
   },
   {
    "duration": 167,
    "start_time": "2022-06-04T19:08:33.313Z"
   },
   {
    "duration": 158,
    "start_time": "2022-06-04T19:08:38.989Z"
   },
   {
    "duration": 173,
    "start_time": "2022-06-04T19:09:01.433Z"
   },
   {
    "duration": 12,
    "start_time": "2022-06-04T19:10:30.801Z"
   },
   {
    "duration": 9,
    "start_time": "2022-06-04T19:10:39.705Z"
   },
   {
    "duration": 9,
    "start_time": "2022-06-04T19:10:44.293Z"
   },
   {
    "duration": 165,
    "start_time": "2022-06-04T19:11:51.150Z"
   },
   {
    "duration": 186,
    "start_time": "2022-06-04T19:15:08.034Z"
   },
   {
    "duration": 16,
    "start_time": "2022-06-04T19:17:04.387Z"
   },
   {
    "duration": 16,
    "start_time": "2022-06-04T19:17:26.057Z"
   },
   {
    "duration": 11,
    "start_time": "2022-06-04T19:18:04.612Z"
   },
   {
    "duration": 8,
    "start_time": "2022-06-04T19:18:09.431Z"
   },
   {
    "duration": 8,
    "start_time": "2022-06-04T19:18:11.543Z"
   },
   {
    "duration": 11,
    "start_time": "2022-06-04T19:27:44.200Z"
   },
   {
    "duration": 21,
    "start_time": "2022-06-04T19:32:50.933Z"
   },
   {
    "duration": 40,
    "start_time": "2022-06-04T19:33:01.905Z"
   },
   {
    "duration": 40,
    "start_time": "2022-06-04T19:33:12.836Z"
   },
   {
    "duration": 174,
    "start_time": "2022-06-04T19:33:40.581Z"
   },
   {
    "duration": 29,
    "start_time": "2022-06-04T19:34:12.649Z"
   },
   {
    "duration": 28,
    "start_time": "2022-06-04T19:34:18.347Z"
   },
   {
    "duration": 27,
    "start_time": "2022-06-04T19:34:24.833Z"
   },
   {
    "duration": 46,
    "start_time": "2022-06-04T19:39:45.942Z"
   },
   {
    "duration": 21,
    "start_time": "2022-06-04T19:39:53.200Z"
   },
   {
    "duration": 24,
    "start_time": "2022-06-04T19:40:22.013Z"
   },
   {
    "duration": 170,
    "start_time": "2022-06-04T19:41:02.351Z"
   },
   {
    "duration": 204,
    "start_time": "2022-06-04T19:42:36.248Z"
   },
   {
    "duration": 202,
    "start_time": "2022-06-04T19:42:57.337Z"
   },
   {
    "duration": 12,
    "start_time": "2022-06-04T19:48:30.996Z"
   },
   {
    "duration": 9,
    "start_time": "2022-06-04T19:56:56.924Z"
   },
   {
    "duration": 16,
    "start_time": "2022-06-04T20:29:53.096Z"
   },
   {
    "duration": 121,
    "start_time": "2022-06-04T20:30:09.387Z"
   },
   {
    "duration": 182,
    "start_time": "2022-06-04T20:30:56.811Z"
   },
   {
    "duration": 141,
    "start_time": "2022-06-04T20:31:11.607Z"
   },
   {
    "duration": 176,
    "start_time": "2022-06-04T20:31:11.787Z"
   },
   {
    "duration": 161,
    "start_time": "2022-06-04T20:32:21.911Z"
   },
   {
    "duration": 4,
    "start_time": "2022-06-04T20:34:01.522Z"
   },
   {
    "duration": 158,
    "start_time": "2022-06-04T20:59:28.164Z"
   },
   {
    "duration": 9,
    "start_time": "2022-06-04T21:00:33.796Z"
   },
   {
    "duration": 28,
    "start_time": "2022-06-04T21:19:26.607Z"
   },
   {
    "duration": 27,
    "start_time": "2022-06-04T21:21:25.989Z"
   },
   {
    "duration": 3,
    "start_time": "2022-06-04T21:21:37.999Z"
   },
   {
    "duration": 29,
    "start_time": "2022-06-04T21:21:43.158Z"
   },
   {
    "duration": 26,
    "start_time": "2022-06-04T21:22:32.607Z"
   },
   {
    "duration": 19,
    "start_time": "2022-06-04T21:23:25.887Z"
   },
   {
    "duration": 7,
    "start_time": "2022-06-04T21:23:35.358Z"
   },
   {
    "duration": 7,
    "start_time": "2022-06-04T21:23:57.009Z"
   },
   {
    "duration": 1298,
    "start_time": "2022-06-05T10:35:03.996Z"
   },
   {
    "duration": 108,
    "start_time": "2022-06-05T10:35:05.296Z"
   },
   {
    "duration": 6,
    "start_time": "2022-06-05T10:35:05.408Z"
   },
   {
    "duration": 8,
    "start_time": "2022-06-05T10:35:05.416Z"
   },
   {
    "duration": 14,
    "start_time": "2022-06-05T10:35:05.425Z"
   },
   {
    "duration": 15,
    "start_time": "2022-06-05T10:35:05.440Z"
   },
   {
    "duration": 8,
    "start_time": "2022-06-05T10:35:05.457Z"
   },
   {
    "duration": 43,
    "start_time": "2022-06-05T10:35:05.466Z"
   },
   {
    "duration": 39,
    "start_time": "2022-06-05T10:35:05.510Z"
   },
   {
    "duration": 5,
    "start_time": "2022-06-05T10:35:05.551Z"
   },
   {
    "duration": 15,
    "start_time": "2022-06-05T10:35:05.558Z"
   },
   {
    "duration": 2923,
    "start_time": "2022-06-05T10:35:05.575Z"
   },
   {
    "duration": 882,
    "start_time": "2022-06-05T10:35:08.499Z"
   },
   {
    "duration": 164,
    "start_time": "2022-06-05T10:35:09.382Z"
   },
   {
    "duration": 162,
    "start_time": "2022-06-05T10:35:09.548Z"
   },
   {
    "duration": 174,
    "start_time": "2022-06-05T10:35:09.712Z"
   },
   {
    "duration": 186,
    "start_time": "2022-06-05T10:35:09.887Z"
   },
   {
    "duration": 8,
    "start_time": "2022-06-05T10:35:10.075Z"
   },
   {
    "duration": 9,
    "start_time": "2022-06-05T10:35:10.085Z"
   },
   {
    "duration": 0,
    "start_time": "2022-06-05T10:35:10.096Z"
   },
   {
    "duration": 0,
    "start_time": "2022-06-05T10:35:10.097Z"
   },
   {
    "duration": 150,
    "start_time": "2022-06-05T10:35:24.903Z"
   },
   {
    "duration": 17,
    "start_time": "2022-06-05T10:35:33.624Z"
   },
   {
    "duration": 3,
    "start_time": "2022-06-05T10:35:40.627Z"
   },
   {
    "duration": 91,
    "start_time": "2022-06-05T10:35:40.639Z"
   },
   {
    "duration": 4,
    "start_time": "2022-06-05T10:35:40.733Z"
   },
   {
    "duration": 10,
    "start_time": "2022-06-05T10:35:40.739Z"
   },
   {
    "duration": 11,
    "start_time": "2022-06-05T10:35:40.751Z"
   },
   {
    "duration": 15,
    "start_time": "2022-06-05T10:35:40.765Z"
   },
   {
    "duration": 8,
    "start_time": "2022-06-05T10:35:40.782Z"
   },
   {
    "duration": 59,
    "start_time": "2022-06-05T10:35:40.791Z"
   },
   {
    "duration": 18,
    "start_time": "2022-06-05T10:35:40.852Z"
   },
   {
    "duration": 6,
    "start_time": "2022-06-05T10:35:40.871Z"
   },
   {
    "duration": 16,
    "start_time": "2022-06-05T10:35:40.878Z"
   },
   {
    "duration": 2734,
    "start_time": "2022-06-05T10:35:40.896Z"
   },
   {
    "duration": 906,
    "start_time": "2022-06-05T10:35:43.632Z"
   },
   {
    "duration": 189,
    "start_time": "2022-06-05T10:35:44.539Z"
   },
   {
    "duration": 161,
    "start_time": "2022-06-05T10:35:44.730Z"
   },
   {
    "duration": 191,
    "start_time": "2022-06-05T10:35:44.893Z"
   },
   {
    "duration": 192,
    "start_time": "2022-06-05T10:35:45.086Z"
   },
   {
    "duration": 9,
    "start_time": "2022-06-05T10:35:45.280Z"
   },
   {
    "duration": 16,
    "start_time": "2022-06-05T10:35:45.291Z"
   },
   {
    "duration": 5,
    "start_time": "2022-06-05T10:35:45.309Z"
   },
   {
    "duration": 28,
    "start_time": "2022-06-05T10:35:45.316Z"
   },
   {
    "duration": 3,
    "start_time": "2022-06-05T11:05:36.957Z"
   },
   {
    "duration": 111,
    "start_time": "2022-06-05T11:05:36.964Z"
   },
   {
    "duration": 4,
    "start_time": "2022-06-05T11:05:37.077Z"
   },
   {
    "duration": 24,
    "start_time": "2022-06-05T11:05:37.083Z"
   },
   {
    "duration": 20,
    "start_time": "2022-06-05T11:05:37.108Z"
   },
   {
    "duration": 24,
    "start_time": "2022-06-05T11:05:37.130Z"
   },
   {
    "duration": 21,
    "start_time": "2022-06-05T11:05:37.155Z"
   },
   {
    "duration": 51,
    "start_time": "2022-06-05T11:05:37.177Z"
   },
   {
    "duration": 16,
    "start_time": "2022-06-05T11:05:37.230Z"
   },
   {
    "duration": 8,
    "start_time": "2022-06-05T11:05:37.247Z"
   },
   {
    "duration": 16,
    "start_time": "2022-06-05T11:05:37.256Z"
   },
   {
    "duration": 2894,
    "start_time": "2022-06-05T11:05:37.274Z"
   },
   {
    "duration": 814,
    "start_time": "2022-06-05T11:05:40.169Z"
   },
   {
    "duration": 263,
    "start_time": "2022-06-05T11:05:40.985Z"
   },
   {
    "duration": 180,
    "start_time": "2022-06-05T11:05:41.251Z"
   },
   {
    "duration": 186,
    "start_time": "2022-06-05T11:05:41.440Z"
   },
   {
    "duration": 14,
    "start_time": "2022-06-05T11:05:41.628Z"
   },
   {
    "duration": 18,
    "start_time": "2022-06-05T11:05:41.644Z"
   },
   {
    "duration": 332,
    "start_time": "2022-06-05T14:37:18.849Z"
   },
   {
    "duration": 337,
    "start_time": "2022-06-05T14:38:01.105Z"
   },
   {
    "duration": 388,
    "start_time": "2022-06-05T14:38:59.397Z"
   },
   {
    "duration": 1250,
    "start_time": "2022-06-05T14:46:52.265Z"
   },
   {
    "duration": 111,
    "start_time": "2022-06-05T14:46:53.517Z"
   },
   {
    "duration": 5,
    "start_time": "2022-06-05T14:46:53.630Z"
   },
   {
    "duration": 9,
    "start_time": "2022-06-05T14:46:53.637Z"
   },
   {
    "duration": 17,
    "start_time": "2022-06-05T14:46:53.648Z"
   },
   {
    "duration": 22,
    "start_time": "2022-06-05T14:46:53.667Z"
   },
   {
    "duration": 12,
    "start_time": "2022-06-05T14:46:53.692Z"
   },
   {
    "duration": 71,
    "start_time": "2022-06-05T14:46:53.706Z"
   },
   {
    "duration": 20,
    "start_time": "2022-06-05T14:46:53.780Z"
   },
   {
    "duration": 5,
    "start_time": "2022-06-05T14:46:53.803Z"
   },
   {
    "duration": 39,
    "start_time": "2022-06-05T14:46:53.809Z"
   },
   {
    "duration": 3303,
    "start_time": "2022-06-05T14:46:53.849Z"
   },
   {
    "duration": 944,
    "start_time": "2022-06-05T14:46:57.155Z"
   },
   {
    "duration": 230,
    "start_time": "2022-06-05T14:46:58.102Z"
   },
   {
    "duration": 209,
    "start_time": "2022-06-05T14:46:58.334Z"
   },
   {
    "duration": 222,
    "start_time": "2022-06-05T14:46:58.545Z"
   },
   {
    "duration": 10,
    "start_time": "2022-06-05T14:46:58.769Z"
   },
   {
    "duration": 24,
    "start_time": "2022-06-05T14:46:58.782Z"
   },
   {
    "duration": 189,
    "start_time": "2022-06-05T14:46:58.808Z"
   },
   {
    "duration": 198,
    "start_time": "2022-06-05T14:47:22.258Z"
   },
   {
    "duration": 314,
    "start_time": "2022-06-05T14:48:57.606Z"
   },
   {
    "duration": 427,
    "start_time": "2022-06-05T14:49:11.354Z"
   },
   {
    "duration": 35,
    "start_time": "2022-06-05T14:49:27.419Z"
   },
   {
    "duration": 322,
    "start_time": "2022-06-05T14:49:31.761Z"
   },
   {
    "duration": 184,
    "start_time": "2022-06-05T14:51:21.405Z"
   },
   {
    "duration": 33,
    "start_time": "2022-06-06T08:31:52.708Z"
   },
   {
    "duration": 1561,
    "start_time": "2022-06-06T08:35:53.785Z"
   },
   {
    "duration": 136,
    "start_time": "2022-06-06T08:35:58.229Z"
   },
   {
    "duration": 35,
    "start_time": "2022-06-06T08:37:00.499Z"
   },
   {
    "duration": 50,
    "start_time": "2022-06-06T08:39:01.838Z"
   },
   {
    "duration": 40,
    "start_time": "2022-06-06T08:44:45.065Z"
   },
   {
    "duration": 35,
    "start_time": "2022-06-06T08:45:16.616Z"
   },
   {
    "duration": 1207,
    "start_time": "2022-06-06T09:41:57.956Z"
   },
   {
    "duration": 79,
    "start_time": "2022-06-06T09:41:59.165Z"
   },
   {
    "duration": 5,
    "start_time": "2022-06-06T09:41:59.245Z"
   },
   {
    "duration": 8,
    "start_time": "2022-06-06T09:41:59.252Z"
   },
   {
    "duration": 19,
    "start_time": "2022-06-06T09:41:59.261Z"
   },
   {
    "duration": 17,
    "start_time": "2022-06-06T09:41:59.282Z"
   },
   {
    "duration": 28,
    "start_time": "2022-06-06T09:41:59.301Z"
   },
   {
    "duration": 37,
    "start_time": "2022-06-06T09:41:59.331Z"
   },
   {
    "duration": 15,
    "start_time": "2022-06-06T09:41:59.370Z"
   },
   {
    "duration": 8,
    "start_time": "2022-06-06T09:41:59.386Z"
   },
   {
    "duration": 34,
    "start_time": "2022-06-06T09:41:59.396Z"
   },
   {
    "duration": 420,
    "start_time": "2022-06-06T09:42:05.950Z"
   },
   {
    "duration": 367,
    "start_time": "2022-06-06T09:42:51.553Z"
   },
   {
    "duration": 2575,
    "start_time": "2022-06-06T09:43:25.801Z"
   },
   {
    "duration": 283,
    "start_time": "2022-06-06T09:43:35.417Z"
   },
   {
    "duration": 2610,
    "start_time": "2022-06-06T09:46:42.596Z"
   },
   {
    "duration": 285,
    "start_time": "2022-06-06T09:47:00.268Z"
   },
   {
    "duration": 5,
    "start_time": "2022-06-06T09:47:09.189Z"
   },
   {
    "duration": 2629,
    "start_time": "2022-06-06T09:47:17.356Z"
   },
   {
    "duration": 2656,
    "start_time": "2022-06-06T09:51:13.659Z"
   },
   {
    "duration": 2628,
    "start_time": "2022-06-06T09:52:07.684Z"
   },
   {
    "duration": 2557,
    "start_time": "2022-06-06T09:52:10.979Z"
   },
   {
    "duration": 2536,
    "start_time": "2022-06-06T09:52:15.059Z"
   },
   {
    "duration": 2496,
    "start_time": "2022-06-06T09:52:57.100Z"
   },
   {
    "duration": 2749,
    "start_time": "2022-06-06T09:55:44.358Z"
   },
   {
    "duration": 343,
    "start_time": "2022-06-06T10:00:04.591Z"
   },
   {
    "duration": 395,
    "start_time": "2022-06-06T10:00:29.956Z"
   },
   {
    "duration": 317,
    "start_time": "2022-06-06T10:00:38.836Z"
   },
   {
    "duration": 328,
    "start_time": "2022-06-06T10:00:42.533Z"
   },
   {
    "duration": 442,
    "start_time": "2022-06-06T10:01:18.061Z"
   },
   {
    "duration": 363,
    "start_time": "2022-06-06T10:01:49.469Z"
   },
   {
    "duration": 45,
    "start_time": "2022-06-06T10:08:46.158Z"
   },
   {
    "duration": 297,
    "start_time": "2022-06-06T10:08:56.605Z"
   },
   {
    "duration": 296,
    "start_time": "2022-06-06T10:09:33.462Z"
   },
   {
    "duration": 335,
    "start_time": "2022-06-06T10:09:48.885Z"
   },
   {
    "duration": 29,
    "start_time": "2022-06-06T10:11:23.946Z"
   },
   {
    "duration": 21,
    "start_time": "2022-06-06T10:11:35.210Z"
   },
   {
    "duration": 2085,
    "start_time": "2022-06-06T10:11:56.881Z"
   },
   {
    "duration": 2510,
    "start_time": "2022-06-06T10:12:50.241Z"
   },
   {
    "duration": 2263,
    "start_time": "2022-06-06T10:13:32.811Z"
   },
   {
    "duration": 2288,
    "start_time": "2022-06-06T10:13:56.900Z"
   },
   {
    "duration": 2559,
    "start_time": "2022-06-06T10:14:29.651Z"
   },
   {
    "duration": 314,
    "start_time": "2022-06-06T10:27:18.754Z"
   },
   {
    "duration": 1676,
    "start_time": "2022-06-06T10:31:37.591Z"
   },
   {
    "duration": 109,
    "start_time": "2022-06-06T10:36:19.680Z"
   },
   {
    "duration": 11,
    "start_time": "2022-06-06T10:36:44.029Z"
   },
   {
    "duration": 18,
    "start_time": "2022-06-06T10:36:47.333Z"
   },
   {
    "duration": 28,
    "start_time": "2022-06-06T10:36:56.804Z"
   },
   {
    "duration": 187,
    "start_time": "2022-06-06T10:37:24.693Z"
   },
   {
    "duration": 102,
    "start_time": "2022-06-06T10:37:32.510Z"
   },
   {
    "duration": 18,
    "start_time": "2022-06-06T10:39:36.263Z"
   },
   {
    "duration": 11,
    "start_time": "2022-06-06T10:40:10.408Z"
   },
   {
    "duration": 9,
    "start_time": "2022-06-06T10:40:23.304Z"
   },
   {
    "duration": 12,
    "start_time": "2022-06-06T10:41:06.746Z"
   },
   {
    "duration": 7,
    "start_time": "2022-06-06T10:41:24.841Z"
   },
   {
    "duration": 8,
    "start_time": "2022-06-06T10:41:31.782Z"
   },
   {
    "duration": 31,
    "start_time": "2022-06-06T10:59:10.479Z"
   },
   {
    "duration": 22,
    "start_time": "2022-06-06T10:59:14.109Z"
   },
   {
    "duration": 34,
    "start_time": "2022-06-06T11:45:19.057Z"
   },
   {
    "duration": 30,
    "start_time": "2022-06-06T11:45:23.140Z"
   },
   {
    "duration": 8,
    "start_time": "2022-06-06T11:45:26.172Z"
   },
   {
    "duration": 8,
    "start_time": "2022-06-06T11:46:59.795Z"
   },
   {
    "duration": 7,
    "start_time": "2022-06-06T11:47:03.699Z"
   },
   {
    "duration": 6,
    "start_time": "2022-06-06T11:47:38.285Z"
   },
   {
    "duration": 8,
    "start_time": "2022-06-06T11:47:40.524Z"
   },
   {
    "duration": 26,
    "start_time": "2022-06-06T11:50:40.167Z"
   },
   {
    "duration": 20,
    "start_time": "2022-06-06T11:51:10.865Z"
   },
   {
    "duration": 19,
    "start_time": "2022-06-06T11:51:19.343Z"
   },
   {
    "duration": 20,
    "start_time": "2022-06-06T11:51:49.432Z"
   },
   {
    "duration": 21,
    "start_time": "2022-06-06T11:51:51.097Z"
   },
   {
    "duration": 22,
    "start_time": "2022-06-06T11:52:16.723Z"
   },
   {
    "duration": 8,
    "start_time": "2022-06-06T11:56:48.621Z"
   },
   {
    "duration": 7,
    "start_time": "2022-06-06T11:56:55.396Z"
   },
   {
    "duration": 8,
    "start_time": "2022-06-06T11:56:57.847Z"
   },
   {
    "duration": 9,
    "start_time": "2022-06-06T11:57:04.667Z"
   },
   {
    "duration": 9,
    "start_time": "2022-06-06T11:57:08.815Z"
   },
   {
    "duration": 7,
    "start_time": "2022-06-06T11:57:34.738Z"
   },
   {
    "duration": 9,
    "start_time": "2022-06-06T11:57:39.383Z"
   },
   {
    "duration": 9,
    "start_time": "2022-06-06T11:57:46.871Z"
   },
   {
    "duration": 117,
    "start_time": "2022-06-06T11:58:21.278Z"
   },
   {
    "duration": 93,
    "start_time": "2022-06-06T11:58:46.371Z"
   },
   {
    "duration": 102,
    "start_time": "2022-06-06T11:58:58.712Z"
   },
   {
    "duration": 122,
    "start_time": "2022-06-06T11:59:05.071Z"
   },
   {
    "duration": 131,
    "start_time": "2022-06-06T11:59:13.384Z"
   },
   {
    "duration": 139,
    "start_time": "2022-06-06T11:59:25.289Z"
   },
   {
    "duration": 124,
    "start_time": "2022-06-06T11:59:32.122Z"
   },
   {
    "duration": 139,
    "start_time": "2022-06-06T11:59:53.091Z"
   },
   {
    "duration": 137,
    "start_time": "2022-06-06T12:00:02.564Z"
   },
   {
    "duration": 150,
    "start_time": "2022-06-06T12:00:05.658Z"
   },
   {
    "duration": 235,
    "start_time": "2022-06-06T12:00:12.256Z"
   },
   {
    "duration": 151,
    "start_time": "2022-06-06T12:00:26.906Z"
   },
   {
    "duration": 136,
    "start_time": "2022-06-06T12:01:08.314Z"
   },
   {
    "duration": 130,
    "start_time": "2022-06-06T12:01:42.873Z"
   },
   {
    "duration": 123,
    "start_time": "2022-06-06T12:02:05.338Z"
   },
   {
    "duration": 414,
    "start_time": "2022-06-06T12:02:16.885Z"
   },
   {
    "duration": 164,
    "start_time": "2022-06-06T12:02:21.812Z"
   },
   {
    "duration": 146,
    "start_time": "2022-06-06T12:04:14.615Z"
   },
   {
    "duration": 131,
    "start_time": "2022-06-06T12:04:20.119Z"
   },
   {
    "duration": 10,
    "start_time": "2022-06-06T12:32:24.380Z"
   },
   {
    "duration": 10,
    "start_time": "2022-06-06T12:32:57.980Z"
   },
   {
    "duration": 13,
    "start_time": "2022-06-06T12:33:16.204Z"
   },
   {
    "duration": 956,
    "start_time": "2022-06-06T12:33:30.493Z"
   },
   {
    "duration": 20,
    "start_time": "2022-06-06T12:33:51.750Z"
   },
   {
    "duration": 6,
    "start_time": "2022-06-06T12:34:44.310Z"
   },
   {
    "duration": 19,
    "start_time": "2022-06-06T12:34:45.869Z"
   },
   {
    "duration": 1055,
    "start_time": "2022-06-06T12:34:58.214Z"
   },
   {
    "duration": 10,
    "start_time": "2022-06-06T12:35:26.766Z"
   },
   {
    "duration": 3,
    "start_time": "2022-06-06T12:35:32.987Z"
   },
   {
    "duration": 198,
    "start_time": "2022-06-06T12:35:32.992Z"
   },
   {
    "duration": 5,
    "start_time": "2022-06-06T12:35:33.191Z"
   },
   {
    "duration": 24,
    "start_time": "2022-06-06T12:35:33.199Z"
   },
   {
    "duration": 28,
    "start_time": "2022-06-06T12:35:33.224Z"
   },
   {
    "duration": 122,
    "start_time": "2022-06-06T12:35:33.254Z"
   },
   {
    "duration": 7,
    "start_time": "2022-06-06T12:35:33.377Z"
   },
   {
    "duration": 51,
    "start_time": "2022-06-06T12:35:33.386Z"
   },
   {
    "duration": 24,
    "start_time": "2022-06-06T12:35:33.442Z"
   },
   {
    "duration": 22,
    "start_time": "2022-06-06T12:35:33.467Z"
   },
   {
    "duration": 29,
    "start_time": "2022-06-06T12:35:33.491Z"
   },
   {
    "duration": 16,
    "start_time": "2022-06-06T12:35:33.530Z"
   },
   {
    "duration": 26,
    "start_time": "2022-06-06T12:35:33.549Z"
   },
   {
    "duration": 20,
    "start_time": "2022-06-06T12:35:33.577Z"
   },
   {
    "duration": 18,
    "start_time": "2022-06-06T12:35:33.599Z"
   },
   {
    "duration": 27,
    "start_time": "2022-06-06T12:35:33.619Z"
   },
   {
    "duration": 21,
    "start_time": "2022-06-06T12:35:33.649Z"
   },
   {
    "duration": 152,
    "start_time": "2022-06-06T12:35:33.672Z"
   },
   {
    "duration": 173,
    "start_time": "2022-06-06T12:35:33.826Z"
   },
   {
    "duration": 57,
    "start_time": "2022-06-06T12:35:34.000Z"
   },
   {
    "duration": 16,
    "start_time": "2022-06-06T12:35:34.059Z"
   },
   {
    "duration": 18,
    "start_time": "2022-06-06T12:35:34.077Z"
   },
   {
    "duration": 40,
    "start_time": "2022-06-06T12:35:34.097Z"
   },
   {
    "duration": 3043,
    "start_time": "2022-06-06T12:35:34.139Z"
   },
   {
    "duration": 348,
    "start_time": "2022-06-06T12:35:37.184Z"
   },
   {
    "duration": 1879,
    "start_time": "2022-06-06T12:35:37.534Z"
   },
   {
    "duration": 836,
    "start_time": "2022-06-06T12:35:39.415Z"
   },
   {
    "duration": 9,
    "start_time": "2022-06-06T12:35:40.253Z"
   },
   {
    "duration": 18,
    "start_time": "2022-06-06T12:36:07.584Z"
   },
   {
    "duration": 28,
    "start_time": "2022-06-06T12:37:04.585Z"
   },
   {
    "duration": 445,
    "start_time": "2022-06-06T12:37:09.018Z"
   },
   {
    "duration": 6,
    "start_time": "2022-06-06T12:37:23.768Z"
   },
   {
    "duration": 21,
    "start_time": "2022-06-06T12:37:25.618Z"
   },
   {
    "duration": 1235,
    "start_time": "2022-06-06T12:37:44.705Z"
   },
   {
    "duration": 12,
    "start_time": "2022-06-06T12:39:45.724Z"
   },
   {
    "duration": 34,
    "start_time": "2022-06-06T12:39:47.132Z"
   },
   {
    "duration": 1756,
    "start_time": "2022-06-06T12:41:11.926Z"
   },
   {
    "duration": 3,
    "start_time": "2022-06-06T12:44:53.691Z"
   },
   {
    "duration": 73,
    "start_time": "2022-06-06T12:44:53.696Z"
   },
   {
    "duration": 4,
    "start_time": "2022-06-06T12:44:53.771Z"
   },
   {
    "duration": 8,
    "start_time": "2022-06-06T12:44:53.777Z"
   },
   {
    "duration": 17,
    "start_time": "2022-06-06T12:44:53.787Z"
   },
   {
    "duration": 34,
    "start_time": "2022-06-06T12:44:53.806Z"
   },
   {
    "duration": 9,
    "start_time": "2022-06-06T12:44:53.843Z"
   },
   {
    "duration": 25,
    "start_time": "2022-06-06T12:44:53.854Z"
   },
   {
    "duration": 50,
    "start_time": "2022-06-06T12:44:53.881Z"
   },
   {
    "duration": 18,
    "start_time": "2022-06-06T12:44:53.934Z"
   },
   {
    "duration": 31,
    "start_time": "2022-06-06T12:44:53.955Z"
   },
   {
    "duration": 8,
    "start_time": "2022-06-06T12:44:53.988Z"
   },
   {
    "duration": 8,
    "start_time": "2022-06-06T12:44:53.998Z"
   },
   {
    "duration": 9,
    "start_time": "2022-06-06T12:44:54.028Z"
   },
   {
    "duration": 11,
    "start_time": "2022-06-06T12:44:54.039Z"
   },
   {
    "duration": 11,
    "start_time": "2022-06-06T12:44:54.052Z"
   },
   {
    "duration": 7,
    "start_time": "2022-06-06T12:44:54.065Z"
   },
   {
    "duration": 173,
    "start_time": "2022-06-06T12:44:54.074Z"
   },
   {
    "duration": 135,
    "start_time": "2022-06-06T12:44:54.251Z"
   },
   {
    "duration": 47,
    "start_time": "2022-06-06T12:44:54.388Z"
   },
   {
    "duration": 25,
    "start_time": "2022-06-06T12:44:54.437Z"
   },
   {
    "duration": 6,
    "start_time": "2022-06-06T12:44:54.463Z"
   },
   {
    "duration": 21,
    "start_time": "2022-06-06T12:44:54.470Z"
   },
   {
    "duration": 3058,
    "start_time": "2022-06-06T12:44:54.493Z"
   },
   {
    "duration": 345,
    "start_time": "2022-06-06T12:44:57.553Z"
   },
   {
    "duration": 1898,
    "start_time": "2022-06-06T12:44:57.899Z"
   },
   {
    "duration": 891,
    "start_time": "2022-06-06T12:44:59.799Z"
   },
   {
    "duration": 6,
    "start_time": "2022-06-06T12:45:00.692Z"
   },
   {
    "duration": 5,
    "start_time": "2022-06-06T12:45:17.914Z"
   },
   {
    "duration": 22,
    "start_time": "2022-06-06T12:45:18.218Z"
   },
   {
    "duration": 1257,
    "start_time": "2022-06-06T12:45:19.290Z"
   },
   {
    "duration": 1292,
    "start_time": "2022-06-06T12:45:27.514Z"
   },
   {
    "duration": 6,
    "start_time": "2022-06-06T13:00:25.945Z"
   },
   {
    "duration": 21,
    "start_time": "2022-06-06T13:00:32.459Z"
   },
   {
    "duration": 1640,
    "start_time": "2022-06-06T13:00:49.531Z"
   },
   {
    "duration": 3,
    "start_time": "2022-06-06T13:01:31.345Z"
   },
   {
    "duration": 85,
    "start_time": "2022-06-06T13:01:31.350Z"
   },
   {
    "duration": 6,
    "start_time": "2022-06-06T13:01:31.437Z"
   },
   {
    "duration": 22,
    "start_time": "2022-06-06T13:01:31.446Z"
   },
   {
    "duration": 29,
    "start_time": "2022-06-06T13:01:31.470Z"
   },
   {
    "duration": 21,
    "start_time": "2022-06-06T13:01:31.502Z"
   },
   {
    "duration": 22,
    "start_time": "2022-06-06T13:01:31.525Z"
   },
   {
    "duration": 35,
    "start_time": "2022-06-06T13:01:31.549Z"
   },
   {
    "duration": 24,
    "start_time": "2022-06-06T13:01:31.587Z"
   },
   {
    "duration": 28,
    "start_time": "2022-06-06T13:01:31.613Z"
   },
   {
    "duration": 30,
    "start_time": "2022-06-06T13:01:31.643Z"
   },
   {
    "duration": 8,
    "start_time": "2022-06-06T13:01:31.675Z"
   },
   {
    "duration": 12,
    "start_time": "2022-06-06T13:01:31.685Z"
   },
   {
    "duration": 23,
    "start_time": "2022-06-06T13:01:31.699Z"
   },
   {
    "duration": 11,
    "start_time": "2022-06-06T13:01:31.723Z"
   },
   {
    "duration": 28,
    "start_time": "2022-06-06T13:01:31.736Z"
   },
   {
    "duration": 24,
    "start_time": "2022-06-06T13:01:31.766Z"
   },
   {
    "duration": 164,
    "start_time": "2022-06-06T13:01:31.792Z"
   },
   {
    "duration": 146,
    "start_time": "2022-06-06T13:01:31.957Z"
   },
   {
    "duration": 41,
    "start_time": "2022-06-06T13:01:32.105Z"
   },
   {
    "duration": 16,
    "start_time": "2022-06-06T13:01:32.148Z"
   },
   {
    "duration": 5,
    "start_time": "2022-06-06T13:01:32.165Z"
   },
   {
    "duration": 26,
    "start_time": "2022-06-06T13:01:32.172Z"
   },
   {
    "duration": 2650,
    "start_time": "2022-06-06T13:01:32.201Z"
   },
   {
    "duration": 318,
    "start_time": "2022-06-06T13:01:34.853Z"
   },
   {
    "duration": 1796,
    "start_time": "2022-06-06T13:01:35.173Z"
   },
   {
    "duration": 757,
    "start_time": "2022-06-06T13:01:36.971Z"
   },
   {
    "duration": 5,
    "start_time": "2022-06-06T13:01:42.915Z"
   },
   {
    "duration": 18,
    "start_time": "2022-06-06T13:01:43.100Z"
   },
   {
    "duration": 1118,
    "start_time": "2022-06-06T13:01:46.139Z"
   },
   {
    "duration": 58,
    "start_time": "2022-06-06T16:42:25.698Z"
   },
   {
    "duration": 1479,
    "start_time": "2022-06-06T16:42:29.901Z"
   },
   {
    "duration": 113,
    "start_time": "2022-06-06T16:42:31.383Z"
   },
   {
    "duration": 8,
    "start_time": "2022-06-06T16:42:31.501Z"
   },
   {
    "duration": 33,
    "start_time": "2022-06-06T16:42:31.512Z"
   },
   {
    "duration": 68,
    "start_time": "2022-06-06T16:42:31.547Z"
   },
   {
    "duration": 45,
    "start_time": "2022-06-06T16:42:31.617Z"
   },
   {
    "duration": 34,
    "start_time": "2022-06-06T16:42:31.664Z"
   },
   {
    "duration": 130,
    "start_time": "2022-06-06T16:43:30.882Z"
   },
   {
    "duration": 27,
    "start_time": "2022-06-06T16:43:40.592Z"
   },
   {
    "duration": 22,
    "start_time": "2022-06-06T16:44:04.853Z"
   },
   {
    "duration": 20,
    "start_time": "2022-06-06T16:44:43.399Z"
   },
   {
    "duration": 4,
    "start_time": "2022-06-06T16:59:25.366Z"
   },
   {
    "duration": 93,
    "start_time": "2022-06-06T16:59:25.412Z"
   },
   {
    "duration": 6,
    "start_time": "2022-06-06T16:59:25.508Z"
   },
   {
    "duration": 12,
    "start_time": "2022-06-06T16:59:25.516Z"
   },
   {
    "duration": 13,
    "start_time": "2022-06-06T16:59:25.530Z"
   },
   {
    "duration": 50,
    "start_time": "2022-06-06T16:59:25.545Z"
   },
   {
    "duration": 14,
    "start_time": "2022-06-06T16:59:25.599Z"
   },
   {
    "duration": 33,
    "start_time": "2022-06-06T16:59:25.616Z"
   },
   {
    "duration": 70,
    "start_time": "2022-06-06T16:59:25.651Z"
   },
   {
    "duration": 26,
    "start_time": "2022-06-06T16:59:25.724Z"
   },
   {
    "duration": 22,
    "start_time": "2022-06-06T16:59:25.753Z"
   },
   {
    "duration": 42,
    "start_time": "2022-06-06T16:59:25.778Z"
   },
   {
    "duration": 3944,
    "start_time": "2022-06-06T16:59:25.822Z"
   },
   {
    "duration": 416,
    "start_time": "2022-06-06T16:59:29.767Z"
   },
   {
    "duration": 2513,
    "start_time": "2022-06-06T16:59:30.186Z"
   },
   {
    "duration": 33,
    "start_time": "2022-06-06T16:59:54.068Z"
   },
   {
    "duration": 1629,
    "start_time": "2022-06-06T16:59:55.085Z"
   },
   {
    "duration": 118,
    "start_time": "2022-06-06T17:07:09.247Z"
   },
   {
    "duration": 412,
    "start_time": "2022-06-06T17:07:53.919Z"
   },
   {
    "duration": 52,
    "start_time": "2022-06-06T17:08:13.854Z"
   },
   {
    "duration": 294,
    "start_time": "2022-06-06T17:08:17.327Z"
   },
   {
    "duration": 416,
    "start_time": "2022-06-06T17:08:35.652Z"
   },
   {
    "duration": 230,
    "start_time": "2022-06-06T17:08:41.891Z"
   },
   {
    "duration": 228,
    "start_time": "2022-06-06T17:08:52.544Z"
   },
   {
    "duration": 3,
    "start_time": "2022-06-06T17:09:09.648Z"
   },
   {
    "duration": 126,
    "start_time": "2022-06-06T17:09:09.655Z"
   },
   {
    "duration": 6,
    "start_time": "2022-06-06T17:09:09.785Z"
   },
   {
    "duration": 21,
    "start_time": "2022-06-06T17:09:09.793Z"
   },
   {
    "duration": 17,
    "start_time": "2022-06-06T17:09:09.816Z"
   },
   {
    "duration": 33,
    "start_time": "2022-06-06T17:09:09.835Z"
   },
   {
    "duration": 13,
    "start_time": "2022-06-06T17:09:09.870Z"
   },
   {
    "duration": 37,
    "start_time": "2022-06-06T17:09:09.887Z"
   },
   {
    "duration": 42,
    "start_time": "2022-06-06T17:09:09.926Z"
   },
   {
    "duration": 27,
    "start_time": "2022-06-06T17:09:09.970Z"
   },
   {
    "duration": 33,
    "start_time": "2022-06-06T17:09:09.999Z"
   },
   {
    "duration": 23,
    "start_time": "2022-06-06T17:09:10.034Z"
   },
   {
    "duration": 252,
    "start_time": "2022-06-06T17:09:10.058Z"
   },
   {
    "duration": 216,
    "start_time": "2022-06-06T17:09:37.292Z"
   },
   {
    "duration": 404,
    "start_time": "2022-06-06T17:09:43.848Z"
   },
   {
    "duration": 408,
    "start_time": "2022-06-06T17:09:50.516Z"
   },
   {
    "duration": 272,
    "start_time": "2022-06-06T17:10:07.319Z"
   },
   {
    "duration": 143,
    "start_time": "2022-06-06T17:10:12.892Z"
   },
   {
    "duration": 354,
    "start_time": "2022-06-06T17:10:23.193Z"
   },
   {
    "duration": 225,
    "start_time": "2022-06-06T17:10:34.100Z"
   },
   {
    "duration": 194,
    "start_time": "2022-06-06T17:10:41.083Z"
   },
   {
    "duration": 221,
    "start_time": "2022-06-06T17:11:12.229Z"
   },
   {
    "duration": 208,
    "start_time": "2022-06-06T17:11:17.439Z"
   },
   {
    "duration": 5,
    "start_time": "2022-06-06T17:11:21.642Z"
   },
   {
    "duration": 156,
    "start_time": "2022-06-06T17:11:21.687Z"
   },
   {
    "duration": 5,
    "start_time": "2022-06-06T17:11:21.845Z"
   },
   {
    "duration": 49,
    "start_time": "2022-06-06T17:11:21.852Z"
   },
   {
    "duration": 22,
    "start_time": "2022-06-06T17:11:21.903Z"
   },
   {
    "duration": 24,
    "start_time": "2022-06-06T17:11:21.928Z"
   },
   {
    "duration": 56,
    "start_time": "2022-06-06T17:11:21.954Z"
   },
   {
    "duration": 34,
    "start_time": "2022-06-06T17:11:22.012Z"
   },
   {
    "duration": 52,
    "start_time": "2022-06-06T17:11:22.048Z"
   },
   {
    "duration": 25,
    "start_time": "2022-06-06T17:11:22.102Z"
   },
   {
    "duration": 6,
    "start_time": "2022-06-06T17:11:22.130Z"
   },
   {
    "duration": 30,
    "start_time": "2022-06-06T17:11:22.138Z"
   },
   {
    "duration": 250,
    "start_time": "2022-06-06T17:11:22.170Z"
   },
   {
    "duration": 0,
    "start_time": "2022-06-06T17:11:22.422Z"
   },
   {
    "duration": 226,
    "start_time": "2022-06-06T17:11:25.588Z"
   },
   {
    "duration": 4,
    "start_time": "2022-06-06T17:13:26.021Z"
   },
   {
    "duration": 110,
    "start_time": "2022-06-06T17:13:26.049Z"
   },
   {
    "duration": 8,
    "start_time": "2022-06-06T17:13:26.161Z"
   },
   {
    "duration": 44,
    "start_time": "2022-06-06T17:13:26.171Z"
   },
   {
    "duration": 17,
    "start_time": "2022-06-06T17:13:26.217Z"
   },
   {
    "duration": 20,
    "start_time": "2022-06-06T17:13:26.236Z"
   },
   {
    "duration": 51,
    "start_time": "2022-06-06T17:13:26.258Z"
   },
   {
    "duration": 24,
    "start_time": "2022-06-06T17:13:26.311Z"
   },
   {
    "duration": 43,
    "start_time": "2022-06-06T17:13:26.336Z"
   },
   {
    "duration": 27,
    "start_time": "2022-06-06T17:13:26.381Z"
   },
   {
    "duration": 7,
    "start_time": "2022-06-06T17:13:26.410Z"
   },
   {
    "duration": 22,
    "start_time": "2022-06-06T17:13:26.420Z"
   },
   {
    "duration": 252,
    "start_time": "2022-06-06T17:13:26.467Z"
   },
   {
    "duration": 0,
    "start_time": "2022-06-06T17:13:26.721Z"
   },
   {
    "duration": 0,
    "start_time": "2022-06-06T17:13:26.723Z"
   },
   {
    "duration": 0,
    "start_time": "2022-06-06T17:13:26.724Z"
   },
   {
    "duration": 0,
    "start_time": "2022-06-06T17:13:26.725Z"
   },
   {
    "duration": 0,
    "start_time": "2022-06-06T17:13:26.726Z"
   },
   {
    "duration": 0,
    "start_time": "2022-06-06T17:13:26.727Z"
   },
   {
    "duration": 0,
    "start_time": "2022-06-06T17:13:26.728Z"
   },
   {
    "duration": 0,
    "start_time": "2022-06-06T17:13:26.729Z"
   },
   {
    "duration": 3123,
    "start_time": "2022-06-06T17:13:45.852Z"
   },
   {
    "duration": 223,
    "start_time": "2022-06-06T17:13:52.898Z"
   },
   {
    "duration": 3187,
    "start_time": "2022-06-06T17:13:57.853Z"
   },
   {
    "duration": 428,
    "start_time": "2022-06-06T17:14:09.593Z"
   },
   {
    "duration": 3319,
    "start_time": "2022-06-06T17:14:14.235Z"
   },
   {
    "duration": 2977,
    "start_time": "2022-06-06T17:14:22.490Z"
   },
   {
    "duration": 353,
    "start_time": "2022-06-06T17:14:39.814Z"
   },
   {
    "duration": 212,
    "start_time": "2022-06-06T17:14:48.752Z"
   },
   {
    "duration": 146,
    "start_time": "2022-06-06T17:15:01.493Z"
   },
   {
    "duration": 322,
    "start_time": "2022-06-06T17:15:30.915Z"
   },
   {
    "duration": 378,
    "start_time": "2022-06-06T17:15:40.601Z"
   },
   {
    "duration": 447,
    "start_time": "2022-06-06T17:15:52.049Z"
   },
   {
    "duration": 337,
    "start_time": "2022-06-06T17:15:59.094Z"
   },
   {
    "duration": 311,
    "start_time": "2022-06-06T17:16:06.778Z"
   },
   {
    "duration": 379,
    "start_time": "2022-06-06T17:16:19.519Z"
   },
   {
    "duration": 350,
    "start_time": "2022-06-06T17:16:35.752Z"
   },
   {
    "duration": 364,
    "start_time": "2022-06-06T17:16:40.461Z"
   },
   {
    "duration": 466,
    "start_time": "2022-06-06T17:16:44.644Z"
   },
   {
    "duration": 324,
    "start_time": "2022-06-06T17:16:53.790Z"
   },
   {
    "duration": 353,
    "start_time": "2022-06-06T17:17:06.695Z"
   },
   {
    "duration": 360,
    "start_time": "2022-06-06T17:17:22.290Z"
   },
   {
    "duration": 432,
    "start_time": "2022-06-06T17:17:27.553Z"
   },
   {
    "duration": 459,
    "start_time": "2022-06-06T17:19:23.807Z"
   },
   {
    "duration": 422,
    "start_time": "2022-06-06T17:19:32.804Z"
   },
   {
    "duration": 387,
    "start_time": "2022-06-06T17:19:42.553Z"
   },
   {
    "duration": 2789,
    "start_time": "2022-06-06T17:22:52.898Z"
   },
   {
    "duration": 197,
    "start_time": "2022-06-06T17:23:06.791Z"
   },
   {
    "duration": 197,
    "start_time": "2022-06-06T17:23:12.418Z"
   },
   {
    "duration": 3168,
    "start_time": "2022-06-06T17:23:16.062Z"
   },
   {
    "duration": 2962,
    "start_time": "2022-06-06T17:23:28.494Z"
   },
   {
    "duration": 3022,
    "start_time": "2022-06-06T17:24:05.598Z"
   },
   {
    "duration": 215,
    "start_time": "2022-06-06T17:24:28.042Z"
   },
   {
    "duration": 54,
    "start_time": "2022-06-06T17:24:33.044Z"
   },
   {
    "duration": 2883,
    "start_time": "2022-06-06T17:24:44.400Z"
   },
   {
    "duration": 131,
    "start_time": "2022-06-06T17:25:22.495Z"
   },
   {
    "duration": 132,
    "start_time": "2022-06-06T17:25:30.992Z"
   },
   {
    "duration": 143,
    "start_time": "2022-06-06T17:25:37.446Z"
   },
   {
    "duration": 148,
    "start_time": "2022-06-06T17:25:45.248Z"
   },
   {
    "duration": 2913,
    "start_time": "2022-06-06T17:26:52.407Z"
   },
   {
    "duration": 3072,
    "start_time": "2022-06-06T17:27:22.947Z"
   },
   {
    "duration": 166,
    "start_time": "2022-06-06T17:27:46.094Z"
   },
   {
    "duration": 188,
    "start_time": "2022-06-06T17:28:16.240Z"
   },
   {
    "duration": 158,
    "start_time": "2022-06-06T17:28:31.091Z"
   },
   {
    "duration": 178,
    "start_time": "2022-06-06T17:29:03.639Z"
   },
   {
    "duration": 219,
    "start_time": "2022-06-06T17:29:50.596Z"
   },
   {
    "duration": 3015,
    "start_time": "2022-06-06T17:30:28.501Z"
   },
   {
    "duration": 3066,
    "start_time": "2022-06-06T17:30:43.596Z"
   },
   {
    "duration": 2901,
    "start_time": "2022-06-06T17:31:22.994Z"
   },
   {
    "duration": 3003,
    "start_time": "2022-06-06T17:33:26.609Z"
   },
   {
    "duration": 380,
    "start_time": "2022-06-06T17:35:02.000Z"
   },
   {
    "duration": 357,
    "start_time": "2022-06-06T17:39:08.347Z"
   },
   {
    "duration": 441,
    "start_time": "2022-06-06T17:42:01.301Z"
   },
   {
    "duration": 341,
    "start_time": "2022-06-06T17:42:14.291Z"
   },
   {
    "duration": 328,
    "start_time": "2022-06-06T17:42:19.910Z"
   },
   {
    "duration": 2848,
    "start_time": "2022-06-06T17:43:16.919Z"
   },
   {
    "duration": 335,
    "start_time": "2022-06-06T17:43:22.316Z"
   },
   {
    "duration": 2913,
    "start_time": "2022-06-06T17:43:59.827Z"
   },
   {
    "duration": 305,
    "start_time": "2022-06-06T17:44:25.287Z"
   },
   {
    "duration": 318,
    "start_time": "2022-06-06T17:44:42.912Z"
   },
   {
    "duration": 352,
    "start_time": "2022-06-06T17:45:49.102Z"
   },
   {
    "duration": 340,
    "start_time": "2022-06-06T17:46:01.139Z"
   },
   {
    "duration": 328,
    "start_time": "2022-06-06T17:46:27.750Z"
   },
   {
    "duration": 3,
    "start_time": "2022-06-06T17:51:18.848Z"
   },
   {
    "duration": 86,
    "start_time": "2022-06-06T17:51:18.853Z"
   },
   {
    "duration": 4,
    "start_time": "2022-06-06T17:51:18.941Z"
   },
   {
    "duration": 6,
    "start_time": "2022-06-06T17:51:18.947Z"
   },
   {
    "duration": 14,
    "start_time": "2022-06-06T17:51:18.955Z"
   },
   {
    "duration": 24,
    "start_time": "2022-06-06T17:51:18.974Z"
   },
   {
    "duration": 9,
    "start_time": "2022-06-06T17:51:19.000Z"
   },
   {
    "duration": 148,
    "start_time": "2022-06-06T17:51:19.011Z"
   },
   {
    "duration": 46,
    "start_time": "2022-06-06T17:51:19.173Z"
   },
   {
    "duration": 19,
    "start_time": "2022-06-06T17:51:19.222Z"
   },
   {
    "duration": 26,
    "start_time": "2022-06-06T17:51:19.243Z"
   },
   {
    "duration": 37,
    "start_time": "2022-06-06T17:51:19.274Z"
   },
   {
    "duration": 2567,
    "start_time": "2022-06-06T17:51:19.314Z"
   },
   {
    "duration": 15,
    "start_time": "2022-06-06T17:51:21.883Z"
   },
   {
    "duration": 1174,
    "start_time": "2022-06-06T17:51:21.900Z"
   },
   {
    "duration": 201,
    "start_time": "2022-06-06T17:51:23.076Z"
   },
   {
    "duration": 174,
    "start_time": "2022-06-06T17:51:23.281Z"
   },
   {
    "duration": 189,
    "start_time": "2022-06-06T17:51:23.457Z"
   },
   {
    "duration": 20,
    "start_time": "2022-06-06T17:51:23.648Z"
   },
   {
    "duration": 21,
    "start_time": "2022-06-06T17:51:23.670Z"
   },
   {
    "duration": 27,
    "start_time": "2022-06-06T17:52:44.602Z"
   },
   {
    "duration": 279,
    "start_time": "2022-06-06T17:52:58.947Z"
   },
   {
    "duration": 203,
    "start_time": "2022-06-06T17:53:33.486Z"
   },
   {
    "duration": 193,
    "start_time": "2022-06-06T17:53:48.290Z"
   },
   {
    "duration": 21,
    "start_time": "2022-06-06T17:56:13.555Z"
   },
   {
    "duration": 4,
    "start_time": "2022-06-06T17:56:36.406Z"
   },
   {
    "duration": 4,
    "start_time": "2022-06-06T17:56:47.714Z"
   },
   {
    "duration": 4,
    "start_time": "2022-06-06T17:56:58.198Z"
   },
   {
    "duration": 4,
    "start_time": "2022-06-06T17:57:20.298Z"
   },
   {
    "duration": 4,
    "start_time": "2022-06-06T17:58:13.589Z"
   },
   {
    "duration": 5,
    "start_time": "2022-06-06T17:58:22.244Z"
   },
   {
    "duration": 3,
    "start_time": "2022-06-06T17:58:29.490Z"
   },
   {
    "duration": 266,
    "start_time": "2022-06-06T18:00:55.931Z"
   },
   {
    "duration": 160,
    "start_time": "2022-06-06T18:01:03.830Z"
   },
   {
    "duration": 1282,
    "start_time": "2022-06-06T18:26:38.785Z"
   },
   {
    "duration": 178,
    "start_time": "2022-06-06T18:26:40.069Z"
   },
   {
    "duration": 6,
    "start_time": "2022-06-06T18:26:40.249Z"
   },
   {
    "duration": 8,
    "start_time": "2022-06-06T18:26:40.257Z"
   },
   {
    "duration": 43,
    "start_time": "2022-06-06T18:26:40.267Z"
   },
   {
    "duration": 24,
    "start_time": "2022-06-06T18:26:40.312Z"
   },
   {
    "duration": 10,
    "start_time": "2022-06-06T18:26:40.338Z"
   },
   {
    "duration": 23,
    "start_time": "2022-06-06T18:26:40.350Z"
   },
   {
    "duration": 46,
    "start_time": "2022-06-06T18:26:40.374Z"
   },
   {
    "duration": 17,
    "start_time": "2022-06-06T18:26:40.422Z"
   },
   {
    "duration": 34,
    "start_time": "2022-06-06T18:26:40.441Z"
   },
   {
    "duration": 35,
    "start_time": "2022-06-06T18:26:40.476Z"
   },
   {
    "duration": 2781,
    "start_time": "2022-06-06T18:26:40.513Z"
   },
   {
    "duration": 16,
    "start_time": "2022-06-06T18:26:43.297Z"
   },
   {
    "duration": 1344,
    "start_time": "2022-06-06T18:26:43.315Z"
   },
   {
    "duration": 186,
    "start_time": "2022-06-06T18:26:44.661Z"
   },
   {
    "duration": 179,
    "start_time": "2022-06-06T18:26:44.849Z"
   },
   {
    "duration": 202,
    "start_time": "2022-06-06T18:26:45.030Z"
   },
   {
    "duration": 10,
    "start_time": "2022-06-06T18:26:45.233Z"
   },
   {
    "duration": 36,
    "start_time": "2022-06-06T18:26:45.245Z"
   },
   {
    "duration": 31,
    "start_time": "2022-06-06T18:26:45.287Z"
   },
   {
    "duration": 4,
    "start_time": "2022-06-06T18:27:06.113Z"
   },
   {
    "duration": 5,
    "start_time": "2022-06-06T18:27:29.429Z"
   },
   {
    "duration": 24,
    "start_time": "2022-06-06T18:31:58.419Z"
   },
   {
    "duration": 4,
    "start_time": "2022-06-06T18:32:28.502Z"
   },
   {
    "duration": 122,
    "start_time": "2022-06-06T18:32:28.508Z"
   },
   {
    "duration": 5,
    "start_time": "2022-06-06T18:32:28.632Z"
   },
   {
    "duration": 17,
    "start_time": "2022-06-06T18:32:28.638Z"
   },
   {
    "duration": 26,
    "start_time": "2022-06-06T18:32:28.657Z"
   },
   {
    "duration": 35,
    "start_time": "2022-06-06T18:32:28.685Z"
   },
   {
    "duration": 7,
    "start_time": "2022-06-06T18:32:28.722Z"
   },
   {
    "duration": 20,
    "start_time": "2022-06-06T18:32:28.732Z"
   },
   {
    "duration": 43,
    "start_time": "2022-06-06T18:32:28.754Z"
   },
   {
    "duration": 24,
    "start_time": "2022-06-06T18:32:28.798Z"
   },
   {
    "duration": 11,
    "start_time": "2022-06-06T18:32:28.824Z"
   },
   {
    "duration": 23,
    "start_time": "2022-06-06T18:32:28.837Z"
   },
   {
    "duration": 3187,
    "start_time": "2022-06-06T18:32:28.862Z"
   },
   {
    "duration": 47,
    "start_time": "2022-06-06T18:32:32.052Z"
   },
   {
    "duration": 1404,
    "start_time": "2022-06-06T18:32:32.103Z"
   },
   {
    "duration": 216,
    "start_time": "2022-06-06T18:32:33.510Z"
   },
   {
    "duration": 195,
    "start_time": "2022-06-06T18:32:33.728Z"
   },
   {
    "duration": 225,
    "start_time": "2022-06-06T18:32:33.925Z"
   },
   {
    "duration": 26,
    "start_time": "2022-06-06T18:32:34.152Z"
   },
   {
    "duration": 43,
    "start_time": "2022-06-06T18:32:34.180Z"
   },
   {
    "duration": 10,
    "start_time": "2022-06-07T15:24:39.950Z"
   },
   {
    "duration": 4,
    "start_time": "2022-06-07T15:24:55.510Z"
   },
   {
    "duration": 36,
    "start_time": "2022-06-07T15:25:18.796Z"
   }
  ],
  "kernelspec": {
   "display_name": "Python 3 (ipykernel)",
   "language": "python",
   "name": "python3"
  },
  "language_info": {
   "codemirror_mode": {
    "name": "ipython",
    "version": 3
   },
   "file_extension": ".py",
   "mimetype": "text/x-python",
   "name": "python",
   "nbconvert_exporter": "python",
   "pygments_lexer": "ipython3",
   "version": "3.9.5"
  },
  "toc": {
   "base_numbering": 1,
   "nav_menu": {},
   "number_sections": true,
   "sideBar": true,
   "skip_h1_title": true,
   "title_cell": "Table of Contents",
   "title_sidebar": "Contents",
   "toc_cell": false,
   "toc_position": {
    "height": "calc(100% - 180px)",
    "left": "10px",
    "top": "150px",
    "width": "165px"
   },
   "toc_section_display": true,
   "toc_window_display": true
  }
 },
 "nbformat": 4,
 "nbformat_minor": 2
}
