{
 "cells": [
  {
   "cell_type": "code",
   "execution_count": 1,
   "metadata": {},
   "outputs": [],
   "source": [
    "import pandas as pd\n",
    "from sqlalchemy import create_engine "
   ]
  },
  {
   "cell_type": "code",
   "execution_count": 2,
   "metadata": {},
   "outputs": [],
   "source": [
    "# устанавливаем параметры\n",
    "db_config = {*** # имя пользователя\n",
    "***, # пароль\n",
    "***,\n",
    "***: 6432, # порт подключения\n",
    "***: 'data-analyst-final-project-db'} # название базы данных\n",
    "connection_string = 'postgresql://{}:{}@{}:{}/{}'.format(db_config['user'],\n",
    " db_config['pwd'],\n",
    " db_config['host'],\n",
    " db_config['port'],\n",
    " db_config['db'])\n",
    "# сохраняем коннектор\n",
    "engine = create_engine(connection_string, connect_args={'sslmode':'require'}) "
   ]
  },
  {
   "cell_type": "markdown",
   "metadata": {},
   "source": [
    "# Введение\n",
    "\n",
    "\n",
    "\n",
    "**Проект по SQL**\n",
    "\n",
    "---\n",
    "**Описание исследования:**\n",
    "\n",
    "Коронавирус застал мир врасплох, изменив привычный порядок вещей. В свободное время жители городов больше не выходят на улицу, не посещают кафе и торговые центры. Зато стало больше времени для книг. Это заметили стартаперы — и бросились создавать приложения для тех, кто любит читать.\n",
    "Ваша компания решила быть на волне и купила крупный сервис для чтения книг по подписке. Ваша первая задача как аналитика — проанализировать базу данных. В ней — информация о книгах, издательствах, авторах, а также пользовательские обзоры книг. Эти данные помогут сформулировать ценностное предложение для нового продукта.\n",
    "\n",
    "**Цель исследования.**\n",
    "\n",
    "* Ответить на вопросы:\n",
    "1) Посчитайте, сколько книг вышло после 1 января 2000 года;\n",
    "2) Для каждой книги посчитайте количество обзоров и среднюю оценку;\n",
    "3) Определите издательство, которое выпустило наибольшее число книг толще 50 страниц — так вы исключите из анализа брошюры;\n",
    "4) Определите автора с самой высокой средней оценкой книг — учитывайте только книги с 50 и более оценками;\n",
    "5) Посчитайте среднее количество обзоров от пользователей, которые поставили больше 50 оценок.\n",
    "\n",
    "---\n",
    "\n",
    "**Задачи исследования.**\n",
    "\n",
    "- Изучить источники данных;\n",
    "- Написать запросы, которые выведут на экран ответы на вопросы исследования. \n",
    "\n",
    "---\n",
    "\n",
    "**Исходные данные.**  \n",
    "\n",
    "Таблица `books` — содержит данные о книгах:  \n",
    "\n",
    "`book_id` — идентификатор книги;\n",
    "`author_id` — идентификатор автора;\n",
    "`title` — название книги;\n",
    "`num_pages` — количество страниц;\n",
    "`publication_date` — дата публикации книги;\n",
    "`publisher_id` — идентификатор издателя.   \n",
    "\n",
    "\n",
    "Таблица `authors` — содержит данные об авторах:\n",
    "\n",
    "`author_id` — идентификатор автора;\n",
    "`author` — имя автора.\n",
    "\n",
    "\n",
    "Таблица `publishers` — содержит данные об издательствах:\n",
    "\n",
    "`publisher_id` — идентификатор издательства;\n",
    "`publisher` — название издательства;  \n",
    "\n",
    "\n",
    "Таблица `ratings` — содержит данные о пользовательских оценках книг:\n",
    "\n",
    "`rating_id` — идентификатор оценки;\n",
    "`book_id` — идентификатор книги;\n",
    "`username` — имя пользователя, оставившего оценку;\n",
    "`rating` — оценка книги. \n",
    "\n",
    "Таблица `reviews` — содержит данные о о пользовательских обзорах:\n",
    "\n",
    "`review_id` — идентификатор обзора;\n",
    "`book_id` — идентификатор книги;\n",
    "`username` — имя автора обзора;\n",
    "`text` — текст обзора.\n",
    "\n",
    "---\n",
    "**План работы**  \n",
    "\n",
    "Часть 1. Изучение данных.  \n",
    "Открываем файл и ознакамливаемся с данными и их структурой.   \n",
    "\n",
    "Часть 2. Ответы на вопросы исследования."
   ]
  },
  {
   "cell_type": "markdown",
   "metadata": {},
   "source": [
    "## Изучение и предобработка данных"
   ]
  },
  {
   "cell_type": "markdown",
   "metadata": {},
   "source": [
    "Ознакомимся поочерёдно с каждой таблицей:"
   ]
  },
  {
   "cell_type": "code",
   "execution_count": 3,
   "metadata": {},
   "outputs": [
    {
     "data": {
      "text/html": [
       "<div>\n",
       "<style scoped>\n",
       "    .dataframe tbody tr th:only-of-type {\n",
       "        vertical-align: middle;\n",
       "    }\n",
       "\n",
       "    .dataframe tbody tr th {\n",
       "        vertical-align: top;\n",
       "    }\n",
       "\n",
       "    .dataframe thead th {\n",
       "        text-align: right;\n",
       "    }\n",
       "</style>\n",
       "<table border=\"1\" class=\"dataframe\">\n",
       "  <thead>\n",
       "    <tr style=\"text-align: right;\">\n",
       "      <th></th>\n",
       "      <th>book_id</th>\n",
       "      <th>author_id</th>\n",
       "      <th>title</th>\n",
       "      <th>num_pages</th>\n",
       "      <th>publication_date</th>\n",
       "      <th>publisher_id</th>\n",
       "    </tr>\n",
       "  </thead>\n",
       "  <tbody>\n",
       "    <tr>\n",
       "      <th>0</th>\n",
       "      <td>1</td>\n",
       "      <td>546</td>\n",
       "      <td>'Salem's Lot</td>\n",
       "      <td>594</td>\n",
       "      <td>2005-11-01</td>\n",
       "      <td>93</td>\n",
       "    </tr>\n",
       "    <tr>\n",
       "      <th>1</th>\n",
       "      <td>2</td>\n",
       "      <td>465</td>\n",
       "      <td>1 000 Places to See Before You Die</td>\n",
       "      <td>992</td>\n",
       "      <td>2003-05-22</td>\n",
       "      <td>336</td>\n",
       "    </tr>\n",
       "    <tr>\n",
       "      <th>2</th>\n",
       "      <td>3</td>\n",
       "      <td>407</td>\n",
       "      <td>13 Little Blue Envelopes (Little Blue Envelope...</td>\n",
       "      <td>322</td>\n",
       "      <td>2010-12-21</td>\n",
       "      <td>135</td>\n",
       "    </tr>\n",
       "    <tr>\n",
       "      <th>3</th>\n",
       "      <td>4</td>\n",
       "      <td>82</td>\n",
       "      <td>1491: New Revelations of the Americas Before C...</td>\n",
       "      <td>541</td>\n",
       "      <td>2006-10-10</td>\n",
       "      <td>309</td>\n",
       "    </tr>\n",
       "    <tr>\n",
       "      <th>4</th>\n",
       "      <td>5</td>\n",
       "      <td>125</td>\n",
       "      <td>1776</td>\n",
       "      <td>386</td>\n",
       "      <td>2006-07-04</td>\n",
       "      <td>268</td>\n",
       "    </tr>\n",
       "    <tr>\n",
       "      <th>5</th>\n",
       "      <td>6</td>\n",
       "      <td>257</td>\n",
       "      <td>1st to Die (Women's Murder Club  #1)</td>\n",
       "      <td>424</td>\n",
       "      <td>2005-05-20</td>\n",
       "      <td>116</td>\n",
       "    </tr>\n",
       "    <tr>\n",
       "      <th>6</th>\n",
       "      <td>7</td>\n",
       "      <td>258</td>\n",
       "      <td>2nd Chance (Women's Murder Club  #2)</td>\n",
       "      <td>400</td>\n",
       "      <td>2005-05-20</td>\n",
       "      <td>116</td>\n",
       "    </tr>\n",
       "    <tr>\n",
       "      <th>7</th>\n",
       "      <td>8</td>\n",
       "      <td>260</td>\n",
       "      <td>4th of July (Women's Murder Club  #4)</td>\n",
       "      <td>448</td>\n",
       "      <td>2006-06-01</td>\n",
       "      <td>318</td>\n",
       "    </tr>\n",
       "    <tr>\n",
       "      <th>8</th>\n",
       "      <td>9</td>\n",
       "      <td>563</td>\n",
       "      <td>A Beautiful Mind</td>\n",
       "      <td>461</td>\n",
       "      <td>2002-02-04</td>\n",
       "      <td>104</td>\n",
       "    </tr>\n",
       "    <tr>\n",
       "      <th>9</th>\n",
       "      <td>10</td>\n",
       "      <td>445</td>\n",
       "      <td>A Bend in the Road</td>\n",
       "      <td>341</td>\n",
       "      <td>2005-04-01</td>\n",
       "      <td>116</td>\n",
       "    </tr>\n",
       "  </tbody>\n",
       "</table>\n",
       "</div>"
      ],
      "text/plain": [
       "   book_id  author_id                                              title  \\\n",
       "0        1        546                                       'Salem's Lot   \n",
       "1        2        465                 1 000 Places to See Before You Die   \n",
       "2        3        407  13 Little Blue Envelopes (Little Blue Envelope...   \n",
       "3        4         82  1491: New Revelations of the Americas Before C...   \n",
       "4        5        125                                               1776   \n",
       "5        6        257               1st to Die (Women's Murder Club  #1)   \n",
       "6        7        258               2nd Chance (Women's Murder Club  #2)   \n",
       "7        8        260              4th of July (Women's Murder Club  #4)   \n",
       "8        9        563                                   A Beautiful Mind   \n",
       "9       10        445                                 A Bend in the Road   \n",
       "\n",
       "   num_pages publication_date  publisher_id  \n",
       "0        594       2005-11-01            93  \n",
       "1        992       2003-05-22           336  \n",
       "2        322       2010-12-21           135  \n",
       "3        541       2006-10-10           309  \n",
       "4        386       2006-07-04           268  \n",
       "5        424       2005-05-20           116  \n",
       "6        400       2005-05-20           116  \n",
       "7        448       2006-06-01           318  \n",
       "8        461       2002-02-04           104  \n",
       "9        341       2005-04-01           116  "
      ]
     },
     "execution_count": 3,
     "metadata": {},
     "output_type": "execute_result"
    }
   ],
   "source": [
    "books=pd.io.sql.read_sql(\"SELECT * FROM books\", con = engine) \n",
    "books.head(10)"
   ]
  },
  {
   "cell_type": "code",
   "execution_count": 4,
   "metadata": {},
   "outputs": [
    {
     "data": {
      "text/html": [
       "<div>\n",
       "<style scoped>\n",
       "    .dataframe tbody tr th:only-of-type {\n",
       "        vertical-align: middle;\n",
       "    }\n",
       "\n",
       "    .dataframe tbody tr th {\n",
       "        vertical-align: top;\n",
       "    }\n",
       "\n",
       "    .dataframe thead th {\n",
       "        text-align: right;\n",
       "    }\n",
       "</style>\n",
       "<table border=\"1\" class=\"dataframe\">\n",
       "  <thead>\n",
       "    <tr style=\"text-align: right;\">\n",
       "      <th></th>\n",
       "      <th>author_id</th>\n",
       "      <th>author</th>\n",
       "    </tr>\n",
       "  </thead>\n",
       "  <tbody>\n",
       "    <tr>\n",
       "      <th>0</th>\n",
       "      <td>1</td>\n",
       "      <td>A.S. Byatt</td>\n",
       "    </tr>\n",
       "    <tr>\n",
       "      <th>1</th>\n",
       "      <td>2</td>\n",
       "      <td>Aesop/Laura Harris/Laura Gibbs</td>\n",
       "    </tr>\n",
       "    <tr>\n",
       "      <th>2</th>\n",
       "      <td>3</td>\n",
       "      <td>Agatha Christie</td>\n",
       "    </tr>\n",
       "    <tr>\n",
       "      <th>3</th>\n",
       "      <td>4</td>\n",
       "      <td>Alan Brennert</td>\n",
       "    </tr>\n",
       "    <tr>\n",
       "      <th>4</th>\n",
       "      <td>5</td>\n",
       "      <td>Alan Moore/David   Lloyd</td>\n",
       "    </tr>\n",
       "    <tr>\n",
       "      <th>5</th>\n",
       "      <td>6</td>\n",
       "      <td>Alan Paton</td>\n",
       "    </tr>\n",
       "    <tr>\n",
       "      <th>6</th>\n",
       "      <td>7</td>\n",
       "      <td>Albert Camus/Justin O'Brien</td>\n",
       "    </tr>\n",
       "    <tr>\n",
       "      <th>7</th>\n",
       "      <td>8</td>\n",
       "      <td>Aldous Huxley</td>\n",
       "    </tr>\n",
       "    <tr>\n",
       "      <th>8</th>\n",
       "      <td>9</td>\n",
       "      <td>Aldous Huxley/Christopher Hitchens</td>\n",
       "    </tr>\n",
       "    <tr>\n",
       "      <th>9</th>\n",
       "      <td>10</td>\n",
       "      <td>Aleksandr Solzhenitsyn/H.T. Willetts</td>\n",
       "    </tr>\n",
       "  </tbody>\n",
       "</table>\n",
       "</div>"
      ],
      "text/plain": [
       "   author_id                                author\n",
       "0          1                            A.S. Byatt\n",
       "1          2        Aesop/Laura Harris/Laura Gibbs\n",
       "2          3                       Agatha Christie\n",
       "3          4                         Alan Brennert\n",
       "4          5              Alan Moore/David   Lloyd\n",
       "5          6                            Alan Paton\n",
       "6          7           Albert Camus/Justin O'Brien\n",
       "7          8                         Aldous Huxley\n",
       "8          9    Aldous Huxley/Christopher Hitchens\n",
       "9         10  Aleksandr Solzhenitsyn/H.T. Willetts"
      ]
     },
     "execution_count": 4,
     "metadata": {},
     "output_type": "execute_result"
    }
   ],
   "source": [
    "authors = pd.io.sql.read_sql(\"SELECT * FROM authors\", con = engine) \n",
    "authors.head(10)"
   ]
  },
  {
   "cell_type": "code",
   "execution_count": 5,
   "metadata": {},
   "outputs": [
    {
     "data": {
      "text/html": [
       "<div>\n",
       "<style scoped>\n",
       "    .dataframe tbody tr th:only-of-type {\n",
       "        vertical-align: middle;\n",
       "    }\n",
       "\n",
       "    .dataframe tbody tr th {\n",
       "        vertical-align: top;\n",
       "    }\n",
       "\n",
       "    .dataframe thead th {\n",
       "        text-align: right;\n",
       "    }\n",
       "</style>\n",
       "<table border=\"1\" class=\"dataframe\">\n",
       "  <thead>\n",
       "    <tr style=\"text-align: right;\">\n",
       "      <th></th>\n",
       "      <th>publisher_id</th>\n",
       "      <th>publisher</th>\n",
       "    </tr>\n",
       "  </thead>\n",
       "  <tbody>\n",
       "    <tr>\n",
       "      <th>0</th>\n",
       "      <td>1</td>\n",
       "      <td>Ace</td>\n",
       "    </tr>\n",
       "    <tr>\n",
       "      <th>1</th>\n",
       "      <td>2</td>\n",
       "      <td>Ace Book</td>\n",
       "    </tr>\n",
       "    <tr>\n",
       "      <th>2</th>\n",
       "      <td>3</td>\n",
       "      <td>Ace Books</td>\n",
       "    </tr>\n",
       "    <tr>\n",
       "      <th>3</th>\n",
       "      <td>4</td>\n",
       "      <td>Ace Hardcover</td>\n",
       "    </tr>\n",
       "    <tr>\n",
       "      <th>4</th>\n",
       "      <td>5</td>\n",
       "      <td>Addison Wesley Publishing Company</td>\n",
       "    </tr>\n",
       "    <tr>\n",
       "      <th>5</th>\n",
       "      <td>6</td>\n",
       "      <td>Aladdin</td>\n",
       "    </tr>\n",
       "    <tr>\n",
       "      <th>6</th>\n",
       "      <td>7</td>\n",
       "      <td>Aladdin Paperbacks</td>\n",
       "    </tr>\n",
       "    <tr>\n",
       "      <th>7</th>\n",
       "      <td>8</td>\n",
       "      <td>Albin Michel</td>\n",
       "    </tr>\n",
       "    <tr>\n",
       "      <th>8</th>\n",
       "      <td>9</td>\n",
       "      <td>Alfred A. Knopf</td>\n",
       "    </tr>\n",
       "    <tr>\n",
       "      <th>9</th>\n",
       "      <td>10</td>\n",
       "      <td>Alfred A. Knopf Books for Young Readers</td>\n",
       "    </tr>\n",
       "  </tbody>\n",
       "</table>\n",
       "</div>"
      ],
      "text/plain": [
       "   publisher_id                                publisher\n",
       "0             1                                      Ace\n",
       "1             2                                 Ace Book\n",
       "2             3                                Ace Books\n",
       "3             4                            Ace Hardcover\n",
       "4             5        Addison Wesley Publishing Company\n",
       "5             6                                  Aladdin\n",
       "6             7                       Aladdin Paperbacks\n",
       "7             8                             Albin Michel\n",
       "8             9                          Alfred A. Knopf\n",
       "9            10  Alfred A. Knopf Books for Young Readers"
      ]
     },
     "execution_count": 5,
     "metadata": {},
     "output_type": "execute_result"
    }
   ],
   "source": [
    "publishers = pd.io.sql.read_sql(\"SELECT * FROM publishers\", con = engine) \n",
    "publishers.head(10)"
   ]
  },
  {
   "cell_type": "code",
   "execution_count": 6,
   "metadata": {},
   "outputs": [
    {
     "data": {
      "text/html": [
       "<div>\n",
       "<style scoped>\n",
       "    .dataframe tbody tr th:only-of-type {\n",
       "        vertical-align: middle;\n",
       "    }\n",
       "\n",
       "    .dataframe tbody tr th {\n",
       "        vertical-align: top;\n",
       "    }\n",
       "\n",
       "    .dataframe thead th {\n",
       "        text-align: right;\n",
       "    }\n",
       "</style>\n",
       "<table border=\"1\" class=\"dataframe\">\n",
       "  <thead>\n",
       "    <tr style=\"text-align: right;\">\n",
       "      <th></th>\n",
       "      <th>rating_id</th>\n",
       "      <th>book_id</th>\n",
       "      <th>username</th>\n",
       "      <th>rating</th>\n",
       "    </tr>\n",
       "  </thead>\n",
       "  <tbody>\n",
       "    <tr>\n",
       "      <th>0</th>\n",
       "      <td>1</td>\n",
       "      <td>1</td>\n",
       "      <td>ryanfranco</td>\n",
       "      <td>4</td>\n",
       "    </tr>\n",
       "    <tr>\n",
       "      <th>1</th>\n",
       "      <td>2</td>\n",
       "      <td>1</td>\n",
       "      <td>grantpatricia</td>\n",
       "      <td>2</td>\n",
       "    </tr>\n",
       "    <tr>\n",
       "      <th>2</th>\n",
       "      <td>3</td>\n",
       "      <td>1</td>\n",
       "      <td>brandtandrea</td>\n",
       "      <td>5</td>\n",
       "    </tr>\n",
       "    <tr>\n",
       "      <th>3</th>\n",
       "      <td>4</td>\n",
       "      <td>2</td>\n",
       "      <td>lorichen</td>\n",
       "      <td>3</td>\n",
       "    </tr>\n",
       "    <tr>\n",
       "      <th>4</th>\n",
       "      <td>5</td>\n",
       "      <td>2</td>\n",
       "      <td>mariokeller</td>\n",
       "      <td>2</td>\n",
       "    </tr>\n",
       "    <tr>\n",
       "      <th>5</th>\n",
       "      <td>6</td>\n",
       "      <td>3</td>\n",
       "      <td>johnsonamanda</td>\n",
       "      <td>4</td>\n",
       "    </tr>\n",
       "    <tr>\n",
       "      <th>6</th>\n",
       "      <td>7</td>\n",
       "      <td>3</td>\n",
       "      <td>scotttamara</td>\n",
       "      <td>5</td>\n",
       "    </tr>\n",
       "    <tr>\n",
       "      <th>7</th>\n",
       "      <td>8</td>\n",
       "      <td>3</td>\n",
       "      <td>lesliegibbs</td>\n",
       "      <td>5</td>\n",
       "    </tr>\n",
       "    <tr>\n",
       "      <th>8</th>\n",
       "      <td>9</td>\n",
       "      <td>4</td>\n",
       "      <td>abbottjames</td>\n",
       "      <td>5</td>\n",
       "    </tr>\n",
       "    <tr>\n",
       "      <th>9</th>\n",
       "      <td>10</td>\n",
       "      <td>4</td>\n",
       "      <td>valenciaanne</td>\n",
       "      <td>4</td>\n",
       "    </tr>\n",
       "  </tbody>\n",
       "</table>\n",
       "</div>"
      ],
      "text/plain": [
       "   rating_id  book_id       username  rating\n",
       "0          1        1     ryanfranco       4\n",
       "1          2        1  grantpatricia       2\n",
       "2          3        1   brandtandrea       5\n",
       "3          4        2       lorichen       3\n",
       "4          5        2    mariokeller       2\n",
       "5          6        3  johnsonamanda       4\n",
       "6          7        3    scotttamara       5\n",
       "7          8        3    lesliegibbs       5\n",
       "8          9        4    abbottjames       5\n",
       "9         10        4   valenciaanne       4"
      ]
     },
     "execution_count": 6,
     "metadata": {},
     "output_type": "execute_result"
    }
   ],
   "source": [
    "ratings = pd.io.sql.read_sql(\"SELECT * FROM ratings\", con = engine) \n",
    "ratings.head(10)"
   ]
  },
  {
   "cell_type": "code",
   "execution_count": 7,
   "metadata": {},
   "outputs": [
    {
     "data": {
      "text/html": [
       "<div>\n",
       "<style scoped>\n",
       "    .dataframe tbody tr th:only-of-type {\n",
       "        vertical-align: middle;\n",
       "    }\n",
       "\n",
       "    .dataframe tbody tr th {\n",
       "        vertical-align: top;\n",
       "    }\n",
       "\n",
       "    .dataframe thead th {\n",
       "        text-align: right;\n",
       "    }\n",
       "</style>\n",
       "<table border=\"1\" class=\"dataframe\">\n",
       "  <thead>\n",
       "    <tr style=\"text-align: right;\">\n",
       "      <th></th>\n",
       "      <th>review_id</th>\n",
       "      <th>book_id</th>\n",
       "      <th>username</th>\n",
       "      <th>text</th>\n",
       "    </tr>\n",
       "  </thead>\n",
       "  <tbody>\n",
       "    <tr>\n",
       "      <th>0</th>\n",
       "      <td>1</td>\n",
       "      <td>1</td>\n",
       "      <td>brandtandrea</td>\n",
       "      <td>Mention society tell send professor analysis. ...</td>\n",
       "    </tr>\n",
       "    <tr>\n",
       "      <th>1</th>\n",
       "      <td>2</td>\n",
       "      <td>1</td>\n",
       "      <td>ryanfranco</td>\n",
       "      <td>Foot glass pretty audience hit themselves. Amo...</td>\n",
       "    </tr>\n",
       "    <tr>\n",
       "      <th>2</th>\n",
       "      <td>3</td>\n",
       "      <td>2</td>\n",
       "      <td>lorichen</td>\n",
       "      <td>Listen treat keep worry. Miss husband tax but ...</td>\n",
       "    </tr>\n",
       "    <tr>\n",
       "      <th>3</th>\n",
       "      <td>4</td>\n",
       "      <td>3</td>\n",
       "      <td>johnsonamanda</td>\n",
       "      <td>Finally month interesting blue could nature cu...</td>\n",
       "    </tr>\n",
       "    <tr>\n",
       "      <th>4</th>\n",
       "      <td>5</td>\n",
       "      <td>3</td>\n",
       "      <td>scotttamara</td>\n",
       "      <td>Nation purpose heavy give wait song will. List...</td>\n",
       "    </tr>\n",
       "    <tr>\n",
       "      <th>5</th>\n",
       "      <td>6</td>\n",
       "      <td>3</td>\n",
       "      <td>lesliegibbs</td>\n",
       "      <td>Analysis no several cause international.</td>\n",
       "    </tr>\n",
       "    <tr>\n",
       "      <th>6</th>\n",
       "      <td>7</td>\n",
       "      <td>4</td>\n",
       "      <td>valenciaanne</td>\n",
       "      <td>One there cost another. Say type save. With pe...</td>\n",
       "    </tr>\n",
       "    <tr>\n",
       "      <th>7</th>\n",
       "      <td>8</td>\n",
       "      <td>4</td>\n",
       "      <td>abbottjames</td>\n",
       "      <td>Within enough mother. There at system full rec...</td>\n",
       "    </tr>\n",
       "    <tr>\n",
       "      <th>8</th>\n",
       "      <td>9</td>\n",
       "      <td>5</td>\n",
       "      <td>npowers</td>\n",
       "      <td>Thank now focus realize economy focus fly. Ite...</td>\n",
       "    </tr>\n",
       "    <tr>\n",
       "      <th>9</th>\n",
       "      <td>10</td>\n",
       "      <td>5</td>\n",
       "      <td>staylor</td>\n",
       "      <td>Game push lot reduce where remember. Including...</td>\n",
       "    </tr>\n",
       "  </tbody>\n",
       "</table>\n",
       "</div>"
      ],
      "text/plain": [
       "   review_id  book_id       username  \\\n",
       "0          1        1   brandtandrea   \n",
       "1          2        1     ryanfranco   \n",
       "2          3        2       lorichen   \n",
       "3          4        3  johnsonamanda   \n",
       "4          5        3    scotttamara   \n",
       "5          6        3    lesliegibbs   \n",
       "6          7        4   valenciaanne   \n",
       "7          8        4    abbottjames   \n",
       "8          9        5        npowers   \n",
       "9         10        5        staylor   \n",
       "\n",
       "                                                text  \n",
       "0  Mention society tell send professor analysis. ...  \n",
       "1  Foot glass pretty audience hit themselves. Amo...  \n",
       "2  Listen treat keep worry. Miss husband tax but ...  \n",
       "3  Finally month interesting blue could nature cu...  \n",
       "4  Nation purpose heavy give wait song will. List...  \n",
       "5           Analysis no several cause international.  \n",
       "6  One there cost another. Say type save. With pe...  \n",
       "7  Within enough mother. There at system full rec...  \n",
       "8  Thank now focus realize economy focus fly. Ite...  \n",
       "9  Game push lot reduce where remember. Including...  "
      ]
     },
     "execution_count": 7,
     "metadata": {},
     "output_type": "execute_result"
    }
   ],
   "source": [
    "reviews = pd.io.sql.read_sql(\"SELECT * FROM reviews\", con = engine) \n",
    "reviews.head(10)"
   ]
  },
  {
   "cell_type": "markdown",
   "metadata": {},
   "source": [
    "## Ответы на вопросы исследования."
   ]
  },
  {
   "cell_type": "markdown",
   "metadata": {},
   "source": [
    "### Cколько книг вышло после 1 января 2000 года?"
   ]
  },
  {
   "cell_type": "code",
   "execution_count": 8,
   "metadata": {},
   "outputs": [
    {
     "data": {
      "text/html": [
       "<div>\n",
       "<style scoped>\n",
       "    .dataframe tbody tr th:only-of-type {\n",
       "        vertical-align: middle;\n",
       "    }\n",
       "\n",
       "    .dataframe tbody tr th {\n",
       "        vertical-align: top;\n",
       "    }\n",
       "\n",
       "    .dataframe thead th {\n",
       "        text-align: right;\n",
       "    }\n",
       "</style>\n",
       "<table border=\"1\" class=\"dataframe\">\n",
       "  <thead>\n",
       "    <tr style=\"text-align: right;\">\n",
       "      <th></th>\n",
       "      <th>count</th>\n",
       "    </tr>\n",
       "  </thead>\n",
       "  <tbody>\n",
       "    <tr>\n",
       "      <th>0</th>\n",
       "      <td>819</td>\n",
       "    </tr>\n",
       "  </tbody>\n",
       "</table>\n",
       "</div>"
      ],
      "text/plain": [
       "   count\n",
       "0    819"
      ]
     },
     "execution_count": 8,
     "metadata": {},
     "output_type": "execute_result"
    }
   ],
   "source": [
    "pd.io.sql.read_sql('''\n",
    "\n",
    "SELECT COUNT(title) \n",
    "FROM books\n",
    "WHERE publication_date>'2000-01-01'\n",
    "\n",
    "''', con = engine) "
   ]
  },
  {
   "cell_type": "markdown",
   "metadata": {},
   "source": [
    "Начиная со второго января 2000 года вышло 819 книг."
   ]
  },
  {
   "cell_type": "markdown",
   "metadata": {},
   "source": [
    "### Количество обзовор и средняя оценка для каждой книги:"
   ]
  },
  {
   "cell_type": "code",
   "execution_count": 9,
   "metadata": {},
   "outputs": [
    {
     "data": {
      "text/html": [
       "<div>\n",
       "<style scoped>\n",
       "    .dataframe tbody tr th:only-of-type {\n",
       "        vertical-align: middle;\n",
       "    }\n",
       "\n",
       "    .dataframe tbody tr th {\n",
       "        vertical-align: top;\n",
       "    }\n",
       "\n",
       "    .dataframe thead th {\n",
       "        text-align: right;\n",
       "    }\n",
       "</style>\n",
       "<table border=\"1\" class=\"dataframe\">\n",
       "  <thead>\n",
       "    <tr style=\"text-align: right;\">\n",
       "      <th></th>\n",
       "      <th>book_id</th>\n",
       "      <th>count</th>\n",
       "      <th>avg</th>\n",
       "    </tr>\n",
       "  </thead>\n",
       "  <tbody>\n",
       "    <tr>\n",
       "      <th>0</th>\n",
       "      <td>948</td>\n",
       "      <td>1120</td>\n",
       "      <td>3.662500</td>\n",
       "    </tr>\n",
       "    <tr>\n",
       "      <th>1</th>\n",
       "      <td>750</td>\n",
       "      <td>528</td>\n",
       "      <td>4.125000</td>\n",
       "    </tr>\n",
       "    <tr>\n",
       "      <th>2</th>\n",
       "      <td>673</td>\n",
       "      <td>516</td>\n",
       "      <td>3.825581</td>\n",
       "    </tr>\n",
       "    <tr>\n",
       "      <th>3</th>\n",
       "      <td>302</td>\n",
       "      <td>492</td>\n",
       "      <td>4.414634</td>\n",
       "    </tr>\n",
       "    <tr>\n",
       "      <th>4</th>\n",
       "      <td>299</td>\n",
       "      <td>480</td>\n",
       "      <td>4.287500</td>\n",
       "    </tr>\n",
       "    <tr>\n",
       "      <th>...</th>\n",
       "      <td>...</td>\n",
       "      <td>...</td>\n",
       "      <td>...</td>\n",
       "    </tr>\n",
       "    <tr>\n",
       "      <th>995</th>\n",
       "      <td>221</td>\n",
       "      <td>0</td>\n",
       "      <td>4.000000</td>\n",
       "    </tr>\n",
       "    <tr>\n",
       "      <th>996</th>\n",
       "      <td>808</td>\n",
       "      <td>0</td>\n",
       "      <td>3.000000</td>\n",
       "    </tr>\n",
       "    <tr>\n",
       "      <th>997</th>\n",
       "      <td>191</td>\n",
       "      <td>0</td>\n",
       "      <td>4.000000</td>\n",
       "    </tr>\n",
       "    <tr>\n",
       "      <th>998</th>\n",
       "      <td>83</td>\n",
       "      <td>0</td>\n",
       "      <td>3.666667</td>\n",
       "    </tr>\n",
       "    <tr>\n",
       "      <th>999</th>\n",
       "      <td>672</td>\n",
       "      <td>0</td>\n",
       "      <td>5.000000</td>\n",
       "    </tr>\n",
       "  </tbody>\n",
       "</table>\n",
       "<p>1000 rows × 3 columns</p>\n",
       "</div>"
      ],
      "text/plain": [
       "     book_id  count       avg\n",
       "0        948   1120  3.662500\n",
       "1        750    528  4.125000\n",
       "2        673    516  3.825581\n",
       "3        302    492  4.414634\n",
       "4        299    480  4.287500\n",
       "..       ...    ...       ...\n",
       "995      221      0  4.000000\n",
       "996      808      0  3.000000\n",
       "997      191      0  4.000000\n",
       "998       83      0  3.666667\n",
       "999      672      0  5.000000\n",
       "\n",
       "[1000 rows x 3 columns]"
      ]
     },
     "execution_count": 9,
     "metadata": {},
     "output_type": "execute_result"
    }
   ],
   "source": [
    "pd.io.sql.read_sql('''\n",
    "\n",
    "SELECT b.book_id,\n",
    "COUNT(re.review_id),\n",
    "AVG(r.rating)\n",
    "FROM books as b\n",
    "LEFT JOIN ratings AS r on b.book_id=r.book_id\n",
    "LEFT JOIN reviews AS re on b.book_id=re.book_id\n",
    "GROUP BY b.book_id\n",
    "ORDER BY COUNT(re.review_id) DESC\n",
    "''', con = engine) "
   ]
  },
  {
   "cell_type": "markdown",
   "metadata": {},
   "source": [
    "При запросы были использованы левые джойны, т.к. иначе книги без обзоров бы не сохранились в результатах."
   ]
  },
  {
   "cell_type": "markdown",
   "metadata": {},
   "source": [
    "### Какое издательство выпустило больше всего книг толще 50 страниц?"
   ]
  },
  {
   "cell_type": "code",
   "execution_count": 10,
   "metadata": {},
   "outputs": [
    {
     "data": {
      "text/html": [
       "<div>\n",
       "<style scoped>\n",
       "    .dataframe tbody tr th:only-of-type {\n",
       "        vertical-align: middle;\n",
       "    }\n",
       "\n",
       "    .dataframe tbody tr th {\n",
       "        vertical-align: top;\n",
       "    }\n",
       "\n",
       "    .dataframe thead th {\n",
       "        text-align: right;\n",
       "    }\n",
       "</style>\n",
       "<table border=\"1\" class=\"dataframe\">\n",
       "  <thead>\n",
       "    <tr style=\"text-align: right;\">\n",
       "      <th></th>\n",
       "      <th>publisher</th>\n",
       "      <th>count</th>\n",
       "    </tr>\n",
       "  </thead>\n",
       "  <tbody>\n",
       "    <tr>\n",
       "      <th>0</th>\n",
       "      <td>Penguin Books</td>\n",
       "      <td>42</td>\n",
       "    </tr>\n",
       "  </tbody>\n",
       "</table>\n",
       "</div>"
      ],
      "text/plain": [
       "       publisher  count\n",
       "0  Penguin Books     42"
      ]
     },
     "execution_count": 10,
     "metadata": {},
     "output_type": "execute_result"
    }
   ],
   "source": [
    "pd.io.sql.read_sql('''\n",
    "\n",
    "SELECT p.publisher,\n",
    "COUNT(b.book_id)\n",
    "FROM books AS b\n",
    "JOIN publishers AS p ON b.publisher_id = p.publisher_id\n",
    "WHERE num_pages>50\n",
    "GROUP BY p.publisher\n",
    "ORDER BY COUNT(book_id) DESC\n",
    "LIMIT 1\n",
    "\n",
    "''', con = engine) "
   ]
  },
  {
   "cell_type": "markdown",
   "metadata": {},
   "source": [
    "Больше всего книг- 42 было выпущено изданием \"Penguin Books\"."
   ]
  },
  {
   "cell_type": "markdown",
   "metadata": {},
   "source": [
    "### Определить автора с самой высокой средней оценкой книг — учитывайте только книги с 50 и более оценками;"
   ]
  },
  {
   "cell_type": "code",
   "execution_count": 11,
   "metadata": {},
   "outputs": [
    {
     "data": {
      "text/html": [
       "<div>\n",
       "<style scoped>\n",
       "    .dataframe tbody tr th:only-of-type {\n",
       "        vertical-align: middle;\n",
       "    }\n",
       "\n",
       "    .dataframe tbody tr th {\n",
       "        vertical-align: top;\n",
       "    }\n",
       "\n",
       "    .dataframe thead th {\n",
       "        text-align: right;\n",
       "    }\n",
       "</style>\n",
       "<table border=\"1\" class=\"dataframe\">\n",
       "  <thead>\n",
       "    <tr style=\"text-align: right;\">\n",
       "      <th></th>\n",
       "      <th>username</th>\n",
       "      <th>avg</th>\n",
       "    </tr>\n",
       "  </thead>\n",
       "  <tbody>\n",
       "    <tr>\n",
       "      <th>0</th>\n",
       "      <td>martinyvonne</td>\n",
       "      <td>4.8</td>\n",
       "    </tr>\n",
       "  </tbody>\n",
       "</table>\n",
       "</div>"
      ],
      "text/plain": [
       "       username  avg\n",
       "0  martinyvonne  4.8"
      ]
     },
     "execution_count": 11,
     "metadata": {},
     "output_type": "execute_result"
    }
   ],
   "source": [
    "pd.io.sql.read_sql('''\n",
    "SELECT r.username,\n",
    "AVG(r.rating)\n",
    "FROM (SELECT book_id,\n",
    "COUNT(book_id)\n",
    "FROM ratings\n",
    "GROUP BY book_id\n",
    "HAVING COUNT(book_id)>=50) AS a\n",
    "JOIN ratings AS r ON r.book_id = a.book_id\n",
    "GROUP BY r.username\n",
    "ORDER BY AVG(r.rating) DESC\n",
    "LIMIT 1\n",
    "\n",
    "''', con = engine)"
   ]
  },
  {
   "cell_type": "markdown",
   "metadata": {},
   "source": [
    "Самая высокая средняя оценка - 4,8 балла принадлежит пользователю с ником \"martinyvonne\""
   ]
  },
  {
   "cell_type": "markdown",
   "metadata": {},
   "source": [
    "### Среднее количество обзоров от пользователей, которые поставили больше 50 оценок."
   ]
  },
  {
   "cell_type": "code",
   "execution_count": 12,
   "metadata": {},
   "outputs": [
    {
     "data": {
      "text/html": [
       "<div>\n",
       "<style scoped>\n",
       "    .dataframe tbody tr th:only-of-type {\n",
       "        vertical-align: middle;\n",
       "    }\n",
       "\n",
       "    .dataframe tbody tr th {\n",
       "        vertical-align: top;\n",
       "    }\n",
       "\n",
       "    .dataframe thead th {\n",
       "        text-align: right;\n",
       "    }\n",
       "</style>\n",
       "<table border=\"1\" class=\"dataframe\">\n",
       "  <thead>\n",
       "    <tr style=\"text-align: right;\">\n",
       "      <th></th>\n",
       "      <th>avg</th>\n",
       "    </tr>\n",
       "  </thead>\n",
       "  <tbody>\n",
       "    <tr>\n",
       "      <th>0</th>\n",
       "      <td>24.333333</td>\n",
       "    </tr>\n",
       "  </tbody>\n",
       "</table>\n",
       "</div>"
      ],
      "text/plain": [
       "         avg\n",
       "0  24.333333"
      ]
     },
     "execution_count": 12,
     "metadata": {},
     "output_type": "execute_result"
    }
   ],
   "source": [
    "pd.io.sql.read_sql('''\n",
    "\n",
    "SELECT AVG (reviews)\n",
    "FROM(SELECT re.username,\n",
    "COUNT(DISTINCT(re.review_id)) as reviews\n",
    "FROM ratings AS ra\n",
    "JOIN reviews AS re ON ra.username = re.username\n",
    "GROUP BY re.username\n",
    "HAVING COUNT(DISTINCT(ra.rating_id))>50) AS a\n",
    "\n",
    "''', con = engine)"
   ]
  },
  {
   "cell_type": "markdown",
   "metadata": {},
   "source": [
    "В среднем пользователи, поставившие более 50 оценок делают 24,3 обзора."
   ]
  },
  {
   "cell_type": "markdown",
   "metadata": {},
   "source": [
    "## Вывод"
   ]
  },
  {
   "cell_type": "markdown",
   "metadata": {},
   "source": [
    "В ходе исследования были изучены таблицы и найдены ответы на вопросы:  \n",
    "\n",
    "* Начиная со второго января 2000 года вышло 819 книг.  \n",
    "* Посчитано количество обзоров и средняя оценка для каждой книги.  \n",
    "* Больше всего книг- 42 было выпущено изданием \"Penguin Books\".  \n",
    "* Самая высокая средняя оценка - 4,8 балла принадлежит пользователю с ником \"martinyvonne\"  \n",
    "* В среднем пользователи, поставившие более 50 оценок делают 24,3 обзора.  \n",
    "\n",
    "Исследование можно считать завершённым."
   ]
  }
 ],
 "metadata": {
  "ExecuteTimeLog": [
   {
    "duration": 547,
    "start_time": "2022-06-14T12:04:30.033Z"
   },
   {
    "duration": 2539,
    "start_time": "2022-06-14T12:04:57.313Z"
   },
   {
    "duration": 302,
    "start_time": "2022-06-14T12:05:54.208Z"
   },
   {
    "duration": 19,
    "start_time": "2022-06-14T12:05:55.960Z"
   },
   {
    "duration": 94,
    "start_time": "2022-06-14T12:06:34.779Z"
   },
   {
    "duration": 15,
    "start_time": "2022-06-14T12:06:34.953Z"
   },
   {
    "duration": 8,
    "start_time": "2022-06-14T12:07:09.274Z"
   },
   {
    "duration": 8,
    "start_time": "2022-06-14T12:07:15.498Z"
   },
   {
    "duration": 11,
    "start_time": "2022-06-14T12:08:25.243Z"
   },
   {
    "duration": 104,
    "start_time": "2022-06-14T12:11:21.071Z"
   },
   {
    "duration": 71,
    "start_time": "2022-06-14T12:14:12.483Z"
   },
   {
    "duration": 7,
    "start_time": "2022-06-14T12:14:17.378Z"
   },
   {
    "duration": 88,
    "start_time": "2022-06-14T12:14:52.547Z"
   },
   {
    "duration": 13,
    "start_time": "2022-06-14T12:15:19.579Z"
   },
   {
    "duration": 13,
    "start_time": "2022-06-14T12:15:30.484Z"
   },
   {
    "duration": 14,
    "start_time": "2022-06-14T12:15:41.875Z"
   },
   {
    "duration": 16,
    "start_time": "2022-06-14T12:15:58.980Z"
   },
   {
    "duration": 3,
    "start_time": "2022-06-14T12:16:02.956Z"
   },
   {
    "duration": 9,
    "start_time": "2022-06-14T12:16:02.962Z"
   },
   {
    "duration": 253,
    "start_time": "2022-06-14T12:16:02.973Z"
   },
   {
    "duration": 9,
    "start_time": "2022-06-14T12:16:03.227Z"
   },
   {
    "duration": 22,
    "start_time": "2022-06-14T12:16:03.238Z"
   },
   {
    "duration": 84,
    "start_time": "2022-06-14T12:16:03.263Z"
   },
   {
    "duration": 12,
    "start_time": "2022-06-14T12:16:03.349Z"
   },
   {
    "duration": 80,
    "start_time": "2022-06-14T12:18:03.855Z"
   },
   {
    "duration": 5,
    "start_time": "2022-06-14T12:19:11.472Z"
   },
   {
    "duration": 5,
    "start_time": "2022-06-14T12:19:20.640Z"
   },
   {
    "duration": 6,
    "start_time": "2022-06-14T12:19:36.327Z"
   },
   {
    "duration": 14,
    "start_time": "2022-06-14T12:20:30.546Z"
   },
   {
    "duration": 45,
    "start_time": "2022-06-14T12:20:50.594Z"
   },
   {
    "duration": 10,
    "start_time": "2022-06-14T12:21:35.274Z"
   },
   {
    "duration": 4,
    "start_time": "2022-06-14T12:22:24.436Z"
   },
   {
    "duration": 82,
    "start_time": "2022-06-14T12:22:40.797Z"
   },
   {
    "duration": 68,
    "start_time": "2022-06-14T12:23:19.894Z"
   },
   {
    "duration": 12,
    "start_time": "2022-06-14T12:23:35.895Z"
   },
   {
    "duration": 6,
    "start_time": "2022-06-14T12:23:55.902Z"
   },
   {
    "duration": 5,
    "start_time": "2022-06-14T12:24:01.378Z"
   },
   {
    "duration": 117,
    "start_time": "2022-06-14T12:26:09.465Z"
   },
   {
    "duration": 15,
    "start_time": "2022-06-14T12:26:30.482Z"
   },
   {
    "duration": 5,
    "start_time": "2022-06-14T12:26:55.451Z"
   },
   {
    "duration": 115,
    "start_time": "2022-06-14T12:27:34.139Z"
   },
   {
    "duration": 14,
    "start_time": "2022-06-14T12:27:58.245Z"
   },
   {
    "duration": 13,
    "start_time": "2022-06-14T12:32:56.624Z"
   },
   {
    "duration": 102,
    "start_time": "2022-06-14T12:33:56.643Z"
   },
   {
    "duration": 113,
    "start_time": "2022-06-14T12:34:04.860Z"
   },
   {
    "duration": 106,
    "start_time": "2022-06-14T12:34:13.219Z"
   },
   {
    "duration": 69,
    "start_time": "2022-06-14T12:34:31.220Z"
   },
   {
    "duration": 108,
    "start_time": "2022-06-14T12:35:22.495Z"
   },
   {
    "duration": 32,
    "start_time": "2022-06-14T12:35:47.223Z"
   },
   {
    "duration": 6,
    "start_time": "2022-06-14T12:36:37.485Z"
   },
   {
    "duration": 105,
    "start_time": "2022-06-14T12:36:41.967Z"
   },
   {
    "duration": 108,
    "start_time": "2022-06-14T12:36:44.391Z"
   },
   {
    "duration": 11,
    "start_time": "2022-06-14T12:37:07.425Z"
   },
   {
    "duration": 20,
    "start_time": "2022-06-14T12:37:24.294Z"
   },
   {
    "duration": 31,
    "start_time": "2022-06-14T12:38:55.857Z"
   },
   {
    "duration": 98,
    "start_time": "2022-06-14T12:50:26.246Z"
   },
   {
    "duration": 95,
    "start_time": "2022-06-14T12:50:57.943Z"
   },
   {
    "duration": 104,
    "start_time": "2022-06-14T12:53:28.401Z"
   },
   {
    "duration": 104,
    "start_time": "2022-06-14T12:53:46.500Z"
   },
   {
    "duration": 102,
    "start_time": "2022-06-14T12:54:17.735Z"
   },
   {
    "duration": 68,
    "start_time": "2022-06-14T13:12:39.303Z"
   },
   {
    "duration": 70,
    "start_time": "2022-06-14T13:13:00.654Z"
   },
   {
    "duration": 70,
    "start_time": "2022-06-14T13:13:05.799Z"
   },
   {
    "duration": 107,
    "start_time": "2022-06-14T13:13:15.045Z"
   },
   {
    "duration": 107,
    "start_time": "2022-06-14T13:13:25.638Z"
   },
   {
    "duration": 67,
    "start_time": "2022-06-14T13:13:31.790Z"
   },
   {
    "duration": 108,
    "start_time": "2022-06-14T13:15:35.352Z"
   },
   {
    "duration": 109,
    "start_time": "2022-06-14T13:16:00.490Z"
   },
   {
    "duration": 96,
    "start_time": "2022-06-14T13:16:45.747Z"
   },
   {
    "duration": 103,
    "start_time": "2022-06-14T13:17:05.202Z"
   },
   {
    "duration": 99,
    "start_time": "2022-06-14T13:17:22.748Z"
   },
   {
    "duration": 108,
    "start_time": "2022-06-14T13:17:39.628Z"
   },
   {
    "duration": 69,
    "start_time": "2022-06-14T13:18:02.932Z"
   },
   {
    "duration": 70,
    "start_time": "2022-06-14T13:19:48.989Z"
   },
   {
    "duration": 105,
    "start_time": "2022-06-14T13:42:38.114Z"
   },
   {
    "duration": 106,
    "start_time": "2022-06-14T13:42:43.154Z"
   },
   {
    "duration": 107,
    "start_time": "2022-06-14T13:42:54.514Z"
   },
   {
    "duration": 76,
    "start_time": "2022-06-14T13:43:07.340Z"
   },
   {
    "duration": 69,
    "start_time": "2022-06-14T13:46:31.863Z"
   },
   {
    "duration": 98,
    "start_time": "2022-06-14T13:48:02.867Z"
   },
   {
    "duration": 69,
    "start_time": "2022-06-14T13:48:38.699Z"
   },
   {
    "duration": 105,
    "start_time": "2022-06-14T13:48:54.172Z"
   },
   {
    "duration": 70,
    "start_time": "2022-06-14T13:49:12.843Z"
   },
   {
    "duration": 103,
    "start_time": "2022-06-14T13:57:35.766Z"
   },
   {
    "duration": 108,
    "start_time": "2022-06-14T14:00:07.201Z"
   },
   {
    "duration": 68,
    "start_time": "2022-06-14T14:00:20.192Z"
   },
   {
    "duration": 69,
    "start_time": "2022-06-14T14:00:24.520Z"
   },
   {
    "duration": 69,
    "start_time": "2022-06-14T14:01:24.474Z"
   },
   {
    "duration": 67,
    "start_time": "2022-06-14T14:01:32.250Z"
   },
   {
    "duration": 68,
    "start_time": "2022-06-14T14:01:56.227Z"
   },
   {
    "duration": 68,
    "start_time": "2022-06-14T14:02:01.291Z"
   },
   {
    "duration": 101,
    "start_time": "2022-06-14T14:04:04.071Z"
   },
   {
    "duration": 72,
    "start_time": "2022-06-14T14:04:19.087Z"
   },
   {
    "duration": 26,
    "start_time": "2022-06-14T14:05:29.335Z"
   },
   {
    "duration": 5,
    "start_time": "2022-06-14T14:05:39.776Z"
   },
   {
    "duration": 13,
    "start_time": "2022-06-14T14:06:50.442Z"
   },
   {
    "duration": 12,
    "start_time": "2022-06-14T14:07:21.698Z"
   },
   {
    "duration": 14,
    "start_time": "2022-06-14T14:07:38.171Z"
   },
   {
    "duration": 10,
    "start_time": "2022-06-14T14:07:53.403Z"
   },
   {
    "duration": 17,
    "start_time": "2022-06-14T14:07:57.011Z"
   },
   {
    "duration": 24,
    "start_time": "2022-06-14T14:08:02.203Z"
   },
   {
    "duration": 72,
    "start_time": "2022-06-14T14:10:18.814Z"
   },
   {
    "duration": 75,
    "start_time": "2022-06-14T14:10:33.294Z"
   },
   {
    "duration": 11,
    "start_time": "2022-06-14T14:17:58.521Z"
   },
   {
    "duration": 4,
    "start_time": "2022-06-14T14:18:13.817Z"
   },
   {
    "duration": 13,
    "start_time": "2022-06-14T14:18:15.753Z"
   },
   {
    "duration": 7,
    "start_time": "2022-06-14T14:19:24.178Z"
   },
   {
    "duration": 12,
    "start_time": "2022-06-14T14:19:27.577Z"
   },
   {
    "duration": 9,
    "start_time": "2022-06-14T14:20:16.796Z"
   },
   {
    "duration": 10,
    "start_time": "2022-06-14T14:20:20.395Z"
   },
   {
    "duration": 348,
    "start_time": "2022-06-14T14:20:44.438Z"
   },
   {
    "duration": 8,
    "start_time": "2022-06-14T14:20:58.084Z"
   },
   {
    "duration": 9,
    "start_time": "2022-06-14T14:21:11.021Z"
   },
   {
    "duration": 8,
    "start_time": "2022-06-14T14:21:16.485Z"
   },
   {
    "duration": 8,
    "start_time": "2022-06-14T14:22:05.462Z"
   },
   {
    "duration": 5,
    "start_time": "2022-06-14T14:22:11.917Z"
   },
   {
    "duration": 14,
    "start_time": "2022-06-14T14:22:23.975Z"
   },
   {
    "duration": 18,
    "start_time": "2022-06-14T14:22:27.494Z"
   },
   {
    "duration": 73,
    "start_time": "2022-06-14T14:22:59.154Z"
   },
   {
    "duration": 71,
    "start_time": "2022-06-14T14:23:05.967Z"
   },
   {
    "duration": 103,
    "start_time": "2022-06-14T14:25:53.060Z"
   },
   {
    "duration": 71,
    "start_time": "2022-06-14T14:26:19.349Z"
   },
   {
    "duration": 71,
    "start_time": "2022-06-14T14:26:37.652Z"
   },
   {
    "duration": 507,
    "start_time": "2022-06-14T16:57:18.599Z"
   },
   {
    "duration": 171,
    "start_time": "2022-06-14T16:57:19.109Z"
   },
   {
    "duration": 308,
    "start_time": "2022-06-14T16:57:19.281Z"
   },
   {
    "duration": 14,
    "start_time": "2022-06-14T16:57:19.591Z"
   },
   {
    "duration": 6,
    "start_time": "2022-06-14T16:57:19.606Z"
   },
   {
    "duration": 16,
    "start_time": "2022-06-14T16:57:19.613Z"
   },
   {
    "duration": 9,
    "start_time": "2022-06-14T16:57:19.631Z"
   },
   {
    "duration": 16,
    "start_time": "2022-06-14T16:57:19.642Z"
   },
   {
    "duration": 78,
    "start_time": "2022-06-14T16:57:19.659Z"
   },
   {
    "duration": 12,
    "start_time": "2022-06-14T16:57:19.740Z"
   },
   {
    "duration": 73,
    "start_time": "2022-06-14T16:57:19.753Z"
   },
   {
    "duration": 11,
    "start_time": "2022-06-14T16:57:19.828Z"
   },
   {
    "duration": 13,
    "start_time": "2022-06-14T16:57:19.840Z"
   },
   {
    "duration": 98,
    "start_time": "2022-06-14T16:57:19.855Z"
   },
   {
    "duration": 13,
    "start_time": "2022-06-14T16:57:19.955Z"
   },
   {
    "duration": 86,
    "start_time": "2022-06-14T16:57:19.970Z"
   },
   {
    "duration": 14,
    "start_time": "2022-06-14T16:57:20.058Z"
   },
   {
    "duration": 76,
    "start_time": "2022-06-14T16:57:20.073Z"
   },
   {
    "duration": 4,
    "start_time": "2022-06-14T16:57:20.150Z"
   },
   {
    "duration": 19,
    "start_time": "2022-06-14T16:57:20.155Z"
   },
   {
    "duration": 6,
    "start_time": "2022-06-14T16:57:20.175Z"
   },
   {
    "duration": 0,
    "start_time": "2022-06-14T16:57:20.182Z"
   },
   {
    "duration": 0,
    "start_time": "2022-06-14T16:57:20.183Z"
   },
   {
    "duration": 0,
    "start_time": "2022-06-14T16:57:20.184Z"
   },
   {
    "duration": 0,
    "start_time": "2022-06-14T16:57:20.185Z"
   },
   {
    "duration": 0,
    "start_time": "2022-06-14T16:57:20.187Z"
   },
   {
    "duration": 0,
    "start_time": "2022-06-14T16:57:20.188Z"
   },
   {
    "duration": 0,
    "start_time": "2022-06-14T16:57:20.189Z"
   },
   {
    "duration": 3,
    "start_time": "2022-06-14T16:58:07.258Z"
   },
   {
    "duration": 11,
    "start_time": "2022-06-14T16:58:07.263Z"
   },
   {
    "duration": 277,
    "start_time": "2022-06-14T16:58:07.276Z"
   },
   {
    "duration": 8,
    "start_time": "2022-06-14T16:58:07.555Z"
   },
   {
    "duration": 7,
    "start_time": "2022-06-14T16:58:07.565Z"
   },
   {
    "duration": 12,
    "start_time": "2022-06-14T16:58:07.573Z"
   },
   {
    "duration": 8,
    "start_time": "2022-06-14T16:58:07.587Z"
   },
   {
    "duration": 14,
    "start_time": "2022-06-14T16:58:07.597Z"
   },
   {
    "duration": 83,
    "start_time": "2022-06-14T16:58:07.613Z"
   },
   {
    "duration": 12,
    "start_time": "2022-06-14T16:58:07.699Z"
   },
   {
    "duration": 74,
    "start_time": "2022-06-14T16:58:07.713Z"
   },
   {
    "duration": 12,
    "start_time": "2022-06-14T16:58:07.789Z"
   },
   {
    "duration": 6,
    "start_time": "2022-06-14T16:58:07.802Z"
   },
   {
    "duration": 101,
    "start_time": "2022-06-14T16:58:07.809Z"
   },
   {
    "duration": 15,
    "start_time": "2022-06-14T16:58:07.912Z"
   },
   {
    "duration": 95,
    "start_time": "2022-06-14T16:58:07.928Z"
   },
   {
    "duration": 12,
    "start_time": "2022-06-14T16:58:08.024Z"
   },
   {
    "duration": 75,
    "start_time": "2022-06-14T16:58:08.038Z"
   },
   {
    "duration": 3,
    "start_time": "2022-06-14T16:58:08.114Z"
   },
   {
    "duration": 15,
    "start_time": "2022-06-14T16:58:08.119Z"
   },
   {
    "duration": 3,
    "start_time": "2022-06-14T16:58:08.136Z"
   },
   {
    "duration": 0,
    "start_time": "2022-06-14T16:58:08.140Z"
   },
   {
    "duration": 0,
    "start_time": "2022-06-14T16:58:08.141Z"
   },
   {
    "duration": 0,
    "start_time": "2022-06-14T16:58:08.142Z"
   },
   {
    "duration": 0,
    "start_time": "2022-06-14T16:58:08.143Z"
   },
   {
    "duration": 0,
    "start_time": "2022-06-14T16:58:08.144Z"
   },
   {
    "duration": 0,
    "start_time": "2022-06-14T16:58:08.144Z"
   },
   {
    "duration": 0,
    "start_time": "2022-06-14T16:58:08.145Z"
   },
   {
    "duration": 3,
    "start_time": "2022-06-14T16:58:25.390Z"
   },
   {
    "duration": 8,
    "start_time": "2022-06-14T16:58:25.397Z"
   },
   {
    "duration": 265,
    "start_time": "2022-06-14T16:58:25.406Z"
   },
   {
    "duration": 8,
    "start_time": "2022-06-14T16:58:25.673Z"
   },
   {
    "duration": 7,
    "start_time": "2022-06-14T16:58:25.682Z"
   },
   {
    "duration": 12,
    "start_time": "2022-06-14T16:58:25.691Z"
   },
   {
    "duration": 8,
    "start_time": "2022-06-14T16:58:25.705Z"
   },
   {
    "duration": 14,
    "start_time": "2022-06-14T16:58:25.715Z"
   },
   {
    "duration": 73,
    "start_time": "2022-06-14T16:58:25.731Z"
   },
   {
    "duration": 12,
    "start_time": "2022-06-14T16:58:25.806Z"
   },
   {
    "duration": 77,
    "start_time": "2022-06-14T16:58:25.820Z"
   },
   {
    "duration": 12,
    "start_time": "2022-06-14T16:58:25.898Z"
   },
   {
    "duration": 9,
    "start_time": "2022-06-14T16:58:25.911Z"
   },
   {
    "duration": 147,
    "start_time": "2022-06-14T16:58:25.922Z"
   },
   {
    "duration": 13,
    "start_time": "2022-06-14T16:58:26.071Z"
   },
   {
    "duration": 96,
    "start_time": "2022-06-14T16:58:26.085Z"
   },
   {
    "duration": 12,
    "start_time": "2022-06-14T16:58:26.183Z"
   },
   {
    "duration": 74,
    "start_time": "2022-06-14T16:58:26.197Z"
   },
   {
    "duration": 4,
    "start_time": "2022-06-14T16:58:26.272Z"
   },
   {
    "duration": 21,
    "start_time": "2022-06-14T16:58:26.277Z"
   },
   {
    "duration": 95,
    "start_time": "2022-06-14T16:58:26.300Z"
   },
   {
    "duration": 72,
    "start_time": "2022-06-14T16:58:26.397Z"
   },
   {
    "duration": 76,
    "start_time": "2022-06-14T16:58:26.471Z"
   },
   {
    "duration": 77,
    "start_time": "2022-06-14T16:58:26.549Z"
   },
   {
    "duration": 12,
    "start_time": "2022-06-14T16:58:26.628Z"
   },
   {
    "duration": 13,
    "start_time": "2022-06-14T16:58:26.641Z"
   },
   {
    "duration": 23,
    "start_time": "2022-06-14T16:58:26.655Z"
   },
   {
    "duration": 61,
    "start_time": "2022-06-14T18:00:32.756Z"
   },
   {
    "duration": 542,
    "start_time": "2022-06-14T18:00:45.672Z"
   },
   {
    "duration": 42,
    "start_time": "2022-06-14T18:00:46.217Z"
   },
   {
    "duration": 308,
    "start_time": "2022-06-14T18:00:46.261Z"
   },
   {
    "duration": 20,
    "start_time": "2022-06-14T18:00:46.572Z"
   },
   {
    "duration": 5,
    "start_time": "2022-06-14T18:00:46.594Z"
   },
   {
    "duration": 19,
    "start_time": "2022-06-14T18:00:46.601Z"
   },
   {
    "duration": 10,
    "start_time": "2022-06-14T18:00:46.622Z"
   },
   {
    "duration": 55,
    "start_time": "2022-06-14T18:00:46.634Z"
   },
   {
    "duration": 112,
    "start_time": "2022-06-14T18:00:46.691Z"
   },
   {
    "duration": 10,
    "start_time": "2022-06-14T18:00:46.806Z"
   },
   {
    "duration": 91,
    "start_time": "2022-06-14T18:00:46.818Z"
   },
   {
    "duration": 11,
    "start_time": "2022-06-14T18:00:46.911Z"
   },
   {
    "duration": 9,
    "start_time": "2022-06-14T18:00:46.924Z"
   },
   {
    "duration": 110,
    "start_time": "2022-06-14T18:00:46.934Z"
   },
   {
    "duration": 16,
    "start_time": "2022-06-14T18:00:47.046Z"
   },
   {
    "duration": 116,
    "start_time": "2022-06-14T18:00:47.064Z"
   },
   {
    "duration": 15,
    "start_time": "2022-06-14T18:00:47.181Z"
   },
   {
    "duration": 76,
    "start_time": "2022-06-14T18:00:47.198Z"
   },
   {
    "duration": 94,
    "start_time": "2022-06-14T18:00:47.276Z"
   },
   {
    "duration": 79,
    "start_time": "2022-06-14T18:00:47.373Z"
   },
   {
    "duration": 79,
    "start_time": "2022-06-14T18:00:47.454Z"
   },
   {
    "duration": 80,
    "start_time": "2022-06-14T18:01:36.780Z"
   },
   {
    "duration": 82,
    "start_time": "2022-06-14T18:01:54.480Z"
   },
   {
    "duration": 89,
    "start_time": "2022-06-14T18:02:13.216Z"
   },
   {
    "duration": 114,
    "start_time": "2022-06-14T18:04:44.982Z"
   },
   {
    "duration": 101,
    "start_time": "2022-06-14T18:05:25.679Z"
   },
   {
    "duration": 125,
    "start_time": "2022-06-14T18:28:31.009Z"
   },
   {
    "duration": 82,
    "start_time": "2022-06-14T18:40:02.451Z"
   },
   {
    "duration": 129,
    "start_time": "2022-06-14T18:44:51.478Z"
   },
   {
    "duration": 127,
    "start_time": "2022-06-14T18:45:05.539Z"
   },
   {
    "duration": 82,
    "start_time": "2022-06-14T18:45:24.881Z"
   },
   {
    "duration": 79,
    "start_time": "2022-06-14T18:46:43.574Z"
   },
   {
    "duration": 85,
    "start_time": "2022-06-14T18:48:02.919Z"
   },
   {
    "duration": 83,
    "start_time": "2022-06-14T18:49:32.297Z"
   },
   {
    "duration": 12,
    "start_time": "2022-06-14T18:49:49.334Z"
   },
   {
    "duration": 11,
    "start_time": "2022-06-14T18:50:08.400Z"
   },
   {
    "duration": 11,
    "start_time": "2022-06-14T18:50:13.558Z"
   },
   {
    "duration": 7,
    "start_time": "2022-06-14T18:50:40.899Z"
   },
   {
    "duration": 91,
    "start_time": "2022-06-14T18:50:55.821Z"
   },
   {
    "duration": 87,
    "start_time": "2022-06-14T18:51:14.487Z"
   },
   {
    "duration": 13,
    "start_time": "2022-06-14T18:53:07.604Z"
   },
   {
    "duration": 14,
    "start_time": "2022-06-14T18:53:24.520Z"
   },
   {
    "duration": 15,
    "start_time": "2022-06-14T18:53:44.775Z"
   },
   {
    "duration": 13,
    "start_time": "2022-06-14T18:53:53.154Z"
   },
   {
    "duration": 12,
    "start_time": "2022-06-14T18:54:07.543Z"
   },
   {
    "duration": 16,
    "start_time": "2022-06-14T18:54:27.283Z"
   },
   {
    "duration": 12,
    "start_time": "2022-06-14T18:55:07.344Z"
   },
   {
    "duration": 14,
    "start_time": "2022-06-14T18:55:09.690Z"
   },
   {
    "duration": 13,
    "start_time": "2022-06-14T18:55:37.969Z"
   },
   {
    "duration": 103,
    "start_time": "2022-06-14T18:56:28.992Z"
   },
   {
    "duration": 97,
    "start_time": "2022-06-14T18:56:36.088Z"
   },
   {
    "duration": 11,
    "start_time": "2022-06-14T18:57:03.689Z"
   },
   {
    "duration": 12,
    "start_time": "2022-06-14T18:58:33.698Z"
   },
   {
    "duration": 10,
    "start_time": "2022-06-14T18:59:55.689Z"
   },
   {
    "duration": 13,
    "start_time": "2022-06-14T18:59:59.513Z"
   },
   {
    "duration": 110,
    "start_time": "2022-06-14T19:00:24.214Z"
   },
   {
    "duration": 100,
    "start_time": "2022-06-14T19:00:28.585Z"
   },
   {
    "duration": 14,
    "start_time": "2022-06-14T19:00:55.453Z"
   },
   {
    "duration": 107,
    "start_time": "2022-06-14T19:02:06.793Z"
   },
   {
    "duration": 76,
    "start_time": "2022-06-14T19:02:27.062Z"
   },
   {
    "duration": 98,
    "start_time": "2022-06-14T19:03:37.701Z"
   },
   {
    "duration": 120,
    "start_time": "2022-06-14T19:04:33.689Z"
   },
   {
    "duration": 99,
    "start_time": "2022-06-14T19:04:47.801Z"
   },
   {
    "duration": 133,
    "start_time": "2022-06-14T19:04:54.709Z"
   },
   {
    "duration": 115,
    "start_time": "2022-06-14T19:04:57.441Z"
   },
   {
    "duration": 109,
    "start_time": "2022-06-14T19:05:06.133Z"
   },
   {
    "duration": 95,
    "start_time": "2022-06-14T19:05:26.997Z"
   },
   {
    "duration": 104,
    "start_time": "2022-06-14T19:06:13.445Z"
   },
   {
    "duration": 100,
    "start_time": "2022-06-14T19:06:18.421Z"
   },
   {
    "duration": 119,
    "start_time": "2022-06-14T19:06:37.480Z"
   },
   {
    "duration": 115,
    "start_time": "2022-06-14T19:06:48.530Z"
   },
   {
    "duration": 101,
    "start_time": "2022-06-14T19:06:58.690Z"
   },
   {
    "duration": 118,
    "start_time": "2022-06-14T19:07:29.818Z"
   },
   {
    "duration": 114,
    "start_time": "2022-06-14T19:07:43.658Z"
   },
   {
    "duration": 73,
    "start_time": "2022-06-14T19:07:56.880Z"
   },
   {
    "duration": 85,
    "start_time": "2022-06-14T19:08:14.450Z"
   },
   {
    "duration": 119,
    "start_time": "2022-06-14T19:08:54.512Z"
   },
   {
    "duration": 131,
    "start_time": "2022-06-14T19:09:51.548Z"
   },
   {
    "duration": 95,
    "start_time": "2022-06-14T19:10:05.208Z"
   },
   {
    "duration": 91,
    "start_time": "2022-06-14T19:10:20.644Z"
   },
   {
    "duration": 111,
    "start_time": "2022-06-14T19:10:28.345Z"
   },
   {
    "duration": 106,
    "start_time": "2022-06-14T19:10:36.692Z"
   },
   {
    "duration": 110,
    "start_time": "2022-06-14T19:12:56.821Z"
   },
   {
    "duration": 115,
    "start_time": "2022-06-14T19:13:00.816Z"
   },
   {
    "duration": 122,
    "start_time": "2022-06-14T19:13:09.361Z"
   },
   {
    "duration": 101,
    "start_time": "2022-06-14T19:13:13.417Z"
   },
   {
    "duration": 100,
    "start_time": "2022-06-14T19:13:36.030Z"
   },
   {
    "duration": 103,
    "start_time": "2022-06-14T19:13:38.389Z"
   },
   {
    "duration": 98,
    "start_time": "2022-06-14T19:13:55.945Z"
   },
   {
    "duration": 102,
    "start_time": "2022-06-14T19:14:35.301Z"
   },
   {
    "duration": 103,
    "start_time": "2022-06-14T19:14:58.078Z"
   },
   {
    "duration": 103,
    "start_time": "2022-06-14T19:15:09.018Z"
   },
   {
    "duration": 101,
    "start_time": "2022-06-14T19:15:29.370Z"
   },
   {
    "duration": 112,
    "start_time": "2022-06-14T19:16:00.926Z"
   },
   {
    "duration": 116,
    "start_time": "2022-06-14T19:16:12.097Z"
   },
   {
    "duration": 105,
    "start_time": "2022-06-14T19:16:23.451Z"
   },
   {
    "duration": 108,
    "start_time": "2022-06-14T19:16:47.087Z"
   },
   {
    "duration": 104,
    "start_time": "2022-06-14T19:16:58.787Z"
   },
   {
    "duration": 105,
    "start_time": "2022-06-14T19:17:03.626Z"
   },
   {
    "duration": 10,
    "start_time": "2022-06-14T19:17:36.482Z"
   },
   {
    "duration": 20,
    "start_time": "2022-06-14T19:18:03.999Z"
   },
   {
    "duration": 14,
    "start_time": "2022-06-14T19:18:11.242Z"
   },
   {
    "duration": 10,
    "start_time": "2022-06-14T19:18:15.254Z"
   },
   {
    "duration": 9,
    "start_time": "2022-06-14T19:18:20.671Z"
   },
   {
    "duration": 10,
    "start_time": "2022-06-14T19:18:25.950Z"
   },
   {
    "duration": 11,
    "start_time": "2022-06-14T19:18:30.207Z"
   },
   {
    "duration": 10,
    "start_time": "2022-06-14T19:18:50.999Z"
   },
   {
    "duration": 11,
    "start_time": "2022-06-14T19:18:51.210Z"
   },
   {
    "duration": 11,
    "start_time": "2022-06-14T19:19:04.997Z"
   },
   {
    "duration": 11,
    "start_time": "2022-06-14T19:19:08.806Z"
   },
   {
    "duration": 3,
    "start_time": "2022-06-14T19:19:26.019Z"
   },
   {
    "duration": 8,
    "start_time": "2022-06-14T19:19:26.024Z"
   },
   {
    "duration": 266,
    "start_time": "2022-06-14T19:19:26.034Z"
   },
   {
    "duration": 73,
    "start_time": "2022-06-14T19:19:26.302Z"
   },
   {
    "duration": 71,
    "start_time": "2022-06-14T19:19:26.377Z"
   },
   {
    "duration": 155,
    "start_time": "2022-06-14T19:19:26.450Z"
   },
   {
    "duration": 92,
    "start_time": "2022-06-14T19:19:26.606Z"
   },
   {
    "duration": 72,
    "start_time": "2022-06-14T19:19:26.699Z"
   },
   {
    "duration": 86,
    "start_time": "2022-06-14T19:19:26.772Z"
   },
   {
    "duration": 71,
    "start_time": "2022-06-14T19:19:26.860Z"
   },
   {
    "duration": 73,
    "start_time": "2022-06-14T19:19:26.933Z"
   },
   {
    "duration": 100,
    "start_time": "2022-06-14T19:19:27.008Z"
   },
   {
    "duration": 517,
    "start_time": "2022-06-15T06:36:21.195Z"
   },
   {
    "duration": 42,
    "start_time": "2022-06-15T06:36:21.714Z"
   },
   {
    "duration": 309,
    "start_time": "2022-06-15T06:36:21.757Z"
   },
   {
    "duration": 88,
    "start_time": "2022-06-15T06:36:22.068Z"
   },
   {
    "duration": 89,
    "start_time": "2022-06-15T06:36:22.160Z"
   },
   {
    "duration": 124,
    "start_time": "2022-06-15T06:36:22.250Z"
   },
   {
    "duration": 113,
    "start_time": "2022-06-15T06:36:22.376Z"
   },
   {
    "duration": 88,
    "start_time": "2022-06-15T06:36:22.491Z"
   },
   {
    "duration": 104,
    "start_time": "2022-06-15T06:36:22.581Z"
   },
   {
    "duration": 75,
    "start_time": "2022-06-15T06:36:22.686Z"
   },
   {
    "duration": 82,
    "start_time": "2022-06-15T06:36:22.763Z"
   },
   {
    "duration": 131,
    "start_time": "2022-06-15T06:36:22.847Z"
   },
   {
    "duration": 514,
    "start_time": "2022-06-15T07:17:40.786Z"
   },
   {
    "duration": 41,
    "start_time": "2022-06-15T07:17:41.303Z"
   },
   {
    "duration": 272,
    "start_time": "2022-06-15T07:17:41.345Z"
   },
   {
    "duration": 73,
    "start_time": "2022-06-15T07:17:41.619Z"
   },
   {
    "duration": 71,
    "start_time": "2022-06-15T07:17:41.693Z"
   },
   {
    "duration": 97,
    "start_time": "2022-06-15T07:17:41.766Z"
   },
   {
    "duration": 89,
    "start_time": "2022-06-15T07:17:41.865Z"
   },
   {
    "duration": 70,
    "start_time": "2022-06-15T07:17:41.956Z"
   },
   {
    "duration": 87,
    "start_time": "2022-06-15T07:17:42.028Z"
   },
   {
    "duration": 72,
    "start_time": "2022-06-15T07:17:42.118Z"
   },
   {
    "duration": 75,
    "start_time": "2022-06-15T07:17:42.191Z"
   },
   {
    "duration": 106,
    "start_time": "2022-06-15T07:17:42.268Z"
   },
   {
    "duration": 142,
    "start_time": "2022-06-15T07:18:16.704Z"
   },
   {
    "duration": 104,
    "start_time": "2022-06-15T07:18:26.235Z"
   },
   {
    "duration": 100,
    "start_time": "2022-06-15T07:19:34.330Z"
   },
   {
    "duration": 583,
    "start_time": "2022-06-15T10:01:16.778Z"
   },
   {
    "duration": 53,
    "start_time": "2022-06-15T10:01:17.363Z"
   },
   {
    "duration": 324,
    "start_time": "2022-06-15T10:01:17.418Z"
   },
   {
    "duration": 87,
    "start_time": "2022-06-15T10:01:17.743Z"
   },
   {
    "duration": 81,
    "start_time": "2022-06-15T10:01:17.833Z"
   },
   {
    "duration": 103,
    "start_time": "2022-06-15T10:01:17.916Z"
   },
   {
    "duration": 107,
    "start_time": "2022-06-15T10:01:18.021Z"
   },
   {
    "duration": 83,
    "start_time": "2022-06-15T10:01:18.130Z"
   },
   {
    "duration": 86,
    "start_time": "2022-06-15T10:01:18.215Z"
   },
   {
    "duration": 81,
    "start_time": "2022-06-15T10:01:18.302Z"
   },
   {
    "duration": 75,
    "start_time": "2022-06-15T10:01:18.385Z"
   },
   {
    "duration": 142,
    "start_time": "2022-06-15T10:01:18.461Z"
   },
   {
    "duration": 578,
    "start_time": "2022-06-15T10:02:29.488Z"
   },
   {
    "duration": 68,
    "start_time": "2022-06-15T10:02:30.075Z"
   },
   {
    "duration": 305,
    "start_time": "2022-06-15T10:02:30.146Z"
   },
   {
    "duration": 94,
    "start_time": "2022-06-15T10:02:30.453Z"
   },
   {
    "duration": 88,
    "start_time": "2022-06-15T10:02:30.550Z"
   },
   {
    "duration": 134,
    "start_time": "2022-06-15T10:02:30.641Z"
   },
   {
    "duration": 112,
    "start_time": "2022-06-15T10:02:30.776Z"
   },
   {
    "duration": 75,
    "start_time": "2022-06-15T10:02:30.890Z"
   },
   {
    "duration": 103,
    "start_time": "2022-06-15T10:02:30.976Z"
   },
   {
    "duration": 83,
    "start_time": "2022-06-15T10:02:31.086Z"
   },
   {
    "duration": 84,
    "start_time": "2022-06-15T10:02:31.174Z"
   },
   {
    "duration": 130,
    "start_time": "2022-06-15T10:02:31.259Z"
   }
  ],
  "kernelspec": {
   "display_name": "Python 3 (ipykernel)",
   "language": "python",
   "name": "python3"
  },
  "language_info": {
   "codemirror_mode": {
    "name": "ipython",
    "version": 3
   },
   "file_extension": ".py",
   "mimetype": "text/x-python",
   "name": "python",
   "nbconvert_exporter": "python",
   "pygments_lexer": "ipython3",
   "version": "3.9.5"
  },
  "toc": {
   "base_numbering": 1,
   "nav_menu": {},
   "number_sections": true,
   "sideBar": true,
   "skip_h1_title": true,
   "title_cell": "Table of Contents",
   "title_sidebar": "Contents",
   "toc_cell": false,
   "toc_position": {
    "height": "calc(100% - 180px)",
    "left": "10px",
    "top": "150px",
    "width": "366.391px"
   },
   "toc_section_display": true,
   "toc_window_display": true
  }
 },
 "nbformat": 4,
 "nbformat_minor": 2
}
