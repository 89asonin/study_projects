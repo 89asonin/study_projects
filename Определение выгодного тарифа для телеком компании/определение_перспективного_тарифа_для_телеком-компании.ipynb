{
 "cells": [
  {
   "cell_type": "code",
   "execution_count": 1,
   "metadata": {},
   "outputs": [],
   "source": [
    "import warnings\n",
    "warnings.filterwarnings('ignore')"
   ]
  },
  {
   "cell_type": "markdown",
   "metadata": {},
   "source": [
    "# Описание проекта\n",
    "\n",
    "Вы аналитик компании «Мегалайн» — федерального оператора сотовой связи. Клиентам предлагают два тарифных плана: «Смарт» и «Ультра». Чтобы скорректировать рекламный бюджет, коммерческий департамент хочет понять, какой тариф приносит больше денег.\n",
    "Вам предстоит сделать предварительный анализ тарифов на небольшой выборке клиентов. В вашем распоряжении данные 500 пользователей «Мегалайна»: кто они, откуда, каким тарифом пользуются, сколько звонков и сообщений каждый отправил за 2018 год. Нужно проанализировать поведение клиентов и сделать вывод — какой тариф лучше."
   ]
  },
  {
   "cell_type": "markdown",
   "metadata": {},
   "source": [
    "## Изучение данных из файлов"
   ]
  },
  {
   "cell_type": "markdown",
   "metadata": {},
   "source": [
    "Составим первое впечатление о данных. Импортируем библиотеку `pandas`, считаем датасеты и сохраним их в переменных с одноименными названиями. Выведем на экран первые 20 строк и общую информацию каждой таблицы."
   ]
  },
  {
   "cell_type": "code",
   "execution_count": 2,
   "metadata": {},
   "outputs": [
    {
     "name": "stdout",
     "output_type": "stream",
     "text": [
      "<class 'pandas.core.frame.DataFrame'>\n",
      "RangeIndex: 202607 entries, 0 to 202606\n",
      "Data columns (total 4 columns):\n",
      "id           202607 non-null object\n",
      "call_date    202607 non-null object\n",
      "duration     202607 non-null float64\n",
      "user_id      202607 non-null int64\n",
      "dtypes: float64(1), int64(1), object(2)\n",
      "memory usage: 6.2+ MB\n"
     ]
    },
    {
     "data": {
      "text/plain": [
       "None"
      ]
     },
     "metadata": {},
     "output_type": "display_data"
    },
    {
     "data": {
      "text/html": [
       "<div>\n",
       "<style scoped>\n",
       "    .dataframe tbody tr th:only-of-type {\n",
       "        vertical-align: middle;\n",
       "    }\n",
       "\n",
       "    .dataframe tbody tr th {\n",
       "        vertical-align: top;\n",
       "    }\n",
       "\n",
       "    .dataframe thead th {\n",
       "        text-align: right;\n",
       "    }\n",
       "</style>\n",
       "<table border=\"1\" class=\"dataframe\">\n",
       "  <thead>\n",
       "    <tr style=\"text-align: right;\">\n",
       "      <th></th>\n",
       "      <th>id</th>\n",
       "      <th>call_date</th>\n",
       "      <th>duration</th>\n",
       "      <th>user_id</th>\n",
       "    </tr>\n",
       "  </thead>\n",
       "  <tbody>\n",
       "    <tr>\n",
       "      <td>0</td>\n",
       "      <td>1000_0</td>\n",
       "      <td>2018-07-25</td>\n",
       "      <td>0.00</td>\n",
       "      <td>1000</td>\n",
       "    </tr>\n",
       "    <tr>\n",
       "      <td>1</td>\n",
       "      <td>1000_1</td>\n",
       "      <td>2018-08-17</td>\n",
       "      <td>0.00</td>\n",
       "      <td>1000</td>\n",
       "    </tr>\n",
       "    <tr>\n",
       "      <td>2</td>\n",
       "      <td>1000_2</td>\n",
       "      <td>2018-06-11</td>\n",
       "      <td>2.85</td>\n",
       "      <td>1000</td>\n",
       "    </tr>\n",
       "    <tr>\n",
       "      <td>3</td>\n",
       "      <td>1000_3</td>\n",
       "      <td>2018-09-21</td>\n",
       "      <td>13.80</td>\n",
       "      <td>1000</td>\n",
       "    </tr>\n",
       "    <tr>\n",
       "      <td>4</td>\n",
       "      <td>1000_4</td>\n",
       "      <td>2018-12-15</td>\n",
       "      <td>5.18</td>\n",
       "      <td>1000</td>\n",
       "    </tr>\n",
       "    <tr>\n",
       "      <td>5</td>\n",
       "      <td>1000_5</td>\n",
       "      <td>2018-11-02</td>\n",
       "      <td>0.00</td>\n",
       "      <td>1000</td>\n",
       "    </tr>\n",
       "    <tr>\n",
       "      <td>6</td>\n",
       "      <td>1000_6</td>\n",
       "      <td>2018-10-18</td>\n",
       "      <td>0.00</td>\n",
       "      <td>1000</td>\n",
       "    </tr>\n",
       "    <tr>\n",
       "      <td>7</td>\n",
       "      <td>1000_7</td>\n",
       "      <td>2018-08-22</td>\n",
       "      <td>18.31</td>\n",
       "      <td>1000</td>\n",
       "    </tr>\n",
       "    <tr>\n",
       "      <td>8</td>\n",
       "      <td>1000_8</td>\n",
       "      <td>2018-09-15</td>\n",
       "      <td>18.44</td>\n",
       "      <td>1000</td>\n",
       "    </tr>\n",
       "    <tr>\n",
       "      <td>9</td>\n",
       "      <td>1000_9</td>\n",
       "      <td>2018-08-15</td>\n",
       "      <td>0.00</td>\n",
       "      <td>1000</td>\n",
       "    </tr>\n",
       "    <tr>\n",
       "      <td>10</td>\n",
       "      <td>1000_10</td>\n",
       "      <td>2018-08-22</td>\n",
       "      <td>5.03</td>\n",
       "      <td>1000</td>\n",
       "    </tr>\n",
       "    <tr>\n",
       "      <td>11</td>\n",
       "      <td>1000_11</td>\n",
       "      <td>2018-05-28</td>\n",
       "      <td>18.82</td>\n",
       "      <td>1000</td>\n",
       "    </tr>\n",
       "    <tr>\n",
       "      <td>12</td>\n",
       "      <td>1000_12</td>\n",
       "      <td>2018-07-05</td>\n",
       "      <td>2.02</td>\n",
       "      <td>1000</td>\n",
       "    </tr>\n",
       "    <tr>\n",
       "      <td>13</td>\n",
       "      <td>1000_13</td>\n",
       "      <td>2018-09-29</td>\n",
       "      <td>7.15</td>\n",
       "      <td>1000</td>\n",
       "    </tr>\n",
       "    <tr>\n",
       "      <td>14</td>\n",
       "      <td>1000_14</td>\n",
       "      <td>2018-12-11</td>\n",
       "      <td>9.13</td>\n",
       "      <td>1000</td>\n",
       "    </tr>\n",
       "    <tr>\n",
       "      <td>15</td>\n",
       "      <td>1000_15</td>\n",
       "      <td>2018-07-27</td>\n",
       "      <td>9.36</td>\n",
       "      <td>1000</td>\n",
       "    </tr>\n",
       "    <tr>\n",
       "      <td>16</td>\n",
       "      <td>1000_16</td>\n",
       "      <td>2018-08-11</td>\n",
       "      <td>4.08</td>\n",
       "      <td>1000</td>\n",
       "    </tr>\n",
       "    <tr>\n",
       "      <td>17</td>\n",
       "      <td>1000_17</td>\n",
       "      <td>2018-08-02</td>\n",
       "      <td>12.63</td>\n",
       "      <td>1000</td>\n",
       "    </tr>\n",
       "    <tr>\n",
       "      <td>18</td>\n",
       "      <td>1000_18</td>\n",
       "      <td>2018-06-15</td>\n",
       "      <td>4.46</td>\n",
       "      <td>1000</td>\n",
       "    </tr>\n",
       "    <tr>\n",
       "      <td>19</td>\n",
       "      <td>1000_19</td>\n",
       "      <td>2018-11-02</td>\n",
       "      <td>15.08</td>\n",
       "      <td>1000</td>\n",
       "    </tr>\n",
       "  </tbody>\n",
       "</table>\n",
       "</div>"
      ],
      "text/plain": [
       "         id   call_date  duration  user_id\n",
       "0    1000_0  2018-07-25      0.00     1000\n",
       "1    1000_1  2018-08-17      0.00     1000\n",
       "2    1000_2  2018-06-11      2.85     1000\n",
       "3    1000_3  2018-09-21     13.80     1000\n",
       "4    1000_4  2018-12-15      5.18     1000\n",
       "5    1000_5  2018-11-02      0.00     1000\n",
       "6    1000_6  2018-10-18      0.00     1000\n",
       "7    1000_7  2018-08-22     18.31     1000\n",
       "8    1000_8  2018-09-15     18.44     1000\n",
       "9    1000_9  2018-08-15      0.00     1000\n",
       "10  1000_10  2018-08-22      5.03     1000\n",
       "11  1000_11  2018-05-28     18.82     1000\n",
       "12  1000_12  2018-07-05      2.02     1000\n",
       "13  1000_13  2018-09-29      7.15     1000\n",
       "14  1000_14  2018-12-11      9.13     1000\n",
       "15  1000_15  2018-07-27      9.36     1000\n",
       "16  1000_16  2018-08-11      4.08     1000\n",
       "17  1000_17  2018-08-02     12.63     1000\n",
       "18  1000_18  2018-06-15      4.46     1000\n",
       "19  1000_19  2018-11-02     15.08     1000"
      ]
     },
     "execution_count": 2,
     "metadata": {},
     "output_type": "execute_result"
    }
   ],
   "source": [
    "import pandas as pd\n",
    "calls = pd.read_csv('/datasets/calls.csv')\n",
    "display(calls.info())\n",
    "calls.head(20)"
   ]
  },
  {
   "cell_type": "markdown",
   "metadata": {},
   "source": [
    "В данной таблице указана информация о звонках, данные представлены на 202607 строках в 4 столбцах. Названия столбцов указаны корректно, в данных нет пропусков. Есть нулевые значения в столбце `duration`, согласно описанию в данных это не ошибки, а пропущенные звонки.\n",
    "\n",
    "Значения столбцов согласно описанию:\n",
    "* `id` — уникальный номер звонка\n",
    "* `call_date` — дата звонка\n",
    "* `duration` — длительность звонка в минутах\n",
    "* `user_id` — идентификатор пользователя, сделавшего звонок\n",
    "\n",
    "Согласно описанию, деньги/предоплаченные минуты за разговор списываются с первой секунды каждой новой минуты, поэтому для удобства подсчёта времени разговоров и суммы трат в дальнейшейм лучше будет привести столбец `duration` к целочисленному типу с округлением вверх. \n",
    "Столбец `call_date`лучше привести к формату даты и времени."
   ]
  },
  {
   "cell_type": "code",
   "execution_count": 3,
   "metadata": {},
   "outputs": [
    {
     "name": "stdout",
     "output_type": "stream",
     "text": [
      "<class 'pandas.core.frame.DataFrame'>\n",
      "RangeIndex: 500 entries, 0 to 499\n",
      "Data columns (total 8 columns):\n",
      "user_id       500 non-null int64\n",
      "age           500 non-null int64\n",
      "churn_date    38 non-null object\n",
      "city          500 non-null object\n",
      "first_name    500 non-null object\n",
      "last_name     500 non-null object\n",
      "reg_date      500 non-null object\n",
      "tariff        500 non-null object\n",
      "dtypes: int64(2), object(6)\n",
      "memory usage: 31.4+ KB\n",
      "None\n"
     ]
    },
    {
     "data": {
      "text/html": [
       "<div>\n",
       "<style scoped>\n",
       "    .dataframe tbody tr th:only-of-type {\n",
       "        vertical-align: middle;\n",
       "    }\n",
       "\n",
       "    .dataframe tbody tr th {\n",
       "        vertical-align: top;\n",
       "    }\n",
       "\n",
       "    .dataframe thead th {\n",
       "        text-align: right;\n",
       "    }\n",
       "</style>\n",
       "<table border=\"1\" class=\"dataframe\">\n",
       "  <thead>\n",
       "    <tr style=\"text-align: right;\">\n",
       "      <th></th>\n",
       "      <th>user_id</th>\n",
       "      <th>age</th>\n",
       "      <th>churn_date</th>\n",
       "      <th>city</th>\n",
       "      <th>first_name</th>\n",
       "      <th>last_name</th>\n",
       "      <th>reg_date</th>\n",
       "      <th>tariff</th>\n",
       "    </tr>\n",
       "  </thead>\n",
       "  <tbody>\n",
       "    <tr>\n",
       "      <td>0</td>\n",
       "      <td>1000</td>\n",
       "      <td>52</td>\n",
       "      <td>NaN</td>\n",
       "      <td>Краснодар</td>\n",
       "      <td>Рафаил</td>\n",
       "      <td>Верещагин</td>\n",
       "      <td>2018-05-25</td>\n",
       "      <td>ultra</td>\n",
       "    </tr>\n",
       "    <tr>\n",
       "      <td>1</td>\n",
       "      <td>1001</td>\n",
       "      <td>41</td>\n",
       "      <td>NaN</td>\n",
       "      <td>Москва</td>\n",
       "      <td>Иван</td>\n",
       "      <td>Ежов</td>\n",
       "      <td>2018-11-01</td>\n",
       "      <td>smart</td>\n",
       "    </tr>\n",
       "    <tr>\n",
       "      <td>2</td>\n",
       "      <td>1002</td>\n",
       "      <td>59</td>\n",
       "      <td>NaN</td>\n",
       "      <td>Стерлитамак</td>\n",
       "      <td>Евгений</td>\n",
       "      <td>Абрамович</td>\n",
       "      <td>2018-06-17</td>\n",
       "      <td>smart</td>\n",
       "    </tr>\n",
       "    <tr>\n",
       "      <td>3</td>\n",
       "      <td>1003</td>\n",
       "      <td>23</td>\n",
       "      <td>NaN</td>\n",
       "      <td>Москва</td>\n",
       "      <td>Белла</td>\n",
       "      <td>Белякова</td>\n",
       "      <td>2018-08-17</td>\n",
       "      <td>ultra</td>\n",
       "    </tr>\n",
       "    <tr>\n",
       "      <td>4</td>\n",
       "      <td>1004</td>\n",
       "      <td>68</td>\n",
       "      <td>NaN</td>\n",
       "      <td>Новокузнецк</td>\n",
       "      <td>Татьяна</td>\n",
       "      <td>Авдеенко</td>\n",
       "      <td>2018-05-14</td>\n",
       "      <td>ultra</td>\n",
       "    </tr>\n",
       "    <tr>\n",
       "      <td>5</td>\n",
       "      <td>1005</td>\n",
       "      <td>67</td>\n",
       "      <td>NaN</td>\n",
       "      <td>Набережные Челны</td>\n",
       "      <td>Афанасий</td>\n",
       "      <td>Горлов</td>\n",
       "      <td>2018-01-25</td>\n",
       "      <td>smart</td>\n",
       "    </tr>\n",
       "    <tr>\n",
       "      <td>6</td>\n",
       "      <td>1006</td>\n",
       "      <td>21</td>\n",
       "      <td>NaN</td>\n",
       "      <td>Ульяновск</td>\n",
       "      <td>Леонид</td>\n",
       "      <td>Ермолаев</td>\n",
       "      <td>2018-02-26</td>\n",
       "      <td>smart</td>\n",
       "    </tr>\n",
       "    <tr>\n",
       "      <td>7</td>\n",
       "      <td>1007</td>\n",
       "      <td>65</td>\n",
       "      <td>NaN</td>\n",
       "      <td>Москва</td>\n",
       "      <td>Юна</td>\n",
       "      <td>Березина</td>\n",
       "      <td>2018-04-19</td>\n",
       "      <td>smart</td>\n",
       "    </tr>\n",
       "    <tr>\n",
       "      <td>8</td>\n",
       "      <td>1008</td>\n",
       "      <td>63</td>\n",
       "      <td>NaN</td>\n",
       "      <td>Челябинск</td>\n",
       "      <td>Рустэм</td>\n",
       "      <td>Пономарёв</td>\n",
       "      <td>2018-12-19</td>\n",
       "      <td>smart</td>\n",
       "    </tr>\n",
       "    <tr>\n",
       "      <td>9</td>\n",
       "      <td>1009</td>\n",
       "      <td>24</td>\n",
       "      <td>NaN</td>\n",
       "      <td>Пермь</td>\n",
       "      <td>Василиса</td>\n",
       "      <td>Блинова</td>\n",
       "      <td>2018-03-22</td>\n",
       "      <td>smart</td>\n",
       "    </tr>\n",
       "    <tr>\n",
       "      <td>10</td>\n",
       "      <td>1010</td>\n",
       "      <td>26</td>\n",
       "      <td>NaN</td>\n",
       "      <td>Тюмень</td>\n",
       "      <td>Эдуард</td>\n",
       "      <td>Кононов</td>\n",
       "      <td>2018-08-05</td>\n",
       "      <td>smart</td>\n",
       "    </tr>\n",
       "    <tr>\n",
       "      <td>11</td>\n",
       "      <td>1011</td>\n",
       "      <td>44</td>\n",
       "      <td>NaN</td>\n",
       "      <td>Самара</td>\n",
       "      <td>Веселина</td>\n",
       "      <td>Алёшко</td>\n",
       "      <td>2018-03-19</td>\n",
       "      <td>smart</td>\n",
       "    </tr>\n",
       "    <tr>\n",
       "      <td>12</td>\n",
       "      <td>1012</td>\n",
       "      <td>38</td>\n",
       "      <td>NaN</td>\n",
       "      <td>Санкт-Петербург</td>\n",
       "      <td>Варлам</td>\n",
       "      <td>Соловьев</td>\n",
       "      <td>2018-03-28</td>\n",
       "      <td>smart</td>\n",
       "    </tr>\n",
       "    <tr>\n",
       "      <td>13</td>\n",
       "      <td>1013</td>\n",
       "      <td>36</td>\n",
       "      <td>NaN</td>\n",
       "      <td>Иваново</td>\n",
       "      <td>Борис</td>\n",
       "      <td>Андреенко</td>\n",
       "      <td>2018-11-14</td>\n",
       "      <td>ultra</td>\n",
       "    </tr>\n",
       "    <tr>\n",
       "      <td>14</td>\n",
       "      <td>1014</td>\n",
       "      <td>64</td>\n",
       "      <td>NaN</td>\n",
       "      <td>Чебоксары</td>\n",
       "      <td>Яков</td>\n",
       "      <td>Акинфьев</td>\n",
       "      <td>2018-05-15</td>\n",
       "      <td>smart</td>\n",
       "    </tr>\n",
       "    <tr>\n",
       "      <td>15</td>\n",
       "      <td>1015</td>\n",
       "      <td>26</td>\n",
       "      <td>NaN</td>\n",
       "      <td>Челябинск</td>\n",
       "      <td>Рузана</td>\n",
       "      <td>Алюшина</td>\n",
       "      <td>2018-04-30</td>\n",
       "      <td>smart</td>\n",
       "    </tr>\n",
       "    <tr>\n",
       "      <td>16</td>\n",
       "      <td>1016</td>\n",
       "      <td>58</td>\n",
       "      <td>NaN</td>\n",
       "      <td>Омск</td>\n",
       "      <td>Марица</td>\n",
       "      <td>Сазонова</td>\n",
       "      <td>2018-11-21</td>\n",
       "      <td>ultra</td>\n",
       "    </tr>\n",
       "    <tr>\n",
       "      <td>17</td>\n",
       "      <td>1017</td>\n",
       "      <td>73</td>\n",
       "      <td>NaN</td>\n",
       "      <td>Краснодар</td>\n",
       "      <td>Мария</td>\n",
       "      <td>Аленникова</td>\n",
       "      <td>2018-05-22</td>\n",
       "      <td>smart</td>\n",
       "    </tr>\n",
       "    <tr>\n",
       "      <td>18</td>\n",
       "      <td>1018</td>\n",
       "      <td>71</td>\n",
       "      <td>NaN</td>\n",
       "      <td>Уфа</td>\n",
       "      <td>Матвей</td>\n",
       "      <td>Золотов</td>\n",
       "      <td>2018-04-01</td>\n",
       "      <td>ultra</td>\n",
       "    </tr>\n",
       "    <tr>\n",
       "      <td>19</td>\n",
       "      <td>1019</td>\n",
       "      <td>63</td>\n",
       "      <td>2018-10-05</td>\n",
       "      <td>Томск</td>\n",
       "      <td>Игнатий</td>\n",
       "      <td>Круглов</td>\n",
       "      <td>2018-05-16</td>\n",
       "      <td>ultra</td>\n",
       "    </tr>\n",
       "  </tbody>\n",
       "</table>\n",
       "</div>"
      ],
      "text/plain": [
       "    user_id  age  churn_date              city first_name   last_name  \\\n",
       "0      1000   52         NaN         Краснодар     Рафаил   Верещагин   \n",
       "1      1001   41         NaN            Москва       Иван        Ежов   \n",
       "2      1002   59         NaN       Стерлитамак    Евгений   Абрамович   \n",
       "3      1003   23         NaN            Москва      Белла    Белякова   \n",
       "4      1004   68         NaN       Новокузнецк    Татьяна    Авдеенко   \n",
       "5      1005   67         NaN  Набережные Челны   Афанасий      Горлов   \n",
       "6      1006   21         NaN         Ульяновск     Леонид    Ермолаев   \n",
       "7      1007   65         NaN            Москва        Юна    Березина   \n",
       "8      1008   63         NaN         Челябинск     Рустэм   Пономарёв   \n",
       "9      1009   24         NaN             Пермь   Василиса     Блинова   \n",
       "10     1010   26         NaN            Тюмень     Эдуард     Кононов   \n",
       "11     1011   44         NaN            Самара   Веселина      Алёшко   \n",
       "12     1012   38         NaN   Санкт-Петербург     Варлам    Соловьев   \n",
       "13     1013   36         NaN           Иваново      Борис   Андреенко   \n",
       "14     1014   64         NaN         Чебоксары       Яков    Акинфьев   \n",
       "15     1015   26         NaN         Челябинск     Рузана     Алюшина   \n",
       "16     1016   58         NaN              Омск     Марица    Сазонова   \n",
       "17     1017   73         NaN         Краснодар      Мария  Аленникова   \n",
       "18     1018   71         NaN               Уфа     Матвей     Золотов   \n",
       "19     1019   63  2018-10-05             Томск    Игнатий     Круглов   \n",
       "\n",
       "      reg_date tariff  \n",
       "0   2018-05-25  ultra  \n",
       "1   2018-11-01  smart  \n",
       "2   2018-06-17  smart  \n",
       "3   2018-08-17  ultra  \n",
       "4   2018-05-14  ultra  \n",
       "5   2018-01-25  smart  \n",
       "6   2018-02-26  smart  \n",
       "7   2018-04-19  smart  \n",
       "8   2018-12-19  smart  \n",
       "9   2018-03-22  smart  \n",
       "10  2018-08-05  smart  \n",
       "11  2018-03-19  smart  \n",
       "12  2018-03-28  smart  \n",
       "13  2018-11-14  ultra  \n",
       "14  2018-05-15  smart  \n",
       "15  2018-04-30  smart  \n",
       "16  2018-11-21  ultra  \n",
       "17  2018-05-22  smart  \n",
       "18  2018-04-01  ultra  \n",
       "19  2018-05-16  ultra  "
      ]
     },
     "execution_count": 3,
     "metadata": {},
     "output_type": "execute_result"
    }
   ],
   "source": [
    "users = pd.read_csv('/datasets/users.csv')\n",
    "print(users.info())\n",
    "users.head(20)"
   ]
  },
  {
   "cell_type": "markdown",
   "metadata": {},
   "source": [
    "В данной таблице указана информация о пользователях, данные представлены на 500 строках в 8 столбцах. Названия столбцов указаны корректно, пропуски есть только в столбце `churn_date`, это означает что пользователи с пропущенными значениями этого столбца продолжали пользоваться тарифом на момент выгрузки.\n",
    "\n",
    "Значения столбцов согласно описанию:\n",
    "\n",
    "* `user_id` — уникальный идентификатор пользователя\n",
    "* `first_name` — имя пользователя\n",
    "* `last_name` — фамилия пользователя\n",
    "* `age` — возраст пользователя (годы)\n",
    "* `reg_date` — дата подключения тарифа (день, месяц, год)\n",
    "* `churn_date` — дата прекращения пользования тарифом (если значение пропущено, то тариф ещё действовал на момент выгрузки данных)\n",
    "* `city` — город проживания пользователя\n",
    "* `tariff` — название тарифного плана\n",
    "\n",
    "Столбцы `churn_date` и `reg_date` лучше привести к формату даты и времени."
   ]
  },
  {
   "cell_type": "code",
   "execution_count": 4,
   "metadata": {},
   "outputs": [
    {
     "data": {
      "text/html": [
       "<div>\n",
       "<style scoped>\n",
       "    .dataframe tbody tr th:only-of-type {\n",
       "        vertical-align: middle;\n",
       "    }\n",
       "\n",
       "    .dataframe tbody tr th {\n",
       "        vertical-align: top;\n",
       "    }\n",
       "\n",
       "    .dataframe thead th {\n",
       "        text-align: right;\n",
       "    }\n",
       "</style>\n",
       "<table border=\"1\" class=\"dataframe\">\n",
       "  <thead>\n",
       "    <tr style=\"text-align: right;\">\n",
       "      <th></th>\n",
       "      <th>messages_included</th>\n",
       "      <th>mb_per_month_included</th>\n",
       "      <th>minutes_included</th>\n",
       "      <th>rub_monthly_fee</th>\n",
       "      <th>rub_per_gb</th>\n",
       "      <th>rub_per_message</th>\n",
       "      <th>rub_per_minute</th>\n",
       "      <th>tariff_name</th>\n",
       "    </tr>\n",
       "  </thead>\n",
       "  <tbody>\n",
       "    <tr>\n",
       "      <td>0</td>\n",
       "      <td>50</td>\n",
       "      <td>15360</td>\n",
       "      <td>500</td>\n",
       "      <td>550</td>\n",
       "      <td>200</td>\n",
       "      <td>3</td>\n",
       "      <td>3</td>\n",
       "      <td>smart</td>\n",
       "    </tr>\n",
       "    <tr>\n",
       "      <td>1</td>\n",
       "      <td>1000</td>\n",
       "      <td>30720</td>\n",
       "      <td>3000</td>\n",
       "      <td>1950</td>\n",
       "      <td>150</td>\n",
       "      <td>1</td>\n",
       "      <td>1</td>\n",
       "      <td>ultra</td>\n",
       "    </tr>\n",
       "  </tbody>\n",
       "</table>\n",
       "</div>"
      ],
      "text/plain": [
       "   messages_included  mb_per_month_included  minutes_included  \\\n",
       "0                 50                  15360               500   \n",
       "1               1000                  30720              3000   \n",
       "\n",
       "   rub_monthly_fee  rub_per_gb  rub_per_message  rub_per_minute tariff_name  \n",
       "0              550         200                3               3       smart  \n",
       "1             1950         150                1               1       ultra  "
      ]
     },
     "execution_count": 4,
     "metadata": {},
     "output_type": "execute_result"
    }
   ],
   "source": [
    "tariffs = pd.read_csv('/datasets/tariffs.csv')\n",
    "tariffs"
   ]
  },
  {
   "cell_type": "markdown",
   "metadata": {},
   "source": [
    "В таблице представлена информация о тарифах. Названия столбцов указаны корректно.\n",
    "\n",
    "Значения столбцов согласно описанию:\n",
    "* `tariff_name` — название тарифа\n",
    "* `rub_monthly_fee` — ежемесячная абонентская плата в рублях\n",
    "* `minutes_included` — количество минут разговора в месяц, включённых в абонентскую плату\n",
    "* `messages_included` — количество сообщений в месяц, включённых в абонентскую плату\n",
    "* `mb_per_month_included` — объём интернет-трафика, включённого в абонентскую плату (в мегабайтах)\n",
    "* `rub_per_minute` — стоимость минуты разговора сверх тарифного пакета (например, если в тарифе 100 минут разговора в месяц, то со 101 минуты будет взиматься плата)\n",
    "* `rub_per_message` — стоимость отправки сообщения сверх тарифного пакета\n",
    "* `rub_per_gb` — стоимость дополнительного гигабайта интернет-трафика сверх тарифного пакета (1 гигабайт = 1024 мегабайта)\n"
   ]
  },
  {
   "cell_type": "markdown",
   "metadata": {},
   "source": [
    "Продублирую информацию из описания чтобы сразу проверить, всё ли указано верно:\n",
    "\n",
    "Тариф «Смарт».\n",
    "Ежемесячная плата: 550 рублей\n",
    "Включено 500 минут разговора, 50 сообщений и 15 Гб интернет-трафика\n",
    "Стоимость услуг сверх тарифного пакета: 1. минута разговора: 3 рубля («Мегалайн» всегда округляет вверх значения минут и мегабайтов. Если пользователь проговорил всего 1 секунду, в тарифе засчитывается целая минута); 2. сообщение: 3 рубля; 3. 1 Гб интернет-трафика: 200 рублей.\n",
    "\n",
    "Тариф «Ультра».\n",
    "Ежемесячная плата: 1950 рублей\n",
    "Включено 3000 минут разговора, 1000 сообщений и 30 Гб интернет-трафика\n",
    "Стоимость услуг сверх тарифного пакета: 1. минута разговора: 1 рубль; 2. сообщение: 1 рубль; 3. 1 Гб интернет-трафика: 150 рублей."
   ]
  },
  {
   "cell_type": "markdown",
   "metadata": {},
   "source": [
    "Данные в таблице и описании совпадают, можно переходить дальше к следующей таблице:"
   ]
  },
  {
   "cell_type": "code",
   "execution_count": 5,
   "metadata": {},
   "outputs": [
    {
     "name": "stdout",
     "output_type": "stream",
     "text": [
      "<class 'pandas.core.frame.DataFrame'>\n",
      "RangeIndex: 149396 entries, 0 to 149395\n",
      "Data columns (total 5 columns):\n",
      "Unnamed: 0      149396 non-null int64\n",
      "id              149396 non-null object\n",
      "mb_used         149396 non-null float64\n",
      "session_date    149396 non-null object\n",
      "user_id         149396 non-null int64\n",
      "dtypes: float64(1), int64(2), object(2)\n",
      "memory usage: 5.7+ MB\n",
      "None\n"
     ]
    },
    {
     "data": {
      "text/html": [
       "<div>\n",
       "<style scoped>\n",
       "    .dataframe tbody tr th:only-of-type {\n",
       "        vertical-align: middle;\n",
       "    }\n",
       "\n",
       "    .dataframe tbody tr th {\n",
       "        vertical-align: top;\n",
       "    }\n",
       "\n",
       "    .dataframe thead th {\n",
       "        text-align: right;\n",
       "    }\n",
       "</style>\n",
       "<table border=\"1\" class=\"dataframe\">\n",
       "  <thead>\n",
       "    <tr style=\"text-align: right;\">\n",
       "      <th></th>\n",
       "      <th>Unnamed: 0</th>\n",
       "      <th>id</th>\n",
       "      <th>mb_used</th>\n",
       "      <th>session_date</th>\n",
       "      <th>user_id</th>\n",
       "    </tr>\n",
       "  </thead>\n",
       "  <tbody>\n",
       "    <tr>\n",
       "      <td>0</td>\n",
       "      <td>0</td>\n",
       "      <td>1000_0</td>\n",
       "      <td>112.95</td>\n",
       "      <td>2018-11-25</td>\n",
       "      <td>1000</td>\n",
       "    </tr>\n",
       "    <tr>\n",
       "      <td>1</td>\n",
       "      <td>1</td>\n",
       "      <td>1000_1</td>\n",
       "      <td>1052.81</td>\n",
       "      <td>2018-09-07</td>\n",
       "      <td>1000</td>\n",
       "    </tr>\n",
       "    <tr>\n",
       "      <td>2</td>\n",
       "      <td>2</td>\n",
       "      <td>1000_2</td>\n",
       "      <td>1197.26</td>\n",
       "      <td>2018-06-25</td>\n",
       "      <td>1000</td>\n",
       "    </tr>\n",
       "    <tr>\n",
       "      <td>3</td>\n",
       "      <td>3</td>\n",
       "      <td>1000_3</td>\n",
       "      <td>550.27</td>\n",
       "      <td>2018-08-22</td>\n",
       "      <td>1000</td>\n",
       "    </tr>\n",
       "    <tr>\n",
       "      <td>4</td>\n",
       "      <td>4</td>\n",
       "      <td>1000_4</td>\n",
       "      <td>302.56</td>\n",
       "      <td>2018-09-24</td>\n",
       "      <td>1000</td>\n",
       "    </tr>\n",
       "    <tr>\n",
       "      <td>5</td>\n",
       "      <td>5</td>\n",
       "      <td>1000_5</td>\n",
       "      <td>399.97</td>\n",
       "      <td>2018-10-02</td>\n",
       "      <td>1000</td>\n",
       "    </tr>\n",
       "    <tr>\n",
       "      <td>6</td>\n",
       "      <td>6</td>\n",
       "      <td>1000_6</td>\n",
       "      <td>540.08</td>\n",
       "      <td>2018-09-07</td>\n",
       "      <td>1000</td>\n",
       "    </tr>\n",
       "    <tr>\n",
       "      <td>7</td>\n",
       "      <td>7</td>\n",
       "      <td>1000_7</td>\n",
       "      <td>415.70</td>\n",
       "      <td>2018-07-11</td>\n",
       "      <td>1000</td>\n",
       "    </tr>\n",
       "    <tr>\n",
       "      <td>8</td>\n",
       "      <td>8</td>\n",
       "      <td>1000_8</td>\n",
       "      <td>505.40</td>\n",
       "      <td>2018-10-08</td>\n",
       "      <td>1000</td>\n",
       "    </tr>\n",
       "    <tr>\n",
       "      <td>9</td>\n",
       "      <td>9</td>\n",
       "      <td>1000_9</td>\n",
       "      <td>345.54</td>\n",
       "      <td>2018-09-03</td>\n",
       "      <td>1000</td>\n",
       "    </tr>\n",
       "    <tr>\n",
       "      <td>10</td>\n",
       "      <td>10</td>\n",
       "      <td>1000_10</td>\n",
       "      <td>385.14</td>\n",
       "      <td>2018-09-27</td>\n",
       "      <td>1000</td>\n",
       "    </tr>\n",
       "    <tr>\n",
       "      <td>11</td>\n",
       "      <td>11</td>\n",
       "      <td>1000_11</td>\n",
       "      <td>0.00</td>\n",
       "      <td>2018-08-28</td>\n",
       "      <td>1000</td>\n",
       "    </tr>\n",
       "    <tr>\n",
       "      <td>12</td>\n",
       "      <td>12</td>\n",
       "      <td>1000_12</td>\n",
       "      <td>375.87</td>\n",
       "      <td>2018-06-20</td>\n",
       "      <td>1000</td>\n",
       "    </tr>\n",
       "    <tr>\n",
       "      <td>13</td>\n",
       "      <td>13</td>\n",
       "      <td>1000_13</td>\n",
       "      <td>393.83</td>\n",
       "      <td>2018-08-09</td>\n",
       "      <td>1000</td>\n",
       "    </tr>\n",
       "    <tr>\n",
       "      <td>14</td>\n",
       "      <td>14</td>\n",
       "      <td>1000_14</td>\n",
       "      <td>180.64</td>\n",
       "      <td>2018-08-11</td>\n",
       "      <td>1000</td>\n",
       "    </tr>\n",
       "    <tr>\n",
       "      <td>15</td>\n",
       "      <td>15</td>\n",
       "      <td>1000_15</td>\n",
       "      <td>337.71</td>\n",
       "      <td>2018-07-21</td>\n",
       "      <td>1000</td>\n",
       "    </tr>\n",
       "    <tr>\n",
       "      <td>16</td>\n",
       "      <td>16</td>\n",
       "      <td>1000_16</td>\n",
       "      <td>459.28</td>\n",
       "      <td>2018-06-09</td>\n",
       "      <td>1000</td>\n",
       "    </tr>\n",
       "    <tr>\n",
       "      <td>17</td>\n",
       "      <td>17</td>\n",
       "      <td>1000_17</td>\n",
       "      <td>204.14</td>\n",
       "      <td>2018-06-03</td>\n",
       "      <td>1000</td>\n",
       "    </tr>\n",
       "    <tr>\n",
       "      <td>18</td>\n",
       "      <td>18</td>\n",
       "      <td>1000_18</td>\n",
       "      <td>658.10</td>\n",
       "      <td>2018-11-01</td>\n",
       "      <td>1000</td>\n",
       "    </tr>\n",
       "    <tr>\n",
       "      <td>19</td>\n",
       "      <td>19</td>\n",
       "      <td>1000_19</td>\n",
       "      <td>452.73</td>\n",
       "      <td>2018-11-28</td>\n",
       "      <td>1000</td>\n",
       "    </tr>\n",
       "  </tbody>\n",
       "</table>\n",
       "</div>"
      ],
      "text/plain": [
       "    Unnamed: 0       id  mb_used session_date  user_id\n",
       "0            0   1000_0   112.95   2018-11-25     1000\n",
       "1            1   1000_1  1052.81   2018-09-07     1000\n",
       "2            2   1000_2  1197.26   2018-06-25     1000\n",
       "3            3   1000_3   550.27   2018-08-22     1000\n",
       "4            4   1000_4   302.56   2018-09-24     1000\n",
       "5            5   1000_5   399.97   2018-10-02     1000\n",
       "6            6   1000_6   540.08   2018-09-07     1000\n",
       "7            7   1000_7   415.70   2018-07-11     1000\n",
       "8            8   1000_8   505.40   2018-10-08     1000\n",
       "9            9   1000_9   345.54   2018-09-03     1000\n",
       "10          10  1000_10   385.14   2018-09-27     1000\n",
       "11          11  1000_11     0.00   2018-08-28     1000\n",
       "12          12  1000_12   375.87   2018-06-20     1000\n",
       "13          13  1000_13   393.83   2018-08-09     1000\n",
       "14          14  1000_14   180.64   2018-08-11     1000\n",
       "15          15  1000_15   337.71   2018-07-21     1000\n",
       "16          16  1000_16   459.28   2018-06-09     1000\n",
       "17          17  1000_17   204.14   2018-06-03     1000\n",
       "18          18  1000_18   658.10   2018-11-01     1000\n",
       "19          19  1000_19   452.73   2018-11-28     1000"
      ]
     },
     "execution_count": 5,
     "metadata": {},
     "output_type": "execute_result"
    }
   ],
   "source": [
    "internet = pd.read_csv('/datasets/internet.csv')\n",
    "print(internet.info())\n",
    "internet.head(20)"
   ]
  },
  {
   "cell_type": "markdown",
   "metadata": {},
   "source": [
    "В данной таблице указана информация о интернет-сессиях пользователей, данные представлены на 149396 строках в 5 столбцах.   \n",
    "Столбец `\tUnnamed: 0\t` сразу же бросается в глаза - видимо, он появился в следствии ошибки при выгрузке и дублирует индексы, от него лучше избавиться.\n",
    "\n",
    "Значения столбцов согласно описанию:\n",
    "* `id` — уникальный номер сессии\n",
    "* `mb_used` — объём потраченного за сессию интернет-трафика (в мегабайтах)\n",
    "* `session_date` — дата интернет-сессии\n",
    "* `user_id` — идентификатор пользователя\n",
    "\n",
    "Названия остальных столбцов указаны корректно, пропуски в данных отсутствуют. <br/> Также на 11 строке в столбце с объёмом потраченного трафика указано нулевое значение, в дальнейшем необходимо изучить количество таких значений в датасете.<br/>   Стоблец `session_date` лучше привести к формату даты и времени"
   ]
  },
  {
   "cell_type": "code",
   "execution_count": 6,
   "metadata": {},
   "outputs": [
    {
     "name": "stdout",
     "output_type": "stream",
     "text": [
      "<class 'pandas.core.frame.DataFrame'>\n",
      "RangeIndex: 123036 entries, 0 to 123035\n",
      "Data columns (total 3 columns):\n",
      "id              123036 non-null object\n",
      "message_date    123036 non-null object\n",
      "user_id         123036 non-null int64\n",
      "dtypes: int64(1), object(2)\n",
      "memory usage: 2.8+ MB\n",
      "None\n"
     ]
    },
    {
     "data": {
      "text/html": [
       "<div>\n",
       "<style scoped>\n",
       "    .dataframe tbody tr th:only-of-type {\n",
       "        vertical-align: middle;\n",
       "    }\n",
       "\n",
       "    .dataframe tbody tr th {\n",
       "        vertical-align: top;\n",
       "    }\n",
       "\n",
       "    .dataframe thead th {\n",
       "        text-align: right;\n",
       "    }\n",
       "</style>\n",
       "<table border=\"1\" class=\"dataframe\">\n",
       "  <thead>\n",
       "    <tr style=\"text-align: right;\">\n",
       "      <th></th>\n",
       "      <th>id</th>\n",
       "      <th>message_date</th>\n",
       "      <th>user_id</th>\n",
       "    </tr>\n",
       "  </thead>\n",
       "  <tbody>\n",
       "    <tr>\n",
       "      <td>0</td>\n",
       "      <td>1000_0</td>\n",
       "      <td>2018-06-27</td>\n",
       "      <td>1000</td>\n",
       "    </tr>\n",
       "    <tr>\n",
       "      <td>1</td>\n",
       "      <td>1000_1</td>\n",
       "      <td>2018-10-08</td>\n",
       "      <td>1000</td>\n",
       "    </tr>\n",
       "    <tr>\n",
       "      <td>2</td>\n",
       "      <td>1000_2</td>\n",
       "      <td>2018-08-04</td>\n",
       "      <td>1000</td>\n",
       "    </tr>\n",
       "    <tr>\n",
       "      <td>3</td>\n",
       "      <td>1000_3</td>\n",
       "      <td>2018-06-16</td>\n",
       "      <td>1000</td>\n",
       "    </tr>\n",
       "    <tr>\n",
       "      <td>4</td>\n",
       "      <td>1000_4</td>\n",
       "      <td>2018-12-05</td>\n",
       "      <td>1000</td>\n",
       "    </tr>\n",
       "    <tr>\n",
       "      <td>5</td>\n",
       "      <td>1000_5</td>\n",
       "      <td>2018-06-20</td>\n",
       "      <td>1000</td>\n",
       "    </tr>\n",
       "    <tr>\n",
       "      <td>6</td>\n",
       "      <td>1000_6</td>\n",
       "      <td>2018-11-19</td>\n",
       "      <td>1000</td>\n",
       "    </tr>\n",
       "    <tr>\n",
       "      <td>7</td>\n",
       "      <td>1000_7</td>\n",
       "      <td>2018-10-29</td>\n",
       "      <td>1000</td>\n",
       "    </tr>\n",
       "    <tr>\n",
       "      <td>8</td>\n",
       "      <td>1000_8</td>\n",
       "      <td>2018-06-25</td>\n",
       "      <td>1000</td>\n",
       "    </tr>\n",
       "    <tr>\n",
       "      <td>9</td>\n",
       "      <td>1000_9</td>\n",
       "      <td>2018-12-18</td>\n",
       "      <td>1000</td>\n",
       "    </tr>\n",
       "    <tr>\n",
       "      <td>10</td>\n",
       "      <td>1000_10</td>\n",
       "      <td>2018-05-30</td>\n",
       "      <td>1000</td>\n",
       "    </tr>\n",
       "    <tr>\n",
       "      <td>11</td>\n",
       "      <td>1000_11</td>\n",
       "      <td>2018-07-06</td>\n",
       "      <td>1000</td>\n",
       "    </tr>\n",
       "    <tr>\n",
       "      <td>12</td>\n",
       "      <td>1000_12</td>\n",
       "      <td>2018-08-20</td>\n",
       "      <td>1000</td>\n",
       "    </tr>\n",
       "    <tr>\n",
       "      <td>13</td>\n",
       "      <td>1000_13</td>\n",
       "      <td>2018-10-30</td>\n",
       "      <td>1000</td>\n",
       "    </tr>\n",
       "    <tr>\n",
       "      <td>14</td>\n",
       "      <td>1000_14</td>\n",
       "      <td>2018-09-14</td>\n",
       "      <td>1000</td>\n",
       "    </tr>\n",
       "    <tr>\n",
       "      <td>15</td>\n",
       "      <td>1000_15</td>\n",
       "      <td>2018-08-28</td>\n",
       "      <td>1000</td>\n",
       "    </tr>\n",
       "    <tr>\n",
       "      <td>16</td>\n",
       "      <td>1000_16</td>\n",
       "      <td>2018-06-25</td>\n",
       "      <td>1000</td>\n",
       "    </tr>\n",
       "    <tr>\n",
       "      <td>17</td>\n",
       "      <td>1000_17</td>\n",
       "      <td>2018-06-29</td>\n",
       "      <td>1000</td>\n",
       "    </tr>\n",
       "    <tr>\n",
       "      <td>18</td>\n",
       "      <td>1000_18</td>\n",
       "      <td>2018-07-07</td>\n",
       "      <td>1000</td>\n",
       "    </tr>\n",
       "    <tr>\n",
       "      <td>19</td>\n",
       "      <td>1000_19</td>\n",
       "      <td>2018-05-29</td>\n",
       "      <td>1000</td>\n",
       "    </tr>\n",
       "  </tbody>\n",
       "</table>\n",
       "</div>"
      ],
      "text/plain": [
       "         id message_date  user_id\n",
       "0    1000_0   2018-06-27     1000\n",
       "1    1000_1   2018-10-08     1000\n",
       "2    1000_2   2018-08-04     1000\n",
       "3    1000_3   2018-06-16     1000\n",
       "4    1000_4   2018-12-05     1000\n",
       "5    1000_5   2018-06-20     1000\n",
       "6    1000_6   2018-11-19     1000\n",
       "7    1000_7   2018-10-29     1000\n",
       "8    1000_8   2018-06-25     1000\n",
       "9    1000_9   2018-12-18     1000\n",
       "10  1000_10   2018-05-30     1000\n",
       "11  1000_11   2018-07-06     1000\n",
       "12  1000_12   2018-08-20     1000\n",
       "13  1000_13   2018-10-30     1000\n",
       "14  1000_14   2018-09-14     1000\n",
       "15  1000_15   2018-08-28     1000\n",
       "16  1000_16   2018-06-25     1000\n",
       "17  1000_17   2018-06-29     1000\n",
       "18  1000_18   2018-07-07     1000\n",
       "19  1000_19   2018-05-29     1000"
      ]
     },
     "execution_count": 6,
     "metadata": {},
     "output_type": "execute_result"
    }
   ],
   "source": [
    "messages = pd.read_csv('/datasets/messages.csv')\n",
    "print(messages.info())\n",
    "messages.head(20)"
   ]
  },
  {
   "cell_type": "markdown",
   "metadata": {},
   "source": [
    "В данной таблице указана информация о интернет-сессиях пользователей, данные представлены на 123036 строках в 3 столбцах.   \n",
    "Названия колонок указаны корректно. В данных нет пропусков  \n",
    "Столбец `message_date` лучше привести к формату даты и времени.\n",
    "\n",
    "Значения столбцов согласно описанию:\n",
    "\n",
    "* `id` — уникальный номер сообщения\n",
    "* `message_date` — дата сообщения\n",
    "* `user_id` — идентификатор пользователя, отправившего сообщение"
   ]
  },
  {
   "cell_type": "markdown",
   "metadata": {},
   "source": [
    "### Вывод"
   ]
  },
  {
   "cell_type": "markdown",
   "metadata": {},
   "source": [
    "В таблицах — данные о поведении пользователей двух тарифов.  \n",
    " \n",
    "\n",
    "Можно утверждать, что, данных достаточно для проверки гипотез. Явных пропусков не выявлено.\n",
    "\n",
    "Некорректно написано название одного столбца, во всех столбцах с датами лучше поменять тип данных. Найден один лишний столбец, возникший, скорее всего, при ошибке выгрузки.  \n",
    "\n",
    "Необходимо более детально изучить данные и избавиться от проблем, прежде чем приступить к анализу."
   ]
  },
  {
   "cell_type": "markdown",
   "metadata": {},
   "source": [
    "## Предобработка и подготовка данных"
   ]
  },
  {
   "cell_type": "markdown",
   "metadata": {},
   "source": [
    "Перед анализом изучим каждую таблицу более детально на предмет ошибок и исправим уже выявленные на этапе ознакомления.  \n",
    "Сразу же после этого будем группировать данные по месяцам, т.к. важный параметр исследования - это выручка за месяц."
   ]
  },
  {
   "cell_type": "markdown",
   "metadata": {},
   "source": [
    "### Звонки"
   ]
  },
  {
   "cell_type": "markdown",
   "metadata": {},
   "source": [
    "Начнём с таблицы `calls`. "
   ]
  },
  {
   "cell_type": "markdown",
   "metadata": {},
   "source": [
    "Так как звонки тарифицируются за минуту и секунды округляются в большую сторону, так же следует поступить со значениями в столбце с длительностью разговоров. Округлим значения в большую сторону и заменим тип данных на `int`. Для этого нам понадобится библиотека `numpy`."
   ]
  },
  {
   "cell_type": "code",
   "execution_count": 7,
   "metadata": {},
   "outputs": [
    {
     "data": {
      "text/html": [
       "<div>\n",
       "<style scoped>\n",
       "    .dataframe tbody tr th:only-of-type {\n",
       "        vertical-align: middle;\n",
       "    }\n",
       "\n",
       "    .dataframe tbody tr th {\n",
       "        vertical-align: top;\n",
       "    }\n",
       "\n",
       "    .dataframe thead th {\n",
       "        text-align: right;\n",
       "    }\n",
       "</style>\n",
       "<table border=\"1\" class=\"dataframe\">\n",
       "  <thead>\n",
       "    <tr style=\"text-align: right;\">\n",
       "      <th></th>\n",
       "      <th>id</th>\n",
       "      <th>call_date</th>\n",
       "      <th>duration</th>\n",
       "      <th>user_id</th>\n",
       "    </tr>\n",
       "  </thead>\n",
       "  <tbody>\n",
       "    <tr>\n",
       "      <td>0</td>\n",
       "      <td>1000_0</td>\n",
       "      <td>2018-07-25</td>\n",
       "      <td>0</td>\n",
       "      <td>1000</td>\n",
       "    </tr>\n",
       "    <tr>\n",
       "      <td>1</td>\n",
       "      <td>1000_1</td>\n",
       "      <td>2018-08-17</td>\n",
       "      <td>0</td>\n",
       "      <td>1000</td>\n",
       "    </tr>\n",
       "    <tr>\n",
       "      <td>2</td>\n",
       "      <td>1000_2</td>\n",
       "      <td>2018-06-11</td>\n",
       "      <td>3</td>\n",
       "      <td>1000</td>\n",
       "    </tr>\n",
       "    <tr>\n",
       "      <td>3</td>\n",
       "      <td>1000_3</td>\n",
       "      <td>2018-09-21</td>\n",
       "      <td>14</td>\n",
       "      <td>1000</td>\n",
       "    </tr>\n",
       "    <tr>\n",
       "      <td>4</td>\n",
       "      <td>1000_4</td>\n",
       "      <td>2018-12-15</td>\n",
       "      <td>6</td>\n",
       "      <td>1000</td>\n",
       "    </tr>\n",
       "    <tr>\n",
       "      <td>...</td>\n",
       "      <td>...</td>\n",
       "      <td>...</td>\n",
       "      <td>...</td>\n",
       "      <td>...</td>\n",
       "    </tr>\n",
       "    <tr>\n",
       "      <td>202602</td>\n",
       "      <td>1499_215</td>\n",
       "      <td>2018-12-26</td>\n",
       "      <td>1</td>\n",
       "      <td>1499</td>\n",
       "    </tr>\n",
       "    <tr>\n",
       "      <td>202603</td>\n",
       "      <td>1499_216</td>\n",
       "      <td>2018-10-18</td>\n",
       "      <td>19</td>\n",
       "      <td>1499</td>\n",
       "    </tr>\n",
       "    <tr>\n",
       "      <td>202604</td>\n",
       "      <td>1499_217</td>\n",
       "      <td>2018-11-10</td>\n",
       "      <td>11</td>\n",
       "      <td>1499</td>\n",
       "    </tr>\n",
       "    <tr>\n",
       "      <td>202605</td>\n",
       "      <td>1499_218</td>\n",
       "      <td>2018-10-06</td>\n",
       "      <td>5</td>\n",
       "      <td>1499</td>\n",
       "    </tr>\n",
       "    <tr>\n",
       "      <td>202606</td>\n",
       "      <td>1499_219</td>\n",
       "      <td>2018-12-14</td>\n",
       "      <td>20</td>\n",
       "      <td>1499</td>\n",
       "    </tr>\n",
       "  </tbody>\n",
       "</table>\n",
       "<p>202607 rows × 4 columns</p>\n",
       "</div>"
      ],
      "text/plain": [
       "              id   call_date  duration  user_id\n",
       "0         1000_0  2018-07-25         0     1000\n",
       "1         1000_1  2018-08-17         0     1000\n",
       "2         1000_2  2018-06-11         3     1000\n",
       "3         1000_3  2018-09-21        14     1000\n",
       "4         1000_4  2018-12-15         6     1000\n",
       "...          ...         ...       ...      ...\n",
       "202602  1499_215  2018-12-26         1     1499\n",
       "202603  1499_216  2018-10-18        19     1499\n",
       "202604  1499_217  2018-11-10        11     1499\n",
       "202605  1499_218  2018-10-06         5     1499\n",
       "202606  1499_219  2018-12-14        20     1499\n",
       "\n",
       "[202607 rows x 4 columns]"
      ]
     },
     "execution_count": 7,
     "metadata": {},
     "output_type": "execute_result"
    }
   ],
   "source": [
    "import numpy as np\n",
    "calls['duration']=calls['duration'].apply(np.ceil)\n",
    "calls['duration']=calls['duration'].astype('int')\n",
    "calls"
   ]
  },
  {
   "cell_type": "markdown",
   "metadata": {},
   "source": [
    "Код отработал корректно.\n",
    "\n",
    "Теперь заменим тип данных в столбце  `call_date`."
   ]
  },
  {
   "cell_type": "code",
   "execution_count": 8,
   "metadata": {},
   "outputs": [
    {
     "data": {
      "text/plain": [
       "id                   object\n",
       "call_date    datetime64[ns]\n",
       "duration              int64\n",
       "user_id               int64\n",
       "dtype: object"
      ]
     },
     "execution_count": 8,
     "metadata": {},
     "output_type": "execute_result"
    }
   ],
   "source": [
    "calls['call_date']=pd.to_datetime(calls['call_date'])\n",
    "calls.dtypes"
   ]
  },
  {
   "cell_type": "markdown",
   "metadata": {},
   "source": [
    "Теперь можно добавить столбец с указанием месяца, в котором совершались звонки."
   ]
  },
  {
   "cell_type": "code",
   "execution_count": 9,
   "metadata": {},
   "outputs": [
    {
     "data": {
      "text/html": [
       "<div>\n",
       "<style scoped>\n",
       "    .dataframe tbody tr th:only-of-type {\n",
       "        vertical-align: middle;\n",
       "    }\n",
       "\n",
       "    .dataframe tbody tr th {\n",
       "        vertical-align: top;\n",
       "    }\n",
       "\n",
       "    .dataframe thead th {\n",
       "        text-align: right;\n",
       "    }\n",
       "</style>\n",
       "<table border=\"1\" class=\"dataframe\">\n",
       "  <thead>\n",
       "    <tr style=\"text-align: right;\">\n",
       "      <th></th>\n",
       "      <th>id</th>\n",
       "      <th>call_date</th>\n",
       "      <th>duration</th>\n",
       "      <th>user_id</th>\n",
       "      <th>month</th>\n",
       "    </tr>\n",
       "  </thead>\n",
       "  <tbody>\n",
       "    <tr>\n",
       "      <td>0</td>\n",
       "      <td>1000_0</td>\n",
       "      <td>2018-07-25</td>\n",
       "      <td>0</td>\n",
       "      <td>1000</td>\n",
       "      <td>7</td>\n",
       "    </tr>\n",
       "    <tr>\n",
       "      <td>1</td>\n",
       "      <td>1000_1</td>\n",
       "      <td>2018-08-17</td>\n",
       "      <td>0</td>\n",
       "      <td>1000</td>\n",
       "      <td>8</td>\n",
       "    </tr>\n",
       "    <tr>\n",
       "      <td>2</td>\n",
       "      <td>1000_2</td>\n",
       "      <td>2018-06-11</td>\n",
       "      <td>3</td>\n",
       "      <td>1000</td>\n",
       "      <td>6</td>\n",
       "    </tr>\n",
       "    <tr>\n",
       "      <td>3</td>\n",
       "      <td>1000_3</td>\n",
       "      <td>2018-09-21</td>\n",
       "      <td>14</td>\n",
       "      <td>1000</td>\n",
       "      <td>9</td>\n",
       "    </tr>\n",
       "    <tr>\n",
       "      <td>4</td>\n",
       "      <td>1000_4</td>\n",
       "      <td>2018-12-15</td>\n",
       "      <td>6</td>\n",
       "      <td>1000</td>\n",
       "      <td>12</td>\n",
       "    </tr>\n",
       "    <tr>\n",
       "      <td>...</td>\n",
       "      <td>...</td>\n",
       "      <td>...</td>\n",
       "      <td>...</td>\n",
       "      <td>...</td>\n",
       "      <td>...</td>\n",
       "    </tr>\n",
       "    <tr>\n",
       "      <td>202602</td>\n",
       "      <td>1499_215</td>\n",
       "      <td>2018-12-26</td>\n",
       "      <td>1</td>\n",
       "      <td>1499</td>\n",
       "      <td>12</td>\n",
       "    </tr>\n",
       "    <tr>\n",
       "      <td>202603</td>\n",
       "      <td>1499_216</td>\n",
       "      <td>2018-10-18</td>\n",
       "      <td>19</td>\n",
       "      <td>1499</td>\n",
       "      <td>10</td>\n",
       "    </tr>\n",
       "    <tr>\n",
       "      <td>202604</td>\n",
       "      <td>1499_217</td>\n",
       "      <td>2018-11-10</td>\n",
       "      <td>11</td>\n",
       "      <td>1499</td>\n",
       "      <td>11</td>\n",
       "    </tr>\n",
       "    <tr>\n",
       "      <td>202605</td>\n",
       "      <td>1499_218</td>\n",
       "      <td>2018-10-06</td>\n",
       "      <td>5</td>\n",
       "      <td>1499</td>\n",
       "      <td>10</td>\n",
       "    </tr>\n",
       "    <tr>\n",
       "      <td>202606</td>\n",
       "      <td>1499_219</td>\n",
       "      <td>2018-12-14</td>\n",
       "      <td>20</td>\n",
       "      <td>1499</td>\n",
       "      <td>12</td>\n",
       "    </tr>\n",
       "  </tbody>\n",
       "</table>\n",
       "<p>202607 rows × 5 columns</p>\n",
       "</div>"
      ],
      "text/plain": [
       "              id  call_date  duration  user_id  month\n",
       "0         1000_0 2018-07-25         0     1000      7\n",
       "1         1000_1 2018-08-17         0     1000      8\n",
       "2         1000_2 2018-06-11         3     1000      6\n",
       "3         1000_3 2018-09-21        14     1000      9\n",
       "4         1000_4 2018-12-15         6     1000     12\n",
       "...          ...        ...       ...      ...    ...\n",
       "202602  1499_215 2018-12-26         1     1499     12\n",
       "202603  1499_216 2018-10-18        19     1499     10\n",
       "202604  1499_217 2018-11-10        11     1499     11\n",
       "202605  1499_218 2018-10-06         5     1499     10\n",
       "202606  1499_219 2018-12-14        20     1499     12\n",
       "\n",
       "[202607 rows x 5 columns]"
      ]
     },
     "execution_count": 9,
     "metadata": {},
     "output_type": "execute_result"
    }
   ],
   "source": [
    "calls['month']= calls['call_date'].dt.month\n",
    "calls"
   ]
  },
  {
   "cell_type": "markdown",
   "metadata": {},
   "source": [
    "Код отработал корректно, теперь на основе данных создадим новую таблицу, где для каждого пользователя посчитаем количество сделанных звонков и израсходованных минут разговора по месяцам:\n"
   ]
  },
  {
   "cell_type": "code",
   "execution_count": 10,
   "metadata": {},
   "outputs": [
    {
     "data": {
      "text/html": [
       "<div>\n",
       "<style scoped>\n",
       "    .dataframe tbody tr th:only-of-type {\n",
       "        vertical-align: middle;\n",
       "    }\n",
       "\n",
       "    .dataframe tbody tr th {\n",
       "        vertical-align: top;\n",
       "    }\n",
       "\n",
       "    .dataframe thead tr th {\n",
       "        text-align: left;\n",
       "    }\n",
       "\n",
       "    .dataframe thead tr:last-of-type th {\n",
       "        text-align: right;\n",
       "    }\n",
       "</style>\n",
       "<table border=\"1\" class=\"dataframe\">\n",
       "  <thead>\n",
       "    <tr>\n",
       "      <th></th>\n",
       "      <th></th>\n",
       "      <th>count</th>\n",
       "      <th>sum</th>\n",
       "    </tr>\n",
       "    <tr>\n",
       "      <th></th>\n",
       "      <th></th>\n",
       "      <th>duration</th>\n",
       "      <th>duration</th>\n",
       "    </tr>\n",
       "    <tr>\n",
       "      <th>user_id</th>\n",
       "      <th>month</th>\n",
       "      <th></th>\n",
       "      <th></th>\n",
       "    </tr>\n",
       "  </thead>\n",
       "  <tbody>\n",
       "    <tr>\n",
       "      <td rowspan=\"5\" valign=\"top\">1000</td>\n",
       "      <td>5</td>\n",
       "      <td>22</td>\n",
       "      <td>159</td>\n",
       "    </tr>\n",
       "    <tr>\n",
       "      <td>6</td>\n",
       "      <td>43</td>\n",
       "      <td>172</td>\n",
       "    </tr>\n",
       "    <tr>\n",
       "      <td>7</td>\n",
       "      <td>47</td>\n",
       "      <td>340</td>\n",
       "    </tr>\n",
       "    <tr>\n",
       "      <td>8</td>\n",
       "      <td>52</td>\n",
       "      <td>408</td>\n",
       "    </tr>\n",
       "    <tr>\n",
       "      <td>9</td>\n",
       "      <td>58</td>\n",
       "      <td>466</td>\n",
       "    </tr>\n",
       "    <tr>\n",
       "      <td>...</td>\n",
       "      <td>...</td>\n",
       "      <td>...</td>\n",
       "      <td>...</td>\n",
       "    </tr>\n",
       "    <tr>\n",
       "      <td>1498</td>\n",
       "      <td>10</td>\n",
       "      <td>41</td>\n",
       "      <td>247</td>\n",
       "    </tr>\n",
       "    <tr>\n",
       "      <td rowspan=\"4\" valign=\"top\">1499</td>\n",
       "      <td>9</td>\n",
       "      <td>9</td>\n",
       "      <td>70</td>\n",
       "    </tr>\n",
       "    <tr>\n",
       "      <td>10</td>\n",
       "      <td>68</td>\n",
       "      <td>449</td>\n",
       "    </tr>\n",
       "    <tr>\n",
       "      <td>11</td>\n",
       "      <td>74</td>\n",
       "      <td>612</td>\n",
       "    </tr>\n",
       "    <tr>\n",
       "      <td>12</td>\n",
       "      <td>69</td>\n",
       "      <td>492</td>\n",
       "    </tr>\n",
       "  </tbody>\n",
       "</table>\n",
       "<p>3174 rows × 2 columns</p>\n",
       "</div>"
      ],
      "text/plain": [
       "                 count      sum\n",
       "              duration duration\n",
       "user_id month                  \n",
       "1000    5           22      159\n",
       "        6           43      172\n",
       "        7           47      340\n",
       "        8           52      408\n",
       "        9           58      466\n",
       "...                ...      ...\n",
       "1498    10          41      247\n",
       "1499    9            9       70\n",
       "        10          68      449\n",
       "        11          74      612\n",
       "        12          69      492\n",
       "\n",
       "[3174 rows x 2 columns]"
      ]
     },
     "execution_count": 10,
     "metadata": {},
     "output_type": "execute_result"
    }
   ],
   "source": [
    "calls_per_month = calls.pivot_table(index = ['user_id', 'month'], values = 'duration', aggfunc = ['count', 'sum'])\n",
    "calls_per_month"
   ]
  },
  {
   "cell_type": "markdown",
   "metadata": {},
   "source": [
    "Заменим заголовки количества звонков и минут за месяц на более наглядные:"
   ]
  },
  {
   "cell_type": "code",
   "execution_count": 11,
   "metadata": {},
   "outputs": [
    {
     "data": {
      "text/html": [
       "<div>\n",
       "<style scoped>\n",
       "    .dataframe tbody tr th:only-of-type {\n",
       "        vertical-align: middle;\n",
       "    }\n",
       "\n",
       "    .dataframe tbody tr th {\n",
       "        vertical-align: top;\n",
       "    }\n",
       "\n",
       "    .dataframe thead th {\n",
       "        text-align: right;\n",
       "    }\n",
       "</style>\n",
       "<table border=\"1\" class=\"dataframe\">\n",
       "  <thead>\n",
       "    <tr style=\"text-align: right;\">\n",
       "      <th></th>\n",
       "      <th></th>\n",
       "      <th>calls_total</th>\n",
       "      <th>duration_total</th>\n",
       "    </tr>\n",
       "    <tr>\n",
       "      <th>user_id</th>\n",
       "      <th>month</th>\n",
       "      <th></th>\n",
       "      <th></th>\n",
       "    </tr>\n",
       "  </thead>\n",
       "  <tbody>\n",
       "    <tr>\n",
       "      <td rowspan=\"5\" valign=\"top\">1000</td>\n",
       "      <td>5</td>\n",
       "      <td>22</td>\n",
       "      <td>159</td>\n",
       "    </tr>\n",
       "    <tr>\n",
       "      <td>6</td>\n",
       "      <td>43</td>\n",
       "      <td>172</td>\n",
       "    </tr>\n",
       "    <tr>\n",
       "      <td>7</td>\n",
       "      <td>47</td>\n",
       "      <td>340</td>\n",
       "    </tr>\n",
       "    <tr>\n",
       "      <td>8</td>\n",
       "      <td>52</td>\n",
       "      <td>408</td>\n",
       "    </tr>\n",
       "    <tr>\n",
       "      <td>9</td>\n",
       "      <td>58</td>\n",
       "      <td>466</td>\n",
       "    </tr>\n",
       "    <tr>\n",
       "      <td>...</td>\n",
       "      <td>...</td>\n",
       "      <td>...</td>\n",
       "      <td>...</td>\n",
       "    </tr>\n",
       "    <tr>\n",
       "      <td>1498</td>\n",
       "      <td>10</td>\n",
       "      <td>41</td>\n",
       "      <td>247</td>\n",
       "    </tr>\n",
       "    <tr>\n",
       "      <td rowspan=\"4\" valign=\"top\">1499</td>\n",
       "      <td>9</td>\n",
       "      <td>9</td>\n",
       "      <td>70</td>\n",
       "    </tr>\n",
       "    <tr>\n",
       "      <td>10</td>\n",
       "      <td>68</td>\n",
       "      <td>449</td>\n",
       "    </tr>\n",
       "    <tr>\n",
       "      <td>11</td>\n",
       "      <td>74</td>\n",
       "      <td>612</td>\n",
       "    </tr>\n",
       "    <tr>\n",
       "      <td>12</td>\n",
       "      <td>69</td>\n",
       "      <td>492</td>\n",
       "    </tr>\n",
       "  </tbody>\n",
       "</table>\n",
       "<p>3174 rows × 2 columns</p>\n",
       "</div>"
      ],
      "text/plain": [
       "               calls_total  duration_total\n",
       "user_id month                             \n",
       "1000    5               22             159\n",
       "        6               43             172\n",
       "        7               47             340\n",
       "        8               52             408\n",
       "        9               58             466\n",
       "...                    ...             ...\n",
       "1498    10              41             247\n",
       "1499    9                9              70\n",
       "        10              68             449\n",
       "        11              74             612\n",
       "        12              69             492\n",
       "\n",
       "[3174 rows x 2 columns]"
      ]
     },
     "execution_count": 11,
     "metadata": {},
     "output_type": "execute_result"
    }
   ],
   "source": [
    "calls_per_month.columns = ['calls_total', 'duration_total']\n",
    "calls_per_month"
   ]
  },
  {
   "cell_type": "markdown",
   "metadata": {},
   "source": [
    "Таблица готова к использованию, переходим к следующей"
   ]
  },
  {
   "cell_type": "markdown",
   "metadata": {},
   "source": [
    "### Пользователи"
   ]
  },
  {
   "cell_type": "markdown",
   "metadata": {},
   "source": [
    "Проверим значения столбцав с указанием тарифа, города и возрастом абонентов:"
   ]
  },
  {
   "cell_type": "code",
   "execution_count": 12,
   "metadata": {},
   "outputs": [
    {
     "name": "stdout",
     "output_type": "stream",
     "text": [
      "['ultra' 'smart']\n",
      "['Архангельск' 'Астрахань' 'Балашиха' 'Барнаул' 'Белгород' 'Брянск'\n",
      " 'Владивосток' 'Владикавказ' 'Владимир' 'Волгоград' 'Волжский' 'Вологда'\n",
      " 'Воронеж' 'Грозный' 'Екатеринбург' 'Иваново' 'Ижевск' 'Иркутск' 'Казань'\n",
      " 'Калининград' 'Калуга' 'Кемерово' 'Киров' 'Кострома' 'Краснодар'\n",
      " 'Красноярск' 'Курган' 'Курск' 'Липецк' 'Магнитогорск' 'Махачкала'\n",
      " 'Москва' 'Мурманск' 'Набережные Челны' 'Нижневартовск' 'Нижний Новгород'\n",
      " 'Нижний Тагил' 'Новокузнецк' 'Новороссийск' 'Новосибирск' 'Омск'\n",
      " 'Оренбург' 'Орёл' 'Пенза' 'Пермь' 'Петрозаводск' 'Подольск'\n",
      " 'Ростов-на-Дону' 'Рязань' 'Самара' 'Санкт-Петербург' 'Саранск' 'Саратов'\n",
      " 'Севастополь' 'Смоленск' 'Сочи' 'Ставрополь' 'Стерлитамак' 'Сургут'\n",
      " 'Тамбов' 'Тверь' 'Тольятти' 'Томск' 'Тула' 'Тюмень' 'Улан-Удэ'\n",
      " 'Ульяновск' 'Уфа' 'Хабаровск' 'Химки' 'Чебоксары' 'Челябинск' 'Череповец'\n",
      " 'Чита' 'Якутск' 'Ярославль']\n"
     ]
    },
    {
     "data": {
      "text/plain": [
       "array([18, 19, 20, 21, 22, 23, 24, 25, 26, 27, 28, 29, 30, 31, 32, 33, 34,\n",
       "       35, 36, 37, 38, 39, 40, 41, 42, 43, 44, 45, 46, 47, 48, 49, 50, 51,\n",
       "       52, 53, 54, 55, 56, 57, 58, 59, 60, 61, 62, 63, 64, 65, 66, 67, 68,\n",
       "       69, 70, 71, 72, 73, 74, 75])"
      ]
     },
     "execution_count": 12,
     "metadata": {},
     "output_type": "execute_result"
    }
   ],
   "source": [
    "print(users['tariff'].unique())\n",
    "print(users['city'].sort_values().unique())\n",
    "users['age'].sort_values().unique()"
   ]
  },
  {
   "cell_type": "markdown",
   "metadata": {},
   "source": [
    "Значения в столбцах корректные, переходим к замене типа данных:"
   ]
  },
  {
   "cell_type": "code",
   "execution_count": 13,
   "metadata": {},
   "outputs": [
    {
     "data": {
      "text/plain": [
       "user_id                int64\n",
       "age                    int64\n",
       "churn_date    datetime64[ns]\n",
       "city                  object\n",
       "first_name            object\n",
       "last_name             object\n",
       "reg_date      datetime64[ns]\n",
       "tariff                object\n",
       "dtype: object"
      ]
     },
     "execution_count": 13,
     "metadata": {},
     "output_type": "execute_result"
    }
   ],
   "source": [
    "users['churn_date']=pd.to_datetime(users['churn_date'])\n",
    "users['reg_date']=pd.to_datetime(users['reg_date'])\n",
    "users.dtypes"
   ]
  },
  {
   "cell_type": "code",
   "execution_count": 14,
   "metadata": {},
   "outputs": [
    {
     "data": {
      "text/html": [
       "<div>\n",
       "<style scoped>\n",
       "    .dataframe tbody tr th:only-of-type {\n",
       "        vertical-align: middle;\n",
       "    }\n",
       "\n",
       "    .dataframe tbody tr th {\n",
       "        vertical-align: top;\n",
       "    }\n",
       "\n",
       "    .dataframe thead th {\n",
       "        text-align: right;\n",
       "    }\n",
       "</style>\n",
       "<table border=\"1\" class=\"dataframe\">\n",
       "  <thead>\n",
       "    <tr style=\"text-align: right;\">\n",
       "      <th></th>\n",
       "      <th>user_id</th>\n",
       "      <th>age</th>\n",
       "      <th>churn_date</th>\n",
       "      <th>city</th>\n",
       "      <th>first_name</th>\n",
       "      <th>last_name</th>\n",
       "      <th>reg_date</th>\n",
       "      <th>tariff</th>\n",
       "    </tr>\n",
       "  </thead>\n",
       "  <tbody>\n",
       "    <tr>\n",
       "      <td>0</td>\n",
       "      <td>1000</td>\n",
       "      <td>52</td>\n",
       "      <td>NaT</td>\n",
       "      <td>Краснодар</td>\n",
       "      <td>Рафаил</td>\n",
       "      <td>Верещагин</td>\n",
       "      <td>2018-05-25</td>\n",
       "      <td>ultra</td>\n",
       "    </tr>\n",
       "    <tr>\n",
       "      <td>1</td>\n",
       "      <td>1001</td>\n",
       "      <td>41</td>\n",
       "      <td>NaT</td>\n",
       "      <td>Москва</td>\n",
       "      <td>Иван</td>\n",
       "      <td>Ежов</td>\n",
       "      <td>2018-11-01</td>\n",
       "      <td>smart</td>\n",
       "    </tr>\n",
       "    <tr>\n",
       "      <td>2</td>\n",
       "      <td>1002</td>\n",
       "      <td>59</td>\n",
       "      <td>NaT</td>\n",
       "      <td>Стерлитамак</td>\n",
       "      <td>Евгений</td>\n",
       "      <td>Абрамович</td>\n",
       "      <td>2018-06-17</td>\n",
       "      <td>smart</td>\n",
       "    </tr>\n",
       "    <tr>\n",
       "      <td>3</td>\n",
       "      <td>1003</td>\n",
       "      <td>23</td>\n",
       "      <td>NaT</td>\n",
       "      <td>Москва</td>\n",
       "      <td>Белла</td>\n",
       "      <td>Белякова</td>\n",
       "      <td>2018-08-17</td>\n",
       "      <td>ultra</td>\n",
       "    </tr>\n",
       "    <tr>\n",
       "      <td>4</td>\n",
       "      <td>1004</td>\n",
       "      <td>68</td>\n",
       "      <td>NaT</td>\n",
       "      <td>Новокузнецк</td>\n",
       "      <td>Татьяна</td>\n",
       "      <td>Авдеенко</td>\n",
       "      <td>2018-05-14</td>\n",
       "      <td>ultra</td>\n",
       "    </tr>\n",
       "    <tr>\n",
       "      <td>...</td>\n",
       "      <td>...</td>\n",
       "      <td>...</td>\n",
       "      <td>...</td>\n",
       "      <td>...</td>\n",
       "      <td>...</td>\n",
       "      <td>...</td>\n",
       "      <td>...</td>\n",
       "      <td>...</td>\n",
       "    </tr>\n",
       "    <tr>\n",
       "      <td>495</td>\n",
       "      <td>1495</td>\n",
       "      <td>65</td>\n",
       "      <td>NaT</td>\n",
       "      <td>Иркутск</td>\n",
       "      <td>Авксентий</td>\n",
       "      <td>Фокин</td>\n",
       "      <td>2018-08-28</td>\n",
       "      <td>ultra</td>\n",
       "    </tr>\n",
       "    <tr>\n",
       "      <td>496</td>\n",
       "      <td>1496</td>\n",
       "      <td>36</td>\n",
       "      <td>NaT</td>\n",
       "      <td>Вологда</td>\n",
       "      <td>Трифон</td>\n",
       "      <td>Блохин</td>\n",
       "      <td>2018-01-27</td>\n",
       "      <td>smart</td>\n",
       "    </tr>\n",
       "    <tr>\n",
       "      <td>497</td>\n",
       "      <td>1497</td>\n",
       "      <td>32</td>\n",
       "      <td>NaT</td>\n",
       "      <td>Челябинск</td>\n",
       "      <td>Каролина</td>\n",
       "      <td>Агеева</td>\n",
       "      <td>2018-10-09</td>\n",
       "      <td>smart</td>\n",
       "    </tr>\n",
       "    <tr>\n",
       "      <td>498</td>\n",
       "      <td>1498</td>\n",
       "      <td>68</td>\n",
       "      <td>2018-10-25</td>\n",
       "      <td>Владикавказ</td>\n",
       "      <td>Всеволод</td>\n",
       "      <td>Акимчин</td>\n",
       "      <td>2018-07-19</td>\n",
       "      <td>smart</td>\n",
       "    </tr>\n",
       "    <tr>\n",
       "      <td>499</td>\n",
       "      <td>1499</td>\n",
       "      <td>35</td>\n",
       "      <td>NaT</td>\n",
       "      <td>Пермь</td>\n",
       "      <td>Гектор</td>\n",
       "      <td>Корнилов</td>\n",
       "      <td>2018-09-27</td>\n",
       "      <td>smart</td>\n",
       "    </tr>\n",
       "  </tbody>\n",
       "</table>\n",
       "<p>500 rows × 8 columns</p>\n",
       "</div>"
      ],
      "text/plain": [
       "     user_id  age churn_date         city first_name  last_name   reg_date  \\\n",
       "0       1000   52        NaT    Краснодар     Рафаил  Верещагин 2018-05-25   \n",
       "1       1001   41        NaT       Москва       Иван       Ежов 2018-11-01   \n",
       "2       1002   59        NaT  Стерлитамак    Евгений  Абрамович 2018-06-17   \n",
       "3       1003   23        NaT       Москва      Белла   Белякова 2018-08-17   \n",
       "4       1004   68        NaT  Новокузнецк    Татьяна   Авдеенко 2018-05-14   \n",
       "..       ...  ...        ...          ...        ...        ...        ...   \n",
       "495     1495   65        NaT      Иркутск  Авксентий      Фокин 2018-08-28   \n",
       "496     1496   36        NaT      Вологда     Трифон     Блохин 2018-01-27   \n",
       "497     1497   32        NaT    Челябинск   Каролина     Агеева 2018-10-09   \n",
       "498     1498   68 2018-10-25  Владикавказ   Всеволод    Акимчин 2018-07-19   \n",
       "499     1499   35        NaT        Пермь     Гектор   Корнилов 2018-09-27   \n",
       "\n",
       "    tariff  \n",
       "0    ultra  \n",
       "1    smart  \n",
       "2    smart  \n",
       "3    ultra  \n",
       "4    ultra  \n",
       "..     ...  \n",
       "495  ultra  \n",
       "496  smart  \n",
       "497  smart  \n",
       "498  smart  \n",
       "499  smart  \n",
       "\n",
       "[500 rows x 8 columns]"
      ]
     },
     "execution_count": 14,
     "metadata": {},
     "output_type": "execute_result"
    }
   ],
   "source": [
    "users"
   ]
  },
  {
   "cell_type": "markdown",
   "metadata": {},
   "source": [
    "Таблица готова к дальнейшей работе, переходим к следующей."
   ]
  },
  {
   "cell_type": "markdown",
   "metadata": {},
   "source": [
    "### Интернет-траффик"
   ]
  },
  {
   "cell_type": "code",
   "execution_count": 15,
   "metadata": {},
   "outputs": [
    {
     "data": {
      "text/html": [
       "<div>\n",
       "<style scoped>\n",
       "    .dataframe tbody tr th:only-of-type {\n",
       "        vertical-align: middle;\n",
       "    }\n",
       "\n",
       "    .dataframe tbody tr th {\n",
       "        vertical-align: top;\n",
       "    }\n",
       "\n",
       "    .dataframe thead th {\n",
       "        text-align: right;\n",
       "    }\n",
       "</style>\n",
       "<table border=\"1\" class=\"dataframe\">\n",
       "  <thead>\n",
       "    <tr style=\"text-align: right;\">\n",
       "      <th></th>\n",
       "      <th>Unnamed: 0</th>\n",
       "      <th>id</th>\n",
       "      <th>mb_used</th>\n",
       "      <th>session_date</th>\n",
       "      <th>user_id</th>\n",
       "    </tr>\n",
       "  </thead>\n",
       "  <tbody>\n",
       "    <tr>\n",
       "      <td>0</td>\n",
       "      <td>0</td>\n",
       "      <td>1000_0</td>\n",
       "      <td>112.95</td>\n",
       "      <td>2018-11-25</td>\n",
       "      <td>1000</td>\n",
       "    </tr>\n",
       "    <tr>\n",
       "      <td>1</td>\n",
       "      <td>1</td>\n",
       "      <td>1000_1</td>\n",
       "      <td>1052.81</td>\n",
       "      <td>2018-09-07</td>\n",
       "      <td>1000</td>\n",
       "    </tr>\n",
       "    <tr>\n",
       "      <td>2</td>\n",
       "      <td>2</td>\n",
       "      <td>1000_2</td>\n",
       "      <td>1197.26</td>\n",
       "      <td>2018-06-25</td>\n",
       "      <td>1000</td>\n",
       "    </tr>\n",
       "    <tr>\n",
       "      <td>3</td>\n",
       "      <td>3</td>\n",
       "      <td>1000_3</td>\n",
       "      <td>550.27</td>\n",
       "      <td>2018-08-22</td>\n",
       "      <td>1000</td>\n",
       "    </tr>\n",
       "    <tr>\n",
       "      <td>4</td>\n",
       "      <td>4</td>\n",
       "      <td>1000_4</td>\n",
       "      <td>302.56</td>\n",
       "      <td>2018-09-24</td>\n",
       "      <td>1000</td>\n",
       "    </tr>\n",
       "    <tr>\n",
       "      <td>...</td>\n",
       "      <td>...</td>\n",
       "      <td>...</td>\n",
       "      <td>...</td>\n",
       "      <td>...</td>\n",
       "      <td>...</td>\n",
       "    </tr>\n",
       "    <tr>\n",
       "      <td>149391</td>\n",
       "      <td>149391</td>\n",
       "      <td>1499_152</td>\n",
       "      <td>318.90</td>\n",
       "      <td>2018-10-03</td>\n",
       "      <td>1499</td>\n",
       "    </tr>\n",
       "    <tr>\n",
       "      <td>149392</td>\n",
       "      <td>149392</td>\n",
       "      <td>1499_153</td>\n",
       "      <td>490.13</td>\n",
       "      <td>2018-12-14</td>\n",
       "      <td>1499</td>\n",
       "    </tr>\n",
       "    <tr>\n",
       "      <td>149393</td>\n",
       "      <td>149393</td>\n",
       "      <td>1499_154</td>\n",
       "      <td>0.00</td>\n",
       "      <td>2018-10-27</td>\n",
       "      <td>1499</td>\n",
       "    </tr>\n",
       "    <tr>\n",
       "      <td>149394</td>\n",
       "      <td>149394</td>\n",
       "      <td>1499_155</td>\n",
       "      <td>1246.32</td>\n",
       "      <td>2018-11-26</td>\n",
       "      <td>1499</td>\n",
       "    </tr>\n",
       "    <tr>\n",
       "      <td>149395</td>\n",
       "      <td>149395</td>\n",
       "      <td>1499_156</td>\n",
       "      <td>544.37</td>\n",
       "      <td>2018-10-26</td>\n",
       "      <td>1499</td>\n",
       "    </tr>\n",
       "  </tbody>\n",
       "</table>\n",
       "<p>149396 rows × 5 columns</p>\n",
       "</div>"
      ],
      "text/plain": [
       "        Unnamed: 0        id  mb_used session_date  user_id\n",
       "0                0    1000_0   112.95   2018-11-25     1000\n",
       "1                1    1000_1  1052.81   2018-09-07     1000\n",
       "2                2    1000_2  1197.26   2018-06-25     1000\n",
       "3                3    1000_3   550.27   2018-08-22     1000\n",
       "4                4    1000_4   302.56   2018-09-24     1000\n",
       "...            ...       ...      ...          ...      ...\n",
       "149391      149391  1499_152   318.90   2018-10-03     1499\n",
       "149392      149392  1499_153   490.13   2018-12-14     1499\n",
       "149393      149393  1499_154     0.00   2018-10-27     1499\n",
       "149394      149394  1499_155  1246.32   2018-11-26     1499\n",
       "149395      149395  1499_156   544.37   2018-10-26     1499\n",
       "\n",
       "[149396 rows x 5 columns]"
      ]
     },
     "execution_count": 15,
     "metadata": {},
     "output_type": "execute_result"
    }
   ],
   "source": [
    "internet"
   ]
  },
  {
   "cell_type": "markdown",
   "metadata": {},
   "source": [
    "Уберём ненужный столбец `Unnamed: 0`, дублирующий индексы. Для этого перезапишем таблицу со всеми столбцами, кроме него:"
   ]
  },
  {
   "cell_type": "code",
   "execution_count": 16,
   "metadata": {},
   "outputs": [
    {
     "data": {
      "text/html": [
       "<div>\n",
       "<style scoped>\n",
       "    .dataframe tbody tr th:only-of-type {\n",
       "        vertical-align: middle;\n",
       "    }\n",
       "\n",
       "    .dataframe tbody tr th {\n",
       "        vertical-align: top;\n",
       "    }\n",
       "\n",
       "    .dataframe thead th {\n",
       "        text-align: right;\n",
       "    }\n",
       "</style>\n",
       "<table border=\"1\" class=\"dataframe\">\n",
       "  <thead>\n",
       "    <tr style=\"text-align: right;\">\n",
       "      <th></th>\n",
       "      <th>id</th>\n",
       "      <th>mb_used</th>\n",
       "      <th>session_date</th>\n",
       "      <th>user_id</th>\n",
       "    </tr>\n",
       "  </thead>\n",
       "  <tbody>\n",
       "    <tr>\n",
       "      <td>0</td>\n",
       "      <td>1000_0</td>\n",
       "      <td>112.95</td>\n",
       "      <td>2018-11-25</td>\n",
       "      <td>1000</td>\n",
       "    </tr>\n",
       "    <tr>\n",
       "      <td>1</td>\n",
       "      <td>1000_1</td>\n",
       "      <td>1052.81</td>\n",
       "      <td>2018-09-07</td>\n",
       "      <td>1000</td>\n",
       "    </tr>\n",
       "    <tr>\n",
       "      <td>2</td>\n",
       "      <td>1000_2</td>\n",
       "      <td>1197.26</td>\n",
       "      <td>2018-06-25</td>\n",
       "      <td>1000</td>\n",
       "    </tr>\n",
       "    <tr>\n",
       "      <td>3</td>\n",
       "      <td>1000_3</td>\n",
       "      <td>550.27</td>\n",
       "      <td>2018-08-22</td>\n",
       "      <td>1000</td>\n",
       "    </tr>\n",
       "    <tr>\n",
       "      <td>4</td>\n",
       "      <td>1000_4</td>\n",
       "      <td>302.56</td>\n",
       "      <td>2018-09-24</td>\n",
       "      <td>1000</td>\n",
       "    </tr>\n",
       "    <tr>\n",
       "      <td>...</td>\n",
       "      <td>...</td>\n",
       "      <td>...</td>\n",
       "      <td>...</td>\n",
       "      <td>...</td>\n",
       "    </tr>\n",
       "    <tr>\n",
       "      <td>149391</td>\n",
       "      <td>1499_152</td>\n",
       "      <td>318.90</td>\n",
       "      <td>2018-10-03</td>\n",
       "      <td>1499</td>\n",
       "    </tr>\n",
       "    <tr>\n",
       "      <td>149392</td>\n",
       "      <td>1499_153</td>\n",
       "      <td>490.13</td>\n",
       "      <td>2018-12-14</td>\n",
       "      <td>1499</td>\n",
       "    </tr>\n",
       "    <tr>\n",
       "      <td>149393</td>\n",
       "      <td>1499_154</td>\n",
       "      <td>0.00</td>\n",
       "      <td>2018-10-27</td>\n",
       "      <td>1499</td>\n",
       "    </tr>\n",
       "    <tr>\n",
       "      <td>149394</td>\n",
       "      <td>1499_155</td>\n",
       "      <td>1246.32</td>\n",
       "      <td>2018-11-26</td>\n",
       "      <td>1499</td>\n",
       "    </tr>\n",
       "    <tr>\n",
       "      <td>149395</td>\n",
       "      <td>1499_156</td>\n",
       "      <td>544.37</td>\n",
       "      <td>2018-10-26</td>\n",
       "      <td>1499</td>\n",
       "    </tr>\n",
       "  </tbody>\n",
       "</table>\n",
       "<p>149396 rows × 4 columns</p>\n",
       "</div>"
      ],
      "text/plain": [
       "              id  mb_used session_date  user_id\n",
       "0         1000_0   112.95   2018-11-25     1000\n",
       "1         1000_1  1052.81   2018-09-07     1000\n",
       "2         1000_2  1197.26   2018-06-25     1000\n",
       "3         1000_3   550.27   2018-08-22     1000\n",
       "4         1000_4   302.56   2018-09-24     1000\n",
       "...          ...      ...          ...      ...\n",
       "149391  1499_152   318.90   2018-10-03     1499\n",
       "149392  1499_153   490.13   2018-12-14     1499\n",
       "149393  1499_154     0.00   2018-10-27     1499\n",
       "149394  1499_155  1246.32   2018-11-26     1499\n",
       "149395  1499_156   544.37   2018-10-26     1499\n",
       "\n",
       "[149396 rows x 4 columns]"
      ]
     },
     "execution_count": 16,
     "metadata": {},
     "output_type": "execute_result"
    }
   ],
   "source": [
    "internet = internet[['id', 'mb_used', 'session_date', 'user_id']]\n",
    "internet"
   ]
  },
  {
   "cell_type": "markdown",
   "metadata": {},
   "source": [
    "Посмотрим сколько нулевых значений содержится в столбце `mb_used`:"
   ]
  },
  {
   "cell_type": "code",
   "execution_count": 17,
   "metadata": {},
   "outputs": [
    {
     "data": {
      "text/plain": [
       "19598"
      ]
     },
     "execution_count": 17,
     "metadata": {},
     "output_type": "execute_result"
    }
   ],
   "source": [
    "len(internet.query('mb_used==0'))"
   ]
  },
  {
   "cell_type": "markdown",
   "metadata": {},
   "source": [
    "'Нулевых' подключений оказалось около 13%. Эти значения можно объяснить ошибками подключения к сети. Нулевые значения можно не удалять, т.к. на интересующий нас параметр - количество израсходованного трафика за месяц, они не повлияют.\n",
    "\n",
    "Теперь переведём значения столбца `session_date` в формат даты и времени: "
   ]
  },
  {
   "cell_type": "code",
   "execution_count": 18,
   "metadata": {},
   "outputs": [
    {
     "data": {
      "text/plain": [
       "id                      object\n",
       "mb_used                float64\n",
       "session_date    datetime64[ns]\n",
       "user_id                  int64\n",
       "dtype: object"
      ]
     },
     "execution_count": 18,
     "metadata": {},
     "output_type": "execute_result"
    }
   ],
   "source": [
    "internet['session_date'] = pd.to_datetime(internet['session_date'])\n",
    "internet.dtypes"
   ]
  },
  {
   "cell_type": "markdown",
   "metadata": {},
   "source": [
    "Тарификация за интернет-сессии также идёт с округлением до гигабайта к большему значению, но уже в рамках месяца. Поэтому сначала посчитаем сумму трафика в мегабайтах за месяц для каждого пользователя, а потом уже округлим получившиеся значения до гигабайт.   \n",
    "В начале также создадим столбец с указанием месяца выхода в интернет:"
   ]
  },
  {
   "cell_type": "code",
   "execution_count": 19,
   "metadata": {},
   "outputs": [
    {
     "data": {
      "text/html": [
       "<div>\n",
       "<style scoped>\n",
       "    .dataframe tbody tr th:only-of-type {\n",
       "        vertical-align: middle;\n",
       "    }\n",
       "\n",
       "    .dataframe tbody tr th {\n",
       "        vertical-align: top;\n",
       "    }\n",
       "\n",
       "    .dataframe thead th {\n",
       "        text-align: right;\n",
       "    }\n",
       "</style>\n",
       "<table border=\"1\" class=\"dataframe\">\n",
       "  <thead>\n",
       "    <tr style=\"text-align: right;\">\n",
       "      <th></th>\n",
       "      <th>id</th>\n",
       "      <th>mb_used</th>\n",
       "      <th>session_date</th>\n",
       "      <th>user_id</th>\n",
       "      <th>month</th>\n",
       "    </tr>\n",
       "  </thead>\n",
       "  <tbody>\n",
       "    <tr>\n",
       "      <td>0</td>\n",
       "      <td>1000_0</td>\n",
       "      <td>112.95</td>\n",
       "      <td>2018-11-25</td>\n",
       "      <td>1000</td>\n",
       "      <td>11</td>\n",
       "    </tr>\n",
       "    <tr>\n",
       "      <td>1</td>\n",
       "      <td>1000_1</td>\n",
       "      <td>1052.81</td>\n",
       "      <td>2018-09-07</td>\n",
       "      <td>1000</td>\n",
       "      <td>9</td>\n",
       "    </tr>\n",
       "    <tr>\n",
       "      <td>2</td>\n",
       "      <td>1000_2</td>\n",
       "      <td>1197.26</td>\n",
       "      <td>2018-06-25</td>\n",
       "      <td>1000</td>\n",
       "      <td>6</td>\n",
       "    </tr>\n",
       "    <tr>\n",
       "      <td>3</td>\n",
       "      <td>1000_3</td>\n",
       "      <td>550.27</td>\n",
       "      <td>2018-08-22</td>\n",
       "      <td>1000</td>\n",
       "      <td>8</td>\n",
       "    </tr>\n",
       "    <tr>\n",
       "      <td>4</td>\n",
       "      <td>1000_4</td>\n",
       "      <td>302.56</td>\n",
       "      <td>2018-09-24</td>\n",
       "      <td>1000</td>\n",
       "      <td>9</td>\n",
       "    </tr>\n",
       "    <tr>\n",
       "      <td>...</td>\n",
       "      <td>...</td>\n",
       "      <td>...</td>\n",
       "      <td>...</td>\n",
       "      <td>...</td>\n",
       "      <td>...</td>\n",
       "    </tr>\n",
       "    <tr>\n",
       "      <td>149391</td>\n",
       "      <td>1499_152</td>\n",
       "      <td>318.90</td>\n",
       "      <td>2018-10-03</td>\n",
       "      <td>1499</td>\n",
       "      <td>10</td>\n",
       "    </tr>\n",
       "    <tr>\n",
       "      <td>149392</td>\n",
       "      <td>1499_153</td>\n",
       "      <td>490.13</td>\n",
       "      <td>2018-12-14</td>\n",
       "      <td>1499</td>\n",
       "      <td>12</td>\n",
       "    </tr>\n",
       "    <tr>\n",
       "      <td>149393</td>\n",
       "      <td>1499_154</td>\n",
       "      <td>0.00</td>\n",
       "      <td>2018-10-27</td>\n",
       "      <td>1499</td>\n",
       "      <td>10</td>\n",
       "    </tr>\n",
       "    <tr>\n",
       "      <td>149394</td>\n",
       "      <td>1499_155</td>\n",
       "      <td>1246.32</td>\n",
       "      <td>2018-11-26</td>\n",
       "      <td>1499</td>\n",
       "      <td>11</td>\n",
       "    </tr>\n",
       "    <tr>\n",
       "      <td>149395</td>\n",
       "      <td>1499_156</td>\n",
       "      <td>544.37</td>\n",
       "      <td>2018-10-26</td>\n",
       "      <td>1499</td>\n",
       "      <td>10</td>\n",
       "    </tr>\n",
       "  </tbody>\n",
       "</table>\n",
       "<p>149396 rows × 5 columns</p>\n",
       "</div>"
      ],
      "text/plain": [
       "              id  mb_used session_date  user_id  month\n",
       "0         1000_0   112.95   2018-11-25     1000     11\n",
       "1         1000_1  1052.81   2018-09-07     1000      9\n",
       "2         1000_2  1197.26   2018-06-25     1000      6\n",
       "3         1000_3   550.27   2018-08-22     1000      8\n",
       "4         1000_4   302.56   2018-09-24     1000      9\n",
       "...          ...      ...          ...      ...    ...\n",
       "149391  1499_152   318.90   2018-10-03     1499     10\n",
       "149392  1499_153   490.13   2018-12-14     1499     12\n",
       "149393  1499_154     0.00   2018-10-27     1499     10\n",
       "149394  1499_155  1246.32   2018-11-26     1499     11\n",
       "149395  1499_156   544.37   2018-10-26     1499     10\n",
       "\n",
       "[149396 rows x 5 columns]"
      ]
     },
     "execution_count": 19,
     "metadata": {},
     "output_type": "execute_result"
    }
   ],
   "source": [
    "internet['month'] = internet['session_date'].dt.month\n",
    "internet"
   ]
  },
  {
   "cell_type": "code",
   "execution_count": 64,
   "metadata": {},
   "outputs": [
    {
     "data": {
      "text/html": [
       "<div>\n",
       "<style scoped>\n",
       "    .dataframe tbody tr th:only-of-type {\n",
       "        vertical-align: middle;\n",
       "    }\n",
       "\n",
       "    .dataframe tbody tr th {\n",
       "        vertical-align: top;\n",
       "    }\n",
       "\n",
       "    .dataframe thead th {\n",
       "        text-align: right;\n",
       "    }\n",
       "</style>\n",
       "<table border=\"1\" class=\"dataframe\">\n",
       "  <thead>\n",
       "    <tr style=\"text-align: right;\">\n",
       "      <th></th>\n",
       "      <th></th>\n",
       "      <th>mb_used</th>\n",
       "    </tr>\n",
       "    <tr>\n",
       "      <th>user_id</th>\n",
       "      <th>month</th>\n",
       "      <th></th>\n",
       "    </tr>\n",
       "  </thead>\n",
       "  <tbody>\n",
       "    <tr>\n",
       "      <td rowspan=\"5\" valign=\"top\">1000</td>\n",
       "      <td>5</td>\n",
       "      <td>2253.49</td>\n",
       "    </tr>\n",
       "    <tr>\n",
       "      <td>6</td>\n",
       "      <td>23233.77</td>\n",
       "    </tr>\n",
       "    <tr>\n",
       "      <td>7</td>\n",
       "      <td>14003.64</td>\n",
       "    </tr>\n",
       "    <tr>\n",
       "      <td>8</td>\n",
       "      <td>14055.93</td>\n",
       "    </tr>\n",
       "    <tr>\n",
       "      <td>9</td>\n",
       "      <td>14568.91</td>\n",
       "    </tr>\n",
       "    <tr>\n",
       "      <td>...</td>\n",
       "      <td>...</td>\n",
       "      <td>...</td>\n",
       "    </tr>\n",
       "    <tr>\n",
       "      <td>1498</td>\n",
       "      <td>10</td>\n",
       "      <td>20579.36</td>\n",
       "    </tr>\n",
       "    <tr>\n",
       "      <td rowspan=\"4\" valign=\"top\">1499</td>\n",
       "      <td>9</td>\n",
       "      <td>1845.75</td>\n",
       "    </tr>\n",
       "    <tr>\n",
       "      <td>10</td>\n",
       "      <td>17788.51</td>\n",
       "    </tr>\n",
       "    <tr>\n",
       "      <td>11</td>\n",
       "      <td>17963.31</td>\n",
       "    </tr>\n",
       "    <tr>\n",
       "      <td>12</td>\n",
       "      <td>13055.58</td>\n",
       "    </tr>\n",
       "  </tbody>\n",
       "</table>\n",
       "<p>3203 rows × 1 columns</p>\n",
       "</div>"
      ],
      "text/plain": [
       "                mb_used\n",
       "user_id month          \n",
       "1000    5       2253.49\n",
       "        6      23233.77\n",
       "        7      14003.64\n",
       "        8      14055.93\n",
       "        9      14568.91\n",
       "...                 ...\n",
       "1498    10     20579.36\n",
       "1499    9       1845.75\n",
       "        10     17788.51\n",
       "        11     17963.31\n",
       "        12     13055.58\n",
       "\n",
       "[3203 rows x 1 columns]"
      ]
     },
     "execution_count": 64,
     "metadata": {},
     "output_type": "execute_result"
    }
   ],
   "source": [
    "internet_per_month = internet.pivot_table(index=['user_id', 'month'], values = 'mb_used', aggfunc='sum')\n",
    "internet_per_month"
   ]
  },
  {
   "cell_type": "markdown",
   "metadata": {},
   "source": [
    "Теперь переведём мегабайты в гигабайты с округлением вверх и запишем в новый столбец. Также переведём тип данных этого столбца в целочисленный:"
   ]
  },
  {
   "cell_type": "code",
   "execution_count": 21,
   "metadata": {},
   "outputs": [
    {
     "data": {
      "text/html": [
       "<div>\n",
       "<style scoped>\n",
       "    .dataframe tbody tr th:only-of-type {\n",
       "        vertical-align: middle;\n",
       "    }\n",
       "\n",
       "    .dataframe tbody tr th {\n",
       "        vertical-align: top;\n",
       "    }\n",
       "\n",
       "    .dataframe thead th {\n",
       "        text-align: right;\n",
       "    }\n",
       "</style>\n",
       "<table border=\"1\" class=\"dataframe\">\n",
       "  <thead>\n",
       "    <tr style=\"text-align: right;\">\n",
       "      <th></th>\n",
       "      <th></th>\n",
       "      <th>mb_used</th>\n",
       "      <th>gb_total</th>\n",
       "    </tr>\n",
       "    <tr>\n",
       "      <th>user_id</th>\n",
       "      <th>month</th>\n",
       "      <th></th>\n",
       "      <th></th>\n",
       "    </tr>\n",
       "  </thead>\n",
       "  <tbody>\n",
       "    <tr>\n",
       "      <td rowspan=\"5\" valign=\"top\">1000</td>\n",
       "      <td>5</td>\n",
       "      <td>2253.49</td>\n",
       "      <td>3</td>\n",
       "    </tr>\n",
       "    <tr>\n",
       "      <td>6</td>\n",
       "      <td>23233.77</td>\n",
       "      <td>23</td>\n",
       "    </tr>\n",
       "    <tr>\n",
       "      <td>7</td>\n",
       "      <td>14003.64</td>\n",
       "      <td>14</td>\n",
       "    </tr>\n",
       "    <tr>\n",
       "      <td>8</td>\n",
       "      <td>14055.93</td>\n",
       "      <td>14</td>\n",
       "    </tr>\n",
       "    <tr>\n",
       "      <td>9</td>\n",
       "      <td>14568.91</td>\n",
       "      <td>15</td>\n",
       "    </tr>\n",
       "    <tr>\n",
       "      <td>...</td>\n",
       "      <td>...</td>\n",
       "      <td>...</td>\n",
       "      <td>...</td>\n",
       "    </tr>\n",
       "    <tr>\n",
       "      <td>1498</td>\n",
       "      <td>10</td>\n",
       "      <td>20579.36</td>\n",
       "      <td>21</td>\n",
       "    </tr>\n",
       "    <tr>\n",
       "      <td rowspan=\"4\" valign=\"top\">1499</td>\n",
       "      <td>9</td>\n",
       "      <td>1845.75</td>\n",
       "      <td>2</td>\n",
       "    </tr>\n",
       "    <tr>\n",
       "      <td>10</td>\n",
       "      <td>17788.51</td>\n",
       "      <td>18</td>\n",
       "    </tr>\n",
       "    <tr>\n",
       "      <td>11</td>\n",
       "      <td>17963.31</td>\n",
       "      <td>18</td>\n",
       "    </tr>\n",
       "    <tr>\n",
       "      <td>12</td>\n",
       "      <td>13055.58</td>\n",
       "      <td>13</td>\n",
       "    </tr>\n",
       "  </tbody>\n",
       "</table>\n",
       "<p>3203 rows × 2 columns</p>\n",
       "</div>"
      ],
      "text/plain": [
       "                mb_used  gb_total\n",
       "user_id month                    \n",
       "1000    5       2253.49         3\n",
       "        6      23233.77        23\n",
       "        7      14003.64        14\n",
       "        8      14055.93        14\n",
       "        9      14568.91        15\n",
       "...                 ...       ...\n",
       "1498    10     20579.36        21\n",
       "1499    9       1845.75         2\n",
       "        10     17788.51        18\n",
       "        11     17963.31        18\n",
       "        12     13055.58        13\n",
       "\n",
       "[3203 rows x 2 columns]"
      ]
     },
     "execution_count": 21,
     "metadata": {},
     "output_type": "execute_result"
    }
   ],
   "source": [
    "internet_per_month['gb_total'] = (internet_per_month['mb_used']/1024).apply(np.ceil)\n",
    "internet_per_month['gb_total'] = internet_per_month['gb_total'].astype('int')\n",
    "internet_per_month"
   ]
  },
  {
   "cell_type": "markdown",
   "metadata": {},
   "source": [
    "Осталось перевести заголовки второго уровня в обычные для удобства работы в дальнейшем"
   ]
  },
  {
   "cell_type": "code",
   "execution_count": 22,
   "metadata": {},
   "outputs": [
    {
     "data": {
      "text/html": [
       "<div>\n",
       "<style scoped>\n",
       "    .dataframe tbody tr th:only-of-type {\n",
       "        vertical-align: middle;\n",
       "    }\n",
       "\n",
       "    .dataframe tbody tr th {\n",
       "        vertical-align: top;\n",
       "    }\n",
       "\n",
       "    .dataframe thead th {\n",
       "        text-align: right;\n",
       "    }\n",
       "</style>\n",
       "<table border=\"1\" class=\"dataframe\">\n",
       "  <thead>\n",
       "    <tr style=\"text-align: right;\">\n",
       "      <th></th>\n",
       "      <th>user_id</th>\n",
       "      <th>month</th>\n",
       "      <th>mb_used</th>\n",
       "      <th>gb_total</th>\n",
       "    </tr>\n",
       "  </thead>\n",
       "  <tbody>\n",
       "    <tr>\n",
       "      <td>0</td>\n",
       "      <td>1000</td>\n",
       "      <td>5</td>\n",
       "      <td>2253.49</td>\n",
       "      <td>3</td>\n",
       "    </tr>\n",
       "    <tr>\n",
       "      <td>1</td>\n",
       "      <td>1000</td>\n",
       "      <td>6</td>\n",
       "      <td>23233.77</td>\n",
       "      <td>23</td>\n",
       "    </tr>\n",
       "    <tr>\n",
       "      <td>2</td>\n",
       "      <td>1000</td>\n",
       "      <td>7</td>\n",
       "      <td>14003.64</td>\n",
       "      <td>14</td>\n",
       "    </tr>\n",
       "    <tr>\n",
       "      <td>3</td>\n",
       "      <td>1000</td>\n",
       "      <td>8</td>\n",
       "      <td>14055.93</td>\n",
       "      <td>14</td>\n",
       "    </tr>\n",
       "    <tr>\n",
       "      <td>4</td>\n",
       "      <td>1000</td>\n",
       "      <td>9</td>\n",
       "      <td>14568.91</td>\n",
       "      <td>15</td>\n",
       "    </tr>\n",
       "    <tr>\n",
       "      <td>...</td>\n",
       "      <td>...</td>\n",
       "      <td>...</td>\n",
       "      <td>...</td>\n",
       "      <td>...</td>\n",
       "    </tr>\n",
       "    <tr>\n",
       "      <td>3198</td>\n",
       "      <td>1498</td>\n",
       "      <td>10</td>\n",
       "      <td>20579.36</td>\n",
       "      <td>21</td>\n",
       "    </tr>\n",
       "    <tr>\n",
       "      <td>3199</td>\n",
       "      <td>1499</td>\n",
       "      <td>9</td>\n",
       "      <td>1845.75</td>\n",
       "      <td>2</td>\n",
       "    </tr>\n",
       "    <tr>\n",
       "      <td>3200</td>\n",
       "      <td>1499</td>\n",
       "      <td>10</td>\n",
       "      <td>17788.51</td>\n",
       "      <td>18</td>\n",
       "    </tr>\n",
       "    <tr>\n",
       "      <td>3201</td>\n",
       "      <td>1499</td>\n",
       "      <td>11</td>\n",
       "      <td>17963.31</td>\n",
       "      <td>18</td>\n",
       "    </tr>\n",
       "    <tr>\n",
       "      <td>3202</td>\n",
       "      <td>1499</td>\n",
       "      <td>12</td>\n",
       "      <td>13055.58</td>\n",
       "      <td>13</td>\n",
       "    </tr>\n",
       "  </tbody>\n",
       "</table>\n",
       "<p>3203 rows × 4 columns</p>\n",
       "</div>"
      ],
      "text/plain": [
       "      user_id  month   mb_used  gb_total\n",
       "0        1000      5   2253.49         3\n",
       "1        1000      6  23233.77        23\n",
       "2        1000      7  14003.64        14\n",
       "3        1000      8  14055.93        14\n",
       "4        1000      9  14568.91        15\n",
       "...       ...    ...       ...       ...\n",
       "3198     1498     10  20579.36        21\n",
       "3199     1499      9   1845.75         2\n",
       "3200     1499     10  17788.51        18\n",
       "3201     1499     11  17963.31        18\n",
       "3202     1499     12  13055.58        13\n",
       "\n",
       "[3203 rows x 4 columns]"
      ]
     },
     "execution_count": 22,
     "metadata": {},
     "output_type": "execute_result"
    }
   ],
   "source": [
    "internet_per_month = internet_per_month.reset_index(col_level=True)\n",
    "internet_per_month"
   ]
  },
  {
   "cell_type": "markdown",
   "metadata": {},
   "source": [
    "Таблица готова к работе, переходим к  сообщениям."
   ]
  },
  {
   "cell_type": "markdown",
   "metadata": {},
   "source": [
    "### СМС"
   ]
  },
  {
   "cell_type": "code",
   "execution_count": 23,
   "metadata": {},
   "outputs": [
    {
     "data": {
      "text/html": [
       "<div>\n",
       "<style scoped>\n",
       "    .dataframe tbody tr th:only-of-type {\n",
       "        vertical-align: middle;\n",
       "    }\n",
       "\n",
       "    .dataframe tbody tr th {\n",
       "        vertical-align: top;\n",
       "    }\n",
       "\n",
       "    .dataframe thead th {\n",
       "        text-align: right;\n",
       "    }\n",
       "</style>\n",
       "<table border=\"1\" class=\"dataframe\">\n",
       "  <thead>\n",
       "    <tr style=\"text-align: right;\">\n",
       "      <th></th>\n",
       "      <th>id</th>\n",
       "      <th>message_date</th>\n",
       "      <th>user_id</th>\n",
       "    </tr>\n",
       "  </thead>\n",
       "  <tbody>\n",
       "    <tr>\n",
       "      <td>0</td>\n",
       "      <td>1000_0</td>\n",
       "      <td>2018-06-27</td>\n",
       "      <td>1000</td>\n",
       "    </tr>\n",
       "    <tr>\n",
       "      <td>1</td>\n",
       "      <td>1000_1</td>\n",
       "      <td>2018-10-08</td>\n",
       "      <td>1000</td>\n",
       "    </tr>\n",
       "    <tr>\n",
       "      <td>2</td>\n",
       "      <td>1000_2</td>\n",
       "      <td>2018-08-04</td>\n",
       "      <td>1000</td>\n",
       "    </tr>\n",
       "    <tr>\n",
       "      <td>3</td>\n",
       "      <td>1000_3</td>\n",
       "      <td>2018-06-16</td>\n",
       "      <td>1000</td>\n",
       "    </tr>\n",
       "    <tr>\n",
       "      <td>4</td>\n",
       "      <td>1000_4</td>\n",
       "      <td>2018-12-05</td>\n",
       "      <td>1000</td>\n",
       "    </tr>\n",
       "    <tr>\n",
       "      <td>...</td>\n",
       "      <td>...</td>\n",
       "      <td>...</td>\n",
       "      <td>...</td>\n",
       "    </tr>\n",
       "    <tr>\n",
       "      <td>123031</td>\n",
       "      <td>1499_179</td>\n",
       "      <td>2018-12-12</td>\n",
       "      <td>1499</td>\n",
       "    </tr>\n",
       "    <tr>\n",
       "      <td>123032</td>\n",
       "      <td>1499_180</td>\n",
       "      <td>2018-09-28</td>\n",
       "      <td>1499</td>\n",
       "    </tr>\n",
       "    <tr>\n",
       "      <td>123033</td>\n",
       "      <td>1499_181</td>\n",
       "      <td>2018-09-27</td>\n",
       "      <td>1499</td>\n",
       "    </tr>\n",
       "    <tr>\n",
       "      <td>123034</td>\n",
       "      <td>1499_182</td>\n",
       "      <td>2018-11-15</td>\n",
       "      <td>1499</td>\n",
       "    </tr>\n",
       "    <tr>\n",
       "      <td>123035</td>\n",
       "      <td>1499_183</td>\n",
       "      <td>2018-11-16</td>\n",
       "      <td>1499</td>\n",
       "    </tr>\n",
       "  </tbody>\n",
       "</table>\n",
       "<p>123036 rows × 3 columns</p>\n",
       "</div>"
      ],
      "text/plain": [
       "              id message_date  user_id\n",
       "0         1000_0   2018-06-27     1000\n",
       "1         1000_1   2018-10-08     1000\n",
       "2         1000_2   2018-08-04     1000\n",
       "3         1000_3   2018-06-16     1000\n",
       "4         1000_4   2018-12-05     1000\n",
       "...          ...          ...      ...\n",
       "123031  1499_179   2018-12-12     1499\n",
       "123032  1499_180   2018-09-28     1499\n",
       "123033  1499_181   2018-09-27     1499\n",
       "123034  1499_182   2018-11-15     1499\n",
       "123035  1499_183   2018-11-16     1499\n",
       "\n",
       "[123036 rows x 3 columns]"
      ]
     },
     "execution_count": 23,
     "metadata": {},
     "output_type": "execute_result"
    }
   ],
   "source": [
    "messages"
   ]
  },
  {
   "cell_type": "markdown",
   "metadata": {},
   "source": [
    "Приведём значения столбца `message_date` к формату даты и времени:"
   ]
  },
  {
   "cell_type": "code",
   "execution_count": 24,
   "metadata": {},
   "outputs": [
    {
     "data": {
      "text/plain": [
       "id                      object\n",
       "message_date    datetime64[ns]\n",
       "user_id                  int64\n",
       "dtype: object"
      ]
     },
     "execution_count": 24,
     "metadata": {},
     "output_type": "execute_result"
    }
   ],
   "source": [
    "messages['message_date'] = pd.to_datetime(messages['message_date'])\n",
    "messages.dtypes"
   ]
  },
  {
   "cell_type": "markdown",
   "metadata": {},
   "source": [
    "Создадим столбец с указанием месяца отправки сообщения:"
   ]
  },
  {
   "cell_type": "code",
   "execution_count": 25,
   "metadata": {},
   "outputs": [
    {
     "data": {
      "text/html": [
       "<div>\n",
       "<style scoped>\n",
       "    .dataframe tbody tr th:only-of-type {\n",
       "        vertical-align: middle;\n",
       "    }\n",
       "\n",
       "    .dataframe tbody tr th {\n",
       "        vertical-align: top;\n",
       "    }\n",
       "\n",
       "    .dataframe thead th {\n",
       "        text-align: right;\n",
       "    }\n",
       "</style>\n",
       "<table border=\"1\" class=\"dataframe\">\n",
       "  <thead>\n",
       "    <tr style=\"text-align: right;\">\n",
       "      <th></th>\n",
       "      <th>id</th>\n",
       "      <th>message_date</th>\n",
       "      <th>user_id</th>\n",
       "      <th>month</th>\n",
       "    </tr>\n",
       "  </thead>\n",
       "  <tbody>\n",
       "    <tr>\n",
       "      <td>0</td>\n",
       "      <td>1000_0</td>\n",
       "      <td>2018-06-27</td>\n",
       "      <td>1000</td>\n",
       "      <td>6</td>\n",
       "    </tr>\n",
       "    <tr>\n",
       "      <td>1</td>\n",
       "      <td>1000_1</td>\n",
       "      <td>2018-10-08</td>\n",
       "      <td>1000</td>\n",
       "      <td>10</td>\n",
       "    </tr>\n",
       "    <tr>\n",
       "      <td>2</td>\n",
       "      <td>1000_2</td>\n",
       "      <td>2018-08-04</td>\n",
       "      <td>1000</td>\n",
       "      <td>8</td>\n",
       "    </tr>\n",
       "    <tr>\n",
       "      <td>3</td>\n",
       "      <td>1000_3</td>\n",
       "      <td>2018-06-16</td>\n",
       "      <td>1000</td>\n",
       "      <td>6</td>\n",
       "    </tr>\n",
       "    <tr>\n",
       "      <td>4</td>\n",
       "      <td>1000_4</td>\n",
       "      <td>2018-12-05</td>\n",
       "      <td>1000</td>\n",
       "      <td>12</td>\n",
       "    </tr>\n",
       "    <tr>\n",
       "      <td>...</td>\n",
       "      <td>...</td>\n",
       "      <td>...</td>\n",
       "      <td>...</td>\n",
       "      <td>...</td>\n",
       "    </tr>\n",
       "    <tr>\n",
       "      <td>123031</td>\n",
       "      <td>1499_179</td>\n",
       "      <td>2018-12-12</td>\n",
       "      <td>1499</td>\n",
       "      <td>12</td>\n",
       "    </tr>\n",
       "    <tr>\n",
       "      <td>123032</td>\n",
       "      <td>1499_180</td>\n",
       "      <td>2018-09-28</td>\n",
       "      <td>1499</td>\n",
       "      <td>9</td>\n",
       "    </tr>\n",
       "    <tr>\n",
       "      <td>123033</td>\n",
       "      <td>1499_181</td>\n",
       "      <td>2018-09-27</td>\n",
       "      <td>1499</td>\n",
       "      <td>9</td>\n",
       "    </tr>\n",
       "    <tr>\n",
       "      <td>123034</td>\n",
       "      <td>1499_182</td>\n",
       "      <td>2018-11-15</td>\n",
       "      <td>1499</td>\n",
       "      <td>11</td>\n",
       "    </tr>\n",
       "    <tr>\n",
       "      <td>123035</td>\n",
       "      <td>1499_183</td>\n",
       "      <td>2018-11-16</td>\n",
       "      <td>1499</td>\n",
       "      <td>11</td>\n",
       "    </tr>\n",
       "  </tbody>\n",
       "</table>\n",
       "<p>123036 rows × 4 columns</p>\n",
       "</div>"
      ],
      "text/plain": [
       "              id message_date  user_id  month\n",
       "0         1000_0   2018-06-27     1000      6\n",
       "1         1000_1   2018-10-08     1000     10\n",
       "2         1000_2   2018-08-04     1000      8\n",
       "3         1000_3   2018-06-16     1000      6\n",
       "4         1000_4   2018-12-05     1000     12\n",
       "...          ...          ...      ...    ...\n",
       "123031  1499_179   2018-12-12     1499     12\n",
       "123032  1499_180   2018-09-28     1499      9\n",
       "123033  1499_181   2018-09-27     1499      9\n",
       "123034  1499_182   2018-11-15     1499     11\n",
       "123035  1499_183   2018-11-16     1499     11\n",
       "\n",
       "[123036 rows x 4 columns]"
      ]
     },
     "execution_count": 25,
     "metadata": {},
     "output_type": "execute_result"
    }
   ],
   "source": [
    "messages['month'] = messages['message_date'].dt.month\n",
    "messages"
   ]
  },
  {
   "cell_type": "markdown",
   "metadata": {},
   "source": [
    "Создадим новую таблицу с группировкой отправленных абонентами сообщений по месяцам: "
   ]
  },
  {
   "cell_type": "code",
   "execution_count": 26,
   "metadata": {},
   "outputs": [
    {
     "data": {
      "text/html": [
       "<div>\n",
       "<style scoped>\n",
       "    .dataframe tbody tr th:only-of-type {\n",
       "        vertical-align: middle;\n",
       "    }\n",
       "\n",
       "    .dataframe tbody tr th {\n",
       "        vertical-align: top;\n",
       "    }\n",
       "\n",
       "    .dataframe thead th {\n",
       "        text-align: right;\n",
       "    }\n",
       "</style>\n",
       "<table border=\"1\" class=\"dataframe\">\n",
       "  <thead>\n",
       "    <tr style=\"text-align: right;\">\n",
       "      <th></th>\n",
       "      <th></th>\n",
       "      <th>id</th>\n",
       "    </tr>\n",
       "    <tr>\n",
       "      <th>user_id</th>\n",
       "      <th>month</th>\n",
       "      <th></th>\n",
       "    </tr>\n",
       "  </thead>\n",
       "  <tbody>\n",
       "    <tr>\n",
       "      <td rowspan=\"5\" valign=\"top\">1000</td>\n",
       "      <td>5</td>\n",
       "      <td>22</td>\n",
       "    </tr>\n",
       "    <tr>\n",
       "      <td>6</td>\n",
       "      <td>60</td>\n",
       "    </tr>\n",
       "    <tr>\n",
       "      <td>7</td>\n",
       "      <td>75</td>\n",
       "    </tr>\n",
       "    <tr>\n",
       "      <td>8</td>\n",
       "      <td>81</td>\n",
       "    </tr>\n",
       "    <tr>\n",
       "      <td>9</td>\n",
       "      <td>57</td>\n",
       "    </tr>\n",
       "    <tr>\n",
       "      <td>...</td>\n",
       "      <td>...</td>\n",
       "      <td>...</td>\n",
       "    </tr>\n",
       "    <tr>\n",
       "      <td>1498</td>\n",
       "      <td>10</td>\n",
       "      <td>42</td>\n",
       "    </tr>\n",
       "    <tr>\n",
       "      <td rowspan=\"4\" valign=\"top\">1499</td>\n",
       "      <td>9</td>\n",
       "      <td>11</td>\n",
       "    </tr>\n",
       "    <tr>\n",
       "      <td>10</td>\n",
       "      <td>48</td>\n",
       "    </tr>\n",
       "    <tr>\n",
       "      <td>11</td>\n",
       "      <td>59</td>\n",
       "    </tr>\n",
       "    <tr>\n",
       "      <td>12</td>\n",
       "      <td>66</td>\n",
       "    </tr>\n",
       "  </tbody>\n",
       "</table>\n",
       "<p>2717 rows × 1 columns</p>\n",
       "</div>"
      ],
      "text/plain": [
       "               id\n",
       "user_id month    \n",
       "1000    5      22\n",
       "        6      60\n",
       "        7      75\n",
       "        8      81\n",
       "        9      57\n",
       "...            ..\n",
       "1498    10     42\n",
       "1499    9      11\n",
       "        10     48\n",
       "        11     59\n",
       "        12     66\n",
       "\n",
       "[2717 rows x 1 columns]"
      ]
     },
     "execution_count": 26,
     "metadata": {},
     "output_type": "execute_result"
    }
   ],
   "source": [
    "messages_per_month = messages.pivot_table(index=['user_id', 'month'], values = 'id', aggfunc='count')\n",
    "messages_per_month"
   ]
  },
  {
   "cell_type": "markdown",
   "metadata": {},
   "source": [
    "Изменим название столбца `id` в более понятный для дальнейшей работы:"
   ]
  },
  {
   "cell_type": "code",
   "execution_count": 27,
   "metadata": {},
   "outputs": [
    {
     "data": {
      "text/html": [
       "<div>\n",
       "<style scoped>\n",
       "    .dataframe tbody tr th:only-of-type {\n",
       "        vertical-align: middle;\n",
       "    }\n",
       "\n",
       "    .dataframe tbody tr th {\n",
       "        vertical-align: top;\n",
       "    }\n",
       "\n",
       "    .dataframe thead th {\n",
       "        text-align: right;\n",
       "    }\n",
       "</style>\n",
       "<table border=\"1\" class=\"dataframe\">\n",
       "  <thead>\n",
       "    <tr style=\"text-align: right;\">\n",
       "      <th></th>\n",
       "      <th></th>\n",
       "      <th>messages</th>\n",
       "    </tr>\n",
       "    <tr>\n",
       "      <th>user_id</th>\n",
       "      <th>month</th>\n",
       "      <th></th>\n",
       "    </tr>\n",
       "  </thead>\n",
       "  <tbody>\n",
       "    <tr>\n",
       "      <td rowspan=\"5\" valign=\"top\">1000</td>\n",
       "      <td>5</td>\n",
       "      <td>22</td>\n",
       "    </tr>\n",
       "    <tr>\n",
       "      <td>6</td>\n",
       "      <td>60</td>\n",
       "    </tr>\n",
       "    <tr>\n",
       "      <td>7</td>\n",
       "      <td>75</td>\n",
       "    </tr>\n",
       "    <tr>\n",
       "      <td>8</td>\n",
       "      <td>81</td>\n",
       "    </tr>\n",
       "    <tr>\n",
       "      <td>9</td>\n",
       "      <td>57</td>\n",
       "    </tr>\n",
       "    <tr>\n",
       "      <td>...</td>\n",
       "      <td>...</td>\n",
       "      <td>...</td>\n",
       "    </tr>\n",
       "    <tr>\n",
       "      <td>1498</td>\n",
       "      <td>10</td>\n",
       "      <td>42</td>\n",
       "    </tr>\n",
       "    <tr>\n",
       "      <td rowspan=\"4\" valign=\"top\">1499</td>\n",
       "      <td>9</td>\n",
       "      <td>11</td>\n",
       "    </tr>\n",
       "    <tr>\n",
       "      <td>10</td>\n",
       "      <td>48</td>\n",
       "    </tr>\n",
       "    <tr>\n",
       "      <td>11</td>\n",
       "      <td>59</td>\n",
       "    </tr>\n",
       "    <tr>\n",
       "      <td>12</td>\n",
       "      <td>66</td>\n",
       "    </tr>\n",
       "  </tbody>\n",
       "</table>\n",
       "<p>2717 rows × 1 columns</p>\n",
       "</div>"
      ],
      "text/plain": [
       "               messages\n",
       "user_id month          \n",
       "1000    5            22\n",
       "        6            60\n",
       "        7            75\n",
       "        8            81\n",
       "        9            57\n",
       "...                 ...\n",
       "1498    10           42\n",
       "1499    9            11\n",
       "        10           48\n",
       "        11           59\n",
       "        12           66\n",
       "\n",
       "[2717 rows x 1 columns]"
      ]
     },
     "execution_count": 27,
     "metadata": {},
     "output_type": "execute_result"
    }
   ],
   "source": [
    "messages_per_month.columns = ['messages']\n",
    "messages_per_month"
   ]
  },
  {
   "cell_type": "markdown",
   "metadata": {},
   "source": [
    "Переведём заголовки второго уровня в обычные"
   ]
  },
  {
   "cell_type": "code",
   "execution_count": 28,
   "metadata": {},
   "outputs": [
    {
     "data": {
      "text/html": [
       "<div>\n",
       "<style scoped>\n",
       "    .dataframe tbody tr th:only-of-type {\n",
       "        vertical-align: middle;\n",
       "    }\n",
       "\n",
       "    .dataframe tbody tr th {\n",
       "        vertical-align: top;\n",
       "    }\n",
       "\n",
       "    .dataframe thead th {\n",
       "        text-align: right;\n",
       "    }\n",
       "</style>\n",
       "<table border=\"1\" class=\"dataframe\">\n",
       "  <thead>\n",
       "    <tr style=\"text-align: right;\">\n",
       "      <th></th>\n",
       "      <th>user_id</th>\n",
       "      <th>month</th>\n",
       "      <th>messages</th>\n",
       "    </tr>\n",
       "  </thead>\n",
       "  <tbody>\n",
       "    <tr>\n",
       "      <td>0</td>\n",
       "      <td>1000</td>\n",
       "      <td>5</td>\n",
       "      <td>22</td>\n",
       "    </tr>\n",
       "    <tr>\n",
       "      <td>1</td>\n",
       "      <td>1000</td>\n",
       "      <td>6</td>\n",
       "      <td>60</td>\n",
       "    </tr>\n",
       "    <tr>\n",
       "      <td>2</td>\n",
       "      <td>1000</td>\n",
       "      <td>7</td>\n",
       "      <td>75</td>\n",
       "    </tr>\n",
       "    <tr>\n",
       "      <td>3</td>\n",
       "      <td>1000</td>\n",
       "      <td>8</td>\n",
       "      <td>81</td>\n",
       "    </tr>\n",
       "    <tr>\n",
       "      <td>4</td>\n",
       "      <td>1000</td>\n",
       "      <td>9</td>\n",
       "      <td>57</td>\n",
       "    </tr>\n",
       "    <tr>\n",
       "      <td>...</td>\n",
       "      <td>...</td>\n",
       "      <td>...</td>\n",
       "      <td>...</td>\n",
       "    </tr>\n",
       "    <tr>\n",
       "      <td>2712</td>\n",
       "      <td>1498</td>\n",
       "      <td>10</td>\n",
       "      <td>42</td>\n",
       "    </tr>\n",
       "    <tr>\n",
       "      <td>2713</td>\n",
       "      <td>1499</td>\n",
       "      <td>9</td>\n",
       "      <td>11</td>\n",
       "    </tr>\n",
       "    <tr>\n",
       "      <td>2714</td>\n",
       "      <td>1499</td>\n",
       "      <td>10</td>\n",
       "      <td>48</td>\n",
       "    </tr>\n",
       "    <tr>\n",
       "      <td>2715</td>\n",
       "      <td>1499</td>\n",
       "      <td>11</td>\n",
       "      <td>59</td>\n",
       "    </tr>\n",
       "    <tr>\n",
       "      <td>2716</td>\n",
       "      <td>1499</td>\n",
       "      <td>12</td>\n",
       "      <td>66</td>\n",
       "    </tr>\n",
       "  </tbody>\n",
       "</table>\n",
       "<p>2717 rows × 3 columns</p>\n",
       "</div>"
      ],
      "text/plain": [
       "      user_id  month  messages\n",
       "0        1000      5        22\n",
       "1        1000      6        60\n",
       "2        1000      7        75\n",
       "3        1000      8        81\n",
       "4        1000      9        57\n",
       "...       ...    ...       ...\n",
       "2712     1498     10        42\n",
       "2713     1499      9        11\n",
       "2714     1499     10        48\n",
       "2715     1499     11        59\n",
       "2716     1499     12        66\n",
       "\n",
       "[2717 rows x 3 columns]"
      ]
     },
     "execution_count": 28,
     "metadata": {},
     "output_type": "execute_result"
    }
   ],
   "source": [
    "messages_per_month = messages_per_month.reset_index(col_level=True)\n",
    "messages_per_month"
   ]
  },
  {
   "cell_type": "markdown",
   "metadata": {},
   "source": [
    "Таблица готова к работе, переходим к последней таблице - тарифы."
   ]
  },
  {
   "cell_type": "markdown",
   "metadata": {},
   "source": [
    "### Тарифы"
   ]
  },
  {
   "cell_type": "code",
   "execution_count": 29,
   "metadata": {},
   "outputs": [
    {
     "data": {
      "text/html": [
       "<div>\n",
       "<style scoped>\n",
       "    .dataframe tbody tr th:only-of-type {\n",
       "        vertical-align: middle;\n",
       "    }\n",
       "\n",
       "    .dataframe tbody tr th {\n",
       "        vertical-align: top;\n",
       "    }\n",
       "\n",
       "    .dataframe thead th {\n",
       "        text-align: right;\n",
       "    }\n",
       "</style>\n",
       "<table border=\"1\" class=\"dataframe\">\n",
       "  <thead>\n",
       "    <tr style=\"text-align: right;\">\n",
       "      <th></th>\n",
       "      <th>messages_included</th>\n",
       "      <th>mb_per_month_included</th>\n",
       "      <th>minutes_included</th>\n",
       "      <th>rub_monthly_fee</th>\n",
       "      <th>rub_per_gb</th>\n",
       "      <th>rub_per_message</th>\n",
       "      <th>rub_per_minute</th>\n",
       "      <th>tariff_name</th>\n",
       "    </tr>\n",
       "  </thead>\n",
       "  <tbody>\n",
       "    <tr>\n",
       "      <td>0</td>\n",
       "      <td>50</td>\n",
       "      <td>15360</td>\n",
       "      <td>500</td>\n",
       "      <td>550</td>\n",
       "      <td>200</td>\n",
       "      <td>3</td>\n",
       "      <td>3</td>\n",
       "      <td>smart</td>\n",
       "    </tr>\n",
       "    <tr>\n",
       "      <td>1</td>\n",
       "      <td>1000</td>\n",
       "      <td>30720</td>\n",
       "      <td>3000</td>\n",
       "      <td>1950</td>\n",
       "      <td>150</td>\n",
       "      <td>1</td>\n",
       "      <td>1</td>\n",
       "      <td>ultra</td>\n",
       "    </tr>\n",
       "  </tbody>\n",
       "</table>\n",
       "</div>"
      ],
      "text/plain": [
       "   messages_included  mb_per_month_included  minutes_included  \\\n",
       "0                 50                  15360               500   \n",
       "1               1000                  30720              3000   \n",
       "\n",
       "   rub_monthly_fee  rub_per_gb  rub_per_message  rub_per_minute tariff_name  \n",
       "0              550         200                3               3       smart  \n",
       "1             1950         150                1               1       ultra  "
      ]
     },
     "execution_count": 29,
     "metadata": {},
     "output_type": "execute_result"
    }
   ],
   "source": [
    "tariffs"
   ]
  },
  {
   "cell_type": "markdown",
   "metadata": {},
   "source": [
    "Для удобства запишем название тарифа также как и в таблице `users`:"
   ]
  },
  {
   "cell_type": "code",
   "execution_count": 30,
   "metadata": {},
   "outputs": [],
   "source": [
    "tariffs = tariffs.rename(columns = {'tariff_name':'tariff'})"
   ]
  },
  {
   "cell_type": "markdown",
   "metadata": {},
   "source": [
    "Так как тарификация идёт в гигабайтах, в дальнейшем будет удобнее использовать это значение, поэтому сразу переведём МБ в ГБ и запишем это значение в новом столбце:"
   ]
  },
  {
   "cell_type": "code",
   "execution_count": 31,
   "metadata": {},
   "outputs": [
    {
     "data": {
      "text/html": [
       "<div>\n",
       "<style scoped>\n",
       "    .dataframe tbody tr th:only-of-type {\n",
       "        vertical-align: middle;\n",
       "    }\n",
       "\n",
       "    .dataframe tbody tr th {\n",
       "        vertical-align: top;\n",
       "    }\n",
       "\n",
       "    .dataframe thead th {\n",
       "        text-align: right;\n",
       "    }\n",
       "</style>\n",
       "<table border=\"1\" class=\"dataframe\">\n",
       "  <thead>\n",
       "    <tr style=\"text-align: right;\">\n",
       "      <th></th>\n",
       "      <th>messages_included</th>\n",
       "      <th>mb_per_month_included</th>\n",
       "      <th>minutes_included</th>\n",
       "      <th>rub_monthly_fee</th>\n",
       "      <th>rub_per_gb</th>\n",
       "      <th>rub_per_message</th>\n",
       "      <th>rub_per_minute</th>\n",
       "      <th>tariff</th>\n",
       "      <th>gb_per_month_included</th>\n",
       "    </tr>\n",
       "  </thead>\n",
       "  <tbody>\n",
       "    <tr>\n",
       "      <td>0</td>\n",
       "      <td>50</td>\n",
       "      <td>15360</td>\n",
       "      <td>500</td>\n",
       "      <td>550</td>\n",
       "      <td>200</td>\n",
       "      <td>3</td>\n",
       "      <td>3</td>\n",
       "      <td>smart</td>\n",
       "      <td>15.0</td>\n",
       "    </tr>\n",
       "    <tr>\n",
       "      <td>1</td>\n",
       "      <td>1000</td>\n",
       "      <td>30720</td>\n",
       "      <td>3000</td>\n",
       "      <td>1950</td>\n",
       "      <td>150</td>\n",
       "      <td>1</td>\n",
       "      <td>1</td>\n",
       "      <td>ultra</td>\n",
       "      <td>30.0</td>\n",
       "    </tr>\n",
       "  </tbody>\n",
       "</table>\n",
       "</div>"
      ],
      "text/plain": [
       "   messages_included  mb_per_month_included  minutes_included  \\\n",
       "0                 50                  15360               500   \n",
       "1               1000                  30720              3000   \n",
       "\n",
       "   rub_monthly_fee  rub_per_gb  rub_per_message  rub_per_minute tariff  \\\n",
       "0              550         200                3               3  smart   \n",
       "1             1950         150                1               1  ultra   \n",
       "\n",
       "   gb_per_month_included  \n",
       "0                   15.0  \n",
       "1                   30.0  "
      ]
     },
     "execution_count": 31,
     "metadata": {},
     "output_type": "execute_result"
    }
   ],
   "source": [
    "tariffs['gb_per_month_included'] = tariffs['mb_per_month_included']/1024\n",
    "tariffs"
   ]
  },
  {
   "cell_type": "markdown",
   "metadata": {},
   "source": [
    "Таблица готова к работе, можно приступать к объединению данных из разных источников."
   ]
  },
  {
   "cell_type": "markdown",
   "metadata": {},
   "source": [
    "### Объединием таблицы"
   ]
  },
  {
   "cell_type": "markdown",
   "metadata": {},
   "source": [
    "Для дальнейшего анализа нам понадобится объединённая таблица со столбцами: количества сообщений, длительности звонков, количества интернет-трафика по каждому абоненту за месяц, город абонента, а также стоблцы с указанием тарифа, абонетской платы за него и платы за перерасход по звонкам, сообщениям и интернету. А также количество звонков, гб и смс, входящих в пакет тарифа.\n",
    "Для этого создадим новую таблицу и соединим в ней все эти значения в  методом `merge`. В качестве параметра `how`, укажем `outer`, чтобы собрать все значения."
   ]
  },
  {
   "cell_type": "code",
   "execution_count": 32,
   "metadata": {},
   "outputs": [
    {
     "data": {
      "text/html": [
       "<div>\n",
       "<style scoped>\n",
       "    .dataframe tbody tr th:only-of-type {\n",
       "        vertical-align: middle;\n",
       "    }\n",
       "\n",
       "    .dataframe tbody tr th {\n",
       "        vertical-align: top;\n",
       "    }\n",
       "\n",
       "    .dataframe thead th {\n",
       "        text-align: right;\n",
       "    }\n",
       "</style>\n",
       "<table border=\"1\" class=\"dataframe\">\n",
       "  <thead>\n",
       "    <tr style=\"text-align: right;\">\n",
       "      <th></th>\n",
       "      <th>user_id</th>\n",
       "      <th>month</th>\n",
       "      <th>calls_total</th>\n",
       "      <th>duration_total</th>\n",
       "      <th>gb_total</th>\n",
       "    </tr>\n",
       "  </thead>\n",
       "  <tbody>\n",
       "    <tr>\n",
       "      <td>0</td>\n",
       "      <td>1000</td>\n",
       "      <td>5</td>\n",
       "      <td>22.0</td>\n",
       "      <td>159.0</td>\n",
       "      <td>3.0</td>\n",
       "    </tr>\n",
       "    <tr>\n",
       "      <td>1</td>\n",
       "      <td>1000</td>\n",
       "      <td>6</td>\n",
       "      <td>43.0</td>\n",
       "      <td>172.0</td>\n",
       "      <td>23.0</td>\n",
       "    </tr>\n",
       "    <tr>\n",
       "      <td>2</td>\n",
       "      <td>1000</td>\n",
       "      <td>7</td>\n",
       "      <td>47.0</td>\n",
       "      <td>340.0</td>\n",
       "      <td>14.0</td>\n",
       "    </tr>\n",
       "    <tr>\n",
       "      <td>3</td>\n",
       "      <td>1000</td>\n",
       "      <td>8</td>\n",
       "      <td>52.0</td>\n",
       "      <td>408.0</td>\n",
       "      <td>14.0</td>\n",
       "    </tr>\n",
       "    <tr>\n",
       "      <td>4</td>\n",
       "      <td>1000</td>\n",
       "      <td>9</td>\n",
       "      <td>58.0</td>\n",
       "      <td>466.0</td>\n",
       "      <td>15.0</td>\n",
       "    </tr>\n",
       "    <tr>\n",
       "      <td>...</td>\n",
       "      <td>...</td>\n",
       "      <td>...</td>\n",
       "      <td>...</td>\n",
       "      <td>...</td>\n",
       "      <td>...</td>\n",
       "    </tr>\n",
       "    <tr>\n",
       "      <td>3209</td>\n",
       "      <td>1489</td>\n",
       "      <td>8</td>\n",
       "      <td>NaN</td>\n",
       "      <td>NaN</td>\n",
       "      <td>11.0</td>\n",
       "    </tr>\n",
       "    <tr>\n",
       "      <td>3210</td>\n",
       "      <td>1489</td>\n",
       "      <td>9</td>\n",
       "      <td>NaN</td>\n",
       "      <td>NaN</td>\n",
       "      <td>17.0</td>\n",
       "    </tr>\n",
       "    <tr>\n",
       "      <td>3211</td>\n",
       "      <td>1489</td>\n",
       "      <td>10</td>\n",
       "      <td>NaN</td>\n",
       "      <td>NaN</td>\n",
       "      <td>20.0</td>\n",
       "    </tr>\n",
       "    <tr>\n",
       "      <td>3212</td>\n",
       "      <td>1489</td>\n",
       "      <td>11</td>\n",
       "      <td>NaN</td>\n",
       "      <td>NaN</td>\n",
       "      <td>18.0</td>\n",
       "    </tr>\n",
       "    <tr>\n",
       "      <td>3213</td>\n",
       "      <td>1489</td>\n",
       "      <td>12</td>\n",
       "      <td>NaN</td>\n",
       "      <td>NaN</td>\n",
       "      <td>17.0</td>\n",
       "    </tr>\n",
       "  </tbody>\n",
       "</table>\n",
       "<p>3214 rows × 5 columns</p>\n",
       "</div>"
      ],
      "text/plain": [
       "      user_id  month  calls_total  duration_total  gb_total\n",
       "0        1000      5         22.0           159.0       3.0\n",
       "1        1000      6         43.0           172.0      23.0\n",
       "2        1000      7         47.0           340.0      14.0\n",
       "3        1000      8         52.0           408.0      14.0\n",
       "4        1000      9         58.0           466.0      15.0\n",
       "...       ...    ...          ...             ...       ...\n",
       "3209     1489      8          NaN             NaN      11.0\n",
       "3210     1489      9          NaN             NaN      17.0\n",
       "3211     1489     10          NaN             NaN      20.0\n",
       "3212     1489     11          NaN             NaN      18.0\n",
       "3213     1489     12          NaN             NaN      17.0\n",
       "\n",
       "[3214 rows x 5 columns]"
      ]
     },
     "execution_count": 32,
     "metadata": {},
     "output_type": "execute_result"
    }
   ],
   "source": [
    "#Соединяем звонки и интернет-трафик с разбивкой по месяцам:\n",
    "df = calls_per_month.reset_index().merge(internet_per_month[['user_id', 'gb_total','month']], on=['user_id', 'month'], how='outer')\n",
    "df"
   ]
  },
  {
   "cell_type": "code",
   "execution_count": 33,
   "metadata": {},
   "outputs": [
    {
     "data": {
      "text/html": [
       "<div>\n",
       "<style scoped>\n",
       "    .dataframe tbody tr th:only-of-type {\n",
       "        vertical-align: middle;\n",
       "    }\n",
       "\n",
       "    .dataframe tbody tr th {\n",
       "        vertical-align: top;\n",
       "    }\n",
       "\n",
       "    .dataframe thead th {\n",
       "        text-align: right;\n",
       "    }\n",
       "</style>\n",
       "<table border=\"1\" class=\"dataframe\">\n",
       "  <thead>\n",
       "    <tr style=\"text-align: right;\">\n",
       "      <th></th>\n",
       "      <th>user_id</th>\n",
       "      <th>month</th>\n",
       "      <th>calls_total</th>\n",
       "      <th>duration_total</th>\n",
       "      <th>gb_total</th>\n",
       "      <th>city</th>\n",
       "      <th>tariff</th>\n",
       "    </tr>\n",
       "  </thead>\n",
       "  <tbody>\n",
       "    <tr>\n",
       "      <td>0</td>\n",
       "      <td>1000</td>\n",
       "      <td>5.0</td>\n",
       "      <td>22.0</td>\n",
       "      <td>159.0</td>\n",
       "      <td>3.0</td>\n",
       "      <td>Краснодар</td>\n",
       "      <td>ultra</td>\n",
       "    </tr>\n",
       "    <tr>\n",
       "      <td>1</td>\n",
       "      <td>1000</td>\n",
       "      <td>6.0</td>\n",
       "      <td>43.0</td>\n",
       "      <td>172.0</td>\n",
       "      <td>23.0</td>\n",
       "      <td>Краснодар</td>\n",
       "      <td>ultra</td>\n",
       "    </tr>\n",
       "    <tr>\n",
       "      <td>2</td>\n",
       "      <td>1000</td>\n",
       "      <td>7.0</td>\n",
       "      <td>47.0</td>\n",
       "      <td>340.0</td>\n",
       "      <td>14.0</td>\n",
       "      <td>Краснодар</td>\n",
       "      <td>ultra</td>\n",
       "    </tr>\n",
       "    <tr>\n",
       "      <td>3</td>\n",
       "      <td>1000</td>\n",
       "      <td>8.0</td>\n",
       "      <td>52.0</td>\n",
       "      <td>408.0</td>\n",
       "      <td>14.0</td>\n",
       "      <td>Краснодар</td>\n",
       "      <td>ultra</td>\n",
       "    </tr>\n",
       "    <tr>\n",
       "      <td>4</td>\n",
       "      <td>1000</td>\n",
       "      <td>9.0</td>\n",
       "      <td>58.0</td>\n",
       "      <td>466.0</td>\n",
       "      <td>15.0</td>\n",
       "      <td>Краснодар</td>\n",
       "      <td>ultra</td>\n",
       "    </tr>\n",
       "    <tr>\n",
       "      <td>...</td>\n",
       "      <td>...</td>\n",
       "      <td>...</td>\n",
       "      <td>...</td>\n",
       "      <td>...</td>\n",
       "      <td>...</td>\n",
       "      <td>...</td>\n",
       "      <td>...</td>\n",
       "    </tr>\n",
       "    <tr>\n",
       "      <td>3211</td>\n",
       "      <td>1489</td>\n",
       "      <td>10.0</td>\n",
       "      <td>NaN</td>\n",
       "      <td>NaN</td>\n",
       "      <td>20.0</td>\n",
       "      <td>Санкт-Петербург</td>\n",
       "      <td>smart</td>\n",
       "    </tr>\n",
       "    <tr>\n",
       "      <td>3212</td>\n",
       "      <td>1489</td>\n",
       "      <td>11.0</td>\n",
       "      <td>NaN</td>\n",
       "      <td>NaN</td>\n",
       "      <td>18.0</td>\n",
       "      <td>Санкт-Петербург</td>\n",
       "      <td>smart</td>\n",
       "    </tr>\n",
       "    <tr>\n",
       "      <td>3213</td>\n",
       "      <td>1489</td>\n",
       "      <td>12.0</td>\n",
       "      <td>NaN</td>\n",
       "      <td>NaN</td>\n",
       "      <td>17.0</td>\n",
       "      <td>Санкт-Петербург</td>\n",
       "      <td>smart</td>\n",
       "    </tr>\n",
       "    <tr>\n",
       "      <td>3214</td>\n",
       "      <td>1128</td>\n",
       "      <td>NaN</td>\n",
       "      <td>NaN</td>\n",
       "      <td>NaN</td>\n",
       "      <td>NaN</td>\n",
       "      <td>Волжский</td>\n",
       "      <td>ultra</td>\n",
       "    </tr>\n",
       "    <tr>\n",
       "      <td>3215</td>\n",
       "      <td>1371</td>\n",
       "      <td>NaN</td>\n",
       "      <td>NaN</td>\n",
       "      <td>NaN</td>\n",
       "      <td>NaN</td>\n",
       "      <td>Омск</td>\n",
       "      <td>smart</td>\n",
       "    </tr>\n",
       "  </tbody>\n",
       "</table>\n",
       "<p>3216 rows × 7 columns</p>\n",
       "</div>"
      ],
      "text/plain": [
       "      user_id  month  calls_total  duration_total  gb_total             city  \\\n",
       "0        1000    5.0         22.0           159.0       3.0        Краснодар   \n",
       "1        1000    6.0         43.0           172.0      23.0        Краснодар   \n",
       "2        1000    7.0         47.0           340.0      14.0        Краснодар   \n",
       "3        1000    8.0         52.0           408.0      14.0        Краснодар   \n",
       "4        1000    9.0         58.0           466.0      15.0        Краснодар   \n",
       "...       ...    ...          ...             ...       ...              ...   \n",
       "3211     1489   10.0          NaN             NaN      20.0  Санкт-Петербург   \n",
       "3212     1489   11.0          NaN             NaN      18.0  Санкт-Петербург   \n",
       "3213     1489   12.0          NaN             NaN      17.0  Санкт-Петербург   \n",
       "3214     1128    NaN          NaN             NaN       NaN         Волжский   \n",
       "3215     1371    NaN          NaN             NaN       NaN             Омск   \n",
       "\n",
       "     tariff  \n",
       "0     ultra  \n",
       "1     ultra  \n",
       "2     ultra  \n",
       "3     ultra  \n",
       "4     ultra  \n",
       "...     ...  \n",
       "3211  smart  \n",
       "3212  smart  \n",
       "3213  smart  \n",
       "3214  ultra  \n",
       "3215  smart  \n",
       "\n",
       "[3216 rows x 7 columns]"
      ]
     },
     "execution_count": 33,
     "metadata": {},
     "output_type": "execute_result"
    }
   ],
   "source": [
    "#Подтягиваем данные из таблицы с пользователями:\n",
    "df = df.merge(users[['city', 'user_id', 'tariff']], on='user_id', how='outer')\n",
    "df"
   ]
  },
  {
   "cell_type": "code",
   "execution_count": 34,
   "metadata": {},
   "outputs": [
    {
     "data": {
      "text/html": [
       "<div>\n",
       "<style scoped>\n",
       "    .dataframe tbody tr th:only-of-type {\n",
       "        vertical-align: middle;\n",
       "    }\n",
       "\n",
       "    .dataframe tbody tr th {\n",
       "        vertical-align: top;\n",
       "    }\n",
       "\n",
       "    .dataframe thead th {\n",
       "        text-align: right;\n",
       "    }\n",
       "</style>\n",
       "<table border=\"1\" class=\"dataframe\">\n",
       "  <thead>\n",
       "    <tr style=\"text-align: right;\">\n",
       "      <th></th>\n",
       "      <th>user_id</th>\n",
       "      <th>month</th>\n",
       "      <th>calls_total</th>\n",
       "      <th>duration_total</th>\n",
       "      <th>gb_total</th>\n",
       "      <th>city</th>\n",
       "      <th>tariff</th>\n",
       "      <th>messages</th>\n",
       "    </tr>\n",
       "  </thead>\n",
       "  <tbody>\n",
       "    <tr>\n",
       "      <td>0</td>\n",
       "      <td>1000</td>\n",
       "      <td>5.0</td>\n",
       "      <td>22.0</td>\n",
       "      <td>159.0</td>\n",
       "      <td>3.0</td>\n",
       "      <td>Краснодар</td>\n",
       "      <td>ultra</td>\n",
       "      <td>22.0</td>\n",
       "    </tr>\n",
       "    <tr>\n",
       "      <td>1</td>\n",
       "      <td>1000</td>\n",
       "      <td>6.0</td>\n",
       "      <td>43.0</td>\n",
       "      <td>172.0</td>\n",
       "      <td>23.0</td>\n",
       "      <td>Краснодар</td>\n",
       "      <td>ultra</td>\n",
       "      <td>60.0</td>\n",
       "    </tr>\n",
       "    <tr>\n",
       "      <td>2</td>\n",
       "      <td>1000</td>\n",
       "      <td>7.0</td>\n",
       "      <td>47.0</td>\n",
       "      <td>340.0</td>\n",
       "      <td>14.0</td>\n",
       "      <td>Краснодар</td>\n",
       "      <td>ultra</td>\n",
       "      <td>75.0</td>\n",
       "    </tr>\n",
       "    <tr>\n",
       "      <td>3</td>\n",
       "      <td>1000</td>\n",
       "      <td>8.0</td>\n",
       "      <td>52.0</td>\n",
       "      <td>408.0</td>\n",
       "      <td>14.0</td>\n",
       "      <td>Краснодар</td>\n",
       "      <td>ultra</td>\n",
       "      <td>81.0</td>\n",
       "    </tr>\n",
       "    <tr>\n",
       "      <td>4</td>\n",
       "      <td>1000</td>\n",
       "      <td>9.0</td>\n",
       "      <td>58.0</td>\n",
       "      <td>466.0</td>\n",
       "      <td>15.0</td>\n",
       "      <td>Краснодар</td>\n",
       "      <td>ultra</td>\n",
       "      <td>57.0</td>\n",
       "    </tr>\n",
       "    <tr>\n",
       "      <td>...</td>\n",
       "      <td>...</td>\n",
       "      <td>...</td>\n",
       "      <td>...</td>\n",
       "      <td>...</td>\n",
       "      <td>...</td>\n",
       "      <td>...</td>\n",
       "      <td>...</td>\n",
       "      <td>...</td>\n",
       "    </tr>\n",
       "    <tr>\n",
       "      <td>3211</td>\n",
       "      <td>1489</td>\n",
       "      <td>10.0</td>\n",
       "      <td>NaN</td>\n",
       "      <td>NaN</td>\n",
       "      <td>20.0</td>\n",
       "      <td>Санкт-Петербург</td>\n",
       "      <td>smart</td>\n",
       "      <td>21.0</td>\n",
       "    </tr>\n",
       "    <tr>\n",
       "      <td>3212</td>\n",
       "      <td>1489</td>\n",
       "      <td>11.0</td>\n",
       "      <td>NaN</td>\n",
       "      <td>NaN</td>\n",
       "      <td>18.0</td>\n",
       "      <td>Санкт-Петербург</td>\n",
       "      <td>smart</td>\n",
       "      <td>20.0</td>\n",
       "    </tr>\n",
       "    <tr>\n",
       "      <td>3213</td>\n",
       "      <td>1489</td>\n",
       "      <td>12.0</td>\n",
       "      <td>NaN</td>\n",
       "      <td>NaN</td>\n",
       "      <td>17.0</td>\n",
       "      <td>Санкт-Петербург</td>\n",
       "      <td>smart</td>\n",
       "      <td>35.0</td>\n",
       "    </tr>\n",
       "    <tr>\n",
       "      <td>3214</td>\n",
       "      <td>1128</td>\n",
       "      <td>NaN</td>\n",
       "      <td>NaN</td>\n",
       "      <td>NaN</td>\n",
       "      <td>NaN</td>\n",
       "      <td>Волжский</td>\n",
       "      <td>ultra</td>\n",
       "      <td>NaN</td>\n",
       "    </tr>\n",
       "    <tr>\n",
       "      <td>3215</td>\n",
       "      <td>1371</td>\n",
       "      <td>NaN</td>\n",
       "      <td>NaN</td>\n",
       "      <td>NaN</td>\n",
       "      <td>NaN</td>\n",
       "      <td>Омск</td>\n",
       "      <td>smart</td>\n",
       "      <td>NaN</td>\n",
       "    </tr>\n",
       "  </tbody>\n",
       "</table>\n",
       "<p>3216 rows × 8 columns</p>\n",
       "</div>"
      ],
      "text/plain": [
       "      user_id  month  calls_total  duration_total  gb_total             city  \\\n",
       "0        1000    5.0         22.0           159.0       3.0        Краснодар   \n",
       "1        1000    6.0         43.0           172.0      23.0        Краснодар   \n",
       "2        1000    7.0         47.0           340.0      14.0        Краснодар   \n",
       "3        1000    8.0         52.0           408.0      14.0        Краснодар   \n",
       "4        1000    9.0         58.0           466.0      15.0        Краснодар   \n",
       "...       ...    ...          ...             ...       ...              ...   \n",
       "3211     1489   10.0          NaN             NaN      20.0  Санкт-Петербург   \n",
       "3212     1489   11.0          NaN             NaN      18.0  Санкт-Петербург   \n",
       "3213     1489   12.0          NaN             NaN      17.0  Санкт-Петербург   \n",
       "3214     1128    NaN          NaN             NaN       NaN         Волжский   \n",
       "3215     1371    NaN          NaN             NaN       NaN             Омск   \n",
       "\n",
       "     tariff  messages  \n",
       "0     ultra      22.0  \n",
       "1     ultra      60.0  \n",
       "2     ultra      75.0  \n",
       "3     ultra      81.0  \n",
       "4     ultra      57.0  \n",
       "...     ...       ...  \n",
       "3211  smart      21.0  \n",
       "3212  smart      20.0  \n",
       "3213  smart      35.0  \n",
       "3214  ultra       NaN  \n",
       "3215  smart       NaN  \n",
       "\n",
       "[3216 rows x 8 columns]"
      ]
     },
     "execution_count": 34,
     "metadata": {},
     "output_type": "execute_result"
    }
   ],
   "source": [
    "#Подтягиваем сообщения за месяц:\n",
    "df = df.merge(messages_per_month[['user_id', 'messages', 'month']], on=['user_id', 'month'], how='outer')\n",
    "df"
   ]
  },
  {
   "cell_type": "code",
   "execution_count": 35,
   "metadata": {},
   "outputs": [
    {
     "data": {
      "text/html": [
       "<div>\n",
       "<style scoped>\n",
       "    .dataframe tbody tr th:only-of-type {\n",
       "        vertical-align: middle;\n",
       "    }\n",
       "\n",
       "    .dataframe tbody tr th {\n",
       "        vertical-align: top;\n",
       "    }\n",
       "\n",
       "    .dataframe thead th {\n",
       "        text-align: right;\n",
       "    }\n",
       "</style>\n",
       "<table border=\"1\" class=\"dataframe\">\n",
       "  <thead>\n",
       "    <tr style=\"text-align: right;\">\n",
       "      <th></th>\n",
       "      <th>user_id</th>\n",
       "      <th>month</th>\n",
       "      <th>calls_total</th>\n",
       "      <th>duration_total</th>\n",
       "      <th>gb_total</th>\n",
       "      <th>city</th>\n",
       "      <th>tariff</th>\n",
       "      <th>messages</th>\n",
       "      <th>rub_per_minute</th>\n",
       "      <th>rub_per_message</th>\n",
       "      <th>rub_per_gb</th>\n",
       "      <th>rub_monthly_fee</th>\n",
       "      <th>minutes_included</th>\n",
       "      <th>gb_per_month_included</th>\n",
       "      <th>messages_included</th>\n",
       "    </tr>\n",
       "  </thead>\n",
       "  <tbody>\n",
       "    <tr>\n",
       "      <td>0</td>\n",
       "      <td>1000</td>\n",
       "      <td>5.0</td>\n",
       "      <td>22.0</td>\n",
       "      <td>159.0</td>\n",
       "      <td>3.0</td>\n",
       "      <td>Краснодар</td>\n",
       "      <td>ultra</td>\n",
       "      <td>22.0</td>\n",
       "      <td>1</td>\n",
       "      <td>1</td>\n",
       "      <td>150</td>\n",
       "      <td>1950</td>\n",
       "      <td>3000</td>\n",
       "      <td>30.0</td>\n",
       "      <td>1000</td>\n",
       "    </tr>\n",
       "    <tr>\n",
       "      <td>1</td>\n",
       "      <td>1000</td>\n",
       "      <td>6.0</td>\n",
       "      <td>43.0</td>\n",
       "      <td>172.0</td>\n",
       "      <td>23.0</td>\n",
       "      <td>Краснодар</td>\n",
       "      <td>ultra</td>\n",
       "      <td>60.0</td>\n",
       "      <td>1</td>\n",
       "      <td>1</td>\n",
       "      <td>150</td>\n",
       "      <td>1950</td>\n",
       "      <td>3000</td>\n",
       "      <td>30.0</td>\n",
       "      <td>1000</td>\n",
       "    </tr>\n",
       "    <tr>\n",
       "      <td>2</td>\n",
       "      <td>1000</td>\n",
       "      <td>7.0</td>\n",
       "      <td>47.0</td>\n",
       "      <td>340.0</td>\n",
       "      <td>14.0</td>\n",
       "      <td>Краснодар</td>\n",
       "      <td>ultra</td>\n",
       "      <td>75.0</td>\n",
       "      <td>1</td>\n",
       "      <td>1</td>\n",
       "      <td>150</td>\n",
       "      <td>1950</td>\n",
       "      <td>3000</td>\n",
       "      <td>30.0</td>\n",
       "      <td>1000</td>\n",
       "    </tr>\n",
       "    <tr>\n",
       "      <td>3</td>\n",
       "      <td>1000</td>\n",
       "      <td>8.0</td>\n",
       "      <td>52.0</td>\n",
       "      <td>408.0</td>\n",
       "      <td>14.0</td>\n",
       "      <td>Краснодар</td>\n",
       "      <td>ultra</td>\n",
       "      <td>81.0</td>\n",
       "      <td>1</td>\n",
       "      <td>1</td>\n",
       "      <td>150</td>\n",
       "      <td>1950</td>\n",
       "      <td>3000</td>\n",
       "      <td>30.0</td>\n",
       "      <td>1000</td>\n",
       "    </tr>\n",
       "    <tr>\n",
       "      <td>4</td>\n",
       "      <td>1000</td>\n",
       "      <td>9.0</td>\n",
       "      <td>58.0</td>\n",
       "      <td>466.0</td>\n",
       "      <td>15.0</td>\n",
       "      <td>Краснодар</td>\n",
       "      <td>ultra</td>\n",
       "      <td>57.0</td>\n",
       "      <td>1</td>\n",
       "      <td>1</td>\n",
       "      <td>150</td>\n",
       "      <td>1950</td>\n",
       "      <td>3000</td>\n",
       "      <td>30.0</td>\n",
       "      <td>1000</td>\n",
       "    </tr>\n",
       "    <tr>\n",
       "      <td>...</td>\n",
       "      <td>...</td>\n",
       "      <td>...</td>\n",
       "      <td>...</td>\n",
       "      <td>...</td>\n",
       "      <td>...</td>\n",
       "      <td>...</td>\n",
       "      <td>...</td>\n",
       "      <td>...</td>\n",
       "      <td>...</td>\n",
       "      <td>...</td>\n",
       "      <td>...</td>\n",
       "      <td>...</td>\n",
       "      <td>...</td>\n",
       "      <td>...</td>\n",
       "      <td>...</td>\n",
       "    </tr>\n",
       "    <tr>\n",
       "      <td>3211</td>\n",
       "      <td>1489</td>\n",
       "      <td>9.0</td>\n",
       "      <td>NaN</td>\n",
       "      <td>NaN</td>\n",
       "      <td>17.0</td>\n",
       "      <td>Санкт-Петербург</td>\n",
       "      <td>smart</td>\n",
       "      <td>32.0</td>\n",
       "      <td>3</td>\n",
       "      <td>3</td>\n",
       "      <td>200</td>\n",
       "      <td>550</td>\n",
       "      <td>500</td>\n",
       "      <td>15.0</td>\n",
       "      <td>50</td>\n",
       "    </tr>\n",
       "    <tr>\n",
       "      <td>3212</td>\n",
       "      <td>1489</td>\n",
       "      <td>10.0</td>\n",
       "      <td>NaN</td>\n",
       "      <td>NaN</td>\n",
       "      <td>20.0</td>\n",
       "      <td>Санкт-Петербург</td>\n",
       "      <td>smart</td>\n",
       "      <td>21.0</td>\n",
       "      <td>3</td>\n",
       "      <td>3</td>\n",
       "      <td>200</td>\n",
       "      <td>550</td>\n",
       "      <td>500</td>\n",
       "      <td>15.0</td>\n",
       "      <td>50</td>\n",
       "    </tr>\n",
       "    <tr>\n",
       "      <td>3213</td>\n",
       "      <td>1489</td>\n",
       "      <td>11.0</td>\n",
       "      <td>NaN</td>\n",
       "      <td>NaN</td>\n",
       "      <td>18.0</td>\n",
       "      <td>Санкт-Петербург</td>\n",
       "      <td>smart</td>\n",
       "      <td>20.0</td>\n",
       "      <td>3</td>\n",
       "      <td>3</td>\n",
       "      <td>200</td>\n",
       "      <td>550</td>\n",
       "      <td>500</td>\n",
       "      <td>15.0</td>\n",
       "      <td>50</td>\n",
       "    </tr>\n",
       "    <tr>\n",
       "      <td>3214</td>\n",
       "      <td>1489</td>\n",
       "      <td>12.0</td>\n",
       "      <td>NaN</td>\n",
       "      <td>NaN</td>\n",
       "      <td>17.0</td>\n",
       "      <td>Санкт-Петербург</td>\n",
       "      <td>smart</td>\n",
       "      <td>35.0</td>\n",
       "      <td>3</td>\n",
       "      <td>3</td>\n",
       "      <td>200</td>\n",
       "      <td>550</td>\n",
       "      <td>500</td>\n",
       "      <td>15.0</td>\n",
       "      <td>50</td>\n",
       "    </tr>\n",
       "    <tr>\n",
       "      <td>3215</td>\n",
       "      <td>1371</td>\n",
       "      <td>NaN</td>\n",
       "      <td>NaN</td>\n",
       "      <td>NaN</td>\n",
       "      <td>NaN</td>\n",
       "      <td>Омск</td>\n",
       "      <td>smart</td>\n",
       "      <td>NaN</td>\n",
       "      <td>3</td>\n",
       "      <td>3</td>\n",
       "      <td>200</td>\n",
       "      <td>550</td>\n",
       "      <td>500</td>\n",
       "      <td>15.0</td>\n",
       "      <td>50</td>\n",
       "    </tr>\n",
       "  </tbody>\n",
       "</table>\n",
       "<p>3216 rows × 15 columns</p>\n",
       "</div>"
      ],
      "text/plain": [
       "      user_id  month  calls_total  duration_total  gb_total             city  \\\n",
       "0        1000    5.0         22.0           159.0       3.0        Краснодар   \n",
       "1        1000    6.0         43.0           172.0      23.0        Краснодар   \n",
       "2        1000    7.0         47.0           340.0      14.0        Краснодар   \n",
       "3        1000    8.0         52.0           408.0      14.0        Краснодар   \n",
       "4        1000    9.0         58.0           466.0      15.0        Краснодар   \n",
       "...       ...    ...          ...             ...       ...              ...   \n",
       "3211     1489    9.0          NaN             NaN      17.0  Санкт-Петербург   \n",
       "3212     1489   10.0          NaN             NaN      20.0  Санкт-Петербург   \n",
       "3213     1489   11.0          NaN             NaN      18.0  Санкт-Петербург   \n",
       "3214     1489   12.0          NaN             NaN      17.0  Санкт-Петербург   \n",
       "3215     1371    NaN          NaN             NaN       NaN             Омск   \n",
       "\n",
       "     tariff  messages  rub_per_minute  rub_per_message  rub_per_gb  \\\n",
       "0     ultra      22.0               1                1         150   \n",
       "1     ultra      60.0               1                1         150   \n",
       "2     ultra      75.0               1                1         150   \n",
       "3     ultra      81.0               1                1         150   \n",
       "4     ultra      57.0               1                1         150   \n",
       "...     ...       ...             ...              ...         ...   \n",
       "3211  smart      32.0               3                3         200   \n",
       "3212  smart      21.0               3                3         200   \n",
       "3213  smart      20.0               3                3         200   \n",
       "3214  smart      35.0               3                3         200   \n",
       "3215  smart       NaN               3                3         200   \n",
       "\n",
       "      rub_monthly_fee  minutes_included  gb_per_month_included  \\\n",
       "0                1950              3000                   30.0   \n",
       "1                1950              3000                   30.0   \n",
       "2                1950              3000                   30.0   \n",
       "3                1950              3000                   30.0   \n",
       "4                1950              3000                   30.0   \n",
       "...               ...               ...                    ...   \n",
       "3211              550               500                   15.0   \n",
       "3212              550               500                   15.0   \n",
       "3213              550               500                   15.0   \n",
       "3214              550               500                   15.0   \n",
       "3215              550               500                   15.0   \n",
       "\n",
       "      messages_included  \n",
       "0                  1000  \n",
       "1                  1000  \n",
       "2                  1000  \n",
       "3                  1000  \n",
       "4                  1000  \n",
       "...                 ...  \n",
       "3211                 50  \n",
       "3212                 50  \n",
       "3213                 50  \n",
       "3214                 50  \n",
       "3215                 50  \n",
       "\n",
       "[3216 rows x 15 columns]"
      ]
     },
     "execution_count": 35,
     "metadata": {},
     "output_type": "execute_result"
    }
   ],
   "source": [
    "#Повторяем процедуру с информацией о тарифных планах:\n",
    "\n",
    "\n"
   ]
  },
  {
   "cell_type": "markdown",
   "metadata": {},
   "source": [
    "Таблица собрана. Теперь посчитаем помесячную выручку с каждого пользователя. <br/>  Для этого напишем функцию и применим, которая считает плату за перерасходы (если они есть), суммирует их с абонентской платой за месяц и запишем это в новый столбец с выручкой:"
   ]
  },
  {
   "cell_type": "code",
   "execution_count": 36,
   "metadata": {},
   "outputs": [
    {
     "data": {
      "text/html": [
       "<div>\n",
       "<style scoped>\n",
       "    .dataframe tbody tr th:only-of-type {\n",
       "        vertical-align: middle;\n",
       "    }\n",
       "\n",
       "    .dataframe tbody tr th {\n",
       "        vertical-align: top;\n",
       "    }\n",
       "\n",
       "    .dataframe thead th {\n",
       "        text-align: right;\n",
       "    }\n",
       "</style>\n",
       "<table border=\"1\" class=\"dataframe\">\n",
       "  <thead>\n",
       "    <tr style=\"text-align: right;\">\n",
       "      <th></th>\n",
       "      <th>user_id</th>\n",
       "      <th>month</th>\n",
       "      <th>calls_total</th>\n",
       "      <th>duration_total</th>\n",
       "      <th>gb_total</th>\n",
       "      <th>city</th>\n",
       "      <th>tariff</th>\n",
       "      <th>messages</th>\n",
       "      <th>rub_per_minute</th>\n",
       "      <th>rub_per_message</th>\n",
       "      <th>rub_per_gb</th>\n",
       "      <th>rub_monthly_fee</th>\n",
       "      <th>minutes_included</th>\n",
       "      <th>gb_per_month_included</th>\n",
       "      <th>messages_included</th>\n",
       "      <th>revenue</th>\n",
       "    </tr>\n",
       "  </thead>\n",
       "  <tbody>\n",
       "    <tr>\n",
       "      <td>0</td>\n",
       "      <td>1000</td>\n",
       "      <td>5.0</td>\n",
       "      <td>22.0</td>\n",
       "      <td>159.0</td>\n",
       "      <td>3.0</td>\n",
       "      <td>Краснодар</td>\n",
       "      <td>ultra</td>\n",
       "      <td>22.0</td>\n",
       "      <td>1</td>\n",
       "      <td>1</td>\n",
       "      <td>150</td>\n",
       "      <td>1950</td>\n",
       "      <td>3000</td>\n",
       "      <td>30.0</td>\n",
       "      <td>1000</td>\n",
       "      <td>1950.0</td>\n",
       "    </tr>\n",
       "    <tr>\n",
       "      <td>1</td>\n",
       "      <td>1000</td>\n",
       "      <td>6.0</td>\n",
       "      <td>43.0</td>\n",
       "      <td>172.0</td>\n",
       "      <td>23.0</td>\n",
       "      <td>Краснодар</td>\n",
       "      <td>ultra</td>\n",
       "      <td>60.0</td>\n",
       "      <td>1</td>\n",
       "      <td>1</td>\n",
       "      <td>150</td>\n",
       "      <td>1950</td>\n",
       "      <td>3000</td>\n",
       "      <td>30.0</td>\n",
       "      <td>1000</td>\n",
       "      <td>1950.0</td>\n",
       "    </tr>\n",
       "    <tr>\n",
       "      <td>2</td>\n",
       "      <td>1000</td>\n",
       "      <td>7.0</td>\n",
       "      <td>47.0</td>\n",
       "      <td>340.0</td>\n",
       "      <td>14.0</td>\n",
       "      <td>Краснодар</td>\n",
       "      <td>ultra</td>\n",
       "      <td>75.0</td>\n",
       "      <td>1</td>\n",
       "      <td>1</td>\n",
       "      <td>150</td>\n",
       "      <td>1950</td>\n",
       "      <td>3000</td>\n",
       "      <td>30.0</td>\n",
       "      <td>1000</td>\n",
       "      <td>1950.0</td>\n",
       "    </tr>\n",
       "    <tr>\n",
       "      <td>3</td>\n",
       "      <td>1000</td>\n",
       "      <td>8.0</td>\n",
       "      <td>52.0</td>\n",
       "      <td>408.0</td>\n",
       "      <td>14.0</td>\n",
       "      <td>Краснодар</td>\n",
       "      <td>ultra</td>\n",
       "      <td>81.0</td>\n",
       "      <td>1</td>\n",
       "      <td>1</td>\n",
       "      <td>150</td>\n",
       "      <td>1950</td>\n",
       "      <td>3000</td>\n",
       "      <td>30.0</td>\n",
       "      <td>1000</td>\n",
       "      <td>1950.0</td>\n",
       "    </tr>\n",
       "    <tr>\n",
       "      <td>4</td>\n",
       "      <td>1000</td>\n",
       "      <td>9.0</td>\n",
       "      <td>58.0</td>\n",
       "      <td>466.0</td>\n",
       "      <td>15.0</td>\n",
       "      <td>Краснодар</td>\n",
       "      <td>ultra</td>\n",
       "      <td>57.0</td>\n",
       "      <td>1</td>\n",
       "      <td>1</td>\n",
       "      <td>150</td>\n",
       "      <td>1950</td>\n",
       "      <td>3000</td>\n",
       "      <td>30.0</td>\n",
       "      <td>1000</td>\n",
       "      <td>1950.0</td>\n",
       "    </tr>\n",
       "    <tr>\n",
       "      <td>...</td>\n",
       "      <td>...</td>\n",
       "      <td>...</td>\n",
       "      <td>...</td>\n",
       "      <td>...</td>\n",
       "      <td>...</td>\n",
       "      <td>...</td>\n",
       "      <td>...</td>\n",
       "      <td>...</td>\n",
       "      <td>...</td>\n",
       "      <td>...</td>\n",
       "      <td>...</td>\n",
       "      <td>...</td>\n",
       "      <td>...</td>\n",
       "      <td>...</td>\n",
       "      <td>...</td>\n",
       "      <td>...</td>\n",
       "    </tr>\n",
       "    <tr>\n",
       "      <td>3211</td>\n",
       "      <td>1489</td>\n",
       "      <td>9.0</td>\n",
       "      <td>NaN</td>\n",
       "      <td>NaN</td>\n",
       "      <td>17.0</td>\n",
       "      <td>Санкт-Петербург</td>\n",
       "      <td>smart</td>\n",
       "      <td>32.0</td>\n",
       "      <td>3</td>\n",
       "      <td>3</td>\n",
       "      <td>200</td>\n",
       "      <td>550</td>\n",
       "      <td>500</td>\n",
       "      <td>15.0</td>\n",
       "      <td>50</td>\n",
       "      <td>NaN</td>\n",
       "    </tr>\n",
       "    <tr>\n",
       "      <td>3212</td>\n",
       "      <td>1489</td>\n",
       "      <td>10.0</td>\n",
       "      <td>NaN</td>\n",
       "      <td>NaN</td>\n",
       "      <td>20.0</td>\n",
       "      <td>Санкт-Петербург</td>\n",
       "      <td>smart</td>\n",
       "      <td>21.0</td>\n",
       "      <td>3</td>\n",
       "      <td>3</td>\n",
       "      <td>200</td>\n",
       "      <td>550</td>\n",
       "      <td>500</td>\n",
       "      <td>15.0</td>\n",
       "      <td>50</td>\n",
       "      <td>NaN</td>\n",
       "    </tr>\n",
       "    <tr>\n",
       "      <td>3213</td>\n",
       "      <td>1489</td>\n",
       "      <td>11.0</td>\n",
       "      <td>NaN</td>\n",
       "      <td>NaN</td>\n",
       "      <td>18.0</td>\n",
       "      <td>Санкт-Петербург</td>\n",
       "      <td>smart</td>\n",
       "      <td>20.0</td>\n",
       "      <td>3</td>\n",
       "      <td>3</td>\n",
       "      <td>200</td>\n",
       "      <td>550</td>\n",
       "      <td>500</td>\n",
       "      <td>15.0</td>\n",
       "      <td>50</td>\n",
       "      <td>NaN</td>\n",
       "    </tr>\n",
       "    <tr>\n",
       "      <td>3214</td>\n",
       "      <td>1489</td>\n",
       "      <td>12.0</td>\n",
       "      <td>NaN</td>\n",
       "      <td>NaN</td>\n",
       "      <td>17.0</td>\n",
       "      <td>Санкт-Петербург</td>\n",
       "      <td>smart</td>\n",
       "      <td>35.0</td>\n",
       "      <td>3</td>\n",
       "      <td>3</td>\n",
       "      <td>200</td>\n",
       "      <td>550</td>\n",
       "      <td>500</td>\n",
       "      <td>15.0</td>\n",
       "      <td>50</td>\n",
       "      <td>NaN</td>\n",
       "    </tr>\n",
       "    <tr>\n",
       "      <td>3215</td>\n",
       "      <td>1371</td>\n",
       "      <td>NaN</td>\n",
       "      <td>NaN</td>\n",
       "      <td>NaN</td>\n",
       "      <td>NaN</td>\n",
       "      <td>Омск</td>\n",
       "      <td>smart</td>\n",
       "      <td>NaN</td>\n",
       "      <td>3</td>\n",
       "      <td>3</td>\n",
       "      <td>200</td>\n",
       "      <td>550</td>\n",
       "      <td>500</td>\n",
       "      <td>15.0</td>\n",
       "      <td>50</td>\n",
       "      <td>NaN</td>\n",
       "    </tr>\n",
       "  </tbody>\n",
       "</table>\n",
       "<p>3216 rows × 16 columns</p>\n",
       "</div>"
      ],
      "text/plain": [
       "      user_id  month  calls_total  duration_total  gb_total             city  \\\n",
       "0        1000    5.0         22.0           159.0       3.0        Краснодар   \n",
       "1        1000    6.0         43.0           172.0      23.0        Краснодар   \n",
       "2        1000    7.0         47.0           340.0      14.0        Краснодар   \n",
       "3        1000    8.0         52.0           408.0      14.0        Краснодар   \n",
       "4        1000    9.0         58.0           466.0      15.0        Краснодар   \n",
       "...       ...    ...          ...             ...       ...              ...   \n",
       "3211     1489    9.0          NaN             NaN      17.0  Санкт-Петербург   \n",
       "3212     1489   10.0          NaN             NaN      20.0  Санкт-Петербург   \n",
       "3213     1489   11.0          NaN             NaN      18.0  Санкт-Петербург   \n",
       "3214     1489   12.0          NaN             NaN      17.0  Санкт-Петербург   \n",
       "3215     1371    NaN          NaN             NaN       NaN             Омск   \n",
       "\n",
       "     tariff  messages  rub_per_minute  rub_per_message  rub_per_gb  \\\n",
       "0     ultra      22.0               1                1         150   \n",
       "1     ultra      60.0               1                1         150   \n",
       "2     ultra      75.0               1                1         150   \n",
       "3     ultra      81.0               1                1         150   \n",
       "4     ultra      57.0               1                1         150   \n",
       "...     ...       ...             ...              ...         ...   \n",
       "3211  smart      32.0               3                3         200   \n",
       "3212  smart      21.0               3                3         200   \n",
       "3213  smart      20.0               3                3         200   \n",
       "3214  smart      35.0               3                3         200   \n",
       "3215  smart       NaN               3                3         200   \n",
       "\n",
       "      rub_monthly_fee  minutes_included  gb_per_month_included  \\\n",
       "0                1950              3000                   30.0   \n",
       "1                1950              3000                   30.0   \n",
       "2                1950              3000                   30.0   \n",
       "3                1950              3000                   30.0   \n",
       "4                1950              3000                   30.0   \n",
       "...               ...               ...                    ...   \n",
       "3211              550               500                   15.0   \n",
       "3212              550               500                   15.0   \n",
       "3213              550               500                   15.0   \n",
       "3214              550               500                   15.0   \n",
       "3215              550               500                   15.0   \n",
       "\n",
       "      messages_included  revenue  \n",
       "0                  1000   1950.0  \n",
       "1                  1000   1950.0  \n",
       "2                  1000   1950.0  \n",
       "3                  1000   1950.0  \n",
       "4                  1000   1950.0  \n",
       "...                 ...      ...  \n",
       "3211                 50      NaN  \n",
       "3212                 50      NaN  \n",
       "3213                 50      NaN  \n",
       "3214                 50      NaN  \n",
       "3215                 50      NaN  \n",
       "\n",
       "[3216 rows x 16 columns]"
      ]
     },
     "execution_count": 36,
     "metadata": {},
     "output_type": "execute_result"
    }
   ],
   "source": [
    "def revenue(data):\n",
    "    #Записываем сохраняем абонентскую плату по тарифу:\n",
    "    monthly_fee = data['rub_monthly_fee']\n",
    "    \n",
    "    #Записываем перерасход по интернету:\n",
    "    overdraft_gb = (data['gb_total'] - data['gb_per_month_included']) * data['rub_per_gb']\n",
    "    \n",
    "    #Если перерасход отрицательный, значит клиент не использовал пакет - обнуляем значение\n",
    "    if overdraft_gb<0:\n",
    "        overdraft_gb = 0\n",
    "        \n",
    "    #Повторяем логику для минут:    \n",
    "    overdraft_minutes = (data['duration_total'] - data['minutes_included']) * data['rub_per_minute']\n",
    "    if overdraft_minutes<0:\n",
    "        overdraft_minutes=0\n",
    "        \n",
    "    #И сообщений:     \n",
    "    overdraft_messages = (data['messages'] - data['messages_included']) * data['rub_per_message']\n",
    "    if overdraft_messages<0:\n",
    "        overdraft_messages=0\n",
    "        \n",
    "    #Считаем итоговую выручку для абонента-складываем абон.плату и перерасходы:    \n",
    "    total = monthly_fee + overdraft_gb + overdraft_minutes + overdraft_messages\n",
    "        \n",
    "    return total\n",
    "    \n",
    "\n",
    "df['revenue']= df.apply(revenue, axis=1)\n",
    "df"
   ]
  },
  {
   "cell_type": "markdown",
   "metadata": {},
   "source": [
    "Я проверил несколько значений с превышением лимитов, код отработал корректно. \n",
    "\n",
    "Проверим, есть ли нулевые значения в новом столбце:"
   ]
  },
  {
   "cell_type": "code",
   "execution_count": 37,
   "metadata": {},
   "outputs": [
    {
     "data": {
      "text/html": [
       "<div>\n",
       "<style scoped>\n",
       "    .dataframe tbody tr th:only-of-type {\n",
       "        vertical-align: middle;\n",
       "    }\n",
       "\n",
       "    .dataframe tbody tr th {\n",
       "        vertical-align: top;\n",
       "    }\n",
       "\n",
       "    .dataframe thead th {\n",
       "        text-align: right;\n",
       "    }\n",
       "</style>\n",
       "<table border=\"1\" class=\"dataframe\">\n",
       "  <thead>\n",
       "    <tr style=\"text-align: right;\">\n",
       "      <th></th>\n",
       "      <th>user_id</th>\n",
       "      <th>month</th>\n",
       "      <th>calls_total</th>\n",
       "      <th>duration_total</th>\n",
       "      <th>gb_total</th>\n",
       "      <th>city</th>\n",
       "      <th>tariff</th>\n",
       "      <th>messages</th>\n",
       "      <th>rub_per_minute</th>\n",
       "      <th>rub_per_message</th>\n",
       "      <th>rub_per_gb</th>\n",
       "      <th>rub_monthly_fee</th>\n",
       "      <th>minutes_included</th>\n",
       "      <th>gb_per_month_included</th>\n",
       "      <th>messages_included</th>\n",
       "      <th>revenue</th>\n",
       "    </tr>\n",
       "  </thead>\n",
       "  <tbody>\n",
       "    <tr>\n",
       "      <td>49</td>\n",
       "      <td>1024</td>\n",
       "      <td>10.0</td>\n",
       "      <td>7.0</td>\n",
       "      <td>79.0</td>\n",
       "      <td>4.0</td>\n",
       "      <td>Санкт-Петербург</td>\n",
       "      <td>ultra</td>\n",
       "      <td>NaN</td>\n",
       "      <td>1</td>\n",
       "      <td>1</td>\n",
       "      <td>150</td>\n",
       "      <td>1950</td>\n",
       "      <td>3000</td>\n",
       "      <td>30.0</td>\n",
       "      <td>1000</td>\n",
       "      <td>NaN</td>\n",
       "    </tr>\n",
       "    <tr>\n",
       "      <td>50</td>\n",
       "      <td>1024</td>\n",
       "      <td>11.0</td>\n",
       "      <td>157.0</td>\n",
       "      <td>1146.0</td>\n",
       "      <td>43.0</td>\n",
       "      <td>Санкт-Петербург</td>\n",
       "      <td>ultra</td>\n",
       "      <td>NaN</td>\n",
       "      <td>1</td>\n",
       "      <td>1</td>\n",
       "      <td>150</td>\n",
       "      <td>1950</td>\n",
       "      <td>3000</td>\n",
       "      <td>30.0</td>\n",
       "      <td>1000</td>\n",
       "      <td>NaN</td>\n",
       "    </tr>\n",
       "    <tr>\n",
       "      <td>51</td>\n",
       "      <td>1024</td>\n",
       "      <td>12.0</td>\n",
       "      <td>136.0</td>\n",
       "      <td>949.0</td>\n",
       "      <td>36.0</td>\n",
       "      <td>Санкт-Петербург</td>\n",
       "      <td>ultra</td>\n",
       "      <td>NaN</td>\n",
       "      <td>1</td>\n",
       "      <td>1</td>\n",
       "      <td>150</td>\n",
       "      <td>1950</td>\n",
       "      <td>3000</td>\n",
       "      <td>30.0</td>\n",
       "      <td>1000</td>\n",
       "      <td>NaN</td>\n",
       "    </tr>\n",
       "    <tr>\n",
       "      <td>67</td>\n",
       "      <td>1049</td>\n",
       "      <td>3.0</td>\n",
       "      <td>55.0</td>\n",
       "      <td>403.0</td>\n",
       "      <td>7.0</td>\n",
       "      <td>Москва</td>\n",
       "      <td>ultra</td>\n",
       "      <td>NaN</td>\n",
       "      <td>1</td>\n",
       "      <td>1</td>\n",
       "      <td>150</td>\n",
       "      <td>1950</td>\n",
       "      <td>3000</td>\n",
       "      <td>30.0</td>\n",
       "      <td>1000</td>\n",
       "      <td>NaN</td>\n",
       "    </tr>\n",
       "    <tr>\n",
       "      <td>68</td>\n",
       "      <td>1049</td>\n",
       "      <td>4.0</td>\n",
       "      <td>76.0</td>\n",
       "      <td>528.0</td>\n",
       "      <td>6.0</td>\n",
       "      <td>Москва</td>\n",
       "      <td>ultra</td>\n",
       "      <td>NaN</td>\n",
       "      <td>1</td>\n",
       "      <td>1</td>\n",
       "      <td>150</td>\n",
       "      <td>1950</td>\n",
       "      <td>3000</td>\n",
       "      <td>30.0</td>\n",
       "      <td>1000</td>\n",
       "      <td>NaN</td>\n",
       "    </tr>\n",
       "    <tr>\n",
       "      <td>...</td>\n",
       "      <td>...</td>\n",
       "      <td>...</td>\n",
       "      <td>...</td>\n",
       "      <td>...</td>\n",
       "      <td>...</td>\n",
       "      <td>...</td>\n",
       "      <td>...</td>\n",
       "      <td>...</td>\n",
       "      <td>...</td>\n",
       "      <td>...</td>\n",
       "      <td>...</td>\n",
       "      <td>...</td>\n",
       "      <td>...</td>\n",
       "      <td>...</td>\n",
       "      <td>...</td>\n",
       "      <td>...</td>\n",
       "    </tr>\n",
       "    <tr>\n",
       "      <td>3211</td>\n",
       "      <td>1489</td>\n",
       "      <td>9.0</td>\n",
       "      <td>NaN</td>\n",
       "      <td>NaN</td>\n",
       "      <td>17.0</td>\n",
       "      <td>Санкт-Петербург</td>\n",
       "      <td>smart</td>\n",
       "      <td>32.0</td>\n",
       "      <td>3</td>\n",
       "      <td>3</td>\n",
       "      <td>200</td>\n",
       "      <td>550</td>\n",
       "      <td>500</td>\n",
       "      <td>15.0</td>\n",
       "      <td>50</td>\n",
       "      <td>NaN</td>\n",
       "    </tr>\n",
       "    <tr>\n",
       "      <td>3212</td>\n",
       "      <td>1489</td>\n",
       "      <td>10.0</td>\n",
       "      <td>NaN</td>\n",
       "      <td>NaN</td>\n",
       "      <td>20.0</td>\n",
       "      <td>Санкт-Петербург</td>\n",
       "      <td>smart</td>\n",
       "      <td>21.0</td>\n",
       "      <td>3</td>\n",
       "      <td>3</td>\n",
       "      <td>200</td>\n",
       "      <td>550</td>\n",
       "      <td>500</td>\n",
       "      <td>15.0</td>\n",
       "      <td>50</td>\n",
       "      <td>NaN</td>\n",
       "    </tr>\n",
       "    <tr>\n",
       "      <td>3213</td>\n",
       "      <td>1489</td>\n",
       "      <td>11.0</td>\n",
       "      <td>NaN</td>\n",
       "      <td>NaN</td>\n",
       "      <td>18.0</td>\n",
       "      <td>Санкт-Петербург</td>\n",
       "      <td>smart</td>\n",
       "      <td>20.0</td>\n",
       "      <td>3</td>\n",
       "      <td>3</td>\n",
       "      <td>200</td>\n",
       "      <td>550</td>\n",
       "      <td>500</td>\n",
       "      <td>15.0</td>\n",
       "      <td>50</td>\n",
       "      <td>NaN</td>\n",
       "    </tr>\n",
       "    <tr>\n",
       "      <td>3214</td>\n",
       "      <td>1489</td>\n",
       "      <td>12.0</td>\n",
       "      <td>NaN</td>\n",
       "      <td>NaN</td>\n",
       "      <td>17.0</td>\n",
       "      <td>Санкт-Петербург</td>\n",
       "      <td>smart</td>\n",
       "      <td>35.0</td>\n",
       "      <td>3</td>\n",
       "      <td>3</td>\n",
       "      <td>200</td>\n",
       "      <td>550</td>\n",
       "      <td>500</td>\n",
       "      <td>15.0</td>\n",
       "      <td>50</td>\n",
       "      <td>NaN</td>\n",
       "    </tr>\n",
       "    <tr>\n",
       "      <td>3215</td>\n",
       "      <td>1371</td>\n",
       "      <td>NaN</td>\n",
       "      <td>NaN</td>\n",
       "      <td>NaN</td>\n",
       "      <td>NaN</td>\n",
       "      <td>Омск</td>\n",
       "      <td>smart</td>\n",
       "      <td>NaN</td>\n",
       "      <td>3</td>\n",
       "      <td>3</td>\n",
       "      <td>200</td>\n",
       "      <td>550</td>\n",
       "      <td>500</td>\n",
       "      <td>15.0</td>\n",
       "      <td>50</td>\n",
       "      <td>NaN</td>\n",
       "    </tr>\n",
       "  </tbody>\n",
       "</table>\n",
       "<p>549 rows × 16 columns</p>\n",
       "</div>"
      ],
      "text/plain": [
       "      user_id  month  calls_total  duration_total  gb_total             city  \\\n",
       "49       1024   10.0          7.0            79.0       4.0  Санкт-Петербург   \n",
       "50       1024   11.0        157.0          1146.0      43.0  Санкт-Петербург   \n",
       "51       1024   12.0        136.0           949.0      36.0  Санкт-Петербург   \n",
       "67       1049    3.0         55.0           403.0       7.0           Москва   \n",
       "68       1049    4.0         76.0           528.0       6.0           Москва   \n",
       "...       ...    ...          ...             ...       ...              ...   \n",
       "3211     1489    9.0          NaN             NaN      17.0  Санкт-Петербург   \n",
       "3212     1489   10.0          NaN             NaN      20.0  Санкт-Петербург   \n",
       "3213     1489   11.0          NaN             NaN      18.0  Санкт-Петербург   \n",
       "3214     1489   12.0          NaN             NaN      17.0  Санкт-Петербург   \n",
       "3215     1371    NaN          NaN             NaN       NaN             Омск   \n",
       "\n",
       "     tariff  messages  rub_per_minute  rub_per_message  rub_per_gb  \\\n",
       "49    ultra       NaN               1                1         150   \n",
       "50    ultra       NaN               1                1         150   \n",
       "51    ultra       NaN               1                1         150   \n",
       "67    ultra       NaN               1                1         150   \n",
       "68    ultra       NaN               1                1         150   \n",
       "...     ...       ...             ...              ...         ...   \n",
       "3211  smart      32.0               3                3         200   \n",
       "3212  smart      21.0               3                3         200   \n",
       "3213  smart      20.0               3                3         200   \n",
       "3214  smart      35.0               3                3         200   \n",
       "3215  smart       NaN               3                3         200   \n",
       "\n",
       "      rub_monthly_fee  minutes_included  gb_per_month_included  \\\n",
       "49               1950              3000                   30.0   \n",
       "50               1950              3000                   30.0   \n",
       "51               1950              3000                   30.0   \n",
       "67               1950              3000                   30.0   \n",
       "68               1950              3000                   30.0   \n",
       "...               ...               ...                    ...   \n",
       "3211              550               500                   15.0   \n",
       "3212              550               500                   15.0   \n",
       "3213              550               500                   15.0   \n",
       "3214              550               500                   15.0   \n",
       "3215              550               500                   15.0   \n",
       "\n",
       "      messages_included  revenue  \n",
       "49                 1000      NaN  \n",
       "50                 1000      NaN  \n",
       "51                 1000      NaN  \n",
       "67                 1000      NaN  \n",
       "68                 1000      NaN  \n",
       "...                 ...      ...  \n",
       "3211                 50      NaN  \n",
       "3212                 50      NaN  \n",
       "3213                 50      NaN  \n",
       "3214                 50      NaN  \n",
       "3215                 50      NaN  \n",
       "\n",
       "[549 rows x 16 columns]"
      ]
     },
     "execution_count": 37,
     "metadata": {},
     "output_type": "execute_result"
    }
   ],
   "source": [
    "df.query('revenue.isna()')"
   ]
  },
  {
   "cell_type": "markdown",
   "metadata": {},
   "source": [
    "549 значений - это достаточно много. Видимо рассчёт не отрабатывает если хоть одно значение пропущено. Заменим пропуски в четырёх столбцах нулями и повторим процедуру:"
   ]
  },
  {
   "cell_type": "code",
   "execution_count": 38,
   "metadata": {},
   "outputs": [
    {
     "name": "stdout",
     "output_type": "stream",
     "text": [
      "0\n"
     ]
    },
    {
     "data": {
      "text/html": [
       "<div>\n",
       "<style scoped>\n",
       "    .dataframe tbody tr th:only-of-type {\n",
       "        vertical-align: middle;\n",
       "    }\n",
       "\n",
       "    .dataframe tbody tr th {\n",
       "        vertical-align: top;\n",
       "    }\n",
       "\n",
       "    .dataframe thead th {\n",
       "        text-align: right;\n",
       "    }\n",
       "</style>\n",
       "<table border=\"1\" class=\"dataframe\">\n",
       "  <thead>\n",
       "    <tr style=\"text-align: right;\">\n",
       "      <th></th>\n",
       "      <th>user_id</th>\n",
       "      <th>month</th>\n",
       "      <th>calls_total</th>\n",
       "      <th>duration_total</th>\n",
       "      <th>gb_total</th>\n",
       "      <th>city</th>\n",
       "      <th>tariff</th>\n",
       "      <th>messages</th>\n",
       "      <th>rub_per_minute</th>\n",
       "      <th>rub_per_message</th>\n",
       "      <th>rub_per_gb</th>\n",
       "      <th>rub_monthly_fee</th>\n",
       "      <th>minutes_included</th>\n",
       "      <th>gb_per_month_included</th>\n",
       "      <th>messages_included</th>\n",
       "      <th>revenue</th>\n",
       "    </tr>\n",
       "  </thead>\n",
       "  <tbody>\n",
       "    <tr>\n",
       "      <td>0</td>\n",
       "      <td>1000</td>\n",
       "      <td>5.0</td>\n",
       "      <td>22.0</td>\n",
       "      <td>159.0</td>\n",
       "      <td>3.0</td>\n",
       "      <td>Краснодар</td>\n",
       "      <td>ultra</td>\n",
       "      <td>22.0</td>\n",
       "      <td>1</td>\n",
       "      <td>1</td>\n",
       "      <td>150</td>\n",
       "      <td>1950</td>\n",
       "      <td>3000</td>\n",
       "      <td>30.0</td>\n",
       "      <td>1000</td>\n",
       "      <td>1950.0</td>\n",
       "    </tr>\n",
       "    <tr>\n",
       "      <td>1</td>\n",
       "      <td>1000</td>\n",
       "      <td>6.0</td>\n",
       "      <td>43.0</td>\n",
       "      <td>172.0</td>\n",
       "      <td>23.0</td>\n",
       "      <td>Краснодар</td>\n",
       "      <td>ultra</td>\n",
       "      <td>60.0</td>\n",
       "      <td>1</td>\n",
       "      <td>1</td>\n",
       "      <td>150</td>\n",
       "      <td>1950</td>\n",
       "      <td>3000</td>\n",
       "      <td>30.0</td>\n",
       "      <td>1000</td>\n",
       "      <td>1950.0</td>\n",
       "    </tr>\n",
       "    <tr>\n",
       "      <td>2</td>\n",
       "      <td>1000</td>\n",
       "      <td>7.0</td>\n",
       "      <td>47.0</td>\n",
       "      <td>340.0</td>\n",
       "      <td>14.0</td>\n",
       "      <td>Краснодар</td>\n",
       "      <td>ultra</td>\n",
       "      <td>75.0</td>\n",
       "      <td>1</td>\n",
       "      <td>1</td>\n",
       "      <td>150</td>\n",
       "      <td>1950</td>\n",
       "      <td>3000</td>\n",
       "      <td>30.0</td>\n",
       "      <td>1000</td>\n",
       "      <td>1950.0</td>\n",
       "    </tr>\n",
       "    <tr>\n",
       "      <td>3</td>\n",
       "      <td>1000</td>\n",
       "      <td>8.0</td>\n",
       "      <td>52.0</td>\n",
       "      <td>408.0</td>\n",
       "      <td>14.0</td>\n",
       "      <td>Краснодар</td>\n",
       "      <td>ultra</td>\n",
       "      <td>81.0</td>\n",
       "      <td>1</td>\n",
       "      <td>1</td>\n",
       "      <td>150</td>\n",
       "      <td>1950</td>\n",
       "      <td>3000</td>\n",
       "      <td>30.0</td>\n",
       "      <td>1000</td>\n",
       "      <td>1950.0</td>\n",
       "    </tr>\n",
       "    <tr>\n",
       "      <td>4</td>\n",
       "      <td>1000</td>\n",
       "      <td>9.0</td>\n",
       "      <td>58.0</td>\n",
       "      <td>466.0</td>\n",
       "      <td>15.0</td>\n",
       "      <td>Краснодар</td>\n",
       "      <td>ultra</td>\n",
       "      <td>57.0</td>\n",
       "      <td>1</td>\n",
       "      <td>1</td>\n",
       "      <td>150</td>\n",
       "      <td>1950</td>\n",
       "      <td>3000</td>\n",
       "      <td>30.0</td>\n",
       "      <td>1000</td>\n",
       "      <td>1950.0</td>\n",
       "    </tr>\n",
       "    <tr>\n",
       "      <td>...</td>\n",
       "      <td>...</td>\n",
       "      <td>...</td>\n",
       "      <td>...</td>\n",
       "      <td>...</td>\n",
       "      <td>...</td>\n",
       "      <td>...</td>\n",
       "      <td>...</td>\n",
       "      <td>...</td>\n",
       "      <td>...</td>\n",
       "      <td>...</td>\n",
       "      <td>...</td>\n",
       "      <td>...</td>\n",
       "      <td>...</td>\n",
       "      <td>...</td>\n",
       "      <td>...</td>\n",
       "      <td>...</td>\n",
       "    </tr>\n",
       "    <tr>\n",
       "      <td>3211</td>\n",
       "      <td>1489</td>\n",
       "      <td>9.0</td>\n",
       "      <td>0.0</td>\n",
       "      <td>0.0</td>\n",
       "      <td>17.0</td>\n",
       "      <td>Санкт-Петербург</td>\n",
       "      <td>smart</td>\n",
       "      <td>32.0</td>\n",
       "      <td>3</td>\n",
       "      <td>3</td>\n",
       "      <td>200</td>\n",
       "      <td>550</td>\n",
       "      <td>500</td>\n",
       "      <td>15.0</td>\n",
       "      <td>50</td>\n",
       "      <td>950.0</td>\n",
       "    </tr>\n",
       "    <tr>\n",
       "      <td>3212</td>\n",
       "      <td>1489</td>\n",
       "      <td>10.0</td>\n",
       "      <td>0.0</td>\n",
       "      <td>0.0</td>\n",
       "      <td>20.0</td>\n",
       "      <td>Санкт-Петербург</td>\n",
       "      <td>smart</td>\n",
       "      <td>21.0</td>\n",
       "      <td>3</td>\n",
       "      <td>3</td>\n",
       "      <td>200</td>\n",
       "      <td>550</td>\n",
       "      <td>500</td>\n",
       "      <td>15.0</td>\n",
       "      <td>50</td>\n",
       "      <td>1550.0</td>\n",
       "    </tr>\n",
       "    <tr>\n",
       "      <td>3213</td>\n",
       "      <td>1489</td>\n",
       "      <td>11.0</td>\n",
       "      <td>0.0</td>\n",
       "      <td>0.0</td>\n",
       "      <td>18.0</td>\n",
       "      <td>Санкт-Петербург</td>\n",
       "      <td>smart</td>\n",
       "      <td>20.0</td>\n",
       "      <td>3</td>\n",
       "      <td>3</td>\n",
       "      <td>200</td>\n",
       "      <td>550</td>\n",
       "      <td>500</td>\n",
       "      <td>15.0</td>\n",
       "      <td>50</td>\n",
       "      <td>1150.0</td>\n",
       "    </tr>\n",
       "    <tr>\n",
       "      <td>3214</td>\n",
       "      <td>1489</td>\n",
       "      <td>12.0</td>\n",
       "      <td>0.0</td>\n",
       "      <td>0.0</td>\n",
       "      <td>17.0</td>\n",
       "      <td>Санкт-Петербург</td>\n",
       "      <td>smart</td>\n",
       "      <td>35.0</td>\n",
       "      <td>3</td>\n",
       "      <td>3</td>\n",
       "      <td>200</td>\n",
       "      <td>550</td>\n",
       "      <td>500</td>\n",
       "      <td>15.0</td>\n",
       "      <td>50</td>\n",
       "      <td>950.0</td>\n",
       "    </tr>\n",
       "    <tr>\n",
       "      <td>3215</td>\n",
       "      <td>1371</td>\n",
       "      <td>NaN</td>\n",
       "      <td>0.0</td>\n",
       "      <td>0.0</td>\n",
       "      <td>0.0</td>\n",
       "      <td>Омск</td>\n",
       "      <td>smart</td>\n",
       "      <td>0.0</td>\n",
       "      <td>3</td>\n",
       "      <td>3</td>\n",
       "      <td>200</td>\n",
       "      <td>550</td>\n",
       "      <td>500</td>\n",
       "      <td>15.0</td>\n",
       "      <td>50</td>\n",
       "      <td>550.0</td>\n",
       "    </tr>\n",
       "  </tbody>\n",
       "</table>\n",
       "<p>3216 rows × 16 columns</p>\n",
       "</div>"
      ],
      "text/plain": [
       "      user_id  month  calls_total  duration_total  gb_total             city  \\\n",
       "0        1000    5.0         22.0           159.0       3.0        Краснодар   \n",
       "1        1000    6.0         43.0           172.0      23.0        Краснодар   \n",
       "2        1000    7.0         47.0           340.0      14.0        Краснодар   \n",
       "3        1000    8.0         52.0           408.0      14.0        Краснодар   \n",
       "4        1000    9.0         58.0           466.0      15.0        Краснодар   \n",
       "...       ...    ...          ...             ...       ...              ...   \n",
       "3211     1489    9.0          0.0             0.0      17.0  Санкт-Петербург   \n",
       "3212     1489   10.0          0.0             0.0      20.0  Санкт-Петербург   \n",
       "3213     1489   11.0          0.0             0.0      18.0  Санкт-Петербург   \n",
       "3214     1489   12.0          0.0             0.0      17.0  Санкт-Петербург   \n",
       "3215     1371    NaN          0.0             0.0       0.0             Омск   \n",
       "\n",
       "     tariff  messages  rub_per_minute  rub_per_message  rub_per_gb  \\\n",
       "0     ultra      22.0               1                1         150   \n",
       "1     ultra      60.0               1                1         150   \n",
       "2     ultra      75.0               1                1         150   \n",
       "3     ultra      81.0               1                1         150   \n",
       "4     ultra      57.0               1                1         150   \n",
       "...     ...       ...             ...              ...         ...   \n",
       "3211  smart      32.0               3                3         200   \n",
       "3212  smart      21.0               3                3         200   \n",
       "3213  smart      20.0               3                3         200   \n",
       "3214  smart      35.0               3                3         200   \n",
       "3215  smart       0.0               3                3         200   \n",
       "\n",
       "      rub_monthly_fee  minutes_included  gb_per_month_included  \\\n",
       "0                1950              3000                   30.0   \n",
       "1                1950              3000                   30.0   \n",
       "2                1950              3000                   30.0   \n",
       "3                1950              3000                   30.0   \n",
       "4                1950              3000                   30.0   \n",
       "...               ...               ...                    ...   \n",
       "3211              550               500                   15.0   \n",
       "3212              550               500                   15.0   \n",
       "3213              550               500                   15.0   \n",
       "3214              550               500                   15.0   \n",
       "3215              550               500                   15.0   \n",
       "\n",
       "      messages_included  revenue  \n",
       "0                  1000   1950.0  \n",
       "1                  1000   1950.0  \n",
       "2                  1000   1950.0  \n",
       "3                  1000   1950.0  \n",
       "4                  1000   1950.0  \n",
       "...                 ...      ...  \n",
       "3211                 50    950.0  \n",
       "3212                 50   1550.0  \n",
       "3213                 50   1150.0  \n",
       "3214                 50    950.0  \n",
       "3215                 50    550.0  \n",
       "\n",
       "[3216 rows x 16 columns]"
      ]
     },
     "execution_count": 38,
     "metadata": {},
     "output_type": "execute_result"
    }
   ],
   "source": [
    "df[['gb_total','calls_total', 'messages','duration_total']] = df[['gb_total','calls_total', 'messages','duration_total']].fillna(0)\n",
    "df['revenue']= df.apply(revenue, axis=1)\n",
    "print(df['revenue'].isna().sum())\n",
    "df"
   ]
  },
  {
   "cell_type": "markdown",
   "metadata": {},
   "source": [
    "Таблица готова к анализу."
   ]
  },
  {
   "cell_type": "markdown",
   "metadata": {},
   "source": [
    "### Вывод\n",
    "\n",
    "* Столбцы с датами во всех таблицах были приведены к формату даты и времени.\n",
    "* Посчитано количество звонков, сообщений, интернета и выручки за месяц для каждого абонента. Секунды и мегабайты округлены до минут и ГБ согласно тарификации. \n",
    "* Создана таблица со всеми необходимыми для дальнейшего анализа параметрами из всех имеющихся таблиц.\n",
    "* Ошибки были найдены только в нулевых интернет-сессиях в таблице `internet`. Эти значения не были заменены, т.к. на формирование суммы трафика за месяц они не оказали влияния.\n",
    "* Во время соединения данных по некоторым значениям выявились пропуски - видимо пользователи не пользовались услугами в эти месяца. Пропуски были заменены нулями.\n",
    "\n",
    "\n",
    "Расчёты произведены, можно начинать исследовательский анализ данных."
   ]
  },
  {
   "cell_type": "markdown",
   "metadata": {},
   "source": [
    "## Анализ и описание данных"
   ]
  },
  {
   "cell_type": "markdown",
   "metadata": {},
   "source": [
    "Опишем поведение клиентов оператора, исходя из выборки. Сколько минут разговора, сколько сообщений и какой объём интернет-трафика требуется пользователям каждого тарифа в месяц? Посчитаем среднее количество, дисперсию и стандартное отклонение. Постройте гистограммы. Опишем распределения."
   ]
  },
  {
   "cell_type": "code",
   "execution_count": 39,
   "metadata": {},
   "outputs": [],
   "source": [
    "#Импортируем модуль Pyplot и библиотеки Matlotlib:\n",
    "import matplotlib.pyplot as plt\n",
    "\n",
    "# Создадим переменные для пользователей каждого тарифа:\n",
    "smart = df.query('tariff==\"smart\"')\n",
    "ultra = df.query('tariff==\"ultra\"')"
   ]
  },
  {
   "cell_type": "markdown",
   "metadata": {},
   "source": [
    "Для начала посмотрим, сколько наблюдений относится к каждому тарифу:"
   ]
  },
  {
   "cell_type": "code",
   "execution_count": 40,
   "metadata": {},
   "outputs": [
    {
     "name": "stdout",
     "output_type": "stream",
     "text": [
      "2230\n"
     ]
    },
    {
     "data": {
      "text/plain": [
       "986"
      ]
     },
     "execution_count": 40,
     "metadata": {},
     "output_type": "execute_result"
    }
   ],
   "source": [
    "print(len(smart))\n",
    "len(ultra)"
   ]
  },
  {
   "cell_type": "markdown",
   "metadata": {},
   "source": [
    "Данные по тарифу Smart преобладают в более чем два раза, что ожидаемо - т.к. этот тариф значительно дороже.\n",
    "\n",
    "Вернёмся к распределениям:"
   ]
  },
  {
   "cell_type": "markdown",
   "metadata": {},
   "source": [
    "Начнём с телефонных разговоров: посмотрим на распределения звонков и количества минут в месяц."
   ]
  },
  {
   "cell_type": "code",
   "execution_count": 41,
   "metadata": {},
   "outputs": [
    {
     "data": {
      "image/png": "[encoded data removed]",
      "text/plain": [
       "<Figure size 432x288 with 1 Axes>"
      ]
     },
     "metadata": {
      "needs_background": "light"
     },
     "output_type": "display_data"
    },
    {
     "name": "stdout",
     "output_type": "stream",
     "text": [
      "Показатели тарифа Smart\n",
      "Среднее количество звонков в месяц для абонента: 58.437219730941706\n",
      "Дисперсия по показателю: 674.1070932087625\n",
      "Стандартное отклонение по показателю: 25.963572427706527\n"
     ]
    },
    {
     "data": {
      "image/png": "[encoded data removed]",
      "text/plain": [
       "<Figure size 432x288 with 1 Axes>"
      ]
     },
     "metadata": {
      "needs_background": "light"
     },
     "output_type": "display_data"
    },
    {
     "name": "stdout",
     "output_type": "stream",
     "text": [
      "Показатели тарифа Ultra\n",
      "Среднее количество звонков в месяц для абонента: 73.3184584178499\n",
      "Дисперсия по показателю: 1932.1949279764417\n",
      "Стандартное отклонение по показателю: 43.956739278254496\n"
     ]
    }
   ],
   "source": [
    "#Строим гистограммы:\n",
    "smart['calls_total'].plot(kind='hist', bins = 20)\n",
    "plt.title('smart')\n",
    "plt.xlabel('Звонки')\n",
    "plt.ylabel('Количество значений')\n",
    "plt.show()\n",
    "\n",
    "#Считаем среднее, стандартное отклонение, дисперсию и выводим на экран:\n",
    "print('Показатели тарифа Smart')\n",
    "print('Среднее количество звонков в месяц для абонента:', smart['calls_total'].mean())\n",
    "print('Дисперсия по показателю:', smart['calls_total'].var())\n",
    "print('Стандартное отклонение по показателю:', smart['calls_total'].std())\n",
    "\n",
    "#Повторяем шаги для пользователей тарифа ultra:\n",
    "ultra['calls_total'].plot(kind='hist', bins = 20)\n",
    "plt.title('ultra')\n",
    "plt.xlabel('Звонки')\n",
    "plt.ylabel('Количество значений')\n",
    "plt.show()\n",
    "\n",
    "\n",
    "print('Показатели тарифа Ultra')\n",
    "print('Среднее количество звонков в месяц для абонента:', ultra['calls_total'].mean())\n",
    "print('Дисперсия по показателю:', ultra['calls_total'].var())\n",
    "print('Стандартное отклонение по показателю:', ultra['calls_total'].std())"
   ]
  },
  {
   "cell_type": "markdown",
   "metadata": {},
   "source": [
    "---\n",
    "Выборка по тарифу Ultra имеет более высокое среднее - на 20% выше, стандартное отклонение - на 41% больше, и, соответственно, дисперсию - почти в три раза больше чем у тарифа Smart.  \n",
    "Большее стандартное отклонение и дисперсия говорят о большем разбросе данных, которые можно увидеть на гистограммах: у распределения тарифа Ultra длинный хвост справа - до более чем 200 минут в месяц против около 150 у тарифа Smart, не считая выбросов, которые тоже больше у тарифа Ultra.  \n",
    "Также у Ultra пропорционально большее количество нулевых и маленьких значений, т.е. таких, где абоненты этого тарифа совершали до 25 звонков в месяц, либо не совершали вообще.\n",
    "Пик значений на гистограмме тарифа Smart приходится примерно на 60 звонков, у тарифа Ultra примерно на 85-90.  \n",
    "Гистограмма тарифа Smart болльше напоминает нормальное распределение, немного сдвинутое влево.  \n",
    "По показателям и гистограммам этих выборок можно сказать что, как и ожидалось, абоненты тарифа Ультра делают в среднем больше звонков, однако и доля тех, кто звонит мало или не звонит вообще  также значительная большая. "
   ]
  },
  {
   "cell_type": "markdown",
   "metadata": {},
   "source": [
    "Посмотрим на распределения количества минут разговоров за месяца - отличается ли оно от количества звонков?"
   ]
  },
  {
   "cell_type": "code",
   "execution_count": 42,
   "metadata": {},
   "outputs": [
    {
     "data": {
      "image/png": "[encoded data removed]",
      "text/plain": [
       "<Figure size 432x288 with 1 Axes>"
      ]
     },
     "metadata": {
      "needs_background": "light"
     },
     "output_type": "display_data"
    },
    {
     "name": "stdout",
     "output_type": "stream",
     "text": [
      "Показатели тарифа Smart\n",
      "Среднее количество минут разговора в месяц для абонента: 417.747533632287\n",
      "Дисперсия по показателю: 36281.39383644458\n",
      "Стандартное отклонение по показателю: 190.4767540579285\n"
     ]
    },
    {
     "data": {
      "image/png": "[encoded data removed]",
      "text/plain": [
       "<Figure size 432x288 with 1 Axes>"
      ]
     },
     "metadata": {
      "needs_background": "light"
     },
     "output_type": "display_data"
    },
    {
     "name": "stdout",
     "output_type": "stream",
     "text": [
      "Показатели тарифа Ultra\n",
      "Среднее количество минут разговора в месяц для абонента: 526.0892494929006\n",
      "Дисперсия по показателю: 101052.49354928387\n",
      "Стандартное отклонение по показателю: 317.8875485911392\n"
     ]
    }
   ],
   "source": [
    "#Строим гистограммы:\n",
    "smart['duration_total'].plot(kind='hist', bins = 20)\n",
    "plt.title('smart')\n",
    "plt.xlabel('Звонки')\n",
    "plt.ylabel('Количество значений')\n",
    "plt.show()\n",
    "\n",
    "#Считаем среднее, стандартное отклонение, дисперсию и выводим на экран:\n",
    "print('Показатели тарифа Smart')\n",
    "print('Среднее количество минут разговора в месяц для абонента:', smart['duration_total'].mean())\n",
    "print('Дисперсия по показателю:', smart['duration_total'].var())\n",
    "print('Стандартное отклонение по показателю:', smart['duration_total'].std())\n",
    "\n",
    "#Повторяем шаги для пользователей тарифа ultra:\n",
    "ultra['duration_total'].plot(kind='hist', bins = 20)\n",
    "plt.title('ultra')\n",
    "plt.xlabel('Звонки')\n",
    "plt.ylabel('Количество значений')\n",
    "plt.show()\n",
    "\n",
    "\n",
    "print('Показатели тарифа Ultra')\n",
    "print('Среднее количество минут разговора в месяц для абонента:', ultra['duration_total'].mean())\n",
    "print('Дисперсия по показателю:', ultra['duration_total'].var())\n",
    "print('Стандартное отклонение по показателю:', ultra['duration_total'].std())"
   ]
  },
  {
   "cell_type": "markdown",
   "metadata": {},
   "source": [
    "Разница в показателях и внешний вид гистограмм очень похожи: среднее также больше примерно на 21% у тарифа Ultra и страндартное отклонение больше примерно на те же 40%.\n",
    "Особенности гистограм также характерные для распределений по звонкам справедливы и тут, поэтому и вывод можно повторить: \n",
    "абоненты тарифа Ультра делают в среднем разговаривают дольше, однако и доля тех, чьи разговоры занимают мало времени или абонентов, не совершающих звонки вообще по сравнению с пиковыми значениями ощутимо больше, чем у тарифа Smart.\n",
    "Так же можно добавить что в среднем пользователь обоих тарифов не выговаривает количество минут в пакете, при чём пользователь тарифа Ultra находится сильно дальше от этой границы - длительность его разговоров почти в 6 раз меньше.\n",
    "\n",
    "Посмотрим как обстоят дела с интернетом:"
   ]
  },
  {
   "cell_type": "code",
   "execution_count": 43,
   "metadata": {},
   "outputs": [
    {
     "data": {
      "image/png": "[encoded data removed]",
      "text/plain": [
       "<Figure size 432x288 with 1 Axes>"
      ]
     },
     "metadata": {
      "needs_background": "light"
     },
     "output_type": "display_data"
    },
    {
     "name": "stdout",
     "output_type": "stream",
     "text": [
      "Показатели тарифа Smart\n",
      "Среднее количество гигабайт трафика в месяц для абонента: 16.32152466367713\n",
      "Дисперсия по показателю: 33.133453035506285\n",
      "Стандартное отклонение по показателю: 5.7561665225657155\n"
     ]
    },
    {
     "data": {
      "image/png": "[encoded data removed]",
      "text/plain": [
       "<Figure size 432x288 with 1 Axes>"
      ]
     },
     "metadata": {
      "needs_background": "light"
     },
     "output_type": "display_data"
    },
    {
     "name": "stdout",
     "output_type": "stream",
     "text": [
      "Показатели тарифа Ultra\n",
      "Среднее количество гигабайт трафика в месяц для абонента: 19.474645030425965\n",
      "Дисперсия по показателю: 97.37854429011234\n",
      "Стандартное отклонение по показателю: 9.868056763624352\n"
     ]
    }
   ],
   "source": [
    "#Строим гистограммы:\n",
    "smart['gb_total'].plot(kind='hist', bins = 20)\n",
    "plt.title('smart')\n",
    "plt.xlabel('Гигабайты')\n",
    "plt.ylabel('Количество значений')\n",
    "plt.show()\n",
    "\n",
    "#Считаем среднее, стандартное отклонение, дисперсию и выводим на экран:\n",
    "print('Показатели тарифа Smart')\n",
    "print('Среднее количество гигабайт трафика в месяц для абонента:', smart['gb_total'].mean())\n",
    "print('Дисперсия по показателю:', smart['gb_total'].var())\n",
    "print('Стандартное отклонение по показателю:', smart['gb_total'].std())\n",
    "\n",
    "#Повторяем шаги для пользователей тарифа ultra:\n",
    "ultra['gb_total'].plot(kind='hist', bins = 20)\n",
    "plt.title('ultra')\n",
    "plt.xlabel('Гигабайты')\n",
    "plt.ylabel('Количество значений')\n",
    "plt.show()\n",
    "\n",
    "\n",
    "print('Показатели тарифа Ultra')\n",
    "print('Среднее количество гигабайт трафика в месяц для абонента:', ultra['gb_total'].mean())\n",
    "print('Дисперсия по показателю:', ultra['gb_total'].var())\n",
    "print('Стандартное отклонение по показателю:', ultra['gb_total'].std())"
   ]
  },
  {
   "cell_type": "markdown",
   "metadata": {},
   "source": [
    "---"
   ]
  },
  {
   "cell_type": "markdown",
   "metadata": {},
   "source": [
    "Среднее количество использованных гигабайт трафика у абонентов тарифа Ultra больше абонентов Smart примерно на 17 процентов.\n",
    "Стандартное отклонение больше примерно на 42%, дисперсия больше в три раза. Что также говорит о большем разбросе данных по выборке тарифа Ultra. \n",
    "\n",
    "По гистограммам виден более длинный хвост вправо у тарифа Ultra, а также более неоднородное распределение значений по этому тарифу в сравнении с тарифом Smart - гистограмма тарифа Ultra показывает большое количество пиков, в том время как тариф Smart распределн по значениям гораздо более равномерно.  \n",
    "Пик на гистограмме приходится примерно на 16 ГБ, что совпадает со средним. Осталные два практически одинаковых пика значений приходятся примерно на 14 и 22 ГБ. На гистограмме тарифа Ultra пик приходится на примерно 21ГБ, затем практически такой же на примерно 16-17ГБ и третий примерно на 28 ГБ в месяц.\n",
    "\n",
    "Можно сделать вывод что в среднем пользователи тарифа Ultra тратят больше трафика, хотя и разброс по значениям больше.  \n",
    "Также стоить отметить что в среднем пользователи тарифа Smart превышают бесплатный лимит ГБ, заложенный в тарифе на 2ГБ(согласно тарификации), а абоненты Ultra расходуют его примерно на две трети."
   ]
  },
  {
   "cell_type": "markdown",
   "metadata": {},
   "source": [
    "Посмотрим на распределения значений по сообщениям:"
   ]
  },
  {
   "cell_type": "code",
   "execution_count": 44,
   "metadata": {},
   "outputs": [
    {
     "data": {
      "image/png": "[encoded data removed]",
      "text/plain": [
       "<Figure size 432x288 with 1 Axes>"
      ]
     },
     "metadata": {
      "needs_background": "light"
     },
     "output_type": "display_data"
    },
    {
     "name": "stdout",
     "output_type": "stream",
     "text": [
      "Показатели тарифа Smart\n",
      "Среднее количество сообщений в месяц для абонента: 33.36905829596412\n",
      "Дисперсия по показателю: 796.9552557301129\n",
      "Стандартное отклонение по показателю: 28.230395954185852\n"
     ]
    },
    {
     "data": {
      "image/png": "[encoded data removed]",
      "text/plain": [
       "<Figure size 432x288 with 1 Axes>"
      ]
     },
     "metadata": {
      "needs_background": "light"
     },
     "output_type": "display_data"
    },
    {
     "name": "stdout",
     "output_type": "stream",
     "text": [
      "Показатели тарифа Ultra\n",
      "Среднее количество сообщений месяц для абонента: 49.31338742393509\n",
      "Дисперсия по показателю: 2285.4174246558414\n",
      "Стандартное отклонение по показателю: 47.80603962530092\n"
     ]
    }
   ],
   "source": [
    "#Строим гистограммы:\n",
    "smart['messages'].plot(kind='hist', bins = 30)\n",
    "plt.title('smart')\n",
    "plt.xlabel('СМС')\n",
    "plt.ylabel('Количество значений')\n",
    "plt.show()\n",
    "\n",
    "#Считаем среднее, стандартное отклонение, дисперсию и выводим на экран:\n",
    "print('Показатели тарифа Smart')\n",
    "print('Среднее количество сообщений в месяц для абонента:', smart['messages'].mean())\n",
    "print('Дисперсия по показателю:', smart['messages'].var())\n",
    "print('Стандартное отклонение по показателю:', smart['messages'].std())\n",
    "\n",
    "#Повторяем шаги для пользователей тарифа ultra:\n",
    "ultra['messages'].plot(kind='hist', bins = 30)\n",
    "plt.title('ultra')\n",
    "plt.xlabel('СМС')\n",
    "plt.ylabel('Количество значений')\n",
    "plt.show()\n",
    "\n",
    "\n",
    "print('Показатели тарифа Ultra')\n",
    "print('Среднее количество сообщений месяц для абонента:', ultra['messages'].mean())\n",
    "print('Дисперсия по показателю:', ultra['messages'].var())\n",
    "print('Стандартное отклонение по показателю:', ultra['messages'].std())"
   ]
  },
  {
   "cell_type": "markdown",
   "metadata": {},
   "source": [
    "---"
   ]
  },
  {
   "cell_type": "markdown",
   "metadata": {},
   "source": [
    "Среднее количесво сообщений в месяц у абонентов тарифа Ultra больше приммерно на 32%.\n",
    "Стандартное отклонение больше примерно на 41%, дисперсия больше в три раза. Что также говорит о большем разбросе данных по выборке тарифа Ultra. На гистограмме это видно - у тарифа Ultra более длинный правый хвост.   \n",
    "На обоих графиках ярковыраженный пик приходится на нулевое значение, соответсвтенно очень большое количетсво абонентов обоих тарифов вообще не отправляют СМС.\n",
    "В целом графики по виду очень похожи и по обоим можно сделать одинаковый вывод: чем больше значение количества сообщений, отправленных за месяц, тем меньше наблюдений по этому значению.  \n",
    "По средним значениям можно сказать что пользователи обычно не используют лимит сообщений в месяц, что неудивительно, т.к. текстовое общение с каждым годом приобретает форму мессенджеров даже среди старших возрастных групп."
   ]
  },
  {
   "cell_type": "markdown",
   "metadata": {},
   "source": [
    "### Вывод\n",
    "\n",
    "* В среднем пользователю тарифа Smart нужно 418 минут разговора, 17 ГБ интернета и 34 сообщения в месяц. Пользователю тарифа Ultra: 527 минут, 20 ГБ и 50 сообщения соответственно.\n",
    "* В среднем пользователь тарифа Smart использует больше интернета, чем включено в тариф, по остальным параметрам абоненты обычно не выходят за рамки предоплаченных пакетов.\n",
    "* Разброс начений в распределениях тарифа Ultra больше. \n",
    "* Нужно помнить, что данных по месяцам по тарифу Ultra, хотя и достаточное количество, но всё же более чем в два раза меньшее чем, по Smart, соответственно поведение среднего абонента этого тарфиа из генеральной совокупности может быть описано хуже, чем абонента тарифа Smart. Разброс значений так же может быть не такой сильный по этой причине."
   ]
  },
  {
   "cell_type": "markdown",
   "metadata": {},
   "source": [
    "## Проверка гипотез"
   ]
  },
  {
   "cell_type": "markdown",
   "metadata": {},
   "source": [
    "Основная цель этого исследования проверить две гипотезы: \n",
    "* Средняя выручка по абонентам двух тарифов различается.\n",
    "* Средняя выручка пользователей из Москвы и других городов также различна."
   ]
  },
  {
   "cell_type": "markdown",
   "metadata": {},
   "source": [
    "Нулевые гипотезы сформулируем так:\n",
    "* Средняя выручка пользователей двух исследуемых выборок равна. "
   ]
  },
  {
   "cell_type": "markdown",
   "metadata": {},
   "source": [
    "По скольку при проверке обоих гипотез нам нужно будет сравнить средние из двух выборок оба раза применим метод`scipy.stats.ttest_ind()`.   \n",
    "Поскольку этот тест работает со средним, необходимо перед ним проверить выборки на выбросы:"
   ]
  },
  {
   "cell_type": "code",
   "execution_count": 45,
   "metadata": {},
   "outputs": [
    {
     "name": "stdout",
     "output_type": "stream",
     "text": [
      "count    2230.000000\n",
      "mean     1289.641704\n",
      "std       818.370799\n",
      "min       550.000000\n",
      "25%       550.000000\n",
      "50%      1021.000000\n",
      "75%      1750.000000\n",
      "max      6770.000000\n",
      "Name: revenue, dtype: float64\n"
     ]
    },
    {
     "data": {
      "text/plain": [
       "3773.71"
      ]
     },
     "execution_count": 45,
     "metadata": {},
     "output_type": "execute_result"
    },
    {
     "data": {
      "image/png": "[encoded data removed]",
      "text/plain": [
       "<Figure size 432x288 with 1 Axes>"
      ]
     },
     "metadata": {
      "needs_background": "light"
     },
     "output_type": "display_data"
    }
   ],
   "source": [
    "smart['revenue'].plot(kind='box')\n",
    "plt.ylabel(' Руб/месяц')\n",
    "plt.title('Выручка по тарифу Smart')\n",
    "print(smart['revenue'].describe())\n",
    "smart['revenue'].quantile(0.99)"
   ]
  },
  {
   "cell_type": "markdown",
   "metadata": {},
   "source": [
    "99% выборки лежит в пределах границы значения 3773.71 рубля/месяц. Максимальное значение почти в два раза больше - 6770.  \n",
    "На графике верхний ус показывает чуть ниже значения чем метод квантиля. Отсечём выбрасы по значению метода,перезапишем табоицу в пределах нормальных значений и посмотрим, на сколько уменьшились среднее и стандартное отклонение:"
   ]
  },
  {
   "cell_type": "code",
   "execution_count": 46,
   "metadata": {},
   "outputs": [
    {
     "data": {
      "text/plain": [
       "count    2207.000000\n",
       "mean     1254.719982\n",
       "std       743.357235\n",
       "min       550.000000\n",
       "25%       550.000000\n",
       "50%      1009.000000\n",
       "75%      1750.000000\n",
       "max      3773.000000\n",
       "Name: revenue, dtype: float64"
      ]
     },
     "execution_count": 46,
     "metadata": {},
     "output_type": "execute_result"
    }
   ],
   "source": [
    "smart = smart.query('revenue<=3773.71')\n",
    "smart['revenue'].describe()"
   ]
  },
  {
   "cell_type": "markdown",
   "metadata": {},
   "source": [
    "Среднее уменьшилось всего на 3%, зато стандартное отклонение уменьшилось на 10% - неплохо для жертвый всего в 1% значений. Теперь повторим процедуру с выборкой по тарифу Ultra:"
   ]
  },
  {
   "cell_type": "code",
   "execution_count": 47,
   "metadata": {},
   "outputs": [
    {
     "name": "stdout",
     "output_type": "stream",
     "text": [
      "count     986.000000\n",
      "mean     2070.030426\n",
      "std       376.015578\n",
      "min      1950.000000\n",
      "25%      1950.000000\n",
      "50%      1950.000000\n",
      "75%      1950.000000\n",
      "max      4800.000000\n",
      "Name: revenue, dtype: float64\n"
     ]
    },
    {
     "data": {
      "text/plain": [
       "3772.499999999997"
      ]
     },
     "execution_count": 47,
     "metadata": {},
     "output_type": "execute_result"
    }
   ],
   "source": [
    "print(ultra['revenue'].describe())\n",
    "ultra['revenue'].quantile(0.99)"
   ]
  },
  {
   "cell_type": "markdown",
   "metadata": {},
   "source": [
    "Перезапишем таблицу и посмотрим на среднее и стандартное отклонение:"
   ]
  },
  {
   "cell_type": "code",
   "execution_count": 48,
   "metadata": {},
   "outputs": [
    {
     "data": {
      "text/plain": [
       "count     976.000000\n",
       "mean     2049.129098\n",
       "std       314.082726\n",
       "min      1950.000000\n",
       "25%      1950.000000\n",
       "50%      1950.000000\n",
       "75%      1950.000000\n",
       "max      3750.000000\n",
       "Name: revenue, dtype: float64"
      ]
     },
     "execution_count": 48,
     "metadata": {},
     "output_type": "execute_result"
    }
   ],
   "source": [
    "ultra = ultra.query('revenue<3772.5')\n",
    "ultra['revenue'].describe()"
   ]
  },
  {
   "cell_type": "markdown",
   "metadata": {},
   "source": [
    "Стандартное отклонение снизилось почти на 17 процентов, хотя среднее и снизилось незначительно. \n",
    "\n",
    "Теперь можно передавать выборки методу. Поскольку они разного размера, передадим параметру `equal_var` значение `False`. Значение `alpha` выберем 0.05. "
   ]
  },
  {
   "cell_type": "code",
   "execution_count": 49,
   "metadata": {},
   "outputs": [
    {
     "name": "stdout",
     "output_type": "stream",
     "text": [
      "p-значение:  2.088237718377e-311\n",
      "Отвергаем нулевую гипотезу\n"
     ]
    }
   ],
   "source": [
    "from scipy import stats as st\n",
    "\n",
    "results = st.ttest_ind(smart['revenue'], ultra['revenue'], equal_var=False)\n",
    "\n",
    "alpha = .05 \n",
    "\n",
    "print('p-значение: ', results.pvalue)\n",
    "\n",
    "if results.pvalue < alpha:\n",
    "    print(\"Отвергаем нулевую гипотезу\")\n",
    "else:\n",
    "    print(\"Не получилось отвергнуть нулевую гипотезу\") "
   ]
  },
  {
   "cell_type": "markdown",
   "metadata": {},
   "source": [
    "Получившиеся значение очень сильно приближено к нулю, что говорит о том, что вероятность равненства средних значений выручки двух генеральных совокупностей практически невозможна. Покажем это также на графике:\n"
   ]
  },
  {
   "cell_type": "code",
   "execution_count": 50,
   "metadata": {},
   "outputs": [
    {
     "data": {
      "text/plain": [
       "<matplotlib.axes._subplots.AxesSubplot at 0x7fa372d48210>"
      ]
     },
     "execution_count": 50,
     "metadata": {},
     "output_type": "execute_result"
    },
    {
     "data": {
      "image/png": "[encoded data removed]",
      "text/plain": [
       "<Figure size 432x288 with 1 Axes>"
      ]
     },
     "metadata": {
      "needs_background": "light"
     },
     "output_type": "display_data"
    }
   ],
   "source": [
    "smart['revenue'].plot(kind='hist', bins=15, legend=True, label='smart')\n",
    "ultra['revenue'].plot(kind='hist', legend=True, label='ultra',alpha=0.5)\n"
   ]
  },
  {
   "cell_type": "markdown",
   "metadata": {},
   "source": [
    "На гистограмме видно что распределения находятся достаточно далеко друг от друга на числовой оси.   \n",
    "Также можно с высокой долей уверенности говорить о том что среднее генеральной совокупности по тарифу Ultra не только не равно среднему генеральной совокупности Smart, но является значительно больше его. Это подтверждают как гистограммы, так и p-значение двусторонней гипотезы, если разделить его на два для проверки односторонней гипотезы то результат так же будет очень значительный."
   ]
  },
  {
   "cell_type": "markdown",
   "metadata": {},
   "source": [
    "---\n",
    "Повторим процедуру для проверки гипотез о равенстве среднемесячной выручки абонентов проживающих в Москве и других городах.\n",
    "Для начала сохраним две выборки в переменных:"
   ]
  },
  {
   "cell_type": "code",
   "execution_count": 51,
   "metadata": {},
   "outputs": [
    {
     "name": "stdout",
     "output_type": "stream",
     "text": [
      "611\n"
     ]
    },
    {
     "data": {
      "text/plain": [
       "2605"
      ]
     },
     "execution_count": 51,
     "metadata": {},
     "output_type": "execute_result"
    }
   ],
   "source": [
    "moscow = df.query('city==\"Москва\"')\n",
    "not_moscow = df.query('city!=\"Москва\"')\n",
    "print(len(moscow))\n",
    "len(not_moscow)"
   ]
  },
  {
   "cell_type": "markdown",
   "metadata": {},
   "source": [
    "Выборка по абонентам из Москвы в 4 раза меньше выборки по остальным городам, соответственно при т-тесте также передадим параметру `equal_var` значение `False`.   \n",
    "Но сначала проверим выборки на выбросы и удалим их:"
   ]
  },
  {
   "cell_type": "code",
   "execution_count": 52,
   "metadata": {},
   "outputs": [
    {
     "name": "stdout",
     "output_type": "stream",
     "text": [
      "count     611.000000\n",
      "mean     1546.713584\n",
      "std       752.088071\n",
      "min       550.000000\n",
      "25%       780.500000\n",
      "50%      1750.000000\n",
      "75%      1950.000000\n",
      "max      5321.000000\n",
      "Name: revenue, dtype: float64\n"
     ]
    },
    {
     "data": {
      "text/plain": [
       "3375.0"
      ]
     },
     "execution_count": 52,
     "metadata": {},
     "output_type": "execute_result"
    },
    {
     "data": {
      "image/png": "[encoded data removed]",
      "text/plain": [
       "<Figure size 432x288 with 1 Axes>"
      ]
     },
     "metadata": {
      "needs_background": "light"
     },
     "output_type": "display_data"
    }
   ],
   "source": [
    "moscow['revenue'].plot(kind='box')\n",
    "plt.ylabel(' Руб/месяц')\n",
    "plt.title('Выручка в Москве')\n",
    "print(moscow['revenue'].describe())\n",
    "moscow['revenue'].quantile(0.99)"
   ]
  },
  {
   "cell_type": "markdown",
   "metadata": {},
   "source": [
    "Перезапишем таблицу:"
   ]
  },
  {
   "cell_type": "code",
   "execution_count": 53,
   "metadata": {},
   "outputs": [],
   "source": [
    "moscow=moscow.query('revenue<=3375')"
   ]
  },
  {
   "cell_type": "code",
   "execution_count": 54,
   "metadata": {},
   "outputs": [
    {
     "name": "stdout",
     "output_type": "stream",
     "text": [
      "count    2605.000000\n",
      "mean     1524.725144\n",
      "std       808.745680\n",
      "min       550.000000\n",
      "25%       750.000000\n",
      "50%      1583.000000\n",
      "75%      1950.000000\n",
      "max      6770.000000\n",
      "Name: revenue, dtype: float64\n"
     ]
    },
    {
     "data": {
      "text/plain": [
       "3898.800000000001"
      ]
     },
     "execution_count": 54,
     "metadata": {},
     "output_type": "execute_result"
    },
    {
     "data": {
      "image/png": "[encoded data removed]",
      "text/plain": [
       "<Figure size 432x288 with 1 Axes>"
      ]
     },
     "metadata": {
      "needs_background": "light"
     },
     "output_type": "display_data"
    }
   ],
   "source": [
    "not_moscow['revenue'].plot(kind='box')\n",
    "plt.ylabel(' Руб/месяц')\n",
    "plt.title('Выручка не в Москве')\n",
    "print(not_moscow['revenue'].describe())\n",
    "not_moscow['revenue'].quantile(0.99)"
   ]
  },
  {
   "cell_type": "markdown",
   "metadata": {},
   "source": [
    "Перезапишем таблицу:"
   ]
  },
  {
   "cell_type": "code",
   "execution_count": 55,
   "metadata": {},
   "outputs": [],
   "source": [
    "not_moscow=not_moscow.query('revenue<=3898')"
   ]
  },
  {
   "cell_type": "markdown",
   "metadata": {},
   "source": [
    "Данные готовы для метода ttest.  \n",
    "Посмотрим на его результаты:"
   ]
  },
  {
   "cell_type": "code",
   "execution_count": 56,
   "metadata": {},
   "outputs": [
    {
     "name": "stdout",
     "output_type": "stream",
     "text": [
      "p-значение:  0.38119037579431136\n",
      "Не получилось отвергнуть нулевую гипотезу\n"
     ]
    }
   ],
   "source": [
    "results = st.ttest_ind(moscow['revenue'], not_moscow['revenue'], equal_var=False)\n",
    "\n",
    "alpha = .05 \n",
    "\n",
    "print('p-значение: ', results.pvalue)\n",
    "\n",
    "if results.pvalue < alpha:\n",
    "    print(\"Отвергаем нулевую гипотезу\")\n",
    "else:\n",
    "    print(\"Не получилось отвергнуть нулевую гипотезу\") "
   ]
  },
  {
   "cell_type": "markdown",
   "metadata": {},
   "source": [
    "На этот раз нулевую гипотезу отвергнуть не удалось, результат p-значения слишком велик для этого. \n",
    "Но мы сравнивали общую массу абонентов обоих тарифов. Повторим процедуру, предварительно разделив выборки абонентов по тарифным планам и сравним уже пользователей разных городов с одинаковыми тарифами:"
   ]
  },
  {
   "cell_type": "code",
   "execution_count": 57,
   "metadata": {},
   "outputs": [
    {
     "name": "stdout",
     "output_type": "stream",
     "text": [
      "count     384.000000\n",
      "mean     1221.236979\n",
      "std       710.790314\n",
      "min       550.000000\n",
      "25%       550.000000\n",
      "50%      1003.000000\n",
      "75%      1673.000000\n",
      "max      3375.000000\n",
      "Name: revenue, dtype: float64\n"
     ]
    },
    {
     "data": {
      "text/plain": [
       "3207.2700000000004"
      ]
     },
     "execution_count": 57,
     "metadata": {},
     "output_type": "execute_result"
    },
    {
     "data": {
      "image/png": "[encoded data removed]",
      "text/plain": [
       "<Figure size 432x288 with 1 Axes>"
      ]
     },
     "metadata": {
      "needs_background": "light"
     },
     "output_type": "display_data"
    }
   ],
   "source": [
    "moscow.query('tariff==\"smart\"')['revenue'].plot(kind='box')\n",
    "plt.ylabel('Руб/месяц')\n",
    "plt.title('Выручка по тарифу Smart в Москве')\n",
    "print(moscow.query('tariff==\"smart\"')['revenue'].describe())\n",
    "moscow.query('tariff==\"smart\"')['revenue'].quantile(0.99)"
   ]
  },
  {
   "cell_type": "markdown",
   "metadata": {},
   "source": [
    "Выброс по тарифу Smart не выглядит ярковыраженным и не влияет сильно на среднее, поэтому его можно оставить."
   ]
  },
  {
   "cell_type": "code",
   "execution_count": 58,
   "metadata": {},
   "outputs": [
    {
     "name": "stdout",
     "output_type": "stream",
     "text": [
      "count    1825.000000\n",
      "mean     1264.578630\n",
      "std       754.398524\n",
      "min       550.000000\n",
      "25%       550.000000\n",
      "50%      1012.000000\n",
      "75%      1750.000000\n",
      "max      3870.000000\n",
      "Name: revenue, dtype: float64\n"
     ]
    },
    {
     "data": {
      "text/plain": [
       "3409.76"
      ]
     },
     "execution_count": 58,
     "metadata": {},
     "output_type": "execute_result"
    },
    {
     "data": {
      "image/png": "[encoded data removed]",
      "text/plain": [
       "<Figure size 432x288 with 1 Axes>"
      ]
     },
     "metadata": {
      "needs_background": "light"
     },
     "output_type": "display_data"
    }
   ],
   "source": [
    "not_moscow.query('tariff==\"smart\"')['revenue'].plot(kind='box')\n",
    "plt.ylabel('Руб/месяц')\n",
    "plt.title('Выручка по тарифу Smart в остальных городах')\n",
    "print(not_moscow.query('tariff==\"smart\"')['revenue'].describe())\n",
    "not_moscow.query('tariff==\"smart\"')['revenue'].quantile(0.99)"
   ]
  },
  {
   "cell_type": "markdown",
   "metadata": {},
   "source": [
    "Здесь максимальное значение сильно отличается от границы норальных и его лучше убрать. Запишем новую переменную:"
   ]
  },
  {
   "cell_type": "code",
   "execution_count": 59,
   "metadata": {},
   "outputs": [],
   "source": [
    "not_moscow_smart = not_moscow.query('tariff==\"smart\" and revenue<=3409.76')"
   ]
  },
  {
   "cell_type": "code",
   "execution_count": 60,
   "metadata": {},
   "outputs": [
    {
     "name": "stdout",
     "output_type": "stream",
     "text": [
      "count     221.000000\n",
      "mean     2042.986425\n",
      "std       263.728760\n",
      "min      1950.000000\n",
      "25%      1950.000000\n",
      "50%      1950.000000\n",
      "75%      1950.000000\n",
      "max      3300.000000\n",
      "Name: revenue, dtype: float64\n"
     ]
    },
    {
     "data": {
      "text/plain": [
       "3150.0"
      ]
     },
     "execution_count": 60,
     "metadata": {},
     "output_type": "execute_result"
    }
   ],
   "source": [
    "print(moscow.query('tariff==\"ultra\"')['revenue'].describe())\n",
    "moscow.query('tariff==\"ultra\"')['revenue'].quantile(0.99)"
   ]
  },
  {
   "cell_type": "markdown",
   "metadata": {},
   "source": [
    "Ситуация с тарифом Ultra в Мск такая же как с тарифом Smart, можно не убирать выбросы."
   ]
  },
  {
   "cell_type": "markdown",
   "metadata": {},
   "source": [
    "Посмотрим на тариф Ultra по остальным городам:"
   ]
  },
  {
   "cell_type": "code",
   "execution_count": 61,
   "metadata": {},
   "outputs": [
    {
     "name": "stdout",
     "output_type": "stream",
     "text": [
      "count     753.000000\n",
      "mean     2046.812749\n",
      "std       317.931209\n",
      "min      1950.000000\n",
      "25%      1950.000000\n",
      "50%      1950.000000\n",
      "75%      1950.000000\n",
      "max      3750.000000\n",
      "Name: revenue, dtype: float64\n"
     ]
    },
    {
     "data": {
      "text/plain": [
       "3672.0000000000027"
      ]
     },
     "execution_count": 61,
     "metadata": {},
     "output_type": "execute_result"
    }
   ],
   "source": [
    "print(not_moscow.query('tariff==\"ultra\"')['revenue'].describe())\n",
    "not_moscow.query('tariff==\"ultra\"')['revenue'].quantile(0.99)"
   ]
  },
  {
   "cell_type": "markdown",
   "metadata": {},
   "source": [
    "Здесь максимальное значение недалеко ушло от границы нормальных, можно его оставить.\n",
    "Проведём тест:"
   ]
  },
  {
   "cell_type": "code",
   "execution_count": 62,
   "metadata": {},
   "outputs": [
    {
     "name": "stdout",
     "output_type": "stream",
     "text": [
      "p-значение:  0.8567799293116486\n",
      "Не получилось отвергнуть нулевую гипотезу\n"
     ]
    }
   ],
   "source": [
    "results = st.ttest_ind(moscow.query('tariff==\"ultra\"')['revenue'], not_moscow.query('tariff==\"ultra\"')['revenue'], equal_var=False)\n",
    "\n",
    "alpha = .05 \n",
    "\n",
    "print('p-значение: ', results.pvalue)\n",
    "\n",
    "if results.pvalue < alpha:\n",
    "    print(\"Отвергаем нулевую гипотезу\")\n",
    "else:\n",
    "    print(\"Не получилось отвергнуть нулевую гипотезу\") "
   ]
  },
  {
   "cell_type": "code",
   "execution_count": 63,
   "metadata": {},
   "outputs": [
    {
     "name": "stdout",
     "output_type": "stream",
     "text": [
      "p-значение:  0.6414584194645918\n",
      "Не получилось отвергнуть нулевую гипотезу\n"
     ]
    }
   ],
   "source": [
    "results = st.ttest_ind(moscow.query('tariff==\"smart\"')['revenue'], not_moscow_smart['revenue'], equal_var=False)\n",
    "\n",
    "alpha = .05 \n",
    "\n",
    "print('p-значение: ', results.pvalue)\n",
    "\n",
    "if results.pvalue < alpha:\n",
    "    print(\"Отвергаем нулевую гипотезу\")\n",
    "else:\n",
    "    print(\"Не получилось отвергнуть нулевую гипотезу\") "
   ]
  },
  {
   "cell_type": "markdown",
   "metadata": {},
   "source": [
    "Разбиение по тарифом также не дало оснований опровергнуть нулевую гипотезу: высокие p-значения дают основания предположить о близоски средних генеральных совокупностей друг к другу."
   ]
  },
  {
   "cell_type": "markdown",
   "metadata": {},
   "source": [
    "### Вывод"
   ]
  },
  {
   "cell_type": "markdown",
   "metadata": {},
   "source": [
    "Во время предобработки данных были обнаружены нулевые значения в интернет - сессиях в таблице с одноименными значениями и разными названиями столбца с тарифом в таблицах с плозьвотелями и описаниями тарифов.\n",
    "\n",
    "Причина появления нулевых значений может быть обусловлена ошибками сети, либо носить системный характер при выгрузке.  \n",
    "Названия столбцов с тарифами запсаны по-разному скорее из-за человеческого фактора.\n",
    "Данные со всех источников были объеденены в одну таблицу, предварительно количество основных показаелей в них было сгруппировано по месяцам.\n",
    "\n",
    "В ходе исследовательского анализа были описаны распределения и описан портрет среднего пользователя - в среднем по тарифу Smart абоненты превышают лимит предоплаченного трафика, в остальном же обычно им хватает предоплаченных услуг связи.  \n",
    "Распределения по тарифам smart более однородные, что можно частично объяснить большим количеством наблюдений в сравнении с тарифом Ultra, но также и с более активным пользованием услугами связи.\n",
    "\n"
   ]
  },
  {
   "cell_type": "markdown",
   "metadata": {},
   "source": [
    "На этапе проверки гипотез удалось подтвердить гипотезу, что абоненты тарифа Ultra приносят компании больше прибыли, соответственно отделу можно дать реккомендацию при формировании рекламного бюджета сделать упор именно на этот тариф.  \n",
    "Гипотеза о том, что абоненты, проживающие в Москве приносят неодинаковое количество выручки с абонентами, проживающими в других городах не подтвердилась.\n",
    "\n",
    "Исследование можно считать завершенным."
   ]
  }
 ],
 "metadata": {
  "ExecuteTimeLog": [
   {
    "duration": 3,
    "start_time": "2022-01-20T19:04:04.775Z"
   },
   {
    "duration": 776,
    "start_time": "2022-01-20T19:16:25.967Z"
   },
   {
    "duration": 167,
    "start_time": "2022-01-20T19:16:35.355Z"
   },
   {
    "duration": 168,
    "start_time": "2022-01-20T19:16:42.155Z"
   },
   {
    "duration": 178,
    "start_time": "2022-01-20T19:16:46.000Z"
   },
   {
    "duration": 170,
    "start_time": "2022-01-20T19:16:50.211Z"
   },
   {
    "duration": 678,
    "start_time": "2022-01-21T10:09:01.941Z"
   },
   {
    "duration": 165,
    "start_time": "2022-01-21T10:29:14.503Z"
   },
   {
    "duration": 39,
    "start_time": "2022-01-21T10:57:05.763Z"
   },
   {
    "duration": 39,
    "start_time": "2022-01-21T10:57:10.797Z"
   },
   {
    "duration": 5,
    "start_time": "2022-01-21T10:57:41.862Z"
   },
   {
    "duration": 304,
    "start_time": "2022-01-21T10:58:05.823Z"
   },
   {
    "duration": 6,
    "start_time": "2022-01-21T10:58:11.287Z"
   },
   {
    "duration": 282,
    "start_time": "2022-01-21T10:59:21.320Z"
   },
   {
    "duration": 13,
    "start_time": "2022-01-21T10:59:49.386Z"
   },
   {
    "duration": 15,
    "start_time": "2022-01-21T11:00:11.168Z"
   },
   {
    "duration": 39,
    "start_time": "2022-01-21T11:03:40.150Z"
   },
   {
    "duration": 39,
    "start_time": "2022-01-21T11:04:44.551Z"
   },
   {
    "duration": 18,
    "start_time": "2022-01-21T11:22:03.817Z"
   },
   {
    "duration": 130,
    "start_time": "2022-01-21T12:13:52.801Z"
   },
   {
    "duration": 97,
    "start_time": "2022-01-21T12:32:57.613Z"
   },
   {
    "duration": 14,
    "start_time": "2022-01-21T13:35:00.781Z"
   },
   {
    "duration": 174,
    "start_time": "2022-01-21T13:36:23.399Z"
   },
   {
    "duration": 168,
    "start_time": "2022-01-21T13:37:05.582Z"
   },
   {
    "duration": 260,
    "start_time": "2022-01-22T16:10:51.326Z"
   },
   {
    "duration": 3,
    "start_time": "2022-01-22T16:11:00.627Z"
   },
   {
    "duration": 833,
    "start_time": "2022-01-22T16:11:00.633Z"
   },
   {
    "duration": 39,
    "start_time": "2022-01-22T16:11:02.887Z"
   },
   {
    "duration": 44,
    "start_time": "2022-01-22T16:11:08.071Z"
   },
   {
    "duration": 10,
    "start_time": "2022-01-22T16:13:01.539Z"
   },
   {
    "duration": 264,
    "start_time": "2022-01-22T16:14:26.183Z"
   },
   {
    "duration": 1025,
    "start_time": "2022-01-22T16:14:41.495Z"
   },
   {
    "duration": 3,
    "start_time": "2022-01-22T16:15:17.103Z"
   },
   {
    "duration": 17,
    "start_time": "2022-01-22T16:15:29.011Z"
   },
   {
    "duration": 22,
    "start_time": "2022-01-22T16:16:07.828Z"
   },
   {
    "duration": 219,
    "start_time": "2022-01-22T16:16:45.657Z"
   },
   {
    "duration": 4,
    "start_time": "2022-01-22T16:17:02.508Z"
   },
   {
    "duration": 5,
    "start_time": "2022-01-22T16:17:14.691Z"
   },
   {
    "duration": 4,
    "start_time": "2022-01-22T16:17:16.151Z"
   },
   {
    "duration": 15,
    "start_time": "2022-01-22T16:17:47.792Z"
   },
   {
    "duration": 6,
    "start_time": "2022-01-22T16:17:56.715Z"
   },
   {
    "duration": 7,
    "start_time": "2022-01-22T16:18:44.135Z"
   },
   {
    "duration": 2,
    "start_time": "2022-01-22T16:21:00.412Z"
   },
   {
    "duration": 205,
    "start_time": "2022-01-22T16:21:00.418Z"
   },
   {
    "duration": 39,
    "start_time": "2022-01-22T16:21:00.625Z"
   },
   {
    "duration": 4,
    "start_time": "2022-01-22T16:28:07.524Z"
   },
   {
    "duration": 176,
    "start_time": "2022-01-22T16:37:07.657Z"
   },
   {
    "duration": 336,
    "start_time": "2022-01-23T09:47:33.126Z"
   },
   {
    "duration": 3,
    "start_time": "2022-01-23T09:47:42.842Z"
   },
   {
    "duration": 753,
    "start_time": "2022-01-23T09:47:42.847Z"
   },
   {
    "duration": 38,
    "start_time": "2022-01-23T09:47:43.602Z"
   },
   {
    "duration": 19,
    "start_time": "2022-01-23T09:47:43.642Z"
   },
   {
    "duration": 130,
    "start_time": "2022-01-23T09:47:43.663Z"
   },
   {
    "duration": 440,
    "start_time": "2022-01-23T09:47:43.795Z"
   },
   {
    "duration": 394,
    "start_time": "2022-01-23T09:47:46.277Z"
   },
   {
    "duration": 94,
    "start_time": "2022-01-23T09:47:54.481Z"
   },
   {
    "duration": 14,
    "start_time": "2022-01-23T11:31:34.789Z"
   },
   {
    "duration": 7540,
    "start_time": "2022-01-23T11:32:19.808Z"
   },
   {
    "duration": 7040,
    "start_time": "2022-01-23T11:32:32.608Z"
   },
   {
    "duration": 41,
    "start_time": "2022-01-23T11:32:48.767Z"
   },
   {
    "duration": 8220,
    "start_time": "2022-01-23T11:32:51.040Z"
   },
   {
    "duration": 9,
    "start_time": "2022-01-23T11:33:27.100Z"
   },
   {
    "duration": 8,
    "start_time": "2022-01-23T11:33:38.414Z"
   },
   {
    "duration": 8,
    "start_time": "2022-01-23T11:33:42.724Z"
   },
   {
    "duration": 277,
    "start_time": "2022-01-23T11:45:29.352Z"
   },
   {
    "duration": 333,
    "start_time": "2022-01-23T11:45:39.809Z"
   },
   {
    "duration": 119,
    "start_time": "2022-01-23T11:57:59.110Z"
   },
   {
    "duration": 25,
    "start_time": "2022-01-23T11:59:48.698Z"
   },
   {
    "duration": 17,
    "start_time": "2022-01-23T12:00:00.635Z"
   },
   {
    "duration": 7875,
    "start_time": "2022-01-23T12:09:33.515Z"
   },
   {
    "duration": 28,
    "start_time": "2022-01-23T12:10:14.951Z"
   },
   {
    "duration": 45,
    "start_time": "2022-01-23T12:13:17.891Z"
   },
   {
    "duration": 5,
    "start_time": "2022-01-23T12:13:53.939Z"
   },
   {
    "duration": 19,
    "start_time": "2022-01-23T12:14:20.996Z"
   },
   {
    "duration": 4,
    "start_time": "2022-01-23T12:14:45.772Z"
   },
   {
    "duration": 11,
    "start_time": "2022-01-23T12:17:58.588Z"
   },
   {
    "duration": 4,
    "start_time": "2022-01-23T12:18:15.008Z"
   },
   {
    "duration": 300,
    "start_time": "2022-01-23T12:18:45.592Z"
   },
   {
    "duration": 8,
    "start_time": "2022-01-23T12:18:49.040Z"
   },
   {
    "duration": 4,
    "start_time": "2022-01-23T12:19:56.412Z"
   },
   {
    "duration": 1958,
    "start_time": "2022-01-23T12:20:09.856Z"
   },
   {
    "duration": 7,
    "start_time": "2022-01-23T12:20:17.908Z"
   },
   {
    "duration": 12,
    "start_time": "2022-01-23T12:20:25.620Z"
   },
   {
    "duration": 4,
    "start_time": "2022-01-23T12:20:38.364Z"
   },
   {
    "duration": 120,
    "start_time": "2022-01-23T12:20:46.596Z"
   },
   {
    "duration": 5,
    "start_time": "2022-01-23T12:20:50.656Z"
   },
   {
    "duration": 13,
    "start_time": "2022-01-23T12:21:15.208Z"
   },
   {
    "duration": 5,
    "start_time": "2022-01-23T12:28:30.505Z"
   },
   {
    "duration": 11,
    "start_time": "2022-01-23T12:32:59.897Z"
   },
   {
    "duration": 11,
    "start_time": "2022-01-23T12:33:15.549Z"
   },
   {
    "duration": 862,
    "start_time": "2022-01-23T12:34:52.288Z"
   },
   {
    "duration": 46,
    "start_time": "2022-01-23T12:35:07.381Z"
   },
   {
    "duration": 263,
    "start_time": "2022-01-23T12:51:16.434Z"
   },
   {
    "duration": 283,
    "start_time": "2022-01-23T12:51:25.982Z"
   },
   {
    "duration": 4,
    "start_time": "2022-01-23T12:53:13.130Z"
   },
   {
    "duration": 13,
    "start_time": "2022-01-23T12:53:17.342Z"
   },
   {
    "duration": 6,
    "start_time": "2022-01-23T12:53:46.538Z"
   },
   {
    "duration": 13,
    "start_time": "2022-01-23T12:53:50.358Z"
   },
   {
    "duration": 296,
    "start_time": "2022-01-23T12:55:05.787Z"
   },
   {
    "duration": 8,
    "start_time": "2022-01-23T12:55:36.733Z"
   },
   {
    "duration": 59,
    "start_time": "2022-01-23T12:59:08.335Z"
   },
   {
    "duration": 4,
    "start_time": "2022-01-23T12:59:30.359Z"
   },
   {
    "duration": 3,
    "start_time": "2022-01-23T13:00:04.663Z"
   },
   {
    "duration": 12,
    "start_time": "2022-01-23T13:00:12.355Z"
   },
   {
    "duration": 4,
    "start_time": "2022-01-23T13:00:26.751Z"
   },
   {
    "duration": 4,
    "start_time": "2022-01-23T13:00:35.727Z"
   },
   {
    "duration": 14,
    "start_time": "2022-01-23T13:00:40.967Z"
   },
   {
    "duration": 623,
    "start_time": "2022-01-23T14:43:31.572Z"
   },
   {
    "duration": 52,
    "start_time": "2022-01-23T14:43:46.804Z"
   },
   {
    "duration": 12,
    "start_time": "2022-01-23T14:44:05.872Z"
   },
   {
    "duration": 122,
    "start_time": "2022-01-23T14:49:03.196Z"
   },
   {
    "duration": 7,
    "start_time": "2022-01-23T14:49:33.396Z"
   },
   {
    "duration": 15,
    "start_time": "2022-01-23T14:50:14.133Z"
   },
   {
    "duration": 8,
    "start_time": "2022-01-23T14:50:50.648Z"
   },
   {
    "duration": 7057,
    "start_time": "2022-01-23T14:52:55.564Z"
   },
   {
    "duration": 5,
    "start_time": "2022-01-23T14:53:33.469Z"
   },
   {
    "duration": 8,
    "start_time": "2022-01-23T14:54:01.768Z"
   },
   {
    "duration": 16,
    "start_time": "2022-01-23T14:54:10.443Z"
   },
   {
    "duration": 4,
    "start_time": "2022-01-23T14:55:25.657Z"
   },
   {
    "duration": 15,
    "start_time": "2022-01-23T14:55:29.797Z"
   },
   {
    "duration": 99,
    "start_time": "2022-01-23T14:56:05.161Z"
   },
   {
    "duration": 15,
    "start_time": "2022-01-23T14:56:15.501Z"
   },
   {
    "duration": 5646,
    "start_time": "2022-01-23T14:56:22.929Z"
   },
   {
    "duration": 89,
    "start_time": "2022-01-23T14:56:34.205Z"
   },
   {
    "duration": 268,
    "start_time": "2022-01-23T14:57:27.345Z"
   },
   {
    "duration": 280,
    "start_time": "2022-01-23T14:57:59.165Z"
   },
   {
    "duration": 4,
    "start_time": "2022-01-23T14:58:08.060Z"
   },
   {
    "duration": 5564,
    "start_time": "2022-01-23T14:58:24.712Z"
   },
   {
    "duration": 322,
    "start_time": "2022-01-23T14:58:34.085Z"
   },
   {
    "duration": 5,
    "start_time": "2022-01-23T14:58:52.745Z"
   },
   {
    "duration": 278,
    "start_time": "2022-01-23T14:59:15.913Z"
   },
   {
    "duration": 3,
    "start_time": "2022-01-23T14:59:51.449Z"
   },
   {
    "duration": 21,
    "start_time": "2022-01-23T14:59:55.694Z"
   },
   {
    "duration": 17,
    "start_time": "2022-01-23T15:00:15.318Z"
   },
   {
    "duration": 3,
    "start_time": "2022-01-23T15:00:20.885Z"
   },
   {
    "duration": 261,
    "start_time": "2022-01-23T15:00:20.892Z"
   },
   {
    "duration": 38,
    "start_time": "2022-01-23T15:00:21.155Z"
   },
   {
    "duration": 19,
    "start_time": "2022-01-23T15:00:21.195Z"
   },
   {
    "duration": 156,
    "start_time": "2022-01-23T15:00:21.216Z"
   },
   {
    "duration": 140,
    "start_time": "2022-01-23T15:00:21.374Z"
   },
   {
    "duration": 16,
    "start_time": "2022-01-23T15:00:21.515Z"
   },
   {
    "duration": 29,
    "start_time": "2022-01-23T15:00:21.532Z"
   },
   {
    "duration": 31,
    "start_time": "2022-01-23T15:00:21.563Z"
   },
   {
    "duration": 70,
    "start_time": "2022-01-23T15:00:21.595Z"
   },
   {
    "duration": 13,
    "start_time": "2022-01-23T15:00:21.666Z"
   },
   {
    "duration": 21,
    "start_time": "2022-01-23T15:00:21.681Z"
   },
   {
    "duration": 23,
    "start_time": "2022-01-23T15:00:21.704Z"
   },
   {
    "duration": 31,
    "start_time": "2022-01-23T15:00:21.729Z"
   },
   {
    "duration": 29,
    "start_time": "2022-01-23T15:00:21.762Z"
   },
   {
    "duration": 12,
    "start_time": "2022-01-23T15:00:21.793Z"
   },
   {
    "duration": 41,
    "start_time": "2022-01-23T15:00:21.806Z"
   },
   {
    "duration": 17,
    "start_time": "2022-01-23T15:00:33.449Z"
   },
   {
    "duration": 3,
    "start_time": "2022-01-23T15:00:33.937Z"
   },
   {
    "duration": 95,
    "start_time": "2022-01-23T15:01:27.657Z"
   },
   {
    "duration": 3,
    "start_time": "2022-01-23T15:01:38.733Z"
   },
   {
    "duration": 5,
    "start_time": "2022-01-23T15:01:43.897Z"
   },
   {
    "duration": 2,
    "start_time": "2022-01-23T15:01:58.181Z"
   },
   {
    "duration": 249,
    "start_time": "2022-01-23T15:01:58.187Z"
   },
   {
    "duration": 46,
    "start_time": "2022-01-23T15:01:58.438Z"
   },
   {
    "duration": 20,
    "start_time": "2022-01-23T15:01:58.486Z"
   },
   {
    "duration": 214,
    "start_time": "2022-01-23T15:01:58.508Z"
   },
   {
    "duration": 148,
    "start_time": "2022-01-23T15:01:58.727Z"
   },
   {
    "duration": 15,
    "start_time": "2022-01-23T15:01:58.877Z"
   },
   {
    "duration": 47,
    "start_time": "2022-01-23T15:01:58.894Z"
   },
   {
    "duration": 28,
    "start_time": "2022-01-23T15:01:58.943Z"
   },
   {
    "duration": 64,
    "start_time": "2022-01-23T15:01:58.973Z"
   },
   {
    "duration": 14,
    "start_time": "2022-01-23T15:01:59.039Z"
   },
   {
    "duration": 25,
    "start_time": "2022-01-23T15:01:59.055Z"
   },
   {
    "duration": 25,
    "start_time": "2022-01-23T15:01:59.082Z"
   },
   {
    "duration": 24,
    "start_time": "2022-01-23T15:01:59.109Z"
   },
   {
    "duration": 23,
    "start_time": "2022-01-23T15:01:59.134Z"
   },
   {
    "duration": 18,
    "start_time": "2022-01-23T15:01:59.158Z"
   },
   {
    "duration": 20,
    "start_time": "2022-01-23T15:01:59.178Z"
   },
   {
    "duration": 17,
    "start_time": "2022-01-23T15:01:59.200Z"
   },
   {
    "duration": 10,
    "start_time": "2022-01-23T15:02:01.449Z"
   },
   {
    "duration": 2,
    "start_time": "2022-01-23T15:02:49.807Z"
   },
   {
    "duration": 158,
    "start_time": "2022-01-23T15:02:49.814Z"
   },
   {
    "duration": 37,
    "start_time": "2022-01-23T15:02:49.973Z"
   },
   {
    "duration": 19,
    "start_time": "2022-01-23T15:02:50.012Z"
   },
   {
    "duration": 147,
    "start_time": "2022-01-23T15:02:50.033Z"
   },
   {
    "duration": 143,
    "start_time": "2022-01-23T15:02:50.182Z"
   },
   {
    "duration": 15,
    "start_time": "2022-01-23T15:02:50.327Z"
   },
   {
    "duration": 41,
    "start_time": "2022-01-23T15:02:50.344Z"
   },
   {
    "duration": 55,
    "start_time": "2022-01-23T15:02:50.387Z"
   },
   {
    "duration": 49,
    "start_time": "2022-01-23T15:02:50.445Z"
   },
   {
    "duration": 39,
    "start_time": "2022-01-23T15:02:50.497Z"
   },
   {
    "duration": 7,
    "start_time": "2022-01-23T15:02:50.537Z"
   },
   {
    "duration": 10,
    "start_time": "2022-01-23T15:02:50.546Z"
   },
   {
    "duration": 14,
    "start_time": "2022-01-23T15:02:50.558Z"
   },
   {
    "duration": 60,
    "start_time": "2022-01-23T15:02:50.574Z"
   },
   {
    "duration": 5,
    "start_time": "2022-01-23T15:02:50.636Z"
   },
   {
    "duration": 18,
    "start_time": "2022-01-23T15:02:50.642Z"
   },
   {
    "duration": 7,
    "start_time": "2022-01-23T15:02:55.169Z"
   },
   {
    "duration": 3,
    "start_time": "2022-01-23T15:03:30.333Z"
   },
   {
    "duration": 166,
    "start_time": "2022-01-23T15:03:30.342Z"
   },
   {
    "duration": 37,
    "start_time": "2022-01-23T15:03:30.509Z"
   },
   {
    "duration": 39,
    "start_time": "2022-01-23T15:03:30.549Z"
   },
   {
    "duration": 151,
    "start_time": "2022-01-23T15:03:30.591Z"
   },
   {
    "duration": 101,
    "start_time": "2022-01-23T15:03:30.744Z"
   },
   {
    "duration": 13,
    "start_time": "2022-01-23T15:03:30.847Z"
   },
   {
    "duration": 25,
    "start_time": "2022-01-23T15:03:30.862Z"
   },
   {
    "duration": 55,
    "start_time": "2022-01-23T15:03:30.889Z"
   },
   {
    "duration": 46,
    "start_time": "2022-01-23T15:03:30.946Z"
   },
   {
    "duration": 34,
    "start_time": "2022-01-23T15:03:30.994Z"
   },
   {
    "duration": 15,
    "start_time": "2022-01-23T15:03:31.030Z"
   },
   {
    "duration": 23,
    "start_time": "2022-01-23T15:03:31.046Z"
   },
   {
    "duration": 24,
    "start_time": "2022-01-23T15:03:31.071Z"
   },
   {
    "duration": 33,
    "start_time": "2022-01-23T15:03:31.096Z"
   },
   {
    "duration": 12,
    "start_time": "2022-01-23T15:03:31.131Z"
   },
   {
    "duration": 28,
    "start_time": "2022-01-23T15:03:31.145Z"
   },
   {
    "duration": 7,
    "start_time": "2022-01-23T15:03:32.577Z"
   },
   {
    "duration": 2,
    "start_time": "2022-01-23T15:04:18.797Z"
   },
   {
    "duration": 164,
    "start_time": "2022-01-23T15:04:18.804Z"
   },
   {
    "duration": 37,
    "start_time": "2022-01-23T15:04:18.969Z"
   },
   {
    "duration": 20,
    "start_time": "2022-01-23T15:04:19.008Z"
   },
   {
    "duration": 139,
    "start_time": "2022-01-23T15:04:19.030Z"
   },
   {
    "duration": 100,
    "start_time": "2022-01-23T15:04:19.171Z"
   },
   {
    "duration": 16,
    "start_time": "2022-01-23T15:04:19.274Z"
   },
   {
    "duration": 64,
    "start_time": "2022-01-23T15:04:19.292Z"
   },
   {
    "duration": 35,
    "start_time": "2022-01-23T15:04:19.359Z"
   },
   {
    "duration": 86,
    "start_time": "2022-01-23T15:04:19.396Z"
   },
   {
    "duration": 14,
    "start_time": "2022-01-23T15:04:19.484Z"
   },
   {
    "duration": 28,
    "start_time": "2022-01-23T15:04:19.499Z"
   },
   {
    "duration": 6,
    "start_time": "2022-01-23T15:04:19.529Z"
   },
   {
    "duration": 14,
    "start_time": "2022-01-23T15:04:19.537Z"
   },
   {
    "duration": 14,
    "start_time": "2022-01-23T15:04:19.553Z"
   },
   {
    "duration": 3,
    "start_time": "2022-01-23T15:04:19.568Z"
   },
   {
    "duration": 54,
    "start_time": "2022-01-23T15:04:19.573Z"
   },
   {
    "duration": 6,
    "start_time": "2022-01-23T15:04:23.405Z"
   },
   {
    "duration": 18,
    "start_time": "2022-01-23T15:04:37.141Z"
   },
   {
    "duration": 3,
    "start_time": "2022-01-23T15:04:50.469Z"
   },
   {
    "duration": 160,
    "start_time": "2022-01-23T15:04:50.476Z"
   },
   {
    "duration": 37,
    "start_time": "2022-01-23T15:04:50.637Z"
   },
   {
    "duration": 23,
    "start_time": "2022-01-23T15:04:50.676Z"
   },
   {
    "duration": 199,
    "start_time": "2022-01-23T15:04:50.701Z"
   },
   {
    "duration": 144,
    "start_time": "2022-01-23T15:04:50.901Z"
   },
   {
    "duration": 16,
    "start_time": "2022-01-23T15:04:51.048Z"
   },
   {
    "duration": 65,
    "start_time": "2022-01-23T15:04:51.066Z"
   },
   {
    "duration": 40,
    "start_time": "2022-01-23T15:04:51.134Z"
   },
   {
    "duration": 94,
    "start_time": "2022-01-23T15:04:51.176Z"
   },
   {
    "duration": 14,
    "start_time": "2022-01-23T15:04:51.272Z"
   },
   {
    "duration": 11,
    "start_time": "2022-01-23T15:04:51.288Z"
   },
   {
    "duration": 29,
    "start_time": "2022-01-23T15:04:51.301Z"
   },
   {
    "duration": 19,
    "start_time": "2022-01-23T15:04:51.331Z"
   },
   {
    "duration": 17,
    "start_time": "2022-01-23T15:04:51.351Z"
   },
   {
    "duration": 4,
    "start_time": "2022-01-23T15:04:51.370Z"
   },
   {
    "duration": 52,
    "start_time": "2022-01-23T15:04:51.376Z"
   },
   {
    "duration": 20,
    "start_time": "2022-01-23T15:04:55.218Z"
   },
   {
    "duration": 8,
    "start_time": "2022-01-23T15:05:03.021Z"
   },
   {
    "duration": 4,
    "start_time": "2022-01-23T15:05:48.781Z"
   },
   {
    "duration": 6,
    "start_time": "2022-01-23T15:05:58.733Z"
   },
   {
    "duration": 4,
    "start_time": "2022-01-23T15:06:22.602Z"
   },
   {
    "duration": 15,
    "start_time": "2022-01-23T15:06:27.614Z"
   },
   {
    "duration": 18,
    "start_time": "2022-01-23T15:08:06.061Z"
   },
   {
    "duration": 94,
    "start_time": "2022-01-23T15:09:12.266Z"
   },
   {
    "duration": 191,
    "start_time": "2022-01-23T15:09:22.069Z"
   },
   {
    "duration": 5568,
    "start_time": "2022-01-23T15:09:36.614Z"
   },
   {
    "duration": 101,
    "start_time": "2022-01-23T15:09:44.410Z"
   },
   {
    "duration": 90,
    "start_time": "2022-01-23T15:09:54.782Z"
   },
   {
    "duration": 93,
    "start_time": "2022-01-23T15:10:11.258Z"
   },
   {
    "duration": 645,
    "start_time": "2022-01-23T15:10:27.165Z"
   },
   {
    "duration": 95,
    "start_time": "2022-01-23T15:10:37.822Z"
   },
   {
    "duration": 4,
    "start_time": "2022-01-23T15:10:46.958Z"
   },
   {
    "duration": 12,
    "start_time": "2022-01-23T15:11:01.682Z"
   },
   {
    "duration": 2,
    "start_time": "2022-01-23T15:12:07.974Z"
   },
   {
    "duration": 155,
    "start_time": "2022-01-23T15:12:07.980Z"
   },
   {
    "duration": 38,
    "start_time": "2022-01-23T15:12:08.137Z"
   },
   {
    "duration": 21,
    "start_time": "2022-01-23T15:12:08.177Z"
   },
   {
    "duration": 135,
    "start_time": "2022-01-23T15:12:08.200Z"
   },
   {
    "duration": 93,
    "start_time": "2022-01-23T15:12:08.337Z"
   },
   {
    "duration": 11,
    "start_time": "2022-01-23T15:12:08.431Z"
   },
   {
    "duration": 25,
    "start_time": "2022-01-23T15:12:08.443Z"
   },
   {
    "duration": 27,
    "start_time": "2022-01-23T15:12:08.470Z"
   },
   {
    "duration": 45,
    "start_time": "2022-01-23T15:12:08.528Z"
   },
   {
    "duration": 13,
    "start_time": "2022-01-23T15:12:08.575Z"
   },
   {
    "duration": 9,
    "start_time": "2022-01-23T15:12:08.589Z"
   },
   {
    "duration": 31,
    "start_time": "2022-01-23T15:12:08.600Z"
   },
   {
    "duration": 15,
    "start_time": "2022-01-23T15:12:08.633Z"
   },
   {
    "duration": 13,
    "start_time": "2022-01-23T15:15:28.414Z"
   },
   {
    "duration": 4,
    "start_time": "2022-01-23T15:18:23.990Z"
   },
   {
    "duration": 7797,
    "start_time": "2022-01-23T15:18:49.254Z"
   },
   {
    "duration": 13,
    "start_time": "2022-01-23T15:19:09.647Z"
   },
   {
    "duration": 5,
    "start_time": "2022-01-23T15:21:09.207Z"
   },
   {
    "duration": 118,
    "start_time": "2022-01-23T15:21:13.814Z"
   },
   {
    "duration": 124,
    "start_time": "2022-01-23T15:21:26.346Z"
   },
   {
    "duration": 122,
    "start_time": "2022-01-23T15:21:32.567Z"
   },
   {
    "duration": 16,
    "start_time": "2022-01-23T15:21:52.014Z"
   },
   {
    "duration": 127,
    "start_time": "2022-01-23T15:21:58.259Z"
   },
   {
    "duration": 8,
    "start_time": "2022-01-23T15:22:12.102Z"
   },
   {
    "duration": 4,
    "start_time": "2022-01-23T15:22:38.807Z"
   },
   {
    "duration": 19,
    "start_time": "2022-01-23T15:30:27.620Z"
   },
   {
    "duration": 8,
    "start_time": "2022-01-23T15:30:38.352Z"
   },
   {
    "duration": 17,
    "start_time": "2022-01-23T15:34:44.115Z"
   },
   {
    "duration": 24,
    "start_time": "2022-01-23T15:34:50.280Z"
   },
   {
    "duration": 17,
    "start_time": "2022-01-23T15:36:52.508Z"
   },
   {
    "duration": 23,
    "start_time": "2022-01-23T15:37:00.044Z"
   },
   {
    "duration": 18,
    "start_time": "2022-01-23T15:37:30.200Z"
   },
   {
    "duration": 23,
    "start_time": "2022-01-23T15:37:55.116Z"
   },
   {
    "duration": 5,
    "start_time": "2022-01-23T15:39:24.417Z"
   },
   {
    "duration": 15,
    "start_time": "2022-01-23T15:39:27.029Z"
   },
   {
    "duration": 109,
    "start_time": "2022-01-23T15:39:51.476Z"
   },
   {
    "duration": 15,
    "start_time": "2022-01-23T15:40:04.421Z"
   },
   {
    "duration": 15,
    "start_time": "2022-01-23T15:41:27.465Z"
   },
   {
    "duration": 8,
    "start_time": "2022-01-23T15:42:34.441Z"
   },
   {
    "duration": 320,
    "start_time": "2022-01-23T15:44:31.761Z"
   },
   {
    "duration": 283,
    "start_time": "2022-01-23T15:44:40.295Z"
   },
   {
    "duration": 7,
    "start_time": "2022-01-23T15:44:46.649Z"
   },
   {
    "duration": 15,
    "start_time": "2022-01-23T15:46:05.117Z"
   },
   {
    "duration": 20,
    "start_time": "2022-01-23T15:46:09.613Z"
   },
   {
    "duration": 95,
    "start_time": "2022-01-23T15:49:01.533Z"
   },
   {
    "duration": 290,
    "start_time": "2022-01-23T15:49:13.477Z"
   },
   {
    "duration": 262,
    "start_time": "2022-01-23T15:49:19.321Z"
   },
   {
    "duration": 29,
    "start_time": "2022-01-23T15:49:38.657Z"
   },
   {
    "duration": 4,
    "start_time": "2022-01-23T15:51:04.509Z"
   },
   {
    "duration": 1103,
    "start_time": "2022-01-23T15:51:17.234Z"
   },
   {
    "duration": 2,
    "start_time": "2022-01-23T15:51:27.757Z"
   },
   {
    "duration": 4,
    "start_time": "2022-01-23T15:51:37.088Z"
   },
   {
    "duration": 12,
    "start_time": "2022-01-23T15:51:41.477Z"
   },
   {
    "duration": 17,
    "start_time": "2022-01-23T16:19:00.031Z"
   },
   {
    "duration": 280,
    "start_time": "2022-01-23T16:22:47.015Z"
   },
   {
    "duration": 11,
    "start_time": "2022-01-23T16:25:07.947Z"
   },
   {
    "duration": 13,
    "start_time": "2022-01-23T16:27:22.083Z"
   },
   {
    "duration": 10,
    "start_time": "2022-01-23T16:27:59.655Z"
   },
   {
    "duration": 284,
    "start_time": "2022-01-23T16:28:05.743Z"
   },
   {
    "duration": 2,
    "start_time": "2022-01-23T16:28:10.587Z"
   },
   {
    "duration": 173,
    "start_time": "2022-01-23T16:28:10.593Z"
   },
   {
    "duration": 37,
    "start_time": "2022-01-23T16:28:10.767Z"
   },
   {
    "duration": 19,
    "start_time": "2022-01-23T16:28:10.806Z"
   },
   {
    "duration": 138,
    "start_time": "2022-01-23T16:28:10.826Z"
   },
   {
    "duration": 95,
    "start_time": "2022-01-23T16:28:10.965Z"
   },
   {
    "duration": 11,
    "start_time": "2022-01-23T16:28:11.061Z"
   },
   {
    "duration": 26,
    "start_time": "2022-01-23T16:28:11.073Z"
   },
   {
    "duration": 52,
    "start_time": "2022-01-23T16:28:11.101Z"
   },
   {
    "duration": 49,
    "start_time": "2022-01-23T16:28:11.155Z"
   },
   {
    "duration": 32,
    "start_time": "2022-01-23T16:28:11.206Z"
   },
   {
    "duration": 18,
    "start_time": "2022-01-23T16:28:11.239Z"
   },
   {
    "duration": 7,
    "start_time": "2022-01-23T16:28:11.258Z"
   },
   {
    "duration": 16,
    "start_time": "2022-01-23T16:28:11.267Z"
   },
   {
    "duration": 11,
    "start_time": "2022-01-23T16:28:11.285Z"
   },
   {
    "duration": 41,
    "start_time": "2022-01-23T16:28:11.298Z"
   },
   {
    "duration": 8,
    "start_time": "2022-01-23T16:28:11.340Z"
   },
   {
    "duration": 20,
    "start_time": "2022-01-23T16:28:11.349Z"
   },
   {
    "duration": 23,
    "start_time": "2022-01-23T16:28:11.370Z"
   },
   {
    "duration": 25,
    "start_time": "2022-01-23T16:28:11.427Z"
   },
   {
    "duration": 15,
    "start_time": "2022-01-23T16:28:11.453Z"
   },
   {
    "duration": 13,
    "start_time": "2022-01-23T16:28:11.469Z"
   },
   {
    "duration": 10,
    "start_time": "2022-01-23T16:28:11.484Z"
   },
   {
    "duration": 18,
    "start_time": "2022-01-23T16:28:11.529Z"
   },
   {
    "duration": 20,
    "start_time": "2022-01-23T16:28:11.548Z"
   },
   {
    "duration": 28,
    "start_time": "2022-01-23T16:28:11.569Z"
   },
   {
    "duration": 35,
    "start_time": "2022-01-23T16:28:11.599Z"
   },
   {
    "duration": 11,
    "start_time": "2022-01-23T16:28:11.636Z"
   },
   {
    "duration": 16,
    "start_time": "2022-01-23T16:28:11.649Z"
   },
   {
    "duration": 313,
    "start_time": "2022-01-23T16:28:11.667Z"
   },
   {
    "duration": 19,
    "start_time": "2022-01-23T16:28:25.607Z"
   },
   {
    "duration": 288,
    "start_time": "2022-01-23T16:29:01.900Z"
   },
   {
    "duration": 31,
    "start_time": "2022-01-23T16:29:14.075Z"
   },
   {
    "duration": 7,
    "start_time": "2022-01-23T16:30:28.831Z"
   },
   {
    "duration": 293,
    "start_time": "2022-01-23T16:32:27.760Z"
   },
   {
    "duration": 402,
    "start_time": "2022-01-23T16:32:41.228Z"
   },
   {
    "duration": 3962,
    "start_time": "2022-01-23T16:35:46.268Z"
   },
   {
    "duration": 1114,
    "start_time": "2022-01-23T16:35:59.412Z"
   },
   {
    "duration": 4,
    "start_time": "2022-01-23T16:37:05.416Z"
   },
   {
    "duration": 52,
    "start_time": "2022-01-23T16:37:20.821Z"
   },
   {
    "duration": 27,
    "start_time": "2022-01-23T16:39:58.349Z"
   },
   {
    "duration": 19,
    "start_time": "2022-01-23T16:40:03.133Z"
   },
   {
    "duration": 35,
    "start_time": "2022-01-23T16:40:09.308Z"
   },
   {
    "duration": 249,
    "start_time": "2022-01-23T16:40:38.733Z"
   },
   {
    "duration": 312,
    "start_time": "2022-01-23T16:41:11.629Z"
   },
   {
    "duration": 3,
    "start_time": "2022-01-23T16:41:17.851Z"
   },
   {
    "duration": 723,
    "start_time": "2022-01-23T16:41:17.855Z"
   },
   {
    "duration": 36,
    "start_time": "2022-01-23T16:41:18.580Z"
   },
   {
    "duration": 19,
    "start_time": "2022-01-23T16:41:18.617Z"
   },
   {
    "duration": 5,
    "start_time": "2022-01-23T16:41:18.638Z"
   },
   {
    "duration": 142,
    "start_time": "2022-01-23T16:41:18.644Z"
   },
   {
    "duration": 96,
    "start_time": "2022-01-23T16:41:18.788Z"
   },
   {
    "duration": 13,
    "start_time": "2022-01-23T16:41:18.887Z"
   },
   {
    "duration": 46,
    "start_time": "2022-01-23T16:41:18.902Z"
   },
   {
    "duration": 28,
    "start_time": "2022-01-23T16:41:18.950Z"
   },
   {
    "duration": 81,
    "start_time": "2022-01-23T16:41:18.979Z"
   },
   {
    "duration": 11,
    "start_time": "2022-01-23T16:41:19.062Z"
   },
   {
    "duration": 17,
    "start_time": "2022-01-23T16:41:19.074Z"
   },
   {
    "duration": 8,
    "start_time": "2022-01-23T16:41:19.093Z"
   },
   {
    "duration": 31,
    "start_time": "2022-01-23T16:41:19.103Z"
   },
   {
    "duration": 12,
    "start_time": "2022-01-23T16:41:19.135Z"
   },
   {
    "duration": 18,
    "start_time": "2022-01-23T16:41:19.148Z"
   },
   {
    "duration": 15,
    "start_time": "2022-01-23T16:41:19.168Z"
   },
   {
    "duration": 48,
    "start_time": "2022-01-23T16:41:19.185Z"
   },
   {
    "duration": 24,
    "start_time": "2022-01-23T16:41:19.234Z"
   },
   {
    "duration": 30,
    "start_time": "2022-01-23T16:41:19.260Z"
   },
   {
    "duration": 42,
    "start_time": "2022-01-23T16:41:19.292Z"
   },
   {
    "duration": 11,
    "start_time": "2022-01-23T16:41:19.338Z"
   },
   {
    "duration": 10,
    "start_time": "2022-01-23T16:41:19.351Z"
   },
   {
    "duration": 20,
    "start_time": "2022-01-23T16:41:19.362Z"
   },
   {
    "duration": 57,
    "start_time": "2022-01-23T16:41:19.383Z"
   },
   {
    "duration": 28,
    "start_time": "2022-01-23T16:41:19.442Z"
   },
   {
    "duration": 11,
    "start_time": "2022-01-23T16:41:19.471Z"
   },
   {
    "duration": 10,
    "start_time": "2022-01-23T16:41:19.484Z"
   },
   {
    "duration": 17,
    "start_time": "2022-01-23T16:41:19.527Z"
   },
   {
    "duration": 19,
    "start_time": "2022-01-23T16:41:21.279Z"
   },
   {
    "duration": 294,
    "start_time": "2022-01-23T16:41:28.503Z"
   },
   {
    "duration": 41,
    "start_time": "2022-01-23T16:41:34.821Z"
   },
   {
    "duration": 228,
    "start_time": "2022-01-23T16:42:57.429Z"
   },
   {
    "duration": 2895,
    "start_time": "2022-01-23T16:43:15.220Z"
   },
   {
    "duration": 3,
    "start_time": "2022-01-23T16:43:26.905Z"
   },
   {
    "duration": 155,
    "start_time": "2022-01-23T16:43:26.911Z"
   },
   {
    "duration": 36,
    "start_time": "2022-01-23T16:43:27.068Z"
   },
   {
    "duration": 18,
    "start_time": "2022-01-23T16:43:27.106Z"
   },
   {
    "duration": 3,
    "start_time": "2022-01-23T16:43:27.126Z"
   },
   {
    "duration": 130,
    "start_time": "2022-01-23T16:43:27.130Z"
   },
   {
    "duration": 88,
    "start_time": "2022-01-23T16:43:27.262Z"
   },
   {
    "duration": 11,
    "start_time": "2022-01-23T16:43:27.351Z"
   },
   {
    "duration": 25,
    "start_time": "2022-01-23T16:43:27.364Z"
   },
   {
    "duration": 47,
    "start_time": "2022-01-23T16:43:27.391Z"
   },
   {
    "duration": 40,
    "start_time": "2022-01-23T16:43:27.439Z"
   },
   {
    "duration": 11,
    "start_time": "2022-01-23T16:43:27.481Z"
   },
   {
    "duration": 35,
    "start_time": "2022-01-23T16:43:27.493Z"
   },
   {
    "duration": 7,
    "start_time": "2022-01-23T16:43:27.529Z"
   },
   {
    "duration": 15,
    "start_time": "2022-01-23T16:43:27.537Z"
   },
   {
    "duration": 11,
    "start_time": "2022-01-23T16:43:27.553Z"
   },
   {
    "duration": 13,
    "start_time": "2022-01-23T16:43:27.565Z"
   },
   {
    "duration": 10,
    "start_time": "2022-01-23T16:43:27.579Z"
   },
   {
    "duration": 57,
    "start_time": "2022-01-23T16:43:27.590Z"
   },
   {
    "duration": 23,
    "start_time": "2022-01-23T16:43:27.649Z"
   },
   {
    "duration": 23,
    "start_time": "2022-01-23T16:43:27.673Z"
   },
   {
    "duration": 33,
    "start_time": "2022-01-23T16:43:27.697Z"
   },
   {
    "duration": 14,
    "start_time": "2022-01-23T16:43:27.732Z"
   },
   {
    "duration": 9,
    "start_time": "2022-01-23T16:43:27.749Z"
   },
   {
    "duration": 16,
    "start_time": "2022-01-23T16:43:27.760Z"
   },
   {
    "duration": 65,
    "start_time": "2022-01-23T16:43:27.778Z"
   },
   {
    "duration": 27,
    "start_time": "2022-01-23T16:43:27.845Z"
   },
   {
    "duration": 11,
    "start_time": "2022-01-23T16:43:27.874Z"
   },
   {
    "duration": 11,
    "start_time": "2022-01-23T16:43:27.887Z"
   },
   {
    "duration": 43,
    "start_time": "2022-01-23T16:43:27.900Z"
   },
   {
    "duration": 18,
    "start_time": "2022-01-23T16:43:27.944Z"
   },
   {
    "duration": 290,
    "start_time": "2022-01-23T16:44:40.853Z"
   },
   {
    "duration": 25,
    "start_time": "2022-01-23T16:45:17.552Z"
   },
   {
    "duration": 26,
    "start_time": "2022-01-23T16:45:54.557Z"
   },
   {
    "duration": 2,
    "start_time": "2022-01-23T16:48:19.794Z"
   },
   {
    "duration": 149,
    "start_time": "2022-01-23T16:48:19.802Z"
   },
   {
    "duration": 38,
    "start_time": "2022-01-23T16:48:19.952Z"
   },
   {
    "duration": 20,
    "start_time": "2022-01-23T16:48:19.992Z"
   },
   {
    "duration": 6,
    "start_time": "2022-01-23T16:48:20.013Z"
   },
   {
    "duration": 150,
    "start_time": "2022-01-23T16:48:20.020Z"
   },
   {
    "duration": 90,
    "start_time": "2022-01-23T16:48:20.172Z"
   },
   {
    "duration": 10,
    "start_time": "2022-01-23T16:48:20.264Z"
   },
   {
    "duration": 25,
    "start_time": "2022-01-23T16:48:20.277Z"
   },
   {
    "duration": 47,
    "start_time": "2022-01-23T16:48:20.304Z"
   },
   {
    "duration": 45,
    "start_time": "2022-01-23T16:48:20.352Z"
   },
   {
    "duration": 32,
    "start_time": "2022-01-23T16:48:20.399Z"
   },
   {
    "duration": 8,
    "start_time": "2022-01-23T16:48:20.433Z"
   },
   {
    "duration": 8,
    "start_time": "2022-01-23T16:48:20.443Z"
   },
   {
    "duration": 18,
    "start_time": "2022-01-23T16:48:20.452Z"
   },
   {
    "duration": 11,
    "start_time": "2022-01-23T16:48:20.471Z"
   },
   {
    "duration": 51,
    "start_time": "2022-01-23T16:48:20.484Z"
   },
   {
    "duration": 8,
    "start_time": "2022-01-23T16:48:20.537Z"
   },
   {
    "duration": 20,
    "start_time": "2022-01-23T16:48:20.547Z"
   },
   {
    "duration": 58,
    "start_time": "2022-01-23T16:48:20.569Z"
   },
   {
    "duration": 37,
    "start_time": "2022-01-23T16:48:20.629Z"
   },
   {
    "duration": 20,
    "start_time": "2022-01-23T16:48:20.668Z"
   },
   {
    "duration": 42,
    "start_time": "2022-01-23T16:48:20.689Z"
   },
   {
    "duration": 12,
    "start_time": "2022-01-23T16:48:20.734Z"
   },
   {
    "duration": 34,
    "start_time": "2022-01-23T16:48:20.748Z"
   },
   {
    "duration": 27,
    "start_time": "2022-01-23T16:48:20.784Z"
   },
   {
    "duration": 43,
    "start_time": "2022-01-23T16:48:20.827Z"
   },
   {
    "duration": 15,
    "start_time": "2022-01-23T16:48:20.872Z"
   },
   {
    "duration": 38,
    "start_time": "2022-01-23T16:48:20.889Z"
   },
   {
    "duration": 19,
    "start_time": "2022-01-23T16:48:52.582Z"
   },
   {
    "duration": 16,
    "start_time": "2022-01-23T16:49:12.510Z"
   },
   {
    "duration": 2,
    "start_time": "2022-01-23T16:49:38.546Z"
   },
   {
    "duration": 150,
    "start_time": "2022-01-23T16:49:38.553Z"
   },
   {
    "duration": 37,
    "start_time": "2022-01-23T16:49:38.704Z"
   },
   {
    "duration": 19,
    "start_time": "2022-01-23T16:49:38.743Z"
   },
   {
    "duration": 13,
    "start_time": "2022-01-23T16:49:38.764Z"
   },
   {
    "duration": 143,
    "start_time": "2022-01-23T16:49:38.779Z"
   },
   {
    "duration": 92,
    "start_time": "2022-01-23T16:49:38.927Z"
   },
   {
    "duration": 14,
    "start_time": "2022-01-23T16:49:39.021Z"
   },
   {
    "duration": 26,
    "start_time": "2022-01-23T16:49:39.038Z"
   },
   {
    "duration": 28,
    "start_time": "2022-01-23T16:49:39.067Z"
   },
   {
    "duration": 70,
    "start_time": "2022-01-23T16:49:39.097Z"
   },
   {
    "duration": 14,
    "start_time": "2022-01-23T16:49:39.169Z"
   },
   {
    "duration": 9,
    "start_time": "2022-01-23T16:49:39.184Z"
   },
   {
    "duration": 37,
    "start_time": "2022-01-23T16:49:39.195Z"
   },
   {
    "duration": 14,
    "start_time": "2022-01-23T16:49:39.234Z"
   },
   {
    "duration": 12,
    "start_time": "2022-01-23T16:49:39.250Z"
   },
   {
    "duration": 18,
    "start_time": "2022-01-23T16:49:39.263Z"
   },
   {
    "duration": 52,
    "start_time": "2022-01-23T16:49:39.282Z"
   },
   {
    "duration": 21,
    "start_time": "2022-01-23T16:49:39.335Z"
   },
   {
    "duration": 23,
    "start_time": "2022-01-23T16:49:39.358Z"
   },
   {
    "duration": 47,
    "start_time": "2022-01-23T16:49:39.382Z"
   },
   {
    "duration": 13,
    "start_time": "2022-01-23T16:49:39.431Z"
   },
   {
    "duration": 11,
    "start_time": "2022-01-23T16:49:39.446Z"
   },
   {
    "duration": 8,
    "start_time": "2022-01-23T16:49:39.460Z"
   },
   {
    "duration": 19,
    "start_time": "2022-01-23T16:49:39.469Z"
   },
   {
    "duration": 56,
    "start_time": "2022-01-23T16:49:39.490Z"
   },
   {
    "duration": 29,
    "start_time": "2022-01-23T16:49:39.548Z"
   },
   {
    "duration": 12,
    "start_time": "2022-01-23T16:49:39.578Z"
   },
   {
    "duration": 39,
    "start_time": "2022-01-23T16:49:39.591Z"
   },
   {
    "duration": 18,
    "start_time": "2022-01-23T16:49:39.632Z"
   },
   {
    "duration": 18,
    "start_time": "2022-01-23T16:49:41.474Z"
   },
   {
    "duration": 19,
    "start_time": "2022-01-23T16:50:20.898Z"
   },
   {
    "duration": 2,
    "start_time": "2022-01-23T16:50:45.342Z"
   },
   {
    "duration": 147,
    "start_time": "2022-01-23T16:50:45.348Z"
   },
   {
    "duration": 40,
    "start_time": "2022-01-23T16:50:45.497Z"
   },
   {
    "duration": 20,
    "start_time": "2022-01-23T16:50:45.539Z"
   },
   {
    "duration": 6,
    "start_time": "2022-01-23T16:50:45.561Z"
   },
   {
    "duration": 142,
    "start_time": "2022-01-23T16:50:45.569Z"
   },
   {
    "duration": 92,
    "start_time": "2022-01-23T16:50:45.712Z"
   },
   {
    "duration": 22,
    "start_time": "2022-01-23T16:50:45.806Z"
   },
   {
    "duration": 25,
    "start_time": "2022-01-23T16:50:45.830Z"
   },
   {
    "duration": 26,
    "start_time": "2022-01-23T16:50:45.857Z"
   },
   {
    "duration": 66,
    "start_time": "2022-01-23T16:50:45.884Z"
   },
   {
    "duration": 14,
    "start_time": "2022-01-23T16:50:45.951Z"
   },
   {
    "duration": 6,
    "start_time": "2022-01-23T16:50:45.966Z"
   },
   {
    "duration": 7,
    "start_time": "2022-01-23T16:50:45.974Z"
   },
   {
    "duration": 49,
    "start_time": "2022-01-23T16:50:45.982Z"
   },
   {
    "duration": 11,
    "start_time": "2022-01-23T16:50:46.032Z"
   },
   {
    "duration": 18,
    "start_time": "2022-01-23T16:50:46.044Z"
   },
   {
    "duration": 7,
    "start_time": "2022-01-23T16:50:46.064Z"
   },
   {
    "duration": 58,
    "start_time": "2022-01-23T16:50:46.072Z"
   },
   {
    "duration": 25,
    "start_time": "2022-01-23T16:50:46.132Z"
   },
   {
    "duration": 23,
    "start_time": "2022-01-23T16:50:46.158Z"
   },
   {
    "duration": 13,
    "start_time": "2022-01-23T16:50:46.182Z"
   },
   {
    "duration": 38,
    "start_time": "2022-01-23T16:50:46.197Z"
   },
   {
    "duration": 9,
    "start_time": "2022-01-23T16:50:46.239Z"
   },
   {
    "duration": 18,
    "start_time": "2022-01-23T16:50:46.250Z"
   },
   {
    "duration": 20,
    "start_time": "2022-01-23T16:50:46.269Z"
   },
   {
    "duration": 61,
    "start_time": "2022-01-23T16:50:46.290Z"
   },
   {
    "duration": 11,
    "start_time": "2022-01-23T16:50:46.352Z"
   },
   {
    "duration": 9,
    "start_time": "2022-01-23T16:50:46.365Z"
   },
   {
    "duration": 16,
    "start_time": "2022-01-23T16:50:46.376Z"
   },
   {
    "duration": 90,
    "start_time": "2022-01-23T16:50:48.405Z"
   },
   {
    "duration": 94,
    "start_time": "2022-01-23T16:51:02.226Z"
   },
   {
    "duration": 318,
    "start_time": "2022-01-23T16:51:06.863Z"
   },
   {
    "duration": 18,
    "start_time": "2022-01-23T16:51:48.690Z"
   },
   {
    "duration": 19,
    "start_time": "2022-01-23T16:51:54.023Z"
   },
   {
    "duration": 3,
    "start_time": "2022-01-23T16:52:24.358Z"
   },
   {
    "duration": 149,
    "start_time": "2022-01-23T16:52:24.367Z"
   },
   {
    "duration": 36,
    "start_time": "2022-01-23T16:52:24.518Z"
   },
   {
    "duration": 19,
    "start_time": "2022-01-23T16:52:24.556Z"
   },
   {
    "duration": 6,
    "start_time": "2022-01-23T16:52:24.577Z"
   },
   {
    "duration": 159,
    "start_time": "2022-01-23T16:52:24.584Z"
   },
   {
    "duration": 90,
    "start_time": "2022-01-23T16:52:24.745Z"
   },
   {
    "duration": 11,
    "start_time": "2022-01-23T16:52:24.836Z"
   },
   {
    "duration": 35,
    "start_time": "2022-01-23T16:52:24.849Z"
   },
   {
    "duration": 43,
    "start_time": "2022-01-23T16:52:24.886Z"
   },
   {
    "duration": 42,
    "start_time": "2022-01-23T16:52:24.931Z"
   },
   {
    "duration": 13,
    "start_time": "2022-01-23T16:52:24.975Z"
   },
   {
    "duration": 12,
    "start_time": "2022-01-23T16:52:24.990Z"
   },
   {
    "duration": 8,
    "start_time": "2022-01-23T16:52:25.028Z"
   },
   {
    "duration": 24,
    "start_time": "2022-01-23T16:52:25.038Z"
   },
   {
    "duration": 14,
    "start_time": "2022-01-23T16:52:25.064Z"
   },
   {
    "duration": 14,
    "start_time": "2022-01-23T16:52:25.080Z"
   },
   {
    "duration": 14,
    "start_time": "2022-01-23T16:52:25.095Z"
   },
   {
    "duration": 36,
    "start_time": "2022-01-23T16:52:25.111Z"
   },
   {
    "duration": 25,
    "start_time": "2022-01-23T16:52:25.149Z"
   },
   {
    "duration": 54,
    "start_time": "2022-01-23T16:52:25.175Z"
   },
   {
    "duration": 15,
    "start_time": "2022-01-23T16:52:25.231Z"
   },
   {
    "duration": 28,
    "start_time": "2022-01-23T16:52:25.248Z"
   },
   {
    "duration": 26,
    "start_time": "2022-01-23T16:52:25.280Z"
   },
   {
    "duration": 31,
    "start_time": "2022-01-23T16:52:25.308Z"
   },
   {
    "duration": 38,
    "start_time": "2022-01-23T16:52:25.341Z"
   },
   {
    "duration": 27,
    "start_time": "2022-01-23T16:52:25.381Z"
   },
   {
    "duration": 15,
    "start_time": "2022-01-23T16:52:25.409Z"
   },
   {
    "duration": 31,
    "start_time": "2022-01-23T16:52:25.425Z"
   },
   {
    "duration": 38,
    "start_time": "2022-01-23T16:52:25.457Z"
   },
   {
    "duration": 31,
    "start_time": "2022-01-23T16:52:25.496Z"
   },
   {
    "duration": 18,
    "start_time": "2022-01-23T16:52:27.946Z"
   },
   {
    "duration": 22,
    "start_time": "2022-01-23T16:52:40.810Z"
   },
   {
    "duration": 3,
    "start_time": "2022-01-23T16:58:40.047Z"
   },
   {
    "duration": 7,
    "start_time": "2022-01-23T16:58:53.131Z"
   },
   {
    "duration": 9,
    "start_time": "2022-01-23T16:59:56.371Z"
   },
   {
    "duration": 30,
    "start_time": "2022-01-23T17:01:18.207Z"
   },
   {
    "duration": 2,
    "start_time": "2022-01-23T17:01:31.307Z"
   },
   {
    "duration": 175,
    "start_time": "2022-01-23T17:01:31.314Z"
   },
   {
    "duration": 39,
    "start_time": "2022-01-23T17:01:31.491Z"
   },
   {
    "duration": 21,
    "start_time": "2022-01-23T17:01:31.532Z"
   },
   {
    "duration": 145,
    "start_time": "2022-01-23T17:01:31.555Z"
   },
   {
    "duration": 93,
    "start_time": "2022-01-23T17:01:31.701Z"
   },
   {
    "duration": 12,
    "start_time": "2022-01-23T17:01:31.795Z"
   },
   {
    "duration": 39,
    "start_time": "2022-01-23T17:01:31.808Z"
   },
   {
    "duration": 27,
    "start_time": "2022-01-23T17:01:31.849Z"
   },
   {
    "duration": 66,
    "start_time": "2022-01-23T17:01:31.879Z"
   },
   {
    "duration": 13,
    "start_time": "2022-01-23T17:01:31.948Z"
   },
   {
    "duration": 9,
    "start_time": "2022-01-23T17:01:31.963Z"
   },
   {
    "duration": 10,
    "start_time": "2022-01-23T17:01:31.974Z"
   },
   {
    "duration": 54,
    "start_time": "2022-01-23T17:01:31.986Z"
   },
   {
    "duration": 12,
    "start_time": "2022-01-23T17:01:32.042Z"
   },
   {
    "duration": 15,
    "start_time": "2022-01-23T17:01:32.056Z"
   },
   {
    "duration": 7,
    "start_time": "2022-01-23T17:01:32.073Z"
   },
   {
    "duration": 57,
    "start_time": "2022-01-23T17:01:32.082Z"
   },
   {
    "duration": 24,
    "start_time": "2022-01-23T17:01:32.141Z"
   },
   {
    "duration": 24,
    "start_time": "2022-01-23T17:01:32.167Z"
   },
   {
    "duration": 42,
    "start_time": "2022-01-23T17:01:32.193Z"
   },
   {
    "duration": 11,
    "start_time": "2022-01-23T17:01:32.237Z"
   },
   {
    "duration": 7,
    "start_time": "2022-01-23T17:01:32.250Z"
   },
   {
    "duration": 18,
    "start_time": "2022-01-23T17:01:32.259Z"
   },
   {
    "duration": 57,
    "start_time": "2022-01-23T17:01:32.278Z"
   },
   {
    "duration": 28,
    "start_time": "2022-01-23T17:01:32.337Z"
   },
   {
    "duration": 11,
    "start_time": "2022-01-23T17:01:32.366Z"
   },
   {
    "duration": 10,
    "start_time": "2022-01-23T17:01:32.381Z"
   },
   {
    "duration": 35,
    "start_time": "2022-01-23T17:01:32.393Z"
   },
   {
    "duration": 4,
    "start_time": "2022-01-23T17:01:32.430Z"
   },
   {
    "duration": 11,
    "start_time": "2022-01-23T17:01:32.436Z"
   },
   {
    "duration": 21,
    "start_time": "2022-01-23T17:01:32.449Z"
   },
   {
    "duration": 56,
    "start_time": "2022-01-23T17:01:32.472Z"
   },
   {
    "duration": 18,
    "start_time": "2022-01-23T17:01:32.529Z"
   },
   {
    "duration": 27,
    "start_time": "2022-01-23T17:01:32.548Z"
   },
   {
    "duration": 338,
    "start_time": "2022-01-23T20:20:24.221Z"
   },
   {
    "duration": 264,
    "start_time": "2022-01-23T20:23:17.657Z"
   },
   {
    "duration": 4,
    "start_time": "2022-01-23T20:23:29.169Z"
   },
   {
    "duration": 967,
    "start_time": "2022-01-23T20:23:29.176Z"
   },
   {
    "duration": 46,
    "start_time": "2022-01-23T20:23:30.146Z"
   },
   {
    "duration": 27,
    "start_time": "2022-01-23T20:23:30.195Z"
   },
   {
    "duration": 203,
    "start_time": "2022-01-23T20:23:30.224Z"
   },
   {
    "duration": 146,
    "start_time": "2022-01-23T20:23:30.429Z"
   },
   {
    "duration": 20,
    "start_time": "2022-01-23T20:23:30.579Z"
   },
   {
    "duration": 68,
    "start_time": "2022-01-23T20:23:30.602Z"
   },
   {
    "duration": 63,
    "start_time": "2022-01-23T20:23:30.672Z"
   },
   {
    "duration": 99,
    "start_time": "2022-01-23T20:23:30.738Z"
   },
   {
    "duration": 20,
    "start_time": "2022-01-23T20:23:30.839Z"
   },
   {
    "duration": 15,
    "start_time": "2022-01-23T20:23:30.862Z"
   },
   {
    "duration": 12,
    "start_time": "2022-01-23T20:23:30.880Z"
   },
   {
    "duration": 30,
    "start_time": "2022-01-23T20:23:30.933Z"
   },
   {
    "duration": 32,
    "start_time": "2022-01-23T20:23:30.965Z"
   },
   {
    "duration": 42,
    "start_time": "2022-01-23T20:23:31.000Z"
   },
   {
    "duration": 17,
    "start_time": "2022-01-23T20:23:31.044Z"
   },
   {
    "duration": 35,
    "start_time": "2022-01-23T20:23:31.063Z"
   },
   {
    "duration": 61,
    "start_time": "2022-01-23T20:23:31.102Z"
   },
   {
    "duration": 47,
    "start_time": "2022-01-23T20:23:31.166Z"
   },
   {
    "duration": 22,
    "start_time": "2022-01-23T20:23:31.233Z"
   },
   {
    "duration": 18,
    "start_time": "2022-01-23T20:23:31.257Z"
   },
   {
    "duration": 13,
    "start_time": "2022-01-23T20:23:31.277Z"
   },
   {
    "duration": 61,
    "start_time": "2022-01-23T20:23:31.292Z"
   },
   {
    "duration": 31,
    "start_time": "2022-01-23T20:23:31.356Z"
   },
   {
    "duration": 73,
    "start_time": "2022-01-23T20:23:31.390Z"
   },
   {
    "duration": 18,
    "start_time": "2022-01-23T20:23:31.465Z"
   },
   {
    "duration": 18,
    "start_time": "2022-01-23T20:23:31.485Z"
   },
   {
    "duration": 32,
    "start_time": "2022-01-23T20:23:31.505Z"
   },
   {
    "duration": 18,
    "start_time": "2022-01-23T20:23:31.540Z"
   },
   {
    "duration": 32,
    "start_time": "2022-01-23T20:23:31.561Z"
   },
   {
    "duration": 37,
    "start_time": "2022-01-23T20:23:31.595Z"
   },
   {
    "duration": 29,
    "start_time": "2022-01-23T20:23:31.634Z"
   },
   {
    "duration": 32,
    "start_time": "2022-01-23T20:23:31.666Z"
   },
   {
    "duration": 71,
    "start_time": "2022-01-23T20:23:31.700Z"
   },
   {
    "duration": 3867,
    "start_time": "2022-01-23T20:35:50.566Z"
   },
   {
    "duration": 271,
    "start_time": "2022-01-23T20:36:20.802Z"
   },
   {
    "duration": 284,
    "start_time": "2022-01-23T20:42:04.376Z"
   },
   {
    "duration": 282,
    "start_time": "2022-01-23T20:44:55.452Z"
   },
   {
    "duration": 270,
    "start_time": "2022-01-23T20:49:54.644Z"
   },
   {
    "duration": 271,
    "start_time": "2022-01-23T20:53:32.409Z"
   },
   {
    "duration": 375,
    "start_time": "2022-01-23T20:59:27.164Z"
   },
   {
    "duration": 381,
    "start_time": "2022-01-23T21:04:10.405Z"
   },
   {
    "duration": 379,
    "start_time": "2022-01-23T21:04:47.425Z"
   },
   {
    "duration": 395,
    "start_time": "2022-01-24T10:10:32.987Z"
   },
   {
    "duration": 3,
    "start_time": "2022-01-24T10:10:37.229Z"
   },
   {
    "duration": 731,
    "start_time": "2022-01-24T10:10:37.234Z"
   },
   {
    "duration": 75,
    "start_time": "2022-01-24T10:10:37.967Z"
   },
   {
    "duration": 18,
    "start_time": "2022-01-24T10:10:38.044Z"
   },
   {
    "duration": 131,
    "start_time": "2022-01-24T10:10:38.063Z"
   },
   {
    "duration": 94,
    "start_time": "2022-01-24T10:10:38.195Z"
   },
   {
    "duration": 11,
    "start_time": "2022-01-24T10:10:38.291Z"
   },
   {
    "duration": 37,
    "start_time": "2022-01-24T10:10:38.304Z"
   },
   {
    "duration": 27,
    "start_time": "2022-01-24T10:10:38.342Z"
   },
   {
    "duration": 68,
    "start_time": "2022-01-24T10:10:38.370Z"
   },
   {
    "duration": 11,
    "start_time": "2022-01-24T10:10:38.439Z"
   },
   {
    "duration": 8,
    "start_time": "2022-01-24T10:10:38.451Z"
   },
   {
    "duration": 7,
    "start_time": "2022-01-24T10:10:38.460Z"
   },
   {
    "duration": 15,
    "start_time": "2022-01-24T10:10:38.469Z"
   },
   {
    "duration": 12,
    "start_time": "2022-01-24T10:10:38.486Z"
   },
   {
    "duration": 41,
    "start_time": "2022-01-24T10:10:38.499Z"
   },
   {
    "duration": 15,
    "start_time": "2022-01-24T10:10:38.542Z"
   },
   {
    "duration": 22,
    "start_time": "2022-01-24T10:10:38.559Z"
   },
   {
    "duration": 44,
    "start_time": "2022-01-24T10:10:38.584Z"
   },
   {
    "duration": 29,
    "start_time": "2022-01-24T10:10:38.629Z"
   },
   {
    "duration": 13,
    "start_time": "2022-01-24T10:10:38.659Z"
   },
   {
    "duration": 12,
    "start_time": "2022-01-24T10:10:38.674Z"
   },
   {
    "duration": 7,
    "start_time": "2022-01-24T10:10:38.688Z"
   },
   {
    "duration": 43,
    "start_time": "2022-01-24T10:10:38.696Z"
   },
   {
    "duration": 19,
    "start_time": "2022-01-24T10:10:38.741Z"
   },
   {
    "duration": 26,
    "start_time": "2022-01-24T10:10:38.762Z"
   },
   {
    "duration": 10,
    "start_time": "2022-01-24T10:10:38.790Z"
   },
   {
    "duration": 34,
    "start_time": "2022-01-24T10:10:38.801Z"
   },
   {
    "duration": 6,
    "start_time": "2022-01-24T10:10:38.836Z"
   },
   {
    "duration": 6,
    "start_time": "2022-01-24T10:10:38.844Z"
   },
   {
    "duration": 10,
    "start_time": "2022-01-24T10:10:38.851Z"
   },
   {
    "duration": 17,
    "start_time": "2022-01-24T10:10:38.863Z"
   },
   {
    "duration": 16,
    "start_time": "2022-01-24T10:10:38.882Z"
   },
   {
    "duration": 44,
    "start_time": "2022-01-24T10:10:38.900Z"
   },
   {
    "duration": 23,
    "start_time": "2022-01-24T10:10:38.945Z"
   },
   {
    "duration": 224,
    "start_time": "2022-01-24T10:10:38.970Z"
   },
   {
    "duration": 203,
    "start_time": "2022-01-24T10:14:36.905Z"
   },
   {
    "duration": 9438,
    "start_time": "2022-01-24T12:07:37.850Z"
   },
   {
    "duration": 235,
    "start_time": "2022-01-24T12:07:59.978Z"
   },
   {
    "duration": 189,
    "start_time": "2022-01-24T12:08:33.103Z"
   },
   {
    "duration": 232,
    "start_time": "2022-01-24T12:08:38.933Z"
   },
   {
    "duration": 220,
    "start_time": "2022-01-24T12:08:45.795Z"
   },
   {
    "duration": 239,
    "start_time": "2022-01-24T12:08:51.179Z"
   },
   {
    "duration": 303,
    "start_time": "2022-01-24T12:09:09.668Z"
   },
   {
    "duration": 2,
    "start_time": "2022-01-24T12:09:47.684Z"
   },
   {
    "duration": 307,
    "start_time": "2022-01-24T12:09:47.956Z"
   },
   {
    "duration": 430,
    "start_time": "2022-01-24T12:10:18.430Z"
   },
   {
    "duration": 310,
    "start_time": "2022-01-24T12:10:45.342Z"
   },
   {
    "duration": 272,
    "start_time": "2022-01-24T12:16:47.949Z"
   },
   {
    "duration": 280,
    "start_time": "2022-01-24T12:17:08.567Z"
   },
   {
    "duration": 289,
    "start_time": "2022-01-24T12:18:09.022Z"
   },
   {
    "duration": 321,
    "start_time": "2022-01-24T12:18:23.070Z"
   },
   {
    "duration": 4,
    "start_time": "2022-01-24T12:18:29.502Z"
   },
   {
    "duration": 10,
    "start_time": "2022-01-24T12:18:46.983Z"
   },
   {
    "duration": 264,
    "start_time": "2022-01-24T12:19:24.376Z"
   },
   {
    "duration": 10,
    "start_time": "2022-01-24T12:19:27.007Z"
   },
   {
    "duration": 157,
    "start_time": "2022-01-24T12:19:32.160Z"
   },
   {
    "duration": 231,
    "start_time": "2022-01-24T12:21:35.546Z"
   },
   {
    "duration": 67519,
    "start_time": "2022-01-24T12:23:22.856Z"
   },
   {
    "duration": 163,
    "start_time": "2022-01-24T12:25:55.615Z"
   },
   {
    "duration": 2733,
    "start_time": "2022-01-24T12:42:34.208Z"
   },
   {
    "duration": 185,
    "start_time": "2022-01-24T12:42:54.443Z"
   },
   {
    "duration": 183,
    "start_time": "2022-01-24T12:43:23.635Z"
   },
   {
    "duration": 7,
    "start_time": "2022-01-24T12:45:11.469Z"
   },
   {
    "duration": 7,
    "start_time": "2022-01-24T12:45:28.929Z"
   },
   {
    "duration": 6,
    "start_time": "2022-01-24T12:45:32.362Z"
   },
   {
    "duration": 192,
    "start_time": "2022-01-24T12:46:00.382Z"
   },
   {
    "duration": 189,
    "start_time": "2022-01-24T12:46:07.125Z"
   },
   {
    "duration": 8,
    "start_time": "2022-01-24T12:47:01.004Z"
   },
   {
    "duration": 8,
    "start_time": "2022-01-24T12:47:14.853Z"
   },
   {
    "duration": 178,
    "start_time": "2022-01-24T12:48:37.302Z"
   },
   {
    "duration": 283,
    "start_time": "2022-01-24T12:49:17.894Z"
   },
   {
    "duration": 187,
    "start_time": "2022-01-24T13:10:27.494Z"
   },
   {
    "duration": 188,
    "start_time": "2022-01-24T13:11:44.359Z"
   },
   {
    "duration": 826,
    "start_time": "2022-01-24T13:14:44.289Z"
   },
   {
    "duration": 474,
    "start_time": "2022-01-24T13:15:00.234Z"
   },
   {
    "duration": 532,
    "start_time": "2022-01-24T13:15:28.795Z"
   },
   {
    "duration": 1058,
    "start_time": "2022-01-24T13:16:07.100Z"
   },
   {
    "duration": 546,
    "start_time": "2022-01-24T13:16:20.539Z"
   },
   {
    "duration": 215,
    "start_time": "2022-01-24T13:20:21.337Z"
   },
   {
    "duration": 214,
    "start_time": "2022-01-24T13:21:21.665Z"
   },
   {
    "duration": 219,
    "start_time": "2022-01-24T13:21:57.657Z"
   },
   {
    "duration": 203,
    "start_time": "2022-01-24T13:22:10.786Z"
   },
   {
    "duration": 215,
    "start_time": "2022-01-24T13:22:44.018Z"
   },
   {
    "duration": 3,
    "start_time": "2022-01-24T13:23:50.115Z"
   },
   {
    "duration": 783,
    "start_time": "2022-01-24T13:36:00.058Z"
   },
   {
    "duration": 445,
    "start_time": "2022-01-24T13:36:24.138Z"
   },
   {
    "duration": 505,
    "start_time": "2022-01-24T13:36:39.714Z"
   },
   {
    "duration": 629,
    "start_time": "2022-01-24T13:36:46.049Z"
   },
   {
    "duration": 486,
    "start_time": "2022-01-24T13:36:58.066Z"
   },
   {
    "duration": 5,
    "start_time": "2022-01-24T13:41:53.224Z"
   },
   {
    "duration": 8,
    "start_time": "2022-01-24T13:42:15.040Z"
   },
   {
    "duration": 296,
    "start_time": "2022-01-24T13:49:54.264Z"
   },
   {
    "duration": 298,
    "start_time": "2022-01-24T13:50:00.959Z"
   },
   {
    "duration": 165,
    "start_time": "2022-01-24T13:50:24.664Z"
   },
   {
    "duration": 171,
    "start_time": "2022-01-24T13:50:50.920Z"
   },
   {
    "duration": 313,
    "start_time": "2022-01-24T13:51:20.994Z"
   },
   {
    "duration": 413,
    "start_time": "2022-01-24T13:51:38.994Z"
   },
   {
    "duration": 450,
    "start_time": "2022-01-24T13:52:28.106Z"
   },
   {
    "duration": 491,
    "start_time": "2022-01-24T13:52:39.875Z"
   },
   {
    "duration": 359,
    "start_time": "2022-01-24T13:52:42.850Z"
   },
   {
    "duration": 101,
    "start_time": "2022-01-24T14:02:12.014Z"
   },
   {
    "duration": 358,
    "start_time": "2022-01-24T14:02:41.558Z"
   },
   {
    "duration": 364,
    "start_time": "2022-01-24T14:02:54.726Z"
   },
   {
    "duration": 98,
    "start_time": "2022-01-24T14:03:03.126Z"
   },
   {
    "duration": 97,
    "start_time": "2022-01-24T14:03:18.903Z"
   },
   {
    "duration": 122,
    "start_time": "2022-01-24T14:04:26.288Z"
   },
   {
    "duration": 97,
    "start_time": "2022-01-24T14:04:46.201Z"
   },
   {
    "duration": 92,
    "start_time": "2022-01-24T14:05:18.337Z"
   },
   {
    "duration": 495,
    "start_time": "2022-01-24T14:05:37.297Z"
   },
   {
    "duration": 103,
    "start_time": "2022-01-24T14:05:44.555Z"
   },
   {
    "duration": 112,
    "start_time": "2022-01-24T14:05:49.928Z"
   },
   {
    "duration": 93,
    "start_time": "2022-01-24T14:09:15.221Z"
   },
   {
    "duration": 93,
    "start_time": "2022-01-24T14:09:26.709Z"
   },
   {
    "duration": 101,
    "start_time": "2022-01-24T14:09:36.055Z"
   },
   {
    "duration": 352,
    "start_time": "2022-01-24T14:10:38.386Z"
   },
   {
    "duration": 357,
    "start_time": "2022-01-24T14:12:47.192Z"
   },
   {
    "duration": 4,
    "start_time": "2022-01-24T14:44:45.512Z"
   },
   {
    "duration": 4,
    "start_time": "2022-01-24T14:45:44.795Z"
   },
   {
    "duration": 440,
    "start_time": "2022-01-24T19:27:15.081Z"
   },
   {
    "duration": 4,
    "start_time": "2022-01-24T19:28:02.112Z"
   },
   {
    "duration": 2230,
    "start_time": "2022-01-24T19:28:02.118Z"
   },
   {
    "duration": 50,
    "start_time": "2022-01-24T19:28:04.351Z"
   },
   {
    "duration": 536,
    "start_time": "2022-01-24T19:28:04.404Z"
   },
   {
    "duration": 731,
    "start_time": "2022-01-24T19:28:04.943Z"
   },
   {
    "duration": 1127,
    "start_time": "2022-01-24T19:28:05.677Z"
   },
   {
    "duration": 37,
    "start_time": "2022-01-24T19:28:06.806Z"
   },
   {
    "duration": 251,
    "start_time": "2022-01-24T19:28:06.846Z"
   },
   {
    "duration": 423,
    "start_time": "2022-01-24T19:28:07.100Z"
   },
   {
    "duration": 731,
    "start_time": "2022-01-24T19:28:07.525Z"
   },
   {
    "duration": 23,
    "start_time": "2022-01-24T19:28:08.259Z"
   },
   {
    "duration": 201,
    "start_time": "2022-01-24T19:28:08.285Z"
   },
   {
    "duration": 265,
    "start_time": "2022-01-24T19:28:08.490Z"
   },
   {
    "duration": 150,
    "start_time": "2022-01-24T19:28:08.758Z"
   },
   {
    "duration": 175,
    "start_time": "2022-01-24T19:28:08.911Z"
   },
   {
    "duration": 382,
    "start_time": "2022-01-24T19:28:09.089Z"
   },
   {
    "duration": 162,
    "start_time": "2022-01-24T19:28:09.473Z"
   },
   {
    "duration": 291,
    "start_time": "2022-01-24T19:28:09.638Z"
   },
   {
    "duration": 472,
    "start_time": "2022-01-24T19:28:09.932Z"
   },
   {
    "duration": 451,
    "start_time": "2022-01-24T19:28:10.408Z"
   },
   {
    "duration": 420,
    "start_time": "2022-01-24T19:28:10.861Z"
   },
   {
    "duration": 270,
    "start_time": "2022-01-24T19:28:11.283Z"
   },
   {
    "duration": 73,
    "start_time": "2022-01-24T19:28:11.559Z"
   },
   {
    "duration": 263,
    "start_time": "2022-01-24T19:28:11.635Z"
   },
   {
    "duration": 231,
    "start_time": "2022-01-24T19:28:11.901Z"
   },
   {
    "duration": 856,
    "start_time": "2022-01-24T19:28:12.134Z"
   },
   {
    "duration": 715,
    "start_time": "2022-01-24T19:28:12.993Z"
   },
   {
    "duration": 391,
    "start_time": "2022-01-24T19:28:13.710Z"
   },
   {
    "duration": 297,
    "start_time": "2022-01-24T19:28:14.103Z"
   },
   {
    "duration": 510,
    "start_time": "2022-01-24T19:28:14.402Z"
   },
   {
    "duration": 468,
    "start_time": "2022-01-24T19:28:14.914Z"
   },
   {
    "duration": 200,
    "start_time": "2022-01-24T19:28:15.385Z"
   },
   {
    "duration": 311,
    "start_time": "2022-01-24T19:28:15.587Z"
   },
   {
    "duration": 251,
    "start_time": "2022-01-24T19:28:15.902Z"
   },
   {
    "duration": 129,
    "start_time": "2022-01-24T19:28:16.156Z"
   },
   {
    "duration": 828,
    "start_time": "2022-01-24T19:28:16.288Z"
   },
   {
    "duration": 201,
    "start_time": "2022-01-24T19:28:17.119Z"
   },
   {
    "duration": 979,
    "start_time": "2022-01-24T19:28:17.324Z"
   },
   {
    "duration": 747,
    "start_time": "2022-01-24T19:28:32.160Z"
   },
   {
    "duration": 7,
    "start_time": "2022-01-24T19:32:03.746Z"
   },
   {
    "duration": 6,
    "start_time": "2022-01-24T19:32:41.550Z"
   },
   {
    "duration": 760,
    "start_time": "2022-01-24T19:39:07.053Z"
   },
   {
    "duration": 6,
    "start_time": "2022-01-24T20:53:00.674Z"
   },
   {
    "duration": 6,
    "start_time": "2022-01-24T20:55:11.717Z"
   },
   {
    "duration": 94,
    "start_time": "2022-01-24T20:56:25.702Z"
   },
   {
    "duration": 715,
    "start_time": "2022-01-24T21:15:42.356Z"
   },
   {
    "duration": 676,
    "start_time": "2022-01-24T21:18:39.286Z"
   },
   {
    "duration": 684,
    "start_time": "2022-01-24T21:19:31.454Z"
   },
   {
    "duration": 6,
    "start_time": "2022-01-24T21:21:27.191Z"
   },
   {
    "duration": 14,
    "start_time": "2022-01-26T12:01:30.560Z"
   },
   {
    "duration": 457,
    "start_time": "2022-01-26T12:15:57.596Z"
   },
   {
    "duration": 3,
    "start_time": "2022-01-26T12:16:00.972Z"
   },
   {
    "duration": 2166,
    "start_time": "2022-01-26T12:16:00.977Z"
   },
   {
    "duration": 58,
    "start_time": "2022-01-26T12:16:03.145Z"
   },
   {
    "duration": 27,
    "start_time": "2022-01-26T12:16:03.205Z"
   },
   {
    "duration": 202,
    "start_time": "2022-01-26T12:16:03.235Z"
   },
   {
    "duration": 144,
    "start_time": "2022-01-26T12:16:03.439Z"
   },
   {
    "duration": 19,
    "start_time": "2022-01-26T12:16:03.586Z"
   },
   {
    "duration": 75,
    "start_time": "2022-01-26T12:16:03.608Z"
   },
   {
    "duration": 46,
    "start_time": "2022-01-26T12:16:03.685Z"
   },
   {
    "duration": 109,
    "start_time": "2022-01-26T12:16:03.734Z"
   },
   {
    "duration": 33,
    "start_time": "2022-01-26T12:16:03.845Z"
   },
   {
    "duration": 11,
    "start_time": "2022-01-26T12:16:03.881Z"
   },
   {
    "duration": 11,
    "start_time": "2022-01-26T12:16:03.895Z"
   },
   {
    "duration": 73,
    "start_time": "2022-01-26T12:16:03.909Z"
   },
   {
    "duration": 56,
    "start_time": "2022-01-26T12:16:03.986Z"
   },
   {
    "duration": 28,
    "start_time": "2022-01-26T12:16:04.044Z"
   },
   {
    "duration": 22,
    "start_time": "2022-01-26T12:16:04.074Z"
   },
   {
    "duration": 33,
    "start_time": "2022-01-26T12:16:04.098Z"
   },
   {
    "duration": 58,
    "start_time": "2022-01-26T12:16:04.135Z"
   },
   {
    "duration": 71,
    "start_time": "2022-01-26T12:16:04.197Z"
   },
   {
    "duration": 21,
    "start_time": "2022-01-26T12:16:04.271Z"
   },
   {
    "duration": 35,
    "start_time": "2022-01-26T12:16:04.294Z"
   },
   {
    "duration": 35,
    "start_time": "2022-01-26T12:16:04.331Z"
   },
   {
    "duration": 46,
    "start_time": "2022-01-26T12:16:04.368Z"
   },
   {
    "duration": 51,
    "start_time": "2022-01-26T12:16:04.416Z"
   },
   {
    "duration": 43,
    "start_time": "2022-01-26T12:16:04.470Z"
   },
   {
    "duration": 44,
    "start_time": "2022-01-26T12:16:04.515Z"
   },
   {
    "duration": 15,
    "start_time": "2022-01-26T12:16:04.562Z"
   },
   {
    "duration": 13,
    "start_time": "2022-01-26T12:16:04.579Z"
   },
   {
    "duration": 21,
    "start_time": "2022-01-26T12:16:04.594Z"
   },
   {
    "duration": 46,
    "start_time": "2022-01-26T12:16:04.617Z"
   },
   {
    "duration": 37,
    "start_time": "2022-01-26T12:16:04.666Z"
   },
   {
    "duration": 54,
    "start_time": "2022-01-26T12:16:04.706Z"
   },
   {
    "duration": 32,
    "start_time": "2022-01-26T12:16:04.762Z"
   },
   {
    "duration": 70,
    "start_time": "2022-01-26T12:16:04.797Z"
   },
   {
    "duration": 390,
    "start_time": "2022-01-26T12:16:04.870Z"
   },
   {
    "duration": 131,
    "start_time": "2022-01-26T12:16:05.263Z"
   },
   {
    "duration": 733,
    "start_time": "2022-01-26T12:16:05.397Z"
   },
   {
    "duration": 788,
    "start_time": "2022-01-26T12:16:06.133Z"
   },
   {
    "duration": 796,
    "start_time": "2022-01-26T12:16:06.923Z"
   },
   {
    "duration": 728,
    "start_time": "2022-01-26T12:16:07.721Z"
   },
   {
    "duration": 4,
    "start_time": "2022-01-26T12:30:22.265Z"
   },
   {
    "duration": 6,
    "start_time": "2022-01-26T12:30:28.529Z"
   },
   {
    "duration": 6,
    "start_time": "2022-01-26T12:32:51.599Z"
   },
   {
    "duration": 8,
    "start_time": "2022-01-26T14:21:38.280Z"
   },
   {
    "duration": 8,
    "start_time": "2022-01-26T14:21:59.944Z"
   },
   {
    "duration": 354,
    "start_time": "2022-01-26T14:22:06.746Z"
   },
   {
    "duration": 313,
    "start_time": "2022-01-26T14:22:21.194Z"
   },
   {
    "duration": 403,
    "start_time": "2022-01-26T14:51:23.659Z"
   },
   {
    "duration": 42,
    "start_time": "2022-01-26T14:51:42.739Z"
   },
   {
    "duration": 40,
    "start_time": "2022-01-26T14:52:04.891Z"
   },
   {
    "duration": 40,
    "start_time": "2022-01-26T14:56:43.496Z"
   },
   {
    "duration": 438,
    "start_time": "2022-01-26T14:59:06.671Z"
   },
   {
    "duration": 231,
    "start_time": "2022-01-26T19:50:27.160Z"
   },
   {
    "duration": 3,
    "start_time": "2022-01-26T19:50:35.669Z"
   },
   {
    "duration": 869,
    "start_time": "2022-01-26T19:50:35.674Z"
   },
   {
    "duration": 42,
    "start_time": "2022-01-26T19:50:36.545Z"
   },
   {
    "duration": 25,
    "start_time": "2022-01-26T19:50:36.589Z"
   },
   {
    "duration": 174,
    "start_time": "2022-01-26T19:50:36.615Z"
   },
   {
    "duration": 117,
    "start_time": "2022-01-26T19:50:36.791Z"
   },
   {
    "duration": 15,
    "start_time": "2022-01-26T19:50:36.911Z"
   },
   {
    "duration": 36,
    "start_time": "2022-01-26T19:50:36.928Z"
   },
   {
    "duration": 58,
    "start_time": "2022-01-26T19:50:36.966Z"
   },
   {
    "duration": 81,
    "start_time": "2022-01-26T19:50:37.026Z"
   },
   {
    "duration": 15,
    "start_time": "2022-01-26T19:50:37.110Z"
   },
   {
    "duration": 11,
    "start_time": "2022-01-26T19:50:37.126Z"
   },
   {
    "duration": 9,
    "start_time": "2022-01-26T19:50:37.139Z"
   },
   {
    "duration": 21,
    "start_time": "2022-01-26T19:50:37.150Z"
   },
   {
    "duration": 47,
    "start_time": "2022-01-26T19:50:37.173Z"
   },
   {
    "duration": 19,
    "start_time": "2022-01-26T19:50:37.222Z"
   },
   {
    "duration": 16,
    "start_time": "2022-01-26T19:50:37.244Z"
   },
   {
    "duration": 59,
    "start_time": "2022-01-26T19:50:37.262Z"
   },
   {
    "duration": 29,
    "start_time": "2022-01-26T19:50:37.324Z"
   },
   {
    "duration": 59,
    "start_time": "2022-01-26T19:50:37.356Z"
   },
   {
    "duration": 17,
    "start_time": "2022-01-26T19:50:37.417Z"
   },
   {
    "duration": 14,
    "start_time": "2022-01-26T19:50:37.436Z"
   },
   {
    "duration": 10,
    "start_time": "2022-01-26T19:50:37.452Z"
   },
   {
    "duration": 59,
    "start_time": "2022-01-26T19:50:37.464Z"
   },
   {
    "duration": 33,
    "start_time": "2022-01-26T19:50:37.525Z"
   },
   {
    "duration": 33,
    "start_time": "2022-01-26T19:50:37.560Z"
   },
   {
    "duration": 24,
    "start_time": "2022-01-26T19:50:37.595Z"
   },
   {
    "duration": 15,
    "start_time": "2022-01-26T19:50:37.621Z"
   },
   {
    "duration": 8,
    "start_time": "2022-01-26T19:50:37.637Z"
   },
   {
    "duration": 8,
    "start_time": "2022-01-26T19:50:37.647Z"
   },
   {
    "duration": 17,
    "start_time": "2022-01-26T19:50:37.657Z"
   },
   {
    "duration": 45,
    "start_time": "2022-01-26T19:50:37.676Z"
   },
   {
    "duration": 21,
    "start_time": "2022-01-26T19:50:37.722Z"
   },
   {
    "duration": 23,
    "start_time": "2022-01-26T19:50:37.744Z"
   },
   {
    "duration": 62,
    "start_time": "2022-01-26T19:50:37.769Z"
   },
   {
    "duration": 261,
    "start_time": "2022-01-26T19:50:37.833Z"
   },
   {
    "duration": 35,
    "start_time": "2022-01-26T19:50:38.096Z"
   },
   {
    "duration": 5645,
    "start_time": "2022-01-26T19:53:14.036Z"
   },
   {
    "duration": 20,
    "start_time": "2022-01-26T19:53:41.760Z"
   },
   {
    "duration": 16,
    "start_time": "2022-01-26T19:54:43.671Z"
   },
   {
    "duration": 2,
    "start_time": "2022-01-26T19:54:56.148Z"
   },
   {
    "duration": 399,
    "start_time": "2022-01-26T19:54:56.152Z"
   },
   {
    "duration": 52,
    "start_time": "2022-01-26T19:54:56.554Z"
   },
   {
    "duration": 28,
    "start_time": "2022-01-26T19:54:56.609Z"
   },
   {
    "duration": 184,
    "start_time": "2022-01-26T19:54:56.640Z"
   },
   {
    "duration": 171,
    "start_time": "2022-01-26T19:54:56.826Z"
   },
   {
    "duration": 24,
    "start_time": "2022-01-26T19:54:57.000Z"
   },
   {
    "duration": 51,
    "start_time": "2022-01-26T19:54:57.027Z"
   },
   {
    "duration": 60,
    "start_time": "2022-01-26T19:54:57.080Z"
   },
   {
    "duration": 92,
    "start_time": "2022-01-26T19:54:57.142Z"
   },
   {
    "duration": 20,
    "start_time": "2022-01-26T19:54:57.237Z"
   },
   {
    "duration": 9,
    "start_time": "2022-01-26T19:54:57.259Z"
   },
   {
    "duration": 24,
    "start_time": "2022-01-26T19:54:57.270Z"
   },
   {
    "duration": 30,
    "start_time": "2022-01-26T19:54:57.309Z"
   },
   {
    "duration": 22,
    "start_time": "2022-01-26T19:54:57.342Z"
   },
   {
    "duration": 33,
    "start_time": "2022-01-26T19:54:57.366Z"
   },
   {
    "duration": 14,
    "start_time": "2022-01-26T19:54:57.408Z"
   },
   {
    "duration": 38,
    "start_time": "2022-01-26T19:54:57.424Z"
   },
   {
    "duration": 55,
    "start_time": "2022-01-26T19:54:57.467Z"
   },
   {
    "duration": 30,
    "start_time": "2022-01-26T19:54:57.524Z"
   },
   {
    "duration": 19,
    "start_time": "2022-01-26T19:54:57.556Z"
   },
   {
    "duration": 53,
    "start_time": "2022-01-26T19:54:57.577Z"
   },
   {
    "duration": 13,
    "start_time": "2022-01-26T19:54:57.632Z"
   },
   {
    "duration": 40,
    "start_time": "2022-01-26T19:54:57.647Z"
   },
   {
    "duration": 33,
    "start_time": "2022-01-26T19:54:57.689Z"
   },
   {
    "duration": 35,
    "start_time": "2022-01-26T19:54:57.724Z"
   },
   {
    "duration": 15,
    "start_time": "2022-01-26T19:54:57.761Z"
   },
   {
    "duration": 37,
    "start_time": "2022-01-26T19:54:57.777Z"
   },
   {
    "duration": 41,
    "start_time": "2022-01-26T19:54:57.816Z"
   },
   {
    "duration": 11,
    "start_time": "2022-01-26T19:54:57.859Z"
   },
   {
    "duration": 24,
    "start_time": "2022-01-26T19:54:57.872Z"
   },
   {
    "duration": 42,
    "start_time": "2022-01-26T19:54:57.899Z"
   },
   {
    "duration": 19,
    "start_time": "2022-01-26T19:54:57.944Z"
   },
   {
    "duration": 22,
    "start_time": "2022-01-26T19:54:57.965Z"
   },
   {
    "duration": 48,
    "start_time": "2022-01-26T19:54:57.989Z"
   },
   {
    "duration": 293,
    "start_time": "2022-01-26T19:54:58.041Z"
   },
   {
    "duration": 27,
    "start_time": "2022-01-26T19:54:58.336Z"
   },
   {
    "duration": 48,
    "start_time": "2022-01-26T19:55:00.370Z"
   },
   {
    "duration": 238,
    "start_time": "2022-01-26T19:55:22.972Z"
   },
   {
    "duration": 233,
    "start_time": "2022-01-26T19:55:43.244Z"
   },
   {
    "duration": 2,
    "start_time": "2022-01-26T19:56:31.244Z"
   },
   {
    "duration": 193,
    "start_time": "2022-01-26T19:56:31.249Z"
   },
   {
    "duration": 44,
    "start_time": "2022-01-26T19:56:31.444Z"
   },
   {
    "duration": 25,
    "start_time": "2022-01-26T19:56:31.490Z"
   },
   {
    "duration": 173,
    "start_time": "2022-01-26T19:56:31.518Z"
   },
   {
    "duration": 122,
    "start_time": "2022-01-26T19:56:31.693Z"
   },
   {
    "duration": 14,
    "start_time": "2022-01-26T19:56:31.816Z"
   },
   {
    "duration": 33,
    "start_time": "2022-01-26T19:56:31.831Z"
   },
   {
    "duration": 58,
    "start_time": "2022-01-26T19:56:31.866Z"
   },
   {
    "duration": 60,
    "start_time": "2022-01-26T19:56:31.929Z"
   },
   {
    "duration": 30,
    "start_time": "2022-01-26T19:56:31.991Z"
   },
   {
    "duration": 16,
    "start_time": "2022-01-26T19:56:32.023Z"
   },
   {
    "duration": 17,
    "start_time": "2022-01-26T19:56:32.041Z"
   },
   {
    "duration": 65,
    "start_time": "2022-01-26T19:56:32.060Z"
   },
   {
    "duration": 42,
    "start_time": "2022-01-26T19:56:32.127Z"
   },
   {
    "duration": 28,
    "start_time": "2022-01-26T19:56:32.171Z"
   },
   {
    "duration": 12,
    "start_time": "2022-01-26T19:56:32.201Z"
   },
   {
    "duration": 27,
    "start_time": "2022-01-26T19:56:32.215Z"
   },
   {
    "duration": 29,
    "start_time": "2022-01-26T19:56:32.244Z"
   },
   {
    "duration": 49,
    "start_time": "2022-01-26T19:56:32.275Z"
   },
   {
    "duration": 16,
    "start_time": "2022-01-26T19:56:32.326Z"
   },
   {
    "duration": 17,
    "start_time": "2022-01-26T19:56:32.344Z"
   },
   {
    "duration": 10,
    "start_time": "2022-01-26T19:56:32.363Z"
   },
   {
    "duration": 53,
    "start_time": "2022-01-26T19:56:32.375Z"
   },
   {
    "duration": 24,
    "start_time": "2022-01-26T19:56:32.430Z"
   },
   {
    "duration": 52,
    "start_time": "2022-01-26T19:56:32.456Z"
   },
   {
    "duration": 14,
    "start_time": "2022-01-26T19:56:32.510Z"
   },
   {
    "duration": 12,
    "start_time": "2022-01-26T19:56:32.529Z"
   },
   {
    "duration": 10,
    "start_time": "2022-01-26T19:56:32.544Z"
   },
   {
    "duration": 6,
    "start_time": "2022-01-26T19:56:32.556Z"
   },
   {
    "duration": 49,
    "start_time": "2022-01-26T19:56:32.564Z"
   },
   {
    "duration": 21,
    "start_time": "2022-01-26T19:56:32.616Z"
   },
   {
    "duration": 21,
    "start_time": "2022-01-26T19:56:32.639Z"
   },
   {
    "duration": 52,
    "start_time": "2022-01-26T19:56:32.663Z"
   },
   {
    "duration": 30,
    "start_time": "2022-01-26T19:56:32.718Z"
   },
   {
    "duration": 257,
    "start_time": "2022-01-26T19:56:32.751Z"
   },
   {
    "duration": 27,
    "start_time": "2022-01-26T19:56:33.011Z"
   },
   {
    "duration": 313,
    "start_time": "2022-01-26T19:56:35.096Z"
   },
   {
    "duration": 231,
    "start_time": "2022-01-26T19:56:46.592Z"
   },
   {
    "duration": 239,
    "start_time": "2022-01-26T19:57:02.392Z"
   },
   {
    "duration": 228,
    "start_time": "2022-01-26T19:57:32.512Z"
   },
   {
    "duration": 423,
    "start_time": "2022-01-26T19:57:37.876Z"
   },
   {
    "duration": 241,
    "start_time": "2022-01-26T19:57:48.176Z"
   },
   {
    "duration": 228,
    "start_time": "2022-01-26T20:00:05.540Z"
   },
   {
    "duration": 87,
    "start_time": "2022-01-26T20:00:11.524Z"
   },
   {
    "duration": 4,
    "start_time": "2022-01-26T20:00:12.872Z"
   },
   {
    "duration": 425,
    "start_time": "2022-01-26T20:00:14.649Z"
   },
   {
    "duration": 762,
    "start_time": "2022-01-26T20:00:33.408Z"
   },
   {
    "duration": 425,
    "start_time": "2022-01-26T20:00:58.808Z"
   },
   {
    "duration": 460,
    "start_time": "2022-01-26T20:01:03.024Z"
   },
   {
    "duration": 4,
    "start_time": "2022-01-26T20:04:14.288Z"
   },
   {
    "duration": 4,
    "start_time": "2022-01-26T20:05:26.500Z"
   },
   {
    "duration": 5,
    "start_time": "2022-01-26T20:06:32.072Z"
   },
   {
    "duration": 5,
    "start_time": "2022-01-26T20:07:28.125Z"
   },
   {
    "duration": 4,
    "start_time": "2022-01-26T20:09:20.717Z"
   },
   {
    "duration": 4,
    "start_time": "2022-01-26T20:09:35.953Z"
   },
   {
    "duration": 4,
    "start_time": "2022-01-26T20:13:41.661Z"
   },
   {
    "duration": 4,
    "start_time": "2022-01-26T20:14:14.572Z"
   },
   {
    "duration": 11,
    "start_time": "2022-01-26T20:18:57.305Z"
   },
   {
    "duration": 206,
    "start_time": "2022-01-26T20:52:54.051Z"
   },
   {
    "duration": 208,
    "start_time": "2022-01-26T20:53:05.551Z"
   },
   {
    "duration": 244,
    "start_time": "2022-01-26T20:53:12.871Z"
   },
   {
    "duration": 285,
    "start_time": "2022-01-26T20:53:49.877Z"
   },
   {
    "duration": 283,
    "start_time": "2022-01-26T20:53:58.255Z"
   },
   {
    "duration": 451,
    "start_time": "2022-01-26T20:54:31.972Z"
   },
   {
    "duration": 511,
    "start_time": "2022-01-26T20:55:08.199Z"
   },
   {
    "duration": 235,
    "start_time": "2022-01-26T20:55:25.003Z"
   },
   {
    "duration": 240,
    "start_time": "2022-01-26T20:55:44.519Z"
   },
   {
    "duration": 268,
    "start_time": "2022-01-26T20:57:23.423Z"
   },
   {
    "duration": 243,
    "start_time": "2022-01-26T21:01:53.280Z"
   },
   {
    "duration": 51,
    "start_time": "2022-01-26T21:02:22.292Z"
   },
   {
    "duration": 14,
    "start_time": "2022-01-26T21:02:37.328Z"
   },
   {
    "duration": 4,
    "start_time": "2022-01-26T21:03:14.460Z"
   },
   {
    "duration": 4,
    "start_time": "2022-01-26T21:03:26.712Z"
   },
   {
    "duration": 5,
    "start_time": "2022-01-26T21:03:48.940Z"
   },
   {
    "duration": 5,
    "start_time": "2022-01-26T21:04:00.876Z"
   },
   {
    "duration": 424,
    "start_time": "2022-01-26T21:08:05.160Z"
   },
   {
    "duration": 166,
    "start_time": "2022-01-26T21:08:12.481Z"
   },
   {
    "duration": 4,
    "start_time": "2022-01-26T21:08:17.676Z"
   },
   {
    "duration": 235,
    "start_time": "2022-01-26T21:08:17.683Z"
   },
   {
    "duration": 43,
    "start_time": "2022-01-26T21:08:17.921Z"
   },
   {
    "duration": 28,
    "start_time": "2022-01-26T21:08:17.966Z"
   },
   {
    "duration": 178,
    "start_time": "2022-01-26T21:08:17.996Z"
   },
   {
    "duration": 126,
    "start_time": "2022-01-26T21:08:18.176Z"
   },
   {
    "duration": 15,
    "start_time": "2022-01-26T21:08:18.303Z"
   },
   {
    "duration": 33,
    "start_time": "2022-01-26T21:08:18.320Z"
   },
   {
    "duration": 71,
    "start_time": "2022-01-26T21:08:18.355Z"
   },
   {
    "duration": 61,
    "start_time": "2022-01-26T21:08:18.429Z"
   },
   {
    "duration": 30,
    "start_time": "2022-01-26T21:08:18.492Z"
   },
   {
    "duration": 14,
    "start_time": "2022-01-26T21:08:18.524Z"
   },
   {
    "duration": 13,
    "start_time": "2022-01-26T21:08:18.540Z"
   },
   {
    "duration": 54,
    "start_time": "2022-01-26T21:08:18.555Z"
   },
   {
    "duration": 15,
    "start_time": "2022-01-26T21:08:18.610Z"
   },
   {
    "duration": 24,
    "start_time": "2022-01-26T21:08:18.627Z"
   },
   {
    "duration": 10,
    "start_time": "2022-01-26T21:08:18.653Z"
   },
   {
    "duration": 56,
    "start_time": "2022-01-26T21:08:18.665Z"
   },
   {
    "duration": 30,
    "start_time": "2022-01-26T21:08:18.723Z"
   },
   {
    "duration": 62,
    "start_time": "2022-01-26T21:08:18.755Z"
   },
   {
    "duration": 23,
    "start_time": "2022-01-26T21:08:18.819Z"
   },
   {
    "duration": 21,
    "start_time": "2022-01-26T21:08:18.844Z"
   },
   {
    "duration": 42,
    "start_time": "2022-01-26T21:08:18.867Z"
   },
   {
    "duration": 32,
    "start_time": "2022-01-26T21:08:18.911Z"
   },
   {
    "duration": 33,
    "start_time": "2022-01-26T21:08:18.945Z"
   },
   {
    "duration": 75,
    "start_time": "2022-01-26T21:08:18.981Z"
   },
   {
    "duration": 18,
    "start_time": "2022-01-26T21:08:19.058Z"
   },
   {
    "duration": 43,
    "start_time": "2022-01-26T21:08:19.081Z"
   },
   {
    "duration": 16,
    "start_time": "2022-01-26T21:08:19.126Z"
   },
   {
    "duration": 8,
    "start_time": "2022-01-26T21:08:19.144Z"
   },
   {
    "duration": 19,
    "start_time": "2022-01-26T21:08:19.153Z"
   },
   {
    "duration": 51,
    "start_time": "2022-01-26T21:08:19.174Z"
   },
   {
    "duration": 22,
    "start_time": "2022-01-26T21:08:19.227Z"
   },
   {
    "duration": 25,
    "start_time": "2022-01-26T21:08:19.251Z"
   },
   {
    "duration": 55,
    "start_time": "2022-01-26T21:08:19.278Z"
   },
   {
    "duration": 282,
    "start_time": "2022-01-26T21:08:19.336Z"
   },
   {
    "duration": 28,
    "start_time": "2022-01-26T21:08:19.620Z"
   },
   {
    "duration": 294,
    "start_time": "2022-01-26T21:08:19.650Z"
   },
   {
    "duration": 12,
    "start_time": "2022-01-26T21:08:19.946Z"
   },
   {
    "duration": 12,
    "start_time": "2022-01-26T21:08:19.960Z"
   },
   {
    "duration": 550,
    "start_time": "2022-01-26T21:08:19.974Z"
   },
   {
    "duration": 581,
    "start_time": "2022-01-26T21:08:20.526Z"
   },
   {
    "duration": 508,
    "start_time": "2022-01-26T21:08:21.109Z"
   },
   {
    "duration": 561,
    "start_time": "2022-01-26T21:08:21.619Z"
   },
   {
    "duration": 200,
    "start_time": "2022-01-26T21:08:22.182Z"
   },
   {
    "duration": 172,
    "start_time": "2022-01-26T21:20:20.073Z"
   },
   {
    "duration": 156,
    "start_time": "2022-01-26T21:23:00.078Z"
   },
   {
    "duration": 3,
    "start_time": "2022-01-26T21:24:49.998Z"
   },
   {
    "duration": 209,
    "start_time": "2022-01-26T21:24:50.007Z"
   },
   {
    "duration": 45,
    "start_time": "2022-01-26T21:24:50.219Z"
   },
   {
    "duration": 21,
    "start_time": "2022-01-26T21:24:50.267Z"
   },
   {
    "duration": 165,
    "start_time": "2022-01-26T21:24:50.291Z"
   },
   {
    "duration": 128,
    "start_time": "2022-01-26T21:24:50.458Z"
   },
   {
    "duration": 28,
    "start_time": "2022-01-26T21:24:50.587Z"
   },
   {
    "duration": 34,
    "start_time": "2022-01-26T21:24:50.617Z"
   },
   {
    "duration": 64,
    "start_time": "2022-01-26T21:24:50.652Z"
   },
   {
    "duration": 60,
    "start_time": "2022-01-26T21:24:50.718Z"
   },
   {
    "duration": 34,
    "start_time": "2022-01-26T21:24:50.780Z"
   },
   {
    "duration": 19,
    "start_time": "2022-01-26T21:24:50.816Z"
   },
   {
    "duration": 17,
    "start_time": "2022-01-26T21:24:50.837Z"
   },
   {
    "duration": 27,
    "start_time": "2022-01-26T21:24:50.856Z"
   },
   {
    "duration": 32,
    "start_time": "2022-01-26T21:24:50.884Z"
   },
   {
    "duration": 28,
    "start_time": "2022-01-26T21:24:50.918Z"
   },
   {
    "duration": 10,
    "start_time": "2022-01-26T21:24:50.947Z"
   },
   {
    "duration": 50,
    "start_time": "2022-01-26T21:24:50.959Z"
   },
   {
    "duration": 29,
    "start_time": "2022-01-26T21:24:51.011Z"
   },
   {
    "duration": 66,
    "start_time": "2022-01-26T21:24:51.042Z"
   },
   {
    "duration": 22,
    "start_time": "2022-01-26T21:24:51.111Z"
   },
   {
    "duration": 14,
    "start_time": "2022-01-26T21:24:51.135Z"
   },
   {
    "duration": 11,
    "start_time": "2022-01-26T21:24:51.151Z"
   },
   {
    "duration": 67,
    "start_time": "2022-01-26T21:24:51.164Z"
   },
   {
    "duration": 25,
    "start_time": "2022-01-26T21:24:51.233Z"
   },
   {
    "duration": 51,
    "start_time": "2022-01-26T21:24:51.260Z"
   },
   {
    "duration": 13,
    "start_time": "2022-01-26T21:24:51.313Z"
   },
   {
    "duration": 13,
    "start_time": "2022-01-26T21:24:51.329Z"
   },
   {
    "duration": 8,
    "start_time": "2022-01-26T21:24:51.344Z"
   },
   {
    "duration": 6,
    "start_time": "2022-01-26T21:24:51.353Z"
   },
   {
    "duration": 51,
    "start_time": "2022-01-26T21:24:51.361Z"
   },
   {
    "duration": 24,
    "start_time": "2022-01-26T21:24:51.414Z"
   },
   {
    "duration": 20,
    "start_time": "2022-01-26T21:24:51.440Z"
   },
   {
    "duration": 50,
    "start_time": "2022-01-26T21:24:51.462Z"
   },
   {
    "duration": 30,
    "start_time": "2022-01-26T21:24:51.514Z"
   },
   {
    "duration": 263,
    "start_time": "2022-01-26T21:24:51.546Z"
   },
   {
    "duration": 26,
    "start_time": "2022-01-26T21:24:51.811Z"
   },
   {
    "duration": 270,
    "start_time": "2022-01-26T21:24:51.839Z"
   },
   {
    "duration": 9,
    "start_time": "2022-01-26T21:24:52.111Z"
   },
   {
    "duration": 8,
    "start_time": "2022-01-26T21:24:52.122Z"
   },
   {
    "duration": 464,
    "start_time": "2022-01-26T21:24:52.132Z"
   },
   {
    "duration": 535,
    "start_time": "2022-01-26T21:24:52.598Z"
   },
   {
    "duration": 453,
    "start_time": "2022-01-26T21:24:53.135Z"
   },
   {
    "duration": 479,
    "start_time": "2022-01-26T21:24:53.590Z"
   },
   {
    "duration": 188,
    "start_time": "2022-01-26T21:24:54.071Z"
   },
   {
    "duration": 11,
    "start_time": "2022-01-26T21:24:54.261Z"
   },
   {
    "duration": 162,
    "start_time": "2022-01-26T21:25:10.505Z"
   },
   {
    "duration": 148,
    "start_time": "2022-01-26T21:25:15.113Z"
   },
   {
    "duration": 243,
    "start_time": "2022-01-26T21:26:37.402Z"
   },
   {
    "duration": 204,
    "start_time": "2022-01-26T21:27:42.714Z"
   },
   {
    "duration": 244,
    "start_time": "2022-01-26T21:27:58.429Z"
   },
   {
    "duration": 343,
    "start_time": "2022-01-26T21:28:06.974Z"
   },
   {
    "duration": 215,
    "start_time": "2022-01-26T21:28:20.638Z"
   },
   {
    "duration": 163,
    "start_time": "2022-01-26T21:29:01.382Z"
   },
   {
    "duration": 207,
    "start_time": "2022-01-26T21:31:25.462Z"
   },
   {
    "duration": 176,
    "start_time": "2022-01-26T21:31:32.906Z"
   },
   {
    "duration": 11,
    "start_time": "2022-01-26T21:32:01.658Z"
   },
   {
    "duration": 11,
    "start_time": "2022-01-26T21:32:46.899Z"
   },
   {
    "duration": 14,
    "start_time": "2022-01-26T21:33:17.111Z"
   },
   {
    "duration": 4,
    "start_time": "2022-01-26T21:33:34.823Z"
   },
   {
    "duration": 3,
    "start_time": "2022-01-26T21:33:43.370Z"
   },
   {
    "duration": 235,
    "start_time": "2022-01-26T21:33:43.382Z"
   },
   {
    "duration": 44,
    "start_time": "2022-01-26T21:33:43.619Z"
   },
   {
    "duration": 28,
    "start_time": "2022-01-26T21:33:43.665Z"
   },
   {
    "duration": 188,
    "start_time": "2022-01-26T21:33:43.695Z"
   },
   {
    "duration": 130,
    "start_time": "2022-01-26T21:33:43.885Z"
   },
   {
    "duration": 19,
    "start_time": "2022-01-26T21:33:44.018Z"
   },
   {
    "duration": 35,
    "start_time": "2022-01-26T21:33:44.038Z"
   },
   {
    "duration": 62,
    "start_time": "2022-01-26T21:33:44.075Z"
   },
   {
    "duration": 80,
    "start_time": "2022-01-26T21:33:44.141Z"
   },
   {
    "duration": 17,
    "start_time": "2022-01-26T21:33:44.224Z"
   },
   {
    "duration": 11,
    "start_time": "2022-01-26T21:33:44.244Z"
   },
   {
    "duration": 51,
    "start_time": "2022-01-26T21:33:44.258Z"
   },
   {
    "duration": 21,
    "start_time": "2022-01-26T21:33:44.311Z"
   },
   {
    "duration": 14,
    "start_time": "2022-01-26T21:33:44.334Z"
   },
   {
    "duration": 20,
    "start_time": "2022-01-26T21:33:44.350Z"
   },
   {
    "duration": 44,
    "start_time": "2022-01-26T21:33:44.372Z"
   },
   {
    "duration": 34,
    "start_time": "2022-01-26T21:33:44.418Z"
   },
   {
    "duration": 59,
    "start_time": "2022-01-26T21:33:44.454Z"
   },
   {
    "duration": 36,
    "start_time": "2022-01-26T21:33:44.514Z"
   },
   {
    "duration": 19,
    "start_time": "2022-01-26T21:33:44.552Z"
   },
   {
    "duration": 43,
    "start_time": "2022-01-26T21:33:44.572Z"
   },
   {
    "duration": 10,
    "start_time": "2022-01-26T21:33:44.617Z"
   },
   {
    "duration": 28,
    "start_time": "2022-01-26T21:33:44.629Z"
   },
   {
    "duration": 63,
    "start_time": "2022-01-26T21:33:44.659Z"
   },
   {
    "duration": 39,
    "start_time": "2022-01-26T21:33:44.724Z"
   },
   {
    "duration": 43,
    "start_time": "2022-01-26T21:33:44.765Z"
   },
   {
    "duration": 12,
    "start_time": "2022-01-26T21:33:44.813Z"
   },
   {
    "duration": 12,
    "start_time": "2022-01-26T21:33:44.828Z"
   },
   {
    "duration": 7,
    "start_time": "2022-01-26T21:33:44.842Z"
   },
   {
    "duration": 14,
    "start_time": "2022-01-26T21:33:44.851Z"
   },
   {
    "duration": 66,
    "start_time": "2022-01-26T21:33:44.867Z"
   },
   {
    "duration": 25,
    "start_time": "2022-01-26T21:33:44.935Z"
   },
   {
    "duration": 55,
    "start_time": "2022-01-26T21:33:44.962Z"
   },
   {
    "duration": 31,
    "start_time": "2022-01-26T21:33:45.020Z"
   },
   {
    "duration": 259,
    "start_time": "2022-01-26T21:33:45.053Z"
   },
   {
    "duration": 27,
    "start_time": "2022-01-26T21:33:45.314Z"
   },
   {
    "duration": 263,
    "start_time": "2022-01-26T21:33:45.342Z"
   },
   {
    "duration": 9,
    "start_time": "2022-01-26T21:33:45.608Z"
   },
   {
    "duration": 8,
    "start_time": "2022-01-26T21:33:45.618Z"
   },
   {
    "duration": 465,
    "start_time": "2022-01-26T21:33:45.628Z"
   },
   {
    "duration": 446,
    "start_time": "2022-01-26T21:33:46.095Z"
   },
   {
    "duration": 532,
    "start_time": "2022-01-26T21:33:46.543Z"
   },
   {
    "duration": 532,
    "start_time": "2022-01-26T21:33:47.077Z"
   },
   {
    "duration": 183,
    "start_time": "2022-01-26T21:33:47.611Z"
   },
   {
    "duration": 20,
    "start_time": "2022-01-26T21:33:47.796Z"
   },
   {
    "duration": 11,
    "start_time": "2022-01-26T21:33:47.819Z"
   },
   {
    "duration": 11,
    "start_time": "2022-01-26T21:33:47.832Z"
   },
   {
    "duration": 4,
    "start_time": "2022-01-26T21:33:47.845Z"
   },
   {
    "duration": 702,
    "start_time": "2022-01-26T21:37:47.187Z"
   },
   {
    "duration": 343,
    "start_time": "2022-01-26T21:38:35.963Z"
   },
   {
    "duration": 338,
    "start_time": "2022-01-26T21:38:55.643Z"
   },
   {
    "duration": 337,
    "start_time": "2022-01-26T21:40:35.612Z"
   },
   {
    "duration": 6,
    "start_time": "2022-01-26T21:45:28.099Z"
   },
   {
    "duration": 4,
    "start_time": "2022-01-26T21:48:04.232Z"
   },
   {
    "duration": 8,
    "start_time": "2022-01-26T21:49:29.707Z"
   },
   {
    "duration": 11,
    "start_time": "2022-01-26T21:50:11.447Z"
   },
   {
    "duration": 155,
    "start_time": "2022-01-26T21:50:55.504Z"
   },
   {
    "duration": 155,
    "start_time": "2022-01-26T21:51:29.051Z"
   },
   {
    "duration": 7,
    "start_time": "2022-01-26T21:54:15.932Z"
   },
   {
    "duration": 295,
    "start_time": "2022-01-26T21:55:06.856Z"
   },
   {
    "duration": 8,
    "start_time": "2022-01-26T21:56:24.908Z"
   },
   {
    "duration": 6,
    "start_time": "2022-01-26T21:56:53.156Z"
   },
   {
    "duration": 3,
    "start_time": "2022-01-27T14:44:04.493Z"
   },
   {
    "duration": 802,
    "start_time": "2022-01-27T14:44:04.500Z"
   },
   {
    "duration": 75,
    "start_time": "2022-01-27T14:44:05.304Z"
   },
   {
    "duration": 21,
    "start_time": "2022-01-27T14:44:05.381Z"
   },
   {
    "duration": 141,
    "start_time": "2022-01-27T14:44:05.404Z"
   },
   {
    "duration": 100,
    "start_time": "2022-01-27T14:44:05.546Z"
   },
   {
    "duration": 13,
    "start_time": "2022-01-27T14:44:05.647Z"
   },
   {
    "duration": 29,
    "start_time": "2022-01-27T14:44:05.671Z"
   },
   {
    "duration": 29,
    "start_time": "2022-01-27T14:44:05.702Z"
   },
   {
    "duration": 80,
    "start_time": "2022-01-27T14:44:05.732Z"
   },
   {
    "duration": 13,
    "start_time": "2022-01-27T14:44:05.813Z"
   },
   {
    "duration": 8,
    "start_time": "2022-01-27T14:44:05.827Z"
   },
   {
    "duration": 7,
    "start_time": "2022-01-27T14:44:05.837Z"
   },
   {
    "duration": 39,
    "start_time": "2022-01-27T14:44:05.846Z"
   },
   {
    "duration": 11,
    "start_time": "2022-01-27T14:44:05.887Z"
   },
   {
    "duration": 16,
    "start_time": "2022-01-27T14:44:05.900Z"
   },
   {
    "duration": 12,
    "start_time": "2022-01-27T14:44:05.917Z"
   },
   {
    "duration": 51,
    "start_time": "2022-01-27T14:44:05.931Z"
   },
   {
    "duration": 31,
    "start_time": "2022-01-27T14:44:05.984Z"
   },
   {
    "duration": 30,
    "start_time": "2022-01-27T14:44:06.017Z"
   },
   {
    "duration": 34,
    "start_time": "2022-01-27T14:44:06.048Z"
   },
   {
    "duration": 12,
    "start_time": "2022-01-27T14:44:06.084Z"
   },
   {
    "duration": 8,
    "start_time": "2022-01-27T14:44:06.097Z"
   },
   {
    "duration": 17,
    "start_time": "2022-01-27T14:44:06.109Z"
   },
   {
    "duration": 46,
    "start_time": "2022-01-27T14:44:06.127Z"
   },
   {
    "duration": 28,
    "start_time": "2022-01-27T14:44:06.174Z"
   },
   {
    "duration": 11,
    "start_time": "2022-01-27T14:44:06.204Z"
   },
   {
    "duration": 10,
    "start_time": "2022-01-27T14:44:06.217Z"
   },
   {
    "duration": 7,
    "start_time": "2022-01-27T14:44:06.229Z"
   },
   {
    "duration": 35,
    "start_time": "2022-01-27T14:44:06.237Z"
   },
   {
    "duration": 9,
    "start_time": "2022-01-27T14:44:06.273Z"
   },
   {
    "duration": 18,
    "start_time": "2022-01-27T14:44:06.283Z"
   },
   {
    "duration": 17,
    "start_time": "2022-01-27T14:44:06.302Z"
   },
   {
    "duration": 19,
    "start_time": "2022-01-27T14:44:06.321Z"
   },
   {
    "duration": 52,
    "start_time": "2022-01-27T14:44:06.342Z"
   },
   {
    "duration": 226,
    "start_time": "2022-01-27T14:44:06.396Z"
   },
   {
    "duration": 20,
    "start_time": "2022-01-27T14:44:06.624Z"
   },
   {
    "duration": 226,
    "start_time": "2022-01-27T14:44:06.646Z"
   },
   {
    "duration": 69,
    "start_time": "2022-01-27T14:44:06.874Z"
   },
   {
    "duration": 4,
    "start_time": "2022-01-27T14:44:06.945Z"
   },
   {
    "duration": 391,
    "start_time": "2022-01-27T14:44:06.951Z"
   },
   {
    "duration": 416,
    "start_time": "2022-01-27T14:44:07.343Z"
   },
   {
    "duration": 377,
    "start_time": "2022-01-27T14:44:07.761Z"
   },
   {
    "duration": 410,
    "start_time": "2022-01-27T14:44:08.140Z"
   },
   {
    "duration": 144,
    "start_time": "2022-01-27T14:44:08.552Z"
   },
   {
    "duration": 10,
    "start_time": "2022-01-27T14:44:08.698Z"
   },
   {
    "duration": 10,
    "start_time": "2022-01-27T14:44:08.710Z"
   },
   {
    "duration": 9,
    "start_time": "2022-01-27T14:44:08.722Z"
   },
   {
    "duration": 426,
    "start_time": "2022-01-27T14:44:08.732Z"
   },
   {
    "duration": 1070,
    "start_time": "2022-01-27T14:54:19.703Z"
   },
   {
    "duration": 181,
    "start_time": "2022-01-27T14:54:45.794Z"
   },
   {
    "duration": 146,
    "start_time": "2022-01-27T14:55:25.773Z"
   },
   {
    "duration": 193,
    "start_time": "2022-01-27T14:56:10.396Z"
   },
   {
    "duration": 181,
    "start_time": "2022-01-27T14:56:19.124Z"
   },
   {
    "duration": 195,
    "start_time": "2022-01-27T14:56:23.308Z"
   },
   {
    "duration": 205,
    "start_time": "2022-01-27T14:57:07.956Z"
   },
   {
    "duration": 274,
    "start_time": "2022-01-27T14:57:17.870Z"
   },
   {
    "duration": 197,
    "start_time": "2022-01-27T14:58:40.417Z"
   },
   {
    "duration": 207,
    "start_time": "2022-01-27T14:58:54.346Z"
   },
   {
    "duration": 210,
    "start_time": "2022-01-27T14:59:06.578Z"
   },
   {
    "duration": 204,
    "start_time": "2022-01-27T15:01:06.434Z"
   },
   {
    "duration": 159,
    "start_time": "2022-01-28T14:07:39.632Z"
   },
   {
    "duration": 5,
    "start_time": "2022-01-28T14:09:27.998Z"
   },
   {
    "duration": 1007,
    "start_time": "2022-01-28T14:09:28.005Z"
   },
   {
    "duration": 54,
    "start_time": "2022-01-28T14:09:29.016Z"
   },
   {
    "duration": 25,
    "start_time": "2022-01-28T14:09:29.073Z"
   },
   {
    "duration": 206,
    "start_time": "2022-01-28T14:09:29.100Z"
   },
   {
    "duration": 136,
    "start_time": "2022-01-28T14:09:29.308Z"
   },
   {
    "duration": 19,
    "start_time": "2022-01-28T14:09:29.450Z"
   },
   {
    "duration": 45,
    "start_time": "2022-01-28T14:09:29.472Z"
   },
   {
    "duration": 68,
    "start_time": "2022-01-28T14:09:29.520Z"
   },
   {
    "duration": 107,
    "start_time": "2022-01-28T14:09:29.591Z"
   },
   {
    "duration": 19,
    "start_time": "2022-01-28T14:09:29.700Z"
   },
   {
    "duration": 35,
    "start_time": "2022-01-28T14:09:29.722Z"
   },
   {
    "duration": 12,
    "start_time": "2022-01-28T14:09:29.759Z"
   },
   {
    "duration": 27,
    "start_time": "2022-01-28T14:09:29.773Z"
   },
   {
    "duration": 55,
    "start_time": "2022-01-28T14:09:29.802Z"
   },
   {
    "duration": 24,
    "start_time": "2022-01-28T14:09:29.860Z"
   },
   {
    "duration": 21,
    "start_time": "2022-01-28T14:09:29.888Z"
   },
   {
    "duration": 64,
    "start_time": "2022-01-28T14:09:29.912Z"
   },
   {
    "duration": 37,
    "start_time": "2022-01-28T14:09:29.981Z"
   },
   {
    "duration": 66,
    "start_time": "2022-01-28T14:09:30.022Z"
   },
   {
    "duration": 22,
    "start_time": "2022-01-28T14:09:30.091Z"
   },
   {
    "duration": 48,
    "start_time": "2022-01-28T14:09:30.115Z"
   },
   {
    "duration": 13,
    "start_time": "2022-01-28T14:09:30.166Z"
   },
   {
    "duration": 36,
    "start_time": "2022-01-28T14:09:30.182Z"
   },
   {
    "duration": 53,
    "start_time": "2022-01-28T14:09:30.220Z"
   },
   {
    "duration": 46,
    "start_time": "2022-01-28T14:09:30.275Z"
   },
   {
    "duration": 38,
    "start_time": "2022-01-28T14:09:30.324Z"
   },
   {
    "duration": 20,
    "start_time": "2022-01-28T14:09:30.365Z"
   },
   {
    "duration": 13,
    "start_time": "2022-01-28T14:09:30.387Z"
   },
   {
    "duration": 20,
    "start_time": "2022-01-28T14:09:30.403Z"
   },
   {
    "duration": 16,
    "start_time": "2022-01-28T14:09:30.449Z"
   },
   {
    "duration": 45,
    "start_time": "2022-01-28T14:09:30.468Z"
   },
   {
    "duration": 51,
    "start_time": "2022-01-28T14:09:30.516Z"
   },
   {
    "duration": 36,
    "start_time": "2022-01-28T14:09:30.570Z"
   },
   {
    "duration": 74,
    "start_time": "2022-01-28T14:09:30.609Z"
   },
   {
    "duration": 394,
    "start_time": "2022-01-28T14:09:30.686Z"
   },
   {
    "duration": 38,
    "start_time": "2022-01-28T14:09:31.084Z"
   },
   {
    "duration": 403,
    "start_time": "2022-01-28T14:09:31.125Z"
   },
   {
    "duration": 137,
    "start_time": "2022-01-28T14:09:31.532Z"
   },
   {
    "duration": 8,
    "start_time": "2022-01-28T14:09:31.672Z"
   },
   {
    "duration": 726,
    "start_time": "2022-01-28T14:09:31.683Z"
   },
   {
    "duration": 786,
    "start_time": "2022-01-28T14:09:32.412Z"
   },
   {
    "duration": 734,
    "start_time": "2022-01-28T14:09:33.201Z"
   },
   {
    "duration": 740,
    "start_time": "2022-01-28T14:09:33.938Z"
   },
   {
    "duration": 382,
    "start_time": "2022-01-28T14:09:34.681Z"
   },
   {
    "duration": 17,
    "start_time": "2022-01-28T14:09:35.066Z"
   },
   {
    "duration": 14,
    "start_time": "2022-01-28T14:09:35.086Z"
   },
   {
    "duration": 46,
    "start_time": "2022-01-28T14:09:35.103Z"
   },
   {
    "duration": 591,
    "start_time": "2022-01-28T14:09:35.152Z"
   },
   {
    "duration": 388,
    "start_time": "2022-01-28T14:09:35.750Z"
   },
   {
    "duration": 18,
    "start_time": "2022-01-28T14:09:36.141Z"
   },
   {
    "duration": 241,
    "start_time": "2022-01-28T14:09:36.162Z"
   },
   {
    "duration": 7,
    "start_time": "2022-01-28T14:09:36.406Z"
   },
   {
    "duration": 265,
    "start_time": "2022-01-28T14:09:36.415Z"
   },
   {
    "duration": 8,
    "start_time": "2022-01-28T14:09:36.688Z"
   },
   {
    "duration": 620,
    "start_time": "2022-01-28T14:15:29.341Z"
   },
   {
    "duration": 37,
    "start_time": "2022-01-28T14:15:55.090Z"
   },
   {
    "duration": 251,
    "start_time": "2022-01-28T14:16:26.283Z"
   },
   {
    "duration": 254,
    "start_time": "2022-01-28T14:19:04.172Z"
   },
   {
    "duration": 20,
    "start_time": "2022-01-28T14:19:50.639Z"
   },
   {
    "duration": 252,
    "start_time": "2022-01-28T14:20:59.353Z"
   },
   {
    "duration": 246,
    "start_time": "2022-01-28T14:21:15.722Z"
   },
   {
    "duration": 598,
    "start_time": "2022-01-28T14:22:53.239Z"
   },
   {
    "duration": 10,
    "start_time": "2022-01-28T14:23:31.040Z"
   },
   {
    "duration": 273,
    "start_time": "2022-01-28T14:24:22.690Z"
   },
   {
    "duration": 21,
    "start_time": "2022-01-28T14:24:38.275Z"
   },
   {
    "duration": 15,
    "start_time": "2022-01-28T14:26:06.934Z"
   },
   {
    "duration": 463,
    "start_time": "2022-01-28T14:26:38.364Z"
   },
   {
    "duration": 10,
    "start_time": "2022-01-28T14:26:47.511Z"
   },
   {
    "duration": 9,
    "start_time": "2022-01-28T14:27:22.523Z"
   },
   {
    "duration": 4,
    "start_time": "2022-01-28T14:27:26.138Z"
   },
   {
    "duration": 275,
    "start_time": "2022-01-28T14:27:26.144Z"
   },
   {
    "duration": 50,
    "start_time": "2022-01-28T14:27:26.422Z"
   },
   {
    "duration": 25,
    "start_time": "2022-01-28T14:27:26.474Z"
   },
   {
    "duration": 194,
    "start_time": "2022-01-28T14:27:26.502Z"
   },
   {
    "duration": 139,
    "start_time": "2022-01-28T14:27:26.698Z"
   },
   {
    "duration": 22,
    "start_time": "2022-01-28T14:27:26.841Z"
   },
   {
    "duration": 38,
    "start_time": "2022-01-28T14:27:26.866Z"
   },
   {
    "duration": 71,
    "start_time": "2022-01-28T14:27:26.907Z"
   },
   {
    "duration": 100,
    "start_time": "2022-01-28T14:27:26.981Z"
   },
   {
    "duration": 27,
    "start_time": "2022-01-28T14:27:27.084Z"
   },
   {
    "duration": 36,
    "start_time": "2022-01-28T14:27:27.114Z"
   },
   {
    "duration": 18,
    "start_time": "2022-01-28T14:27:27.153Z"
   },
   {
    "duration": 29,
    "start_time": "2022-01-28T14:27:27.174Z"
   },
   {
    "duration": 48,
    "start_time": "2022-01-28T14:27:27.206Z"
   },
   {
    "duration": 27,
    "start_time": "2022-01-28T14:27:27.256Z"
   },
   {
    "duration": 13,
    "start_time": "2022-01-28T14:27:27.286Z"
   },
   {
    "duration": 65,
    "start_time": "2022-01-28T14:27:27.302Z"
   },
   {
    "duration": 38,
    "start_time": "2022-01-28T14:27:27.372Z"
   },
   {
    "duration": 60,
    "start_time": "2022-01-28T14:27:27.413Z"
   },
   {
    "duration": 25,
    "start_time": "2022-01-28T14:27:27.475Z"
   },
   {
    "duration": 20,
    "start_time": "2022-01-28T14:27:27.503Z"
   },
   {
    "duration": 13,
    "start_time": "2022-01-28T14:27:27.548Z"
   },
   {
    "duration": 33,
    "start_time": "2022-01-28T14:27:27.563Z"
   },
   {
    "duration": 56,
    "start_time": "2022-01-28T14:27:27.599Z"
   },
   {
    "duration": 44,
    "start_time": "2022-01-28T14:27:27.658Z"
   },
   {
    "duration": 18,
    "start_time": "2022-01-28T14:27:27.704Z"
   },
   {
    "duration": 40,
    "start_time": "2022-01-28T14:27:27.724Z"
   },
   {
    "duration": 12,
    "start_time": "2022-01-28T14:27:27.767Z"
   },
   {
    "duration": 11,
    "start_time": "2022-01-28T14:27:27.782Z"
   },
   {
    "duration": 35,
    "start_time": "2022-01-28T14:27:27.795Z"
   },
   {
    "duration": 31,
    "start_time": "2022-01-28T14:27:27.849Z"
   },
   {
    "duration": 29,
    "start_time": "2022-01-28T14:27:27.883Z"
   },
   {
    "duration": 57,
    "start_time": "2022-01-28T14:27:27.914Z"
   },
   {
    "duration": 40,
    "start_time": "2022-01-28T14:27:27.974Z"
   },
   {
    "duration": 380,
    "start_time": "2022-01-28T14:27:28.016Z"
   },
   {
    "duration": 53,
    "start_time": "2022-01-28T14:27:28.398Z"
   },
   {
    "duration": 374,
    "start_time": "2022-01-28T14:27:28.453Z"
   },
   {
    "duration": 24,
    "start_time": "2022-01-28T14:27:28.830Z"
   },
   {
    "duration": 12,
    "start_time": "2022-01-28T14:27:28.857Z"
   },
   {
    "duration": 748,
    "start_time": "2022-01-28T14:27:28.871Z"
   },
   {
    "duration": 708,
    "start_time": "2022-01-28T14:27:29.621Z"
   },
   {
    "duration": 686,
    "start_time": "2022-01-28T14:27:30.332Z"
   },
   {
    "duration": 724,
    "start_time": "2022-01-28T14:27:31.020Z"
   },
   {
    "duration": 256,
    "start_time": "2022-01-28T14:27:31.749Z"
   },
   {
    "duration": 15,
    "start_time": "2022-01-28T14:27:32.008Z"
   },
   {
    "duration": 30,
    "start_time": "2022-01-28T14:27:32.025Z"
   },
   {
    "duration": 16,
    "start_time": "2022-01-28T14:27:32.058Z"
   },
   {
    "duration": 8,
    "start_time": "2022-01-28T14:27:32.076Z"
   },
   {
    "duration": 435,
    "start_time": "2022-01-28T14:27:32.087Z"
   },
   {
    "duration": 23,
    "start_time": "2022-01-28T14:27:32.525Z"
   },
   {
    "duration": 254,
    "start_time": "2022-01-28T14:27:32.551Z"
   },
   {
    "duration": 8,
    "start_time": "2022-01-28T14:27:32.807Z"
   },
   {
    "duration": 255,
    "start_time": "2022-01-28T14:27:32.817Z"
   },
   {
    "duration": 9,
    "start_time": "2022-01-28T14:27:33.081Z"
   },
   {
    "duration": 10,
    "start_time": "2022-01-28T14:27:33.093Z"
   },
   {
    "duration": 74,
    "start_time": "2022-01-28T14:27:33.105Z"
   },
   {
    "duration": 349,
    "start_time": "2022-01-28T14:27:33.182Z"
   },
   {
    "duration": 28,
    "start_time": "2022-01-28T14:27:33.533Z"
   },
   {
    "duration": 82,
    "start_time": "2022-01-28T14:27:33.563Z"
   },
   {
    "duration": 7,
    "start_time": "2022-01-28T14:27:33.641Z"
   },
   {
    "duration": -5,
    "start_time": "2022-01-28T14:27:33.654Z"
   },
   {
    "duration": 11,
    "start_time": "2022-01-28T14:28:22.767Z"
   },
   {
    "duration": 19,
    "start_time": "2022-01-28T14:28:32.975Z"
   },
   {
    "duration": 10,
    "start_time": "2022-01-28T14:28:42.424Z"
   },
   {
    "duration": 19,
    "start_time": "2022-01-28T14:28:44.528Z"
   },
   {
    "duration": 240,
    "start_time": "2022-01-28T14:30:55.277Z"
   },
   {
    "duration": 9,
    "start_time": "2022-01-28T14:31:26.482Z"
   },
   {
    "duration": 18,
    "start_time": "2022-01-28T14:33:06.054Z"
   },
   {
    "duration": 10,
    "start_time": "2022-01-28T14:33:26.557Z"
   },
   {
    "duration": 3,
    "start_time": "2022-02-06T09:50:55.218Z"
   },
   {
    "duration": 796,
    "start_time": "2022-02-06T09:50:55.225Z"
   },
   {
    "duration": 84,
    "start_time": "2022-02-06T09:50:56.023Z"
   },
   {
    "duration": 20,
    "start_time": "2022-02-06T09:50:56.109Z"
   },
   {
    "duration": 139,
    "start_time": "2022-02-06T09:50:56.131Z"
   },
   {
    "duration": 103,
    "start_time": "2022-02-06T09:50:56.272Z"
   },
   {
    "duration": 16,
    "start_time": "2022-02-06T09:50:56.377Z"
   },
   {
    "duration": 30,
    "start_time": "2022-02-06T09:50:56.395Z"
   },
   {
    "duration": 46,
    "start_time": "2022-02-06T09:50:56.427Z"
   },
   {
    "duration": 66,
    "start_time": "2022-02-06T09:50:56.475Z"
   },
   {
    "duration": 36,
    "start_time": "2022-02-06T09:50:56.542Z"
   },
   {
    "duration": 12,
    "start_time": "2022-02-06T09:50:56.580Z"
   },
   {
    "duration": 10,
    "start_time": "2022-02-06T09:50:56.594Z"
   },
   {
    "duration": 23,
    "start_time": "2022-02-06T09:50:56.606Z"
   },
   {
    "duration": 23,
    "start_time": "2022-02-06T09:50:56.631Z"
   },
   {
    "duration": 34,
    "start_time": "2022-02-06T09:50:56.655Z"
   },
   {
    "duration": 15,
    "start_time": "2022-02-06T09:50:56.692Z"
   },
   {
    "duration": 30,
    "start_time": "2022-02-06T09:50:56.709Z"
   },
   {
    "duration": 44,
    "start_time": "2022-02-06T09:50:56.741Z"
   },
   {
    "duration": 33,
    "start_time": "2022-02-06T09:50:56.787Z"
   },
   {
    "duration": 14,
    "start_time": "2022-02-06T09:50:56.822Z"
   },
   {
    "duration": 11,
    "start_time": "2022-02-06T09:50:56.837Z"
   },
   {
    "duration": 16,
    "start_time": "2022-02-06T09:50:56.875Z"
   },
   {
    "duration": 18,
    "start_time": "2022-02-06T09:50:56.895Z"
   },
   {
    "duration": 22,
    "start_time": "2022-02-06T09:50:56.915Z"
   },
   {
    "duration": 46,
    "start_time": "2022-02-06T09:50:56.938Z"
   },
   {
    "duration": 16,
    "start_time": "2022-02-06T09:50:56.986Z"
   },
   {
    "duration": 10,
    "start_time": "2022-02-06T09:50:57.003Z"
   },
   {
    "duration": 6,
    "start_time": "2022-02-06T09:50:57.014Z"
   },
   {
    "duration": 5,
    "start_time": "2022-02-06T09:50:57.021Z"
   },
   {
    "duration": 18,
    "start_time": "2022-02-06T09:50:57.027Z"
   },
   {
    "duration": 42,
    "start_time": "2022-02-06T09:50:57.046Z"
   },
   {
    "duration": 16,
    "start_time": "2022-02-06T09:50:57.090Z"
   },
   {
    "duration": 17,
    "start_time": "2022-02-06T09:50:57.107Z"
   },
   {
    "duration": 51,
    "start_time": "2022-02-06T09:50:57.126Z"
   },
   {
    "duration": 225,
    "start_time": "2022-02-06T09:50:57.179Z"
   },
   {
    "duration": 23,
    "start_time": "2022-02-06T09:50:57.406Z"
   },
   {
    "duration": 235,
    "start_time": "2022-02-06T09:50:57.430Z"
   },
   {
    "duration": 78,
    "start_time": "2022-02-06T09:50:57.666Z"
   },
   {
    "duration": 4,
    "start_time": "2022-02-06T09:50:57.745Z"
   },
   {
    "duration": 407,
    "start_time": "2022-02-06T09:50:57.750Z"
   },
   {
    "duration": 457,
    "start_time": "2022-02-06T09:50:58.158Z"
   },
   {
    "duration": 398,
    "start_time": "2022-02-06T09:50:58.617Z"
   },
   {
    "duration": 410,
    "start_time": "2022-02-06T09:50:59.016Z"
   },
   {
    "duration": 175,
    "start_time": "2022-02-06T09:50:59.427Z"
   },
   {
    "duration": 9,
    "start_time": "2022-02-06T09:50:59.603Z"
   },
   {
    "duration": 15,
    "start_time": "2022-02-06T09:50:59.613Z"
   },
   {
    "duration": 22,
    "start_time": "2022-02-06T09:50:59.630Z"
   },
   {
    "duration": 436,
    "start_time": "2022-02-06T09:50:59.654Z"
   },
   {
    "duration": 322,
    "start_time": "2022-02-06T09:51:00.092Z"
   },
   {
    "duration": 9,
    "start_time": "2022-02-06T09:51:00.416Z"
   },
   {
    "duration": 189,
    "start_time": "2022-02-06T09:51:00.427Z"
   },
   {
    "duration": 5,
    "start_time": "2022-02-06T09:51:00.618Z"
   },
   {
    "duration": 199,
    "start_time": "2022-02-06T09:51:00.625Z"
   },
   {
    "duration": 6,
    "start_time": "2022-02-06T09:51:00.826Z"
   },
   {
    "duration": 18,
    "start_time": "2022-02-06T09:51:00.834Z"
   },
   {
    "duration": 175,
    "start_time": "2022-02-06T09:51:00.854Z"
   },
   {
    "duration": 177,
    "start_time": "2022-02-06T09:51:01.031Z"
   },
   {
    "duration": 6,
    "start_time": "2022-02-06T09:51:01.209Z"
   },
   {
    "duration": 17,
    "start_time": "2022-02-06T09:51:01.217Z"
   },
   {
    "duration": 14,
    "start_time": "2022-02-06T09:51:01.236Z"
   },
   {
    "duration": 29,
    "start_time": "2022-02-06T09:51:01.252Z"
   },
   {
    "duration": 17,
    "start_time": "2022-02-06T09:51:01.283Z"
   },
   {
    "duration": 32,
    "start_time": "2022-02-06T10:20:24.689Z"
   },
   {
    "duration": 7,
    "start_time": "2022-02-06T10:20:40.286Z"
   },
   {
    "duration": 12,
    "start_time": "2022-02-06T10:20:48.572Z"
   },
   {
    "duration": 8,
    "start_time": "2022-02-06T10:20:59.927Z"
   },
   {
    "duration": 7,
    "start_time": "2022-02-06T10:22:02.839Z"
   },
   {
    "duration": 343,
    "start_time": "2022-02-06T10:32:27.276Z"
   },
   {
    "duration": 4,
    "start_time": "2022-02-06T10:32:53.781Z"
   },
   {
    "duration": 273,
    "start_time": "2022-02-06T10:33:03.787Z"
   },
   {
    "duration": 4,
    "start_time": "2022-02-06T10:33:24.244Z"
   }
  ],
  "kernelspec": {
   "display_name": "Python 3 (ipykernel)",
   "language": "python",
   "name": "python3"
  },
  "language_info": {
   "codemirror_mode": {
    "name": "ipython",
    "version": 3
   },
   "file_extension": ".py",
   "mimetype": "text/x-python",
   "name": "python",
   "nbconvert_exporter": "python",
   "pygments_lexer": "ipython3",
   "version": "3.9.7"
  },
  "toc": {
   "base_numbering": 1,
   "nav_menu": {},
   "number_sections": true,
   "sideBar": true,
   "skip_h1_title": true,
   "title_cell": "Table of Contents",
   "title_sidebar": "Contents",
   "toc_cell": false,
   "toc_position": {
    "height": "calc(100% - 180px)",
    "left": "10px",
    "top": "150px",
    "width": "165px"
   },
   "toc_section_display": true,
   "toc_window_display": true
  }
 },
 "nbformat": 4,
 "nbformat_minor": 2
}
